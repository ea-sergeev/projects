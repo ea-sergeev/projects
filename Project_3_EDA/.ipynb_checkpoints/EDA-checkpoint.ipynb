{
 "cells": [
  {
   "cell_type": "markdown",
   "id": "6914793e",
   "metadata": {
    "pycharm": {
     "name": "#%% md\n"
    }
   },
   "source": [
    "# Исследование объявлений о продаже квартир"
   ]
  },
  {
   "cell_type": "markdown",
   "id": "2c4daebe",
   "metadata": {
    "pycharm": {
     "name": "#%% md\n"
    }
   },
   "source": [
    "На основе данных сервиса Яндекс.Недвижимость нужно научиться определять рыночную стоимость объектов недвижимости.\n",
    "\n",
    "**Цель исследования** - установить параметры, которые позволят построить автоматизированную систему для отслеживания аномалий и мошеннической деятельности.\n",
    "\n",
    "**Ход исследования**\n",
    "\n",
    "Данные об объектах недвижимости получаем из файла `/datasets/real_estate_data.csv`.\n",
    "\n",
    "Исследование пройдет в 3 этапа:\n",
    "* Обзор данных\n",
    "* Предобработка данных\n",
    "* Исследовательский анализ данных\n",
    "* Оформление вывода и результатов работы"
   ]
  },
  {
   "cell_type": "markdown",
   "id": "e15cda47",
   "metadata": {
    "pycharm": {
     "name": "#%% md\n"
    }
   },
   "source": [
    "## Шаг 1. Обзор данных"
   ]
  },
  {
   "cell_type": "markdown",
   "id": "3286e0b1",
   "metadata": {
    "pycharm": {
     "name": "#%% md\n"
    }
   },
   "source": [
    "Для работы с данными используем библиотеку `pandas`. Импортируем ее прочитаем данные из файла `/datasets/real_estate_data.csv`. В качестве разделителя используем `\\t`\n",
    "Для визуализации результатов и построения графиков используем библиотеку `matplotlib`"
   ]
  },
  {
   "cell_type": "code",
   "execution_count": 20,
   "id": "0fc2976e",
   "metadata": {
    "pycharm": {
     "name": "#%%\n"
    }
   },
   "outputs": [],
   "source": [
    "import pandas as pd\n",
    "import matplotlib.pyplot as plt\n",
    "pd.set_option('display.max_columns', None)"
   ]
  },
  {
   "cell_type": "code",
   "execution_count": 21,
   "id": "e9829ae8-7938-4564-9111-bf1d6a505fb6",
   "metadata": {},
   "outputs": [],
   "source": [
    "try:\n",
    "    real_estate_data = pd.read_csv('/datasets/real_estate_data.csv', sep='\\t')\n",
    "except FileNotFoundError:\n",
    "    real_estate_data = pd.read_csv('../../datasets/real_estate_data.csv', sep='\\t')"
   ]
  },
  {
   "cell_type": "markdown",
   "id": "7dcbb89a",
   "metadata": {
    "pycharm": {
     "name": "#%% md\n"
    }
   },
   "source": [
    "Для обзора таблицы с данными выведем на экран первые 10 строк"
   ]
  },
  {
   "cell_type": "code",
   "execution_count": 22,
   "id": "f17040cf-c4f2-4da4-b376-fb87422b49bb",
   "metadata": {},
   "outputs": [
    {
     "data": {
      "text/html": [
       "<div>\n",
       "<style scoped>\n",
       "    .dataframe tbody tr th:only-of-type {\n",
       "        vertical-align: middle;\n",
       "    }\n",
       "\n",
       "    .dataframe tbody tr th {\n",
       "        vertical-align: top;\n",
       "    }\n",
       "\n",
       "    .dataframe thead th {\n",
       "        text-align: right;\n",
       "    }\n",
       "</style>\n",
       "<table border=\"1\" class=\"dataframe\">\n",
       "  <thead>\n",
       "    <tr style=\"text-align: right;\">\n",
       "      <th></th>\n",
       "      <th>total_images</th>\n",
       "      <th>last_price</th>\n",
       "      <th>total_area</th>\n",
       "      <th>first_day_exposition</th>\n",
       "      <th>rooms</th>\n",
       "      <th>ceiling_height</th>\n",
       "      <th>floors_total</th>\n",
       "      <th>living_area</th>\n",
       "      <th>floor</th>\n",
       "      <th>is_apartment</th>\n",
       "      <th>studio</th>\n",
       "      <th>open_plan</th>\n",
       "      <th>kitchen_area</th>\n",
       "      <th>balcony</th>\n",
       "      <th>locality_name</th>\n",
       "      <th>airports_nearest</th>\n",
       "      <th>cityCenters_nearest</th>\n",
       "      <th>parks_around3000</th>\n",
       "      <th>parks_nearest</th>\n",
       "      <th>ponds_around3000</th>\n",
       "      <th>ponds_nearest</th>\n",
       "      <th>days_exposition</th>\n",
       "    </tr>\n",
       "  </thead>\n",
       "  <tbody>\n",
       "    <tr>\n",
       "      <th>0</th>\n",
       "      <td>20</td>\n",
       "      <td>13000000.0</td>\n",
       "      <td>108.00</td>\n",
       "      <td>2019-03-07T00:00:00</td>\n",
       "      <td>3</td>\n",
       "      <td>2.70</td>\n",
       "      <td>16.0</td>\n",
       "      <td>51.00</td>\n",
       "      <td>8</td>\n",
       "      <td>NaN</td>\n",
       "      <td>False</td>\n",
       "      <td>False</td>\n",
       "      <td>25.00</td>\n",
       "      <td>NaN</td>\n",
       "      <td>Санкт-Петербург</td>\n",
       "      <td>18863.0</td>\n",
       "      <td>16028.0</td>\n",
       "      <td>1.0</td>\n",
       "      <td>482.0</td>\n",
       "      <td>2.0</td>\n",
       "      <td>755.0</td>\n",
       "      <td>NaN</td>\n",
       "    </tr>\n",
       "    <tr>\n",
       "      <th>1</th>\n",
       "      <td>7</td>\n",
       "      <td>3350000.0</td>\n",
       "      <td>40.40</td>\n",
       "      <td>2018-12-04T00:00:00</td>\n",
       "      <td>1</td>\n",
       "      <td>NaN</td>\n",
       "      <td>11.0</td>\n",
       "      <td>18.60</td>\n",
       "      <td>1</td>\n",
       "      <td>NaN</td>\n",
       "      <td>False</td>\n",
       "      <td>False</td>\n",
       "      <td>11.00</td>\n",
       "      <td>2.0</td>\n",
       "      <td>посёлок Шушары</td>\n",
       "      <td>12817.0</td>\n",
       "      <td>18603.0</td>\n",
       "      <td>0.0</td>\n",
       "      <td>NaN</td>\n",
       "      <td>0.0</td>\n",
       "      <td>NaN</td>\n",
       "      <td>81.0</td>\n",
       "    </tr>\n",
       "    <tr>\n",
       "      <th>2</th>\n",
       "      <td>10</td>\n",
       "      <td>5196000.0</td>\n",
       "      <td>56.00</td>\n",
       "      <td>2015-08-20T00:00:00</td>\n",
       "      <td>2</td>\n",
       "      <td>NaN</td>\n",
       "      <td>5.0</td>\n",
       "      <td>34.30</td>\n",
       "      <td>4</td>\n",
       "      <td>NaN</td>\n",
       "      <td>False</td>\n",
       "      <td>False</td>\n",
       "      <td>8.30</td>\n",
       "      <td>0.0</td>\n",
       "      <td>Санкт-Петербург</td>\n",
       "      <td>21741.0</td>\n",
       "      <td>13933.0</td>\n",
       "      <td>1.0</td>\n",
       "      <td>90.0</td>\n",
       "      <td>2.0</td>\n",
       "      <td>574.0</td>\n",
       "      <td>558.0</td>\n",
       "    </tr>\n",
       "    <tr>\n",
       "      <th>3</th>\n",
       "      <td>0</td>\n",
       "      <td>64900000.0</td>\n",
       "      <td>159.00</td>\n",
       "      <td>2015-07-24T00:00:00</td>\n",
       "      <td>3</td>\n",
       "      <td>NaN</td>\n",
       "      <td>14.0</td>\n",
       "      <td>NaN</td>\n",
       "      <td>9</td>\n",
       "      <td>NaN</td>\n",
       "      <td>False</td>\n",
       "      <td>False</td>\n",
       "      <td>NaN</td>\n",
       "      <td>0.0</td>\n",
       "      <td>Санкт-Петербург</td>\n",
       "      <td>28098.0</td>\n",
       "      <td>6800.0</td>\n",
       "      <td>2.0</td>\n",
       "      <td>84.0</td>\n",
       "      <td>3.0</td>\n",
       "      <td>234.0</td>\n",
       "      <td>424.0</td>\n",
       "    </tr>\n",
       "    <tr>\n",
       "      <th>4</th>\n",
       "      <td>2</td>\n",
       "      <td>10000000.0</td>\n",
       "      <td>100.00</td>\n",
       "      <td>2018-06-19T00:00:00</td>\n",
       "      <td>2</td>\n",
       "      <td>3.03</td>\n",
       "      <td>14.0</td>\n",
       "      <td>32.00</td>\n",
       "      <td>13</td>\n",
       "      <td>NaN</td>\n",
       "      <td>False</td>\n",
       "      <td>False</td>\n",
       "      <td>41.00</td>\n",
       "      <td>NaN</td>\n",
       "      <td>Санкт-Петербург</td>\n",
       "      <td>31856.0</td>\n",
       "      <td>8098.0</td>\n",
       "      <td>2.0</td>\n",
       "      <td>112.0</td>\n",
       "      <td>1.0</td>\n",
       "      <td>48.0</td>\n",
       "      <td>121.0</td>\n",
       "    </tr>\n",
       "    <tr>\n",
       "      <th>5</th>\n",
       "      <td>10</td>\n",
       "      <td>2890000.0</td>\n",
       "      <td>30.40</td>\n",
       "      <td>2018-09-10T00:00:00</td>\n",
       "      <td>1</td>\n",
       "      <td>NaN</td>\n",
       "      <td>12.0</td>\n",
       "      <td>14.40</td>\n",
       "      <td>5</td>\n",
       "      <td>NaN</td>\n",
       "      <td>False</td>\n",
       "      <td>False</td>\n",
       "      <td>9.10</td>\n",
       "      <td>NaN</td>\n",
       "      <td>городской посёлок Янино-1</td>\n",
       "      <td>NaN</td>\n",
       "      <td>NaN</td>\n",
       "      <td>NaN</td>\n",
       "      <td>NaN</td>\n",
       "      <td>NaN</td>\n",
       "      <td>NaN</td>\n",
       "      <td>55.0</td>\n",
       "    </tr>\n",
       "    <tr>\n",
       "      <th>6</th>\n",
       "      <td>6</td>\n",
       "      <td>3700000.0</td>\n",
       "      <td>37.30</td>\n",
       "      <td>2017-11-02T00:00:00</td>\n",
       "      <td>1</td>\n",
       "      <td>NaN</td>\n",
       "      <td>26.0</td>\n",
       "      <td>10.60</td>\n",
       "      <td>6</td>\n",
       "      <td>NaN</td>\n",
       "      <td>False</td>\n",
       "      <td>False</td>\n",
       "      <td>14.40</td>\n",
       "      <td>1.0</td>\n",
       "      <td>посёлок Парголово</td>\n",
       "      <td>52996.0</td>\n",
       "      <td>19143.0</td>\n",
       "      <td>0.0</td>\n",
       "      <td>NaN</td>\n",
       "      <td>0.0</td>\n",
       "      <td>NaN</td>\n",
       "      <td>155.0</td>\n",
       "    </tr>\n",
       "    <tr>\n",
       "      <th>7</th>\n",
       "      <td>5</td>\n",
       "      <td>7915000.0</td>\n",
       "      <td>71.60</td>\n",
       "      <td>2019-04-18T00:00:00</td>\n",
       "      <td>2</td>\n",
       "      <td>NaN</td>\n",
       "      <td>24.0</td>\n",
       "      <td>NaN</td>\n",
       "      <td>22</td>\n",
       "      <td>NaN</td>\n",
       "      <td>False</td>\n",
       "      <td>False</td>\n",
       "      <td>18.90</td>\n",
       "      <td>2.0</td>\n",
       "      <td>Санкт-Петербург</td>\n",
       "      <td>23982.0</td>\n",
       "      <td>11634.0</td>\n",
       "      <td>0.0</td>\n",
       "      <td>NaN</td>\n",
       "      <td>0.0</td>\n",
       "      <td>NaN</td>\n",
       "      <td>NaN</td>\n",
       "    </tr>\n",
       "    <tr>\n",
       "      <th>8</th>\n",
       "      <td>20</td>\n",
       "      <td>2900000.0</td>\n",
       "      <td>33.16</td>\n",
       "      <td>2018-05-23T00:00:00</td>\n",
       "      <td>1</td>\n",
       "      <td>NaN</td>\n",
       "      <td>27.0</td>\n",
       "      <td>15.43</td>\n",
       "      <td>26</td>\n",
       "      <td>NaN</td>\n",
       "      <td>False</td>\n",
       "      <td>False</td>\n",
       "      <td>8.81</td>\n",
       "      <td>NaN</td>\n",
       "      <td>посёлок Мурино</td>\n",
       "      <td>NaN</td>\n",
       "      <td>NaN</td>\n",
       "      <td>NaN</td>\n",
       "      <td>NaN</td>\n",
       "      <td>NaN</td>\n",
       "      <td>NaN</td>\n",
       "      <td>189.0</td>\n",
       "    </tr>\n",
       "    <tr>\n",
       "      <th>9</th>\n",
       "      <td>18</td>\n",
       "      <td>5400000.0</td>\n",
       "      <td>61.00</td>\n",
       "      <td>2017-02-26T00:00:00</td>\n",
       "      <td>3</td>\n",
       "      <td>2.50</td>\n",
       "      <td>9.0</td>\n",
       "      <td>43.60</td>\n",
       "      <td>7</td>\n",
       "      <td>NaN</td>\n",
       "      <td>False</td>\n",
       "      <td>False</td>\n",
       "      <td>6.50</td>\n",
       "      <td>2.0</td>\n",
       "      <td>Санкт-Петербург</td>\n",
       "      <td>50898.0</td>\n",
       "      <td>15008.0</td>\n",
       "      <td>0.0</td>\n",
       "      <td>NaN</td>\n",
       "      <td>0.0</td>\n",
       "      <td>NaN</td>\n",
       "      <td>289.0</td>\n",
       "    </tr>\n",
       "  </tbody>\n",
       "</table>\n",
       "</div>"
      ],
      "text/plain": [
       "   total_images  last_price  total_area first_day_exposition  rooms  \\\n",
       "0            20  13000000.0      108.00  2019-03-07T00:00:00      3   \n",
       "1             7   3350000.0       40.40  2018-12-04T00:00:00      1   \n",
       "2            10   5196000.0       56.00  2015-08-20T00:00:00      2   \n",
       "3             0  64900000.0      159.00  2015-07-24T00:00:00      3   \n",
       "4             2  10000000.0      100.00  2018-06-19T00:00:00      2   \n",
       "5            10   2890000.0       30.40  2018-09-10T00:00:00      1   \n",
       "6             6   3700000.0       37.30  2017-11-02T00:00:00      1   \n",
       "7             5   7915000.0       71.60  2019-04-18T00:00:00      2   \n",
       "8            20   2900000.0       33.16  2018-05-23T00:00:00      1   \n",
       "9            18   5400000.0       61.00  2017-02-26T00:00:00      3   \n",
       "\n",
       "   ceiling_height  floors_total  living_area  floor is_apartment  studio  \\\n",
       "0            2.70          16.0        51.00      8          NaN   False   \n",
       "1             NaN          11.0        18.60      1          NaN   False   \n",
       "2             NaN           5.0        34.30      4          NaN   False   \n",
       "3             NaN          14.0          NaN      9          NaN   False   \n",
       "4            3.03          14.0        32.00     13          NaN   False   \n",
       "5             NaN          12.0        14.40      5          NaN   False   \n",
       "6             NaN          26.0        10.60      6          NaN   False   \n",
       "7             NaN          24.0          NaN     22          NaN   False   \n",
       "8             NaN          27.0        15.43     26          NaN   False   \n",
       "9            2.50           9.0        43.60      7          NaN   False   \n",
       "\n",
       "   open_plan  kitchen_area  balcony              locality_name  \\\n",
       "0      False         25.00      NaN            Санкт-Петербург   \n",
       "1      False         11.00      2.0             посёлок Шушары   \n",
       "2      False          8.30      0.0            Санкт-Петербург   \n",
       "3      False           NaN      0.0            Санкт-Петербург   \n",
       "4      False         41.00      NaN            Санкт-Петербург   \n",
       "5      False          9.10      NaN  городской посёлок Янино-1   \n",
       "6      False         14.40      1.0          посёлок Парголово   \n",
       "7      False         18.90      2.0            Санкт-Петербург   \n",
       "8      False          8.81      NaN             посёлок Мурино   \n",
       "9      False          6.50      2.0            Санкт-Петербург   \n",
       "\n",
       "   airports_nearest  cityCenters_nearest  parks_around3000  parks_nearest  \\\n",
       "0           18863.0              16028.0               1.0          482.0   \n",
       "1           12817.0              18603.0               0.0            NaN   \n",
       "2           21741.0              13933.0               1.0           90.0   \n",
       "3           28098.0               6800.0               2.0           84.0   \n",
       "4           31856.0               8098.0               2.0          112.0   \n",
       "5               NaN                  NaN               NaN            NaN   \n",
       "6           52996.0              19143.0               0.0            NaN   \n",
       "7           23982.0              11634.0               0.0            NaN   \n",
       "8               NaN                  NaN               NaN            NaN   \n",
       "9           50898.0              15008.0               0.0            NaN   \n",
       "\n",
       "   ponds_around3000  ponds_nearest  days_exposition  \n",
       "0               2.0          755.0              NaN  \n",
       "1               0.0            NaN             81.0  \n",
       "2               2.0          574.0            558.0  \n",
       "3               3.0          234.0            424.0  \n",
       "4               1.0           48.0            121.0  \n",
       "5               NaN            NaN             55.0  \n",
       "6               0.0            NaN            155.0  \n",
       "7               0.0            NaN              NaN  \n",
       "8               NaN            NaN            189.0  \n",
       "9               0.0            NaN            289.0  "
      ]
     },
     "execution_count": 22,
     "metadata": {},
     "output_type": "execute_result"
    }
   ],
   "source": [
    "real_estate_data.head(10)"
   ]
  },
  {
   "cell_type": "markdown",
   "id": "bec604e5",
   "metadata": {
    "pycharm": {
     "name": "#%% md\n"
    }
   },
   "source": [
    "Получим общую информацию о таблице"
   ]
  },
  {
   "cell_type": "code",
   "execution_count": 23,
   "id": "dd441ff5",
   "metadata": {
    "pycharm": {
     "name": "#%%\n"
    }
   },
   "outputs": [
    {
     "name": "stdout",
     "output_type": "stream",
     "text": [
      "<class 'pandas.core.frame.DataFrame'>\n",
      "RangeIndex: 23699 entries, 0 to 23698\n",
      "Data columns (total 22 columns):\n",
      " #   Column                Non-Null Count  Dtype  \n",
      "---  ------                --------------  -----  \n",
      " 0   total_images          23699 non-null  int64  \n",
      " 1   last_price            23699 non-null  float64\n",
      " 2   total_area            23699 non-null  float64\n",
      " 3   first_day_exposition  23699 non-null  object \n",
      " 4   rooms                 23699 non-null  int64  \n",
      " 5   ceiling_height        14504 non-null  float64\n",
      " 6   floors_total          23613 non-null  float64\n",
      " 7   living_area           21796 non-null  float64\n",
      " 8   floor                 23699 non-null  int64  \n",
      " 9   is_apartment          2775 non-null   object \n",
      " 10  studio                23699 non-null  bool   \n",
      " 11  open_plan             23699 non-null  bool   \n",
      " 12  kitchen_area          21421 non-null  float64\n",
      " 13  balcony               12180 non-null  float64\n",
      " 14  locality_name         23650 non-null  object \n",
      " 15  airports_nearest      18157 non-null  float64\n",
      " 16  cityCenters_nearest   18180 non-null  float64\n",
      " 17  parks_around3000      18181 non-null  float64\n",
      " 18  parks_nearest         8079 non-null   float64\n",
      " 19  ponds_around3000      18181 non-null  float64\n",
      " 20  ponds_nearest         9110 non-null   float64\n",
      " 21  days_exposition       20518 non-null  float64\n",
      "dtypes: bool(2), float64(14), int64(3), object(3)\n",
      "memory usage: 3.7+ MB\n"
     ]
    }
   ],
   "source": [
    "real_estate_data.info()"
   ]
  },
  {
   "cell_type": "markdown",
   "id": "68b73b54",
   "metadata": {
    "pycharm": {
     "name": "#%% md\n"
    }
   },
   "source": [
    "В таблице 22 столбца, встречаются различные типы данных.\n",
    "\n",
    "Согласно документации:\n",
    "* `airports_nearest` — расстояние до ближайшего аэропорта в метрах (м)\n",
    "* `balcony` — число балконов\n",
    "* `ceiling_height` — высота потолков (м)\n",
    "* `cityCenters_nearest` — расстояние до центра города (м)\n",
    "* `days_exposition` — сколько дней было размещено объявление (от публикации до снятия)\n",
    "* `first_day_exposition` — дата публикации\n",
    "* `floor` — этаж\n",
    "* `floors_total` — всего этажей в доме\n",
    "* `is_apartment` — апартаменты (булев тип)\n",
    "* `kitchen_area` — площадь кухни в квадратных метрах (м²)\n",
    "* `last_price` — цена на момент снятия с публикации\n",
    "* `living_area` — жилая площадь в квадратных метрах (м²)\n",
    "* `locality_name` — название населённого пункта\n",
    "* `open_plan` — свободная планировка (булев тип)\n",
    "* `parks_around3000` — число парков в радиусе 3 км\n",
    "* `parks_nearest` — расстояние до ближайшего парка (м)\n",
    "* `ponds_around3000` — число водоёмов в радиусе 3 км\n",
    "* `ponds_nearest` — расстояние до ближайшего водоёма (м)\n",
    "* `rooms` — число комнат\n",
    "* `studio` — квартира-студия (булев тип)\n",
    "* `total_area` — площадь квартиры в квадратных метрах (м²)\n",
    "* `total_images` — число фотографий квартиры в объявлении"
   ]
  },
  {
   "cell_type": "markdown",
   "id": "83d0fda4",
   "metadata": {
    "pycharm": {
     "name": "#%% md\n"
    }
   },
   "source": [
    "Воспользуемся методом `describe()`, чтобы посмотреть распределение данных по столбцам"
   ]
  },
  {
   "cell_type": "code",
   "execution_count": 24,
   "id": "bea73c43",
   "metadata": {
    "pycharm": {
     "name": "#%%\n"
    }
   },
   "outputs": [
    {
     "data": {
      "text/html": [
       "<div>\n",
       "<style scoped>\n",
       "    .dataframe tbody tr th:only-of-type {\n",
       "        vertical-align: middle;\n",
       "    }\n",
       "\n",
       "    .dataframe tbody tr th {\n",
       "        vertical-align: top;\n",
       "    }\n",
       "\n",
       "    .dataframe thead th {\n",
       "        text-align: right;\n",
       "    }\n",
       "</style>\n",
       "<table border=\"1\" class=\"dataframe\">\n",
       "  <thead>\n",
       "    <tr style=\"text-align: right;\">\n",
       "      <th></th>\n",
       "      <th>total_images</th>\n",
       "      <th>last_price</th>\n",
       "      <th>total_area</th>\n",
       "      <th>rooms</th>\n",
       "      <th>ceiling_height</th>\n",
       "      <th>floors_total</th>\n",
       "      <th>living_area</th>\n",
       "      <th>floor</th>\n",
       "      <th>kitchen_area</th>\n",
       "      <th>balcony</th>\n",
       "      <th>airports_nearest</th>\n",
       "      <th>cityCenters_nearest</th>\n",
       "      <th>parks_around3000</th>\n",
       "      <th>parks_nearest</th>\n",
       "      <th>ponds_around3000</th>\n",
       "      <th>ponds_nearest</th>\n",
       "      <th>days_exposition</th>\n",
       "    </tr>\n",
       "  </thead>\n",
       "  <tbody>\n",
       "    <tr>\n",
       "      <th>count</th>\n",
       "      <td>23699.000000</td>\n",
       "      <td>2.369900e+04</td>\n",
       "      <td>23699.000000</td>\n",
       "      <td>23699.000000</td>\n",
       "      <td>14504.000000</td>\n",
       "      <td>23613.000000</td>\n",
       "      <td>21796.000000</td>\n",
       "      <td>23699.000000</td>\n",
       "      <td>21421.000000</td>\n",
       "      <td>12180.000000</td>\n",
       "      <td>18157.000000</td>\n",
       "      <td>18180.000000</td>\n",
       "      <td>18181.000000</td>\n",
       "      <td>8079.000000</td>\n",
       "      <td>18181.000000</td>\n",
       "      <td>9110.000000</td>\n",
       "      <td>20518.000000</td>\n",
       "    </tr>\n",
       "    <tr>\n",
       "      <th>mean</th>\n",
       "      <td>9.858475</td>\n",
       "      <td>6.541549e+06</td>\n",
       "      <td>60.348651</td>\n",
       "      <td>2.070636</td>\n",
       "      <td>2.771499</td>\n",
       "      <td>10.673824</td>\n",
       "      <td>34.457852</td>\n",
       "      <td>5.892358</td>\n",
       "      <td>10.569807</td>\n",
       "      <td>1.150082</td>\n",
       "      <td>28793.672193</td>\n",
       "      <td>14191.277833</td>\n",
       "      <td>0.611408</td>\n",
       "      <td>490.804555</td>\n",
       "      <td>0.770255</td>\n",
       "      <td>517.980900</td>\n",
       "      <td>180.888634</td>\n",
       "    </tr>\n",
       "    <tr>\n",
       "      <th>std</th>\n",
       "      <td>5.682529</td>\n",
       "      <td>1.088701e+07</td>\n",
       "      <td>35.654083</td>\n",
       "      <td>1.078405</td>\n",
       "      <td>1.261056</td>\n",
       "      <td>6.597173</td>\n",
       "      <td>22.030445</td>\n",
       "      <td>4.885249</td>\n",
       "      <td>5.905438</td>\n",
       "      <td>1.071300</td>\n",
       "      <td>12630.880622</td>\n",
       "      <td>8608.386210</td>\n",
       "      <td>0.802074</td>\n",
       "      <td>342.317995</td>\n",
       "      <td>0.938346</td>\n",
       "      <td>277.720643</td>\n",
       "      <td>219.727988</td>\n",
       "    </tr>\n",
       "    <tr>\n",
       "      <th>min</th>\n",
       "      <td>0.000000</td>\n",
       "      <td>1.219000e+04</td>\n",
       "      <td>12.000000</td>\n",
       "      <td>0.000000</td>\n",
       "      <td>1.000000</td>\n",
       "      <td>1.000000</td>\n",
       "      <td>2.000000</td>\n",
       "      <td>1.000000</td>\n",
       "      <td>1.300000</td>\n",
       "      <td>0.000000</td>\n",
       "      <td>0.000000</td>\n",
       "      <td>181.000000</td>\n",
       "      <td>0.000000</td>\n",
       "      <td>1.000000</td>\n",
       "      <td>0.000000</td>\n",
       "      <td>13.000000</td>\n",
       "      <td>1.000000</td>\n",
       "    </tr>\n",
       "    <tr>\n",
       "      <th>25%</th>\n",
       "      <td>6.000000</td>\n",
       "      <td>3.400000e+06</td>\n",
       "      <td>40.000000</td>\n",
       "      <td>1.000000</td>\n",
       "      <td>2.520000</td>\n",
       "      <td>5.000000</td>\n",
       "      <td>18.600000</td>\n",
       "      <td>2.000000</td>\n",
       "      <td>7.000000</td>\n",
       "      <td>0.000000</td>\n",
       "      <td>18585.000000</td>\n",
       "      <td>9238.000000</td>\n",
       "      <td>0.000000</td>\n",
       "      <td>288.000000</td>\n",
       "      <td>0.000000</td>\n",
       "      <td>294.000000</td>\n",
       "      <td>45.000000</td>\n",
       "    </tr>\n",
       "    <tr>\n",
       "      <th>50%</th>\n",
       "      <td>9.000000</td>\n",
       "      <td>4.650000e+06</td>\n",
       "      <td>52.000000</td>\n",
       "      <td>2.000000</td>\n",
       "      <td>2.650000</td>\n",
       "      <td>9.000000</td>\n",
       "      <td>30.000000</td>\n",
       "      <td>4.000000</td>\n",
       "      <td>9.100000</td>\n",
       "      <td>1.000000</td>\n",
       "      <td>26726.000000</td>\n",
       "      <td>13098.500000</td>\n",
       "      <td>0.000000</td>\n",
       "      <td>455.000000</td>\n",
       "      <td>1.000000</td>\n",
       "      <td>502.000000</td>\n",
       "      <td>95.000000</td>\n",
       "    </tr>\n",
       "    <tr>\n",
       "      <th>75%</th>\n",
       "      <td>14.000000</td>\n",
       "      <td>6.800000e+06</td>\n",
       "      <td>69.900000</td>\n",
       "      <td>3.000000</td>\n",
       "      <td>2.800000</td>\n",
       "      <td>16.000000</td>\n",
       "      <td>42.300000</td>\n",
       "      <td>8.000000</td>\n",
       "      <td>12.000000</td>\n",
       "      <td>2.000000</td>\n",
       "      <td>37273.000000</td>\n",
       "      <td>16293.000000</td>\n",
       "      <td>1.000000</td>\n",
       "      <td>612.000000</td>\n",
       "      <td>1.000000</td>\n",
       "      <td>729.000000</td>\n",
       "      <td>232.000000</td>\n",
       "    </tr>\n",
       "    <tr>\n",
       "      <th>max</th>\n",
       "      <td>50.000000</td>\n",
       "      <td>7.630000e+08</td>\n",
       "      <td>900.000000</td>\n",
       "      <td>19.000000</td>\n",
       "      <td>100.000000</td>\n",
       "      <td>60.000000</td>\n",
       "      <td>409.700000</td>\n",
       "      <td>33.000000</td>\n",
       "      <td>112.000000</td>\n",
       "      <td>5.000000</td>\n",
       "      <td>84869.000000</td>\n",
       "      <td>65968.000000</td>\n",
       "      <td>3.000000</td>\n",
       "      <td>3190.000000</td>\n",
       "      <td>3.000000</td>\n",
       "      <td>1344.000000</td>\n",
       "      <td>1580.000000</td>\n",
       "    </tr>\n",
       "  </tbody>\n",
       "</table>\n",
       "</div>"
      ],
      "text/plain": [
       "       total_images    last_price    total_area         rooms  ceiling_height  \\\n",
       "count  23699.000000  2.369900e+04  23699.000000  23699.000000    14504.000000   \n",
       "mean       9.858475  6.541549e+06     60.348651      2.070636        2.771499   \n",
       "std        5.682529  1.088701e+07     35.654083      1.078405        1.261056   \n",
       "min        0.000000  1.219000e+04     12.000000      0.000000        1.000000   \n",
       "25%        6.000000  3.400000e+06     40.000000      1.000000        2.520000   \n",
       "50%        9.000000  4.650000e+06     52.000000      2.000000        2.650000   \n",
       "75%       14.000000  6.800000e+06     69.900000      3.000000        2.800000   \n",
       "max       50.000000  7.630000e+08    900.000000     19.000000      100.000000   \n",
       "\n",
       "       floors_total   living_area         floor  kitchen_area       balcony  \\\n",
       "count  23613.000000  21796.000000  23699.000000  21421.000000  12180.000000   \n",
       "mean      10.673824     34.457852      5.892358     10.569807      1.150082   \n",
       "std        6.597173     22.030445      4.885249      5.905438      1.071300   \n",
       "min        1.000000      2.000000      1.000000      1.300000      0.000000   \n",
       "25%        5.000000     18.600000      2.000000      7.000000      0.000000   \n",
       "50%        9.000000     30.000000      4.000000      9.100000      1.000000   \n",
       "75%       16.000000     42.300000      8.000000     12.000000      2.000000   \n",
       "max       60.000000    409.700000     33.000000    112.000000      5.000000   \n",
       "\n",
       "       airports_nearest  cityCenters_nearest  parks_around3000  parks_nearest  \\\n",
       "count      18157.000000         18180.000000      18181.000000    8079.000000   \n",
       "mean       28793.672193         14191.277833          0.611408     490.804555   \n",
       "std        12630.880622          8608.386210          0.802074     342.317995   \n",
       "min            0.000000           181.000000          0.000000       1.000000   \n",
       "25%        18585.000000          9238.000000          0.000000     288.000000   \n",
       "50%        26726.000000         13098.500000          0.000000     455.000000   \n",
       "75%        37273.000000         16293.000000          1.000000     612.000000   \n",
       "max        84869.000000         65968.000000          3.000000    3190.000000   \n",
       "\n",
       "       ponds_around3000  ponds_nearest  days_exposition  \n",
       "count      18181.000000    9110.000000     20518.000000  \n",
       "mean           0.770255     517.980900       180.888634  \n",
       "std            0.938346     277.720643       219.727988  \n",
       "min            0.000000      13.000000         1.000000  \n",
       "25%            0.000000     294.000000        45.000000  \n",
       "50%            1.000000     502.000000        95.000000  \n",
       "75%            1.000000     729.000000       232.000000  \n",
       "max            3.000000    1344.000000      1580.000000  "
      ]
     },
     "execution_count": 24,
     "metadata": {},
     "output_type": "execute_result"
    }
   ],
   "source": [
    "real_estate_data.describe()"
   ]
  },
  {
   "cell_type": "markdown",
   "id": "5288ded3",
   "metadata": {
    "pycharm": {
     "name": "#%% md\n"
    }
   },
   "source": [
    "Из вывода метода `info()` видно, что в таблице имеются пропуски.\n",
    "Из вывода метода `describe()` видно, что таблице присутствуют аномалии, например - максимальное и минимальное значения высоты потолков 1 и 100 метров соответственно, большое стандартное отклонение в столбце `total_area` и т.д.\n",
    "\n",
    "**Выводы**\n",
    "\n",
    "В каждой строке таблицы мы видим информацию об объекте недвижимости.\n",
    "\n",
    "При обзоре таблицы с данными замечаем следующие проблемы:\n",
    "* Имеются пропуски в данных\n",
    "* Большие стандартные отклонения в столбцах\n",
    "* Выбросы\n",
    "* Неправильные типы данных\n",
    "\n",
    "Чтобы двигаться дальше, необходимо устранить проблемы в данных."
   ]
  },
  {
   "cell_type": "markdown",
   "id": "64528eb9",
   "metadata": {
    "pycharm": {
     "name": "#%% md\n"
    }
   },
   "source": [
    "## Шаг 2. Предобработка данных"
   ]
  },
  {
   "cell_type": "markdown",
   "id": "56b169f6",
   "metadata": {
    "pycharm": {
     "name": "#%% md\n"
    }
   },
   "source": [
    "### Шаг 2.1. Определение и изучение пропущенных значений"
   ]
  },
  {
   "cell_type": "markdown",
   "id": "9c8a07b8",
   "metadata": {
    "pycharm": {
     "name": "#%% md\n"
    }
   },
   "source": [
    "В столбце `is_apartment` заменим пропущенные значения на False, т.к. логично предположить, что если не указано, что это апартаменты, значит это не апартаменты"
   ]
  },
  {
   "cell_type": "code",
   "execution_count": 25,
   "id": "46e11b1f",
   "metadata": {
    "pycharm": {
     "name": "#%%\n"
    }
   },
   "outputs": [],
   "source": [
    "real_estate_data['is_apartment'] = real_estate_data['is_apartment'].fillna(False)"
   ]
  },
  {
   "cell_type": "markdown",
   "id": "b3d2116d",
   "metadata": {
    "pycharm": {
     "name": "#%% md\n"
    }
   },
   "source": [
    "В столбце `balcony` заменим пропущенные значения на 0, т.к. логично предположить, что если число балконов не указано, значит их нет"
   ]
  },
  {
   "cell_type": "code",
   "execution_count": 26,
   "id": "560c01e6",
   "metadata": {
    "pycharm": {
     "name": "#%%\n"
    }
   },
   "outputs": [],
   "source": [
    "real_estate_data['balcony'] = real_estate_data['balcony'].fillna(0)"
   ]
  },
  {
   "cell_type": "markdown",
   "id": "5cb59767",
   "metadata": {
    "pycharm": {
     "name": "#%% md\n"
    }
   },
   "source": [
    "В столбце `locality_name` заменим пропуски на 'unknown'"
   ]
  },
  {
   "cell_type": "code",
   "execution_count": 27,
   "id": "d4f6ad79",
   "metadata": {
    "pycharm": {
     "name": "#%%\n"
    }
   },
   "outputs": [],
   "source": [
    "real_estate_data['locality_name'] = real_estate_data['locality_name'].fillna('unknown')"
   ]
  },
  {
   "cell_type": "markdown",
   "id": "e67ca125",
   "metadata": {
    "pycharm": {
     "name": "#%% md\n"
    }
   },
   "source": [
    "В столбце `floors_total` имеется небольшое количество пропусков, удалим их"
   ]
  },
  {
   "cell_type": "code",
   "execution_count": 28,
   "id": "4f956d9c",
   "metadata": {
    "pycharm": {
     "name": "#%%\n"
    }
   },
   "outputs": [],
   "source": [
    "real_estate_data = real_estate_data.loc[~real_estate_data['floors_total'].isna()]"
   ]
  },
  {
   "cell_type": "markdown",
   "id": "128762eb",
   "metadata": {
    "pycharm": {
     "name": "#%% md\n"
    }
   },
   "source": [
    "В столбце `rooms` есть нулевые значения"
   ]
  },
  {
   "cell_type": "code",
   "execution_count": 29,
   "id": "c64da118",
   "metadata": {
    "pycharm": {
     "name": "#%%\n"
    }
   },
   "outputs": [
    {
     "data": {
      "text/html": [
       "<div>\n",
       "<style scoped>\n",
       "    .dataframe tbody tr th:only-of-type {\n",
       "        vertical-align: middle;\n",
       "    }\n",
       "\n",
       "    .dataframe tbody tr th {\n",
       "        vertical-align: top;\n",
       "    }\n",
       "\n",
       "    .dataframe thead th {\n",
       "        text-align: right;\n",
       "    }\n",
       "</style>\n",
       "<table border=\"1\" class=\"dataframe\">\n",
       "  <thead>\n",
       "    <tr style=\"text-align: right;\">\n",
       "      <th></th>\n",
       "      <th>total_images</th>\n",
       "    </tr>\n",
       "    <tr>\n",
       "      <th>rooms</th>\n",
       "      <th></th>\n",
       "    </tr>\n",
       "  </thead>\n",
       "  <tbody>\n",
       "    <tr>\n",
       "      <th>0</th>\n",
       "      <td>194</td>\n",
       "    </tr>\n",
       "    <tr>\n",
       "      <th>1</th>\n",
       "      <td>8015</td>\n",
       "    </tr>\n",
       "    <tr>\n",
       "      <th>2</th>\n",
       "      <td>7913</td>\n",
       "    </tr>\n",
       "    <tr>\n",
       "      <th>3</th>\n",
       "      <td>5795</td>\n",
       "    </tr>\n",
       "    <tr>\n",
       "      <th>4</th>\n",
       "      <td>1177</td>\n",
       "    </tr>\n",
       "    <tr>\n",
       "      <th>5</th>\n",
       "      <td>325</td>\n",
       "    </tr>\n",
       "    <tr>\n",
       "      <th>6</th>\n",
       "      <td>104</td>\n",
       "    </tr>\n",
       "    <tr>\n",
       "      <th>7</th>\n",
       "      <td>59</td>\n",
       "    </tr>\n",
       "    <tr>\n",
       "      <th>8</th>\n",
       "      <td>12</td>\n",
       "    </tr>\n",
       "    <tr>\n",
       "      <th>9</th>\n",
       "      <td>8</td>\n",
       "    </tr>\n",
       "    <tr>\n",
       "      <th>10</th>\n",
       "      <td>3</td>\n",
       "    </tr>\n",
       "    <tr>\n",
       "      <th>11</th>\n",
       "      <td>2</td>\n",
       "    </tr>\n",
       "    <tr>\n",
       "      <th>12</th>\n",
       "      <td>1</td>\n",
       "    </tr>\n",
       "    <tr>\n",
       "      <th>14</th>\n",
       "      <td>2</td>\n",
       "    </tr>\n",
       "    <tr>\n",
       "      <th>15</th>\n",
       "      <td>1</td>\n",
       "    </tr>\n",
       "    <tr>\n",
       "      <th>16</th>\n",
       "      <td>1</td>\n",
       "    </tr>\n",
       "    <tr>\n",
       "      <th>19</th>\n",
       "      <td>1</td>\n",
       "    </tr>\n",
       "  </tbody>\n",
       "</table>\n",
       "</div>"
      ],
      "text/plain": [
       "       total_images\n",
       "rooms              \n",
       "0               194\n",
       "1              8015\n",
       "2              7913\n",
       "3              5795\n",
       "4              1177\n",
       "5               325\n",
       "6               104\n",
       "7                59\n",
       "8                12\n",
       "9                 8\n",
       "10                3\n",
       "11                2\n",
       "12                1\n",
       "14                2\n",
       "15                1\n",
       "16                1\n",
       "19                1"
      ]
     },
     "execution_count": 29,
     "metadata": {},
     "output_type": "execute_result"
    }
   ],
   "source": [
    "real_estate_data.pivot_table(index='rooms', values='total_images', aggfunc='count')"
   ]
  },
  {
   "cell_type": "markdown",
   "id": "ad6ddfdc-3c91-40e2-b46d-77b9990c519b",
   "metadata": {},
   "source": [
    "Проверим, являются ли квартиры с 0 комнат студиями"
   ]
  },
  {
   "cell_type": "code",
   "execution_count": 30,
   "id": "bdf472d1-7429-48e2-8441-23ccbbf3eb24",
   "metadata": {},
   "outputs": [
    {
     "data": {
      "text/html": [
       "<div>\n",
       "<style scoped>\n",
       "    .dataframe tbody tr th:only-of-type {\n",
       "        vertical-align: middle;\n",
       "    }\n",
       "\n",
       "    .dataframe tbody tr th {\n",
       "        vertical-align: top;\n",
       "    }\n",
       "\n",
       "    .dataframe thead th {\n",
       "        text-align: right;\n",
       "    }\n",
       "</style>\n",
       "<table border=\"1\" class=\"dataframe\">\n",
       "  <thead>\n",
       "    <tr style=\"text-align: right;\">\n",
       "      <th></th>\n",
       "      <th>total_images</th>\n",
       "      <th>last_price</th>\n",
       "      <th>total_area</th>\n",
       "      <th>first_day_exposition</th>\n",
       "      <th>rooms</th>\n",
       "      <th>ceiling_height</th>\n",
       "      <th>floors_total</th>\n",
       "      <th>living_area</th>\n",
       "      <th>floor</th>\n",
       "      <th>is_apartment</th>\n",
       "      <th>studio</th>\n",
       "      <th>open_plan</th>\n",
       "      <th>kitchen_area</th>\n",
       "      <th>balcony</th>\n",
       "      <th>locality_name</th>\n",
       "      <th>airports_nearest</th>\n",
       "      <th>cityCenters_nearest</th>\n",
       "      <th>parks_around3000</th>\n",
       "      <th>parks_nearest</th>\n",
       "      <th>ponds_around3000</th>\n",
       "      <th>ponds_nearest</th>\n",
       "      <th>days_exposition</th>\n",
       "    </tr>\n",
       "  </thead>\n",
       "  <tbody>\n",
       "    <tr>\n",
       "      <th>144</th>\n",
       "      <td>1</td>\n",
       "      <td>2450000.0</td>\n",
       "      <td>27.00</td>\n",
       "      <td>2017-03-30T00:00:00</td>\n",
       "      <td>0</td>\n",
       "      <td>NaN</td>\n",
       "      <td>24.0</td>\n",
       "      <td>15.50</td>\n",
       "      <td>2</td>\n",
       "      <td>False</td>\n",
       "      <td>True</td>\n",
       "      <td>False</td>\n",
       "      <td>NaN</td>\n",
       "      <td>2.0</td>\n",
       "      <td>посёлок Мурино</td>\n",
       "      <td>NaN</td>\n",
       "      <td>NaN</td>\n",
       "      <td>NaN</td>\n",
       "      <td>NaN</td>\n",
       "      <td>NaN</td>\n",
       "      <td>NaN</td>\n",
       "      <td>181.0</td>\n",
       "    </tr>\n",
       "    <tr>\n",
       "      <th>440</th>\n",
       "      <td>8</td>\n",
       "      <td>2480000.0</td>\n",
       "      <td>27.11</td>\n",
       "      <td>2018-03-12T00:00:00</td>\n",
       "      <td>0</td>\n",
       "      <td>NaN</td>\n",
       "      <td>17.0</td>\n",
       "      <td>24.75</td>\n",
       "      <td>4</td>\n",
       "      <td>False</td>\n",
       "      <td>True</td>\n",
       "      <td>False</td>\n",
       "      <td>NaN</td>\n",
       "      <td>2.0</td>\n",
       "      <td>Санкт-Петербург</td>\n",
       "      <td>38171.0</td>\n",
       "      <td>15015.0</td>\n",
       "      <td>0.0</td>\n",
       "      <td>NaN</td>\n",
       "      <td>2.0</td>\n",
       "      <td>982.0</td>\n",
       "      <td>64.0</td>\n",
       "    </tr>\n",
       "    <tr>\n",
       "      <th>608</th>\n",
       "      <td>2</td>\n",
       "      <td>1850000.0</td>\n",
       "      <td>25.00</td>\n",
       "      <td>2019-02-20T00:00:00</td>\n",
       "      <td>0</td>\n",
       "      <td>NaN</td>\n",
       "      <td>10.0</td>\n",
       "      <td>NaN</td>\n",
       "      <td>7</td>\n",
       "      <td>False</td>\n",
       "      <td>True</td>\n",
       "      <td>False</td>\n",
       "      <td>NaN</td>\n",
       "      <td>0.0</td>\n",
       "      <td>посёлок Шушары</td>\n",
       "      <td>NaN</td>\n",
       "      <td>NaN</td>\n",
       "      <td>NaN</td>\n",
       "      <td>NaN</td>\n",
       "      <td>NaN</td>\n",
       "      <td>NaN</td>\n",
       "      <td>29.0</td>\n",
       "    </tr>\n",
       "    <tr>\n",
       "      <th>697</th>\n",
       "      <td>12</td>\n",
       "      <td>2500000.0</td>\n",
       "      <td>24.10</td>\n",
       "      <td>2017-12-01T00:00:00</td>\n",
       "      <td>0</td>\n",
       "      <td>2.75</td>\n",
       "      <td>25.0</td>\n",
       "      <td>17.50</td>\n",
       "      <td>21</td>\n",
       "      <td>False</td>\n",
       "      <td>True</td>\n",
       "      <td>False</td>\n",
       "      <td>NaN</td>\n",
       "      <td>0.0</td>\n",
       "      <td>деревня Кудрово</td>\n",
       "      <td>NaN</td>\n",
       "      <td>NaN</td>\n",
       "      <td>NaN</td>\n",
       "      <td>NaN</td>\n",
       "      <td>NaN</td>\n",
       "      <td>NaN</td>\n",
       "      <td>201.0</td>\n",
       "    </tr>\n",
       "    <tr>\n",
       "      <th>716</th>\n",
       "      <td>5</td>\n",
       "      <td>1500000.0</td>\n",
       "      <td>17.00</td>\n",
       "      <td>2017-06-07T00:00:00</td>\n",
       "      <td>0</td>\n",
       "      <td>2.70</td>\n",
       "      <td>9.0</td>\n",
       "      <td>12.00</td>\n",
       "      <td>1</td>\n",
       "      <td>False</td>\n",
       "      <td>True</td>\n",
       "      <td>False</td>\n",
       "      <td>NaN</td>\n",
       "      <td>0.0</td>\n",
       "      <td>посёлок Шушары</td>\n",
       "      <td>18654.0</td>\n",
       "      <td>29846.0</td>\n",
       "      <td>0.0</td>\n",
       "      <td>NaN</td>\n",
       "      <td>0.0</td>\n",
       "      <td>NaN</td>\n",
       "      <td>40.0</td>\n",
       "    </tr>\n",
       "    <tr>\n",
       "      <th>...</th>\n",
       "      <td>...</td>\n",
       "      <td>...</td>\n",
       "      <td>...</td>\n",
       "      <td>...</td>\n",
       "      <td>...</td>\n",
       "      <td>...</td>\n",
       "      <td>...</td>\n",
       "      <td>...</td>\n",
       "      <td>...</td>\n",
       "      <td>...</td>\n",
       "      <td>...</td>\n",
       "      <td>...</td>\n",
       "      <td>...</td>\n",
       "      <td>...</td>\n",
       "      <td>...</td>\n",
       "      <td>...</td>\n",
       "      <td>...</td>\n",
       "      <td>...</td>\n",
       "      <td>...</td>\n",
       "      <td>...</td>\n",
       "      <td>...</td>\n",
       "      <td>...</td>\n",
       "    </tr>\n",
       "    <tr>\n",
       "      <th>22867</th>\n",
       "      <td>8</td>\n",
       "      <td>3090000.0</td>\n",
       "      <td>30.00</td>\n",
       "      <td>2017-12-17T00:00:00</td>\n",
       "      <td>0</td>\n",
       "      <td>NaN</td>\n",
       "      <td>25.0</td>\n",
       "      <td>18.20</td>\n",
       "      <td>5</td>\n",
       "      <td>False</td>\n",
       "      <td>True</td>\n",
       "      <td>False</td>\n",
       "      <td>NaN</td>\n",
       "      <td>0.0</td>\n",
       "      <td>Санкт-Петербург</td>\n",
       "      <td>35250.0</td>\n",
       "      <td>16414.0</td>\n",
       "      <td>0.0</td>\n",
       "      <td>NaN</td>\n",
       "      <td>1.0</td>\n",
       "      <td>400.0</td>\n",
       "      <td>211.0</td>\n",
       "    </tr>\n",
       "    <tr>\n",
       "      <th>22877</th>\n",
       "      <td>2</td>\n",
       "      <td>4280000.0</td>\n",
       "      <td>28.00</td>\n",
       "      <td>2017-10-26T00:00:00</td>\n",
       "      <td>0</td>\n",
       "      <td>2.70</td>\n",
       "      <td>19.0</td>\n",
       "      <td>18.00</td>\n",
       "      <td>10</td>\n",
       "      <td>False</td>\n",
       "      <td>True</td>\n",
       "      <td>False</td>\n",
       "      <td>NaN</td>\n",
       "      <td>0.0</td>\n",
       "      <td>Санкт-Петербург</td>\n",
       "      <td>18982.0</td>\n",
       "      <td>7206.0</td>\n",
       "      <td>0.0</td>\n",
       "      <td>NaN</td>\n",
       "      <td>1.0</td>\n",
       "      <td>415.0</td>\n",
       "      <td>151.0</td>\n",
       "    </tr>\n",
       "    <tr>\n",
       "      <th>23210</th>\n",
       "      <td>7</td>\n",
       "      <td>3200000.0</td>\n",
       "      <td>26.00</td>\n",
       "      <td>2017-09-01T00:00:00</td>\n",
       "      <td>0</td>\n",
       "      <td>NaN</td>\n",
       "      <td>25.0</td>\n",
       "      <td>18.00</td>\n",
       "      <td>16</td>\n",
       "      <td>False</td>\n",
       "      <td>True</td>\n",
       "      <td>False</td>\n",
       "      <td>NaN</td>\n",
       "      <td>0.0</td>\n",
       "      <td>Санкт-Петербург</td>\n",
       "      <td>11405.0</td>\n",
       "      <td>13222.0</td>\n",
       "      <td>0.0</td>\n",
       "      <td>NaN</td>\n",
       "      <td>1.0</td>\n",
       "      <td>623.0</td>\n",
       "      <td>14.0</td>\n",
       "    </tr>\n",
       "    <tr>\n",
       "      <th>23554</th>\n",
       "      <td>15</td>\n",
       "      <td>3350000.0</td>\n",
       "      <td>26.00</td>\n",
       "      <td>2018-09-07T00:00:00</td>\n",
       "      <td>0</td>\n",
       "      <td>NaN</td>\n",
       "      <td>19.0</td>\n",
       "      <td>NaN</td>\n",
       "      <td>8</td>\n",
       "      <td>False</td>\n",
       "      <td>True</td>\n",
       "      <td>False</td>\n",
       "      <td>NaN</td>\n",
       "      <td>0.0</td>\n",
       "      <td>Санкт-Петербург</td>\n",
       "      <td>18090.0</td>\n",
       "      <td>17092.0</td>\n",
       "      <td>0.0</td>\n",
       "      <td>NaN</td>\n",
       "      <td>2.0</td>\n",
       "      <td>112.0</td>\n",
       "      <td>31.0</td>\n",
       "    </tr>\n",
       "    <tr>\n",
       "      <th>23637</th>\n",
       "      <td>8</td>\n",
       "      <td>2350000.0</td>\n",
       "      <td>26.00</td>\n",
       "      <td>2018-06-26T00:00:00</td>\n",
       "      <td>0</td>\n",
       "      <td>NaN</td>\n",
       "      <td>25.0</td>\n",
       "      <td>17.00</td>\n",
       "      <td>4</td>\n",
       "      <td>False</td>\n",
       "      <td>True</td>\n",
       "      <td>False</td>\n",
       "      <td>NaN</td>\n",
       "      <td>2.0</td>\n",
       "      <td>посёлок Бугры</td>\n",
       "      <td>NaN</td>\n",
       "      <td>NaN</td>\n",
       "      <td>NaN</td>\n",
       "      <td>NaN</td>\n",
       "      <td>NaN</td>\n",
       "      <td>NaN</td>\n",
       "      <td>207.0</td>\n",
       "    </tr>\n",
       "  </tbody>\n",
       "</table>\n",
       "<p>135 rows × 22 columns</p>\n",
       "</div>"
      ],
      "text/plain": [
       "       total_images  last_price  total_area first_day_exposition  rooms  \\\n",
       "144               1   2450000.0       27.00  2017-03-30T00:00:00      0   \n",
       "440               8   2480000.0       27.11  2018-03-12T00:00:00      0   \n",
       "608               2   1850000.0       25.00  2019-02-20T00:00:00      0   \n",
       "697              12   2500000.0       24.10  2017-12-01T00:00:00      0   \n",
       "716               5   1500000.0       17.00  2017-06-07T00:00:00      0   \n",
       "...             ...         ...         ...                  ...    ...   \n",
       "22867             8   3090000.0       30.00  2017-12-17T00:00:00      0   \n",
       "22877             2   4280000.0       28.00  2017-10-26T00:00:00      0   \n",
       "23210             7   3200000.0       26.00  2017-09-01T00:00:00      0   \n",
       "23554            15   3350000.0       26.00  2018-09-07T00:00:00      0   \n",
       "23637             8   2350000.0       26.00  2018-06-26T00:00:00      0   \n",
       "\n",
       "       ceiling_height  floors_total  living_area  floor  is_apartment  studio  \\\n",
       "144               NaN          24.0        15.50      2         False    True   \n",
       "440               NaN          17.0        24.75      4         False    True   \n",
       "608               NaN          10.0          NaN      7         False    True   \n",
       "697              2.75          25.0        17.50     21         False    True   \n",
       "716              2.70           9.0        12.00      1         False    True   \n",
       "...               ...           ...          ...    ...           ...     ...   \n",
       "22867             NaN          25.0        18.20      5         False    True   \n",
       "22877            2.70          19.0        18.00     10         False    True   \n",
       "23210             NaN          25.0        18.00     16         False    True   \n",
       "23554             NaN          19.0          NaN      8         False    True   \n",
       "23637             NaN          25.0        17.00      4         False    True   \n",
       "\n",
       "       open_plan  kitchen_area  balcony    locality_name  airports_nearest  \\\n",
       "144        False           NaN      2.0   посёлок Мурино               NaN   \n",
       "440        False           NaN      2.0  Санкт-Петербург           38171.0   \n",
       "608        False           NaN      0.0   посёлок Шушары               NaN   \n",
       "697        False           NaN      0.0  деревня Кудрово               NaN   \n",
       "716        False           NaN      0.0   посёлок Шушары           18654.0   \n",
       "...          ...           ...      ...              ...               ...   \n",
       "22867      False           NaN      0.0  Санкт-Петербург           35250.0   \n",
       "22877      False           NaN      0.0  Санкт-Петербург           18982.0   \n",
       "23210      False           NaN      0.0  Санкт-Петербург           11405.0   \n",
       "23554      False           NaN      0.0  Санкт-Петербург           18090.0   \n",
       "23637      False           NaN      2.0    посёлок Бугры               NaN   \n",
       "\n",
       "       cityCenters_nearest  parks_around3000  parks_nearest  ponds_around3000  \\\n",
       "144                    NaN               NaN            NaN               NaN   \n",
       "440                15015.0               0.0            NaN               2.0   \n",
       "608                    NaN               NaN            NaN               NaN   \n",
       "697                    NaN               NaN            NaN               NaN   \n",
       "716                29846.0               0.0            NaN               0.0   \n",
       "...                    ...               ...            ...               ...   \n",
       "22867              16414.0               0.0            NaN               1.0   \n",
       "22877               7206.0               0.0            NaN               1.0   \n",
       "23210              13222.0               0.0            NaN               1.0   \n",
       "23554              17092.0               0.0            NaN               2.0   \n",
       "23637                  NaN               NaN            NaN               NaN   \n",
       "\n",
       "       ponds_nearest  days_exposition  \n",
       "144              NaN            181.0  \n",
       "440            982.0             64.0  \n",
       "608              NaN             29.0  \n",
       "697              NaN            201.0  \n",
       "716              NaN             40.0  \n",
       "...              ...              ...  \n",
       "22867          400.0            211.0  \n",
       "22877          415.0            151.0  \n",
       "23210          623.0             14.0  \n",
       "23554          112.0             31.0  \n",
       "23637            NaN            207.0  \n",
       "\n",
       "[135 rows x 22 columns]"
      ]
     },
     "execution_count": 30,
     "metadata": {},
     "output_type": "execute_result"
    }
   ],
   "source": [
    "real_estate_data.query('rooms == 0 and studio == True')"
   ]
  },
  {
   "cell_type": "markdown",
   "id": "b4d477c7",
   "metadata": {
    "pycharm": {
     "name": "#%% md\n"
    }
   },
   "source": [
    "135 квартир из 197 являются студиями. Заменим количество комнат в этих случаях на 1"
   ]
  },
  {
   "cell_type": "code",
   "execution_count": 31,
   "id": "009cca4c-9628-4ff8-8d33-3480283d1819",
   "metadata": {},
   "outputs": [],
   "source": [
    "real_estate_data.loc[(real_estate_data['rooms'] == 0) & (real_estate_data['studio'] == True), 'rooms'] = 1"
   ]
  },
  {
   "cell_type": "code",
   "execution_count": 32,
   "id": "299f78ba",
   "metadata": {
    "pycharm": {
     "name": "#%%\n"
    }
   },
   "outputs": [],
   "source": [
    "real_estate_data = real_estate_data[real_estate_data['rooms'] != 0]"
   ]
  },
  {
   "cell_type": "markdown",
   "id": "37cebd6e",
   "metadata": {
    "pycharm": {
     "name": "#%% md\n"
    }
   },
   "source": [
    "В остальных столбцах оставим пропуски, т.к. для них нет логичной замены"
   ]
  },
  {
   "cell_type": "markdown",
   "id": "d67c74b3",
   "metadata": {
    "pycharm": {
     "name": "#%% md\n"
    }
   },
   "source": [
    "### Шаг 2.2. Приведение данных к нужным типам"
   ]
  },
  {
   "cell_type": "markdown",
   "id": "1dfa02b9",
   "metadata": {
    "pycharm": {
     "name": "#%% md\n"
    }
   },
   "source": [
    "Столбец `last_price` можно привести к целому типу для простоты вычислений, т.к. сумма всех значений этого столбца не имеет дробной части"
   ]
  },
  {
   "cell_type": "code",
   "execution_count": 33,
   "id": "965df07a",
   "metadata": {
    "pycharm": {
     "name": "#%%\n"
    }
   },
   "outputs": [
    {
     "data": {
      "text/plain": [
       "154211385098.0"
      ]
     },
     "execution_count": 33,
     "metadata": {},
     "output_type": "execute_result"
    }
   ],
   "source": [
    "real_estate_data['last_price'].sum()"
   ]
  },
  {
   "cell_type": "markdown",
   "id": "ebd11b40",
   "metadata": {
    "pycharm": {
     "name": "#%% md\n"
    }
   },
   "source": [
    "Значения столбцов `floors_total` и `balcony` по логике не могут быть дробными, поэтому их тоже приводим к целому типу. Так же приведем к целому все столбцы, имеющие булев тип данных"
   ]
  },
  {
   "cell_type": "code",
   "execution_count": 34,
   "id": "b0af20f8",
   "metadata": {
    "pycharm": {
     "name": "#%%\n"
    }
   },
   "outputs": [],
   "source": [
    "\n",
    "real_estate_data = real_estate_data.astype({'last_price': 'int64',\n",
    "                                            'floors_total': 'int64',\n",
    "                                            'balcony': 'int64',\n",
    "                                            'is_apartment': 'int64',\n",
    "                                            'studio': 'int64',\n",
    "                                            'open_plan': 'int64'\n",
    "                                            })"
   ]
  },
  {
   "cell_type": "markdown",
   "id": "4e8148d3",
   "metadata": {
    "pycharm": {
     "name": "#%% md\n"
    }
   },
   "source": [
    "Проверим таблицу"
   ]
  },
  {
   "cell_type": "code",
   "execution_count": 35,
   "id": "4d56e84c",
   "metadata": {
    "pycharm": {
     "name": "#%%\n"
    }
   },
   "outputs": [
    {
     "name": "stdout",
     "output_type": "stream",
     "text": [
      "<class 'pandas.core.frame.DataFrame'>\n",
      "Int64Index: 23554 entries, 0 to 23698\n",
      "Data columns (total 22 columns):\n",
      " #   Column                Non-Null Count  Dtype  \n",
      "---  ------                --------------  -----  \n",
      " 0   total_images          23554 non-null  int64  \n",
      " 1   last_price            23554 non-null  int64  \n",
      " 2   total_area            23554 non-null  float64\n",
      " 3   first_day_exposition  23554 non-null  object \n",
      " 4   rooms                 23554 non-null  int64  \n",
      " 5   ceiling_height        14485 non-null  float64\n",
      " 6   floors_total          23554 non-null  int64  \n",
      " 7   living_area           21688 non-null  float64\n",
      " 8   floor                 23554 non-null  int64  \n",
      " 9   is_apartment          23554 non-null  int64  \n",
      " 10  studio                23554 non-null  int64  \n",
      " 11  open_plan             23554 non-null  int64  \n",
      " 12  kitchen_area          21382 non-null  float64\n",
      " 13  balcony               23554 non-null  int64  \n",
      " 14  locality_name         23554 non-null  object \n",
      " 15  airports_nearest      18050 non-null  float64\n",
      " 16  cityCenters_nearest   18073 non-null  float64\n",
      " 17  parks_around3000      18074 non-null  float64\n",
      " 18  parks_nearest         8036 non-null   float64\n",
      " 19  ponds_around3000      18074 non-null  float64\n",
      " 20  ponds_nearest         9040 non-null   float64\n",
      " 21  days_exposition       20382 non-null  float64\n",
      "dtypes: float64(11), int64(9), object(2)\n",
      "memory usage: 4.1+ MB\n"
     ]
    }
   ],
   "source": [
    "real_estate_data.info()"
   ]
  },
  {
   "cell_type": "markdown",
   "id": "368a5510",
   "metadata": {
    "pycharm": {
     "name": "#%% md\n"
    }
   },
   "source": [
    "Значения нужных типов, нужные пропуски заполнены, можно двигаться дальше"
   ]
  },
  {
   "cell_type": "markdown",
   "id": "863e7be9",
   "metadata": {
    "pycharm": {
     "name": "#%% md\n"
    }
   },
   "source": [
    "## Шаг 3. Дополним таблицу новыми значениями"
   ]
  },
  {
   "cell_type": "markdown",
   "id": "882e86cd",
   "metadata": {
    "pycharm": {
     "name": "#%% md\n"
    }
   },
   "source": [
    "Добавим в таблицу цену квадратного метра и сразу приведем значение к целому типу"
   ]
  },
  {
   "cell_type": "code",
   "execution_count": 36,
   "id": "f666147d",
   "metadata": {
    "pycharm": {
     "name": "#%%\n"
    }
   },
   "outputs": [],
   "source": [
    "real_estate_data['square_meter_price'] = (real_estate_data['last_price'] / real_estate_data['total_area']).astype('int64')"
   ]
  },
  {
   "cell_type": "markdown",
   "id": "f7f4b8a7",
   "metadata": {
    "pycharm": {
     "name": "#%% md\n"
    }
   },
   "source": [
    "Добавим в таблицу день недели, месяц и год публикации объявления"
   ]
  },
  {
   "cell_type": "code",
   "execution_count": 37,
   "id": "14e4475c",
   "metadata": {
    "pycharm": {
     "name": "#%%\n"
    }
   },
   "outputs": [],
   "source": [
    "real_estate_data['publication_day'] = pd.to_datetime(real_estate_data['first_day_exposition']).dt.weekday\n",
    "real_estate_data['publication_month'] = pd.to_datetime(real_estate_data['first_day_exposition']).dt.month\n",
    "real_estate_data['publication_year'] = pd.to_datetime(real_estate_data['first_day_exposition']).dt.year"
   ]
  },
  {
   "cell_type": "markdown",
   "id": "6692bcea",
   "metadata": {
    "pycharm": {
     "name": "#%% md\n"
    }
   },
   "source": [
    "Разделим квартиры по этажу на категории. Для этого определим функцию:"
   ]
  },
  {
   "cell_type": "code",
   "execution_count": 38,
   "id": "6f92dcbe",
   "metadata": {
    "pycharm": {
     "name": "#%%\n"
    }
   },
   "outputs": [],
   "source": [
    "def floor_categorizer(raw):\n",
    "    if raw['floor'] == 1:\n",
    "        return 'первый'\n",
    "    elif raw['floor'] == raw['floors_total']:\n",
    "        return 'последний'\n",
    "    return 'другой'"
   ]
  },
  {
   "cell_type": "markdown",
   "id": "61f2345c",
   "metadata": {
    "pycharm": {
     "name": "#%% md\n"
    }
   },
   "source": [
    "и применим ее к датасету, создав новый столбец"
   ]
  },
  {
   "cell_type": "code",
   "execution_count": 39,
   "id": "0c174dff",
   "metadata": {
    "pycharm": {
     "name": "#%%\n"
    }
   },
   "outputs": [],
   "source": [
    "real_estate_data['floor_category'] = real_estate_data.apply(floor_categorizer, axis=1)"
   ]
  },
  {
   "cell_type": "markdown",
   "id": "4e76e42e",
   "metadata": {
    "pycharm": {
     "name": "#%% md\n"
    }
   },
   "source": [
    "Добавим в таблицу соотношение жилой и общей площади"
   ]
  },
  {
   "cell_type": "code",
   "execution_count": 40,
   "id": "a89ed641",
   "metadata": {
    "pycharm": {
     "name": "#%%\n"
    }
   },
   "outputs": [],
   "source": [
    "real_estate_data['living/total'] = real_estate_data['living_area'] / real_estate_data['total_area']"
   ]
  },
  {
   "cell_type": "markdown",
   "id": "b09c17b4",
   "metadata": {
    "pycharm": {
     "name": "#%% md\n"
    }
   },
   "source": [
    "И отношение площади кухни к общей площади"
   ]
  },
  {
   "cell_type": "code",
   "execution_count": 41,
   "id": "bdd9c1da",
   "metadata": {
    "pycharm": {
     "name": "#%%\n"
    }
   },
   "outputs": [],
   "source": [
    "real_estate_data['kitchen/total'] = real_estate_data['kitchen_area'] / real_estate_data['total_area']"
   ]
  },
  {
   "cell_type": "markdown",
   "id": "8748c3c0",
   "metadata": {
    "pycharm": {
     "name": "#%% md\n"
    }
   },
   "source": [
    "## Шаг 4. Проведем исследовательский анализ данных и выполним инструкции"
   ]
  },
  {
   "cell_type": "markdown",
   "id": "0bd8c828",
   "metadata": {
    "pycharm": {
     "name": "#%% md\n"
    }
   },
   "source": [
    "### Шаг 4.1. Изучим параметры"
   ]
  },
  {
   "cell_type": "markdown",
   "id": "12c2a4bd",
   "metadata": {
    "pycharm": {
     "name": "#%% md\n"
    }
   },
   "source": [
    "**Задание**\n",
    "Изучите следующие параметры: площадь, цена, число комнат, высота потолков. Постройте гистограммы для каждого параметра."
   ]
  },
  {
   "cell_type": "markdown",
   "id": "e751e893",
   "metadata": {
    "pycharm": {
     "name": "#%% md\n"
    }
   },
   "source": [
    "Построим гистограмму по столбцу `total_area`"
   ]
  },
  {
   "cell_type": "code",
   "execution_count": 42,
   "id": "af9f43b8",
   "metadata": {
    "pycharm": {
     "name": "#%%\n"
    }
   },
   "outputs": [
    {
     "data": {
      "image/png": "[encoded data removed]",
      "text/plain": [
       "<Figure size 432x288 with 1 Axes>"
      ]
     },
     "metadata": {
      "needs_background": "light"
     },
     "output_type": "display_data"
    }
   ],
   "source": [
    "real_estate_data.hist('total_area', bins=100);"
   ]
  },
  {
   "cell_type": "markdown",
   "id": "b0158c65",
   "metadata": {
    "pycharm": {
     "name": "#%% md\n"
    }
   },
   "source": [
    "На гистограмме видим большой хвост справа. Построим диграмму размаха, чтобы убедиться, что это выбросы"
   ]
  },
  {
   "cell_type": "code",
   "execution_count": 43,
   "id": "3a751435",
   "metadata": {
    "pycharm": {
     "name": "#%%\n"
    }
   },
   "outputs": [
    {
     "data": {
      "image/png": "[encoded data removed]",
      "text/plain": [
       "<Figure size 432x288 with 1 Axes>"
      ]
     },
     "metadata": {
      "needs_background": "light"
     },
     "output_type": "display_data"
    }
   ],
   "source": [
    "plt.ylim(0, 200)\n",
    "real_estate_data.boxplot(column='total_area');"
   ]
  },
  {
   "cell_type": "markdown",
   "id": "84515927",
   "metadata": {
    "pycharm": {
     "name": "#%% md\n"
    }
   },
   "source": [
    "Видим выбросы от 0 до 15 и больше 110 кв. м."
   ]
  },
  {
   "cell_type": "markdown",
   "id": "ffaec24e",
   "metadata": {
    "pycharm": {
     "name": "#%% md\n"
    }
   },
   "source": [
    "Построим гистограмму по столбцу `last_price`"
   ]
  },
  {
   "cell_type": "code",
   "execution_count": 44,
   "id": "c80f70cd",
   "metadata": {
    "pycharm": {
     "name": "#%%\n"
    }
   },
   "outputs": [
    {
     "data": {
      "image/png": "[encoded data removed]",
      "text/plain": [
       "<Figure size 432x288 with 1 Axes>"
      ]
     },
     "metadata": {
      "needs_background": "light"
     },
     "output_type": "display_data"
    }
   ],
   "source": [
    "real_estate_data.hist('last_price', bins=200);"
   ]
  },
  {
   "cell_type": "markdown",
   "id": "7cb74924",
   "metadata": {
    "pycharm": {
     "name": "#%% md\n"
    }
   },
   "source": [
    "Видим такую же проблему, как и в первом случае. Построим диаграмму размаха"
   ]
  },
  {
   "cell_type": "code",
   "execution_count": 45,
   "id": "7586553c",
   "metadata": {
    "pycharm": {
     "name": "#%%\n"
    }
   },
   "outputs": [
    {
     "data": {
      "image/png": "[encoded data removed]",
      "text/plain": [
       "<Figure size 432x288 with 1 Axes>"
      ]
     },
     "metadata": {
      "needs_background": "light"
     },
     "output_type": "display_data"
    }
   ],
   "source": [
    "plt.ylim(-50000, 12500000)\n",
    "real_estate_data.boxplot(column='last_price');"
   ]
  },
  {
   "cell_type": "markdown",
   "id": "7ea8f5bf",
   "metadata": {
    "pycharm": {
     "name": "#%% md\n"
    }
   },
   "source": [
    "Построим гистограмму по столбцу `rooms`"
   ]
  },
  {
   "cell_type": "code",
   "execution_count": 46,
   "id": "1b223a40",
   "metadata": {
    "pycharm": {
     "name": "#%%\n"
    }
   },
   "outputs": [
    {
     "data": {
      "image/png": "[encoded data removed]",
      "text/plain": [
       "<Figure size 432x288 with 1 Axes>"
      ]
     },
     "metadata": {
      "needs_background": "light"
     },
     "output_type": "display_data"
    }
   ],
   "source": [
    "real_estate_data['rooms'].value_counts().plot(kind='bar');"
   ]
  },
  {
   "cell_type": "markdown",
   "id": "297b5cb2",
   "metadata": {
    "pycharm": {
     "name": "#%% md\n"
    }
   },
   "source": [
    "Определим выбросы"
   ]
  },
  {
   "cell_type": "code",
   "execution_count": 47,
   "id": "26dddd45",
   "metadata": {
    "pycharm": {
     "name": "#%%\n"
    }
   },
   "outputs": [
    {
     "data": {
      "image/png": "[encoded data removed]",
      "text/plain": [
       "<Figure size 432x288 with 1 Axes>"
      ]
     },
     "metadata": {
      "needs_background": "light"
     },
     "output_type": "display_data"
    }
   ],
   "source": [
    "plt.ylim(0, 9)\n",
    "real_estate_data.boxplot(column='rooms');"
   ]
  },
  {
   "cell_type": "markdown",
   "id": "71b9a439",
   "metadata": {
    "pycharm": {
     "name": "#%% md\n"
    }
   },
   "source": [
    "Построим гистограмму по столбцу `ceiling_height`"
   ]
  },
  {
   "cell_type": "code",
   "execution_count": 48,
   "id": "6d6f689e",
   "metadata": {
    "pycharm": {
     "name": "#%%\n"
    }
   },
   "outputs": [
    {
     "data": {
      "image/png": "[encoded data removed]",
      "text/plain": [
       "<Figure size 432x288 with 1 Axes>"
      ]
     },
     "metadata": {
      "needs_background": "light"
     },
     "output_type": "display_data"
    }
   ],
   "source": [
    "real_estate_data.hist('ceiling_height', bins=5);"
   ]
  },
  {
   "cell_type": "code",
   "execution_count": 49,
   "id": "7d625ed4",
   "metadata": {
    "pycharm": {
     "name": "#%%\n"
    }
   },
   "outputs": [
    {
     "data": {
      "image/png": "[encoded data removed]",
      "text/plain": [
       "<Figure size 432x288 with 1 Axes>"
      ]
     },
     "metadata": {
      "needs_background": "light"
     },
     "output_type": "display_data"
    }
   ],
   "source": [
    "plt.ylim(2, 3.5)\n",
    "real_estate_data.boxplot(column='ceiling_height');"
   ]
  },
  {
   "cell_type": "markdown",
   "id": "1c403b2b",
   "metadata": {
    "pycharm": {
     "name": "#%% md\n"
    }
   },
   "source": [
    "Напишем функцию, которая на вход будет принимать столбец датафрейма и возвращать кортеж с верхней и нижней границами диаграммы размаха"
   ]
  },
  {
   "cell_type": "code",
   "execution_count": 50,
   "id": "9287b4a5",
   "metadata": {
    "pycharm": {
     "name": "#%%\n"
    }
   },
   "outputs": [],
   "source": [
    "def filter_outliers(column):\n",
    "    q1 = column.quantile(q=0.25)\n",
    "    q3 = column.quantile(q=0.75)\n",
    "    iqr = q3 - q1\n",
    "    bottom_line = q1 - 1.5 * iqr\n",
    "    if bottom_line < 0:\n",
    "        bottom_line = 0\n",
    "    top_line = q3 + 1.5 * iqr\n",
    "    return (bottom_line, top_line)"
   ]
  },
  {
   "cell_type": "markdown",
   "id": "f875e9cb",
   "metadata": {
    "pycharm": {
     "name": "#%% md\n"
    }
   },
   "source": [
    "Найдем граничные значения в столбцах `total_area`, `last_price`, `rooms`, `ceiling_height`"
   ]
  },
  {
   "cell_type": "code",
   "execution_count": 51,
   "id": "be6af4ec",
   "metadata": {
    "pycharm": {
     "name": "#%%\n"
    }
   },
   "outputs": [],
   "source": [
    "rooms = filter_outliers(real_estate_data['rooms'])\n",
    "total_area = filter_outliers(real_estate_data['total_area'])\n",
    "last_price = filter_outliers(real_estate_data['last_price'])\n",
    "ceiling_height = filter_outliers(real_estate_data['ceiling_height'])"
   ]
  },
  {
   "cell_type": "markdown",
   "id": "3ec8c14a",
   "metadata": {
    "pycharm": {
     "name": "#%% md\n"
    }
   },
   "source": [
    "Отфильтруем данные датасета по граничным значениям"
   ]
  },
  {
   "cell_type": "code",
   "execution_count": 52,
   "id": "e1a0427e",
   "metadata": {
    "pycharm": {
     "name": "#%%\n"
    }
   },
   "outputs": [
    {
     "name": "stdout",
     "output_type": "stream",
     "text": [
      "<class 'pandas.core.frame.DataFrame'>\n",
      "RangeIndex: 20911 entries, 0 to 20910\n",
      "Data columns (total 29 columns):\n",
      " #   Column                Non-Null Count  Dtype  \n",
      "---  ------                --------------  -----  \n",
      " 0   total_images          20911 non-null  int64  \n",
      " 1   last_price            20911 non-null  int64  \n",
      " 2   total_area            20911 non-null  float64\n",
      " 3   first_day_exposition  20911 non-null  object \n",
      " 4   rooms                 20911 non-null  int64  \n",
      " 5   ceiling_height        12536 non-null  float64\n",
      " 6   floors_total          20911 non-null  int64  \n",
      " 7   living_area           19296 non-null  float64\n",
      " 8   floor                 20911 non-null  int64  \n",
      " 9   is_apartment          20911 non-null  int64  \n",
      " 10  studio                20911 non-null  int64  \n",
      " 11  open_plan             20911 non-null  int64  \n",
      " 12  kitchen_area          18989 non-null  float64\n",
      " 13  balcony               20911 non-null  int64  \n",
      " 14  locality_name         20911 non-null  object \n",
      " 15  airports_nearest      15512 non-null  float64\n",
      " 16  cityCenters_nearest   15523 non-null  float64\n",
      " 17  parks_around3000      15524 non-null  float64\n",
      " 18  parks_nearest         6326 non-null   float64\n",
      " 19  ponds_around3000      15524 non-null  float64\n",
      " 20  ponds_nearest         7369 non-null   float64\n",
      " 21  days_exposition       18386 non-null  float64\n",
      " 22  square_meter_price    20911 non-null  int64  \n",
      " 23  publication_day       20911 non-null  int64  \n",
      " 24  publication_month     20911 non-null  int64  \n",
      " 25  publication_year      20911 non-null  int64  \n",
      " 26  floor_category        20911 non-null  object \n",
      " 27  living/total          19296 non-null  float64\n",
      " 28  kitchen/total         18989 non-null  float64\n",
      "dtypes: float64(13), int64(13), object(3)\n",
      "memory usage: 4.6+ MB\n"
     ]
    }
   ],
   "source": [
    "data_filtered = real_estate_data.query('(total_area >= @total_area[0] and total_area <= @total_area[1])'\n",
    "                                       'and (last_price >= @last_price[0] and last_price <= @last_price[1])'\n",
    "                                       'and (rooms>= @rooms[0] and rooms <= @rooms[1])'\n",
    "                                       'and ((ceiling_height >= @ceiling_height[0] and ceiling_height <= @ceiling_height[1]) or ceiling_height.isna())')\n",
    "data_filtered = data_filtered.reset_index(drop=True)\n",
    "data_filtered.info()"
   ]
  },
  {
   "cell_type": "markdown",
   "id": "cc2cdae0",
   "metadata": {
    "pycharm": {
     "name": "#%% md\n"
    }
   },
   "source": [
    "И построим финальные гистограммы"
   ]
  },
  {
   "cell_type": "code",
   "execution_count": 53,
   "id": "dcaebb63",
   "metadata": {
    "pycharm": {
     "name": "#%%\n"
    }
   },
   "outputs": [
    {
     "data": {
      "image/png": "[encoded data removed]",
      "text/plain": [
       "<Figure size 432x288 with 1 Axes>"
      ]
     },
     "metadata": {
      "needs_background": "light"
     },
     "output_type": "display_data"
    }
   ],
   "source": [
    "data_filtered.hist('total_area');"
   ]
  },
  {
   "cell_type": "code",
   "execution_count": 54,
   "id": "22e22fd6",
   "metadata": {
    "pycharm": {
     "name": "#%%\n"
    }
   },
   "outputs": [
    {
     "data": {
      "image/png": "[encoded data removed]",
      "text/plain": [
       "<Figure size 432x288 with 1 Axes>"
      ]
     },
     "metadata": {
      "needs_background": "light"
     },
     "output_type": "display_data"
    }
   ],
   "source": [
    "data_filtered.hist('last_price');"
   ]
  },
  {
   "cell_type": "code",
   "execution_count": 55,
   "id": "76812732",
   "metadata": {
    "pycharm": {
     "name": "#%%\n"
    }
   },
   "outputs": [
    {
     "data": {
      "image/png": "[encoded data removed]",
      "text/plain": [
       "<Figure size 432x288 with 1 Axes>"
      ]
     },
     "metadata": {
      "needs_background": "light"
     },
     "output_type": "display_data"
    }
   ],
   "source": [
    "data_filtered.hist('rooms');"
   ]
  },
  {
   "cell_type": "code",
   "execution_count": 56,
   "id": "902e0b95",
   "metadata": {
    "pycharm": {
     "name": "#%%\n"
    }
   },
   "outputs": [
    {
     "data": {
      "image/png": "[encoded data removed]",
      "text/plain": [
       "<Figure size 432x288 with 1 Axes>"
      ]
     },
     "metadata": {
      "needs_background": "light"
     },
     "output_type": "display_data"
    }
   ],
   "source": [
    "data_filtered.hist('ceiling_height');"
   ]
  },
  {
   "cell_type": "markdown",
   "id": "088a01d5",
   "metadata": {
    "pycharm": {
     "name": "#%% md\n"
    }
   },
   "source": [
    "Мы получили выборку, по которой видно наиболее часто встречающиеся значения общей площади, цены, количества комнат и высоты потолков."
   ]
  },
  {
   "cell_type": "markdown",
   "id": "b1c21235",
   "metadata": {
    "pycharm": {
     "name": "#%% md\n"
    }
   },
   "source": [
    "### Шаг 4.2. Изучим время продажи квартиры"
   ]
  },
  {
   "cell_type": "markdown",
   "id": "facc42e2",
   "metadata": {
    "pycharm": {
     "name": "#%% md\n"
    }
   },
   "source": [
    "**Задание**\n",
    "Изучите время продажи квартиры. Постройте гистограмму. Посчитайте среднее и медиану. Опишите, сколько обычно занимает продажа. Когда можно считать, что продажи прошли очень быстро, а когда необычно долго?"
   ]
  },
  {
   "cell_type": "markdown",
   "id": "110721f5",
   "metadata": {
    "pycharm": {
     "name": "#%% md\n"
    }
   },
   "source": [
    "Построим гистограмму"
   ]
  },
  {
   "cell_type": "code",
   "execution_count": 57,
   "id": "ccd0ce9e",
   "metadata": {
    "pycharm": {
     "name": "#%%\n"
    }
   },
   "outputs": [
    {
     "data": {
      "image/png": "[encoded data removed]",
      "text/plain": [
       "<Figure size 432x288 with 1 Axes>"
      ]
     },
     "metadata": {
      "needs_background": "light"
     },
     "output_type": "display_data"
    }
   ],
   "source": [
    "data_filtered.hist('days_exposition', bins=100);"
   ]
  },
  {
   "cell_type": "markdown",
   "id": "42af181d",
   "metadata": {
    "pycharm": {
     "name": "#%% md\n"
    }
   },
   "source": [
    "Чаще всего время продажи квартиры составляет меньше 100 дней"
   ]
  },
  {
   "cell_type": "markdown",
   "id": "9232fc1d",
   "metadata": {
    "pycharm": {
     "name": "#%% md\n"
    }
   },
   "source": [
    "Найдем среднее и медиану времени продажи квартиры"
   ]
  },
  {
   "cell_type": "code",
   "execution_count": 58,
   "id": "165a3a31",
   "metadata": {
    "pycharm": {
     "name": "#%%\n"
    }
   },
   "outputs": [
    {
     "data": {
      "text/plain": [
       "mean      171.607527\n",
       "median     91.000000\n",
       "Name: days_exposition, dtype: float64"
      ]
     },
     "execution_count": 58,
     "metadata": {},
     "output_type": "execute_result"
    }
   ],
   "source": [
    "data_filtered['days_exposition'].agg(['mean', 'median'])"
   ]
  },
  {
   "cell_type": "markdown",
   "id": "f174ca45",
   "metadata": {
    "pycharm": {
     "name": "#%% md\n"
    }
   },
   "source": [
    "В среднем продажа занимает 168 дней, но 50% квартир продаются менее 90 дней"
   ]
  },
  {
   "cell_type": "markdown",
   "id": "e39e91a8",
   "metadata": {
    "pycharm": {
     "name": "#%% md\n"
    }
   },
   "source": [
    "Когда можно считать, что продажи прошли очень быстро, а когда необычно долго?\n",
    "Чтобы ответить на этот вопрос еще раз взглянем на гистограмму, но уменьшим ее диапазон значений:"
   ]
  },
  {
   "cell_type": "code",
   "execution_count": 59,
   "id": "ca091a14",
   "metadata": {
    "pycharm": {
     "name": "#%%\n"
    }
   },
   "outputs": [
    {
     "data": {
      "text/plain": [
       "array([[<AxesSubplot:title={'center':'days_exposition'}>]], dtype=object)"
      ]
     },
     "execution_count": 59,
     "metadata": {},
     "output_type": "execute_result"
    },
    {
     "data": {
      "image/png": "[encoded data removed]",
      "text/plain": [
       "<Figure size 432x288 with 1 Axes>"
      ]
     },
     "metadata": {
      "needs_background": "light"
     },
     "output_type": "display_data"
    }
   ],
   "source": [
    "data_filtered.hist('days_exposition', bins=100, range=(0,200))"
   ]
  },
  {
   "cell_type": "markdown",
   "id": "46eca3bf",
   "metadata": {
    "pycharm": {
     "name": "#%% md\n"
    }
   },
   "source": [
    "Самый большой пик количества дней продажи находится в районе 40, следовательно, будем считать, что продажа прошла очень быстро, если время продажи меньше 40 дней, так же видим пик в районе 60 дней - это скорее всего автоматическое снятие объявления по истечению срока публикации"
   ]
  },
  {
   "cell_type": "markdown",
   "id": "fc4a4782",
   "metadata": {
    "pycharm": {
     "name": "#%% md\n"
    }
   },
   "source": [
    "Из первой гистограммы видно, что длительность продажи в 800 дней уже редка, а больше 1000 дней почти нулевая. Будем считать, что продажа была необычно долгой при 1000 и более днях продажи."
   ]
  },
  {
   "cell_type": "markdown",
   "id": "7906371b",
   "metadata": {
    "pycharm": {
     "name": "#%% md\n"
    }
   },
   "source": [
    "### Шаг 4.3. Уберем редкие и выбивающиеся значения"
   ]
  },
  {
   "cell_type": "markdown",
   "id": "282b8435",
   "metadata": {
    "pycharm": {
     "name": "#%% md\n"
    }
   },
   "source": [
    "**Задание**\n",
    "Уберите редкие и выбивающиеся значения. Опишите, какие особенности обнаружили."
   ]
  },
  {
   "cell_type": "markdown",
   "id": "d06f9ff7",
   "metadata": {
    "pycharm": {
     "name": "#%% md\n"
    }
   },
   "source": [
    "Отфильтруем данные с временем продажи больше 1000 дней"
   ]
  },
  {
   "cell_type": "code",
   "execution_count": 60,
   "id": "323b7d61",
   "metadata": {
    "pycharm": {
     "name": "#%%\n"
    }
   },
   "outputs": [],
   "source": [
    "data_filtered = data_filtered.query('days_exposition <= 1000')"
   ]
  },
  {
   "cell_type": "code",
   "execution_count": 61,
   "id": "15314f3f",
   "metadata": {
    "pycharm": {
     "name": "#%%\n"
    }
   },
   "outputs": [
    {
     "data": {
      "image/png": "[encoded data removed]",
      "text/plain": [
       "<Figure size 432x288 with 1 Axes>"
      ]
     },
     "metadata": {
      "needs_background": "light"
     },
     "output_type": "display_data"
    }
   ],
   "source": [
    "data_filtered.hist('days_exposition');"
   ]
  },
  {
   "cell_type": "markdown",
   "id": "4ab3e267",
   "metadata": {
    "pycharm": {
     "name": "#%% md\n"
    }
   },
   "source": [
    "Посмотрим на распределение средних цен и количества объявлений по годам"
   ]
  },
  {
   "cell_type": "code",
   "execution_count": 62,
   "id": "a63432d7",
   "metadata": {
    "pycharm": {
     "name": "#%%\n"
    }
   },
   "outputs": [
    {
     "data": {
      "text/html": [
       "<div>\n",
       "<style scoped>\n",
       "    .dataframe tbody tr th:only-of-type {\n",
       "        vertical-align: middle;\n",
       "    }\n",
       "\n",
       "    .dataframe tbody tr th {\n",
       "        vertical-align: top;\n",
       "    }\n",
       "\n",
       "    .dataframe thead tr th {\n",
       "        text-align: left;\n",
       "    }\n",
       "\n",
       "    .dataframe thead tr:last-of-type th {\n",
       "        text-align: right;\n",
       "    }\n",
       "</style>\n",
       "<table border=\"1\" class=\"dataframe\">\n",
       "  <thead>\n",
       "    <tr>\n",
       "      <th></th>\n",
       "      <th>days_exposition</th>\n",
       "      <th colspan=\"2\" halign=\"left\">last_price</th>\n",
       "    </tr>\n",
       "    <tr>\n",
       "      <th></th>\n",
       "      <th>mean</th>\n",
       "      <th>count</th>\n",
       "      <th>mean</th>\n",
       "    </tr>\n",
       "    <tr>\n",
       "      <th>publication_year</th>\n",
       "      <th></th>\n",
       "      <th></th>\n",
       "      <th></th>\n",
       "    </tr>\n",
       "  </thead>\n",
       "  <tbody>\n",
       "    <tr>\n",
       "      <th>2014</th>\n",
       "      <td>721.560000</td>\n",
       "      <td>50</td>\n",
       "      <td>5.727873e+06</td>\n",
       "    </tr>\n",
       "    <tr>\n",
       "      <th>2015</th>\n",
       "      <td>528.890026</td>\n",
       "      <td>782</td>\n",
       "      <td>4.944084e+06</td>\n",
       "    </tr>\n",
       "    <tr>\n",
       "      <th>2016</th>\n",
       "      <td>305.911064</td>\n",
       "      <td>2350</td>\n",
       "      <td>4.688167e+06</td>\n",
       "    </tr>\n",
       "    <tr>\n",
       "      <th>2017</th>\n",
       "      <td>154.059090</td>\n",
       "      <td>7057</td>\n",
       "      <td>4.682760e+06</td>\n",
       "    </tr>\n",
       "    <tr>\n",
       "      <th>2018</th>\n",
       "      <td>91.317822</td>\n",
       "      <td>6941</td>\n",
       "      <td>4.637119e+06</td>\n",
       "    </tr>\n",
       "    <tr>\n",
       "      <th>2019</th>\n",
       "      <td>30.731805</td>\n",
       "      <td>1003</td>\n",
       "      <td>4.936726e+06</td>\n",
       "    </tr>\n",
       "  </tbody>\n",
       "</table>\n",
       "</div>"
      ],
      "text/plain": [
       "                 days_exposition last_price              \n",
       "                            mean      count          mean\n",
       "publication_year                                         \n",
       "2014                  721.560000         50  5.727873e+06\n",
       "2015                  528.890026        782  4.944084e+06\n",
       "2016                  305.911064       2350  4.688167e+06\n",
       "2017                  154.059090       7057  4.682760e+06\n",
       "2018                   91.317822       6941  4.637119e+06\n",
       "2019                   30.731805       1003  4.936726e+06"
      ]
     },
     "execution_count": 62,
     "metadata": {},
     "output_type": "execute_result"
    }
   ],
   "source": [
    "data_filtered.pivot_table(index='publication_year', values=['days_exposition', 'last_price'], aggfunc={'days_exposition':'mean', 'last_price':['mean', 'count']})"
   ]
  },
  {
   "cell_type": "markdown",
   "id": "d0be6251",
   "metadata": {
    "pycharm": {
     "name": "#%% md\n"
    }
   },
   "source": [
    "Видим, что с увеличением года снижается среднее время продажи и цена, а объявлений становится все больше"
   ]
  },
  {
   "cell_type": "markdown",
   "id": "4d1e1f3e",
   "metadata": {
    "pycharm": {
     "name": "#%% md\n"
    }
   },
   "source": [
    "### Шаг 4.4. Найдем факторы, больше всего влияющие на стоимость квартиры"
   ]
  },
  {
   "cell_type": "markdown",
   "id": "ba311198",
   "metadata": {
    "pycharm": {
     "name": "#%% md\n"
    }
   },
   "source": [
    "**Задание**\n",
    "Какие факторы больше всего влияют на стоимость квартиры? Изучите, зависит ли цена от площади, числа комнат, удалённости от центра. Изучите зависимость цены от того, на каком этаже расположена квартира: первом, последнем или другом. Также изучите зависимость от даты размещения: дня недели, месяца и года."
   ]
  },
  {
   "cell_type": "markdown",
   "id": "9d4cd0bd",
   "metadata": {
    "pycharm": {
     "name": "#%% md\n"
    }
   },
   "source": [
    "Проверим зависимость цены от площади. Для этого построим диаграмму рассеяния и посчитаем коэффициент корреляции"
   ]
  },
  {
   "cell_type": "code",
   "execution_count": 63,
   "id": "991ca8c6",
   "metadata": {
    "pycharm": {
     "name": "#%%\n"
    }
   },
   "outputs": [
    {
     "data": {
      "image/png": "[encoded data removed]",
      "text/plain": [
       "<Figure size 432x288 with 1 Axes>"
      ]
     },
     "metadata": {
      "needs_background": "light"
     },
     "output_type": "display_data"
    }
   ],
   "source": [
    "data_filtered.sort_values('total_area').plot(x='last_price', y='total_area', kind='scatter', alpha=0.5);"
   ]
  },
  {
   "cell_type": "code",
   "execution_count": 64,
   "id": "e2d7d48e",
   "metadata": {
    "pycharm": {
     "name": "#%%\n"
    }
   },
   "outputs": [
    {
     "data": {
      "text/plain": [
       "0.6961290350833744"
      ]
     },
     "execution_count": 64,
     "metadata": {},
     "output_type": "execute_result"
    }
   ],
   "source": [
    "data_filtered['total_area'].corr(data_filtered['last_price'])"
   ]
  },
  {
   "cell_type": "markdown",
   "id": "ed41368e",
   "metadata": {
    "pycharm": {
     "name": "#%% md\n"
    }
   },
   "source": [
    "Видим, что в среднем, с увеличением площади увеличивается и цена"
   ]
  },
  {
   "cell_type": "markdown",
   "id": "1952e6fd",
   "metadata": {
    "pycharm": {
     "name": "#%% md\n"
    }
   },
   "source": [
    "Посмотрим зависимость цены от количества комнат. Для этого сгруппируем данные по количеству комнат и найдем среднюю цену. Построим график"
   ]
  },
  {
   "cell_type": "code",
   "execution_count": 65,
   "id": "7616a9a6",
   "metadata": {
    "pycharm": {
     "name": "#%%\n"
    }
   },
   "outputs": [
    {
     "data": {
      "text/plain": [
       "<AxesSubplot:xlabel='rooms'>"
      ]
     },
     "execution_count": 65,
     "metadata": {},
     "output_type": "execute_result"
    },
    {
     "data": {
      "image/png": "[encoded data removed]",
      "text/plain": [
       "<Figure size 432x288 with 1 Axes>"
      ]
     },
     "metadata": {
      "needs_background": "light"
     },
     "output_type": "display_data"
    }
   ],
   "source": [
    "data_filtered.pivot_table(index='rooms', values='last_price').plot(grid=True)"
   ]
  },
  {
   "cell_type": "markdown",
   "id": "7e5d718d",
   "metadata": {
    "pycharm": {
     "name": "#%% md\n"
    }
   },
   "source": [
    "В районе 5 комнат есть провал, это связано с малым количеством квартир с 5 и 6 комнатами, в результате чего искажается среднее значение"
   ]
  },
  {
   "cell_type": "code",
   "execution_count": 66,
   "id": "a8202738",
   "metadata": {
    "pycharm": {
     "name": "#%%\n"
    }
   },
   "outputs": [
    {
     "data": {
      "text/plain": [
       "1    7205\n",
       "2    6447\n",
       "3    3965\n",
       "4     527\n",
       "5      37\n",
       "6       2\n",
       "Name: rooms, dtype: int64"
      ]
     },
     "execution_count": 66,
     "metadata": {},
     "output_type": "execute_result"
    }
   ],
   "source": [
    "data_filtered['rooms'].value_counts()"
   ]
  },
  {
   "cell_type": "markdown",
   "id": "42f85f1b",
   "metadata": {
    "pycharm": {
     "name": "#%% md\n"
    }
   },
   "source": [
    "Из графика видно, что цена зависит от количества комнат, что логично, так как с увеличением количества комнат увеличивается и площадь, а следовательно и цена"
   ]
  },
  {
   "cell_type": "markdown",
   "id": "ec181218",
   "metadata": {
    "pycharm": {
     "name": "#%% md\n"
    }
   },
   "source": [
    "Посмотрим зависимость цены от расстояния до центра"
   ]
  },
  {
   "cell_type": "markdown",
   "id": "91a887ee",
   "metadata": {},
   "source": [
    "Построим диаграмму рассеяния"
   ]
  },
  {
   "cell_type": "code",
   "execution_count": 67,
   "id": "3e3b67ff",
   "metadata": {
    "pycharm": {
     "name": "#%%\n"
    }
   },
   "outputs": [
    {
     "data": {
      "image/png": "[encoded data removed]",
      "text/plain": [
       "<Figure size 432x288 with 1 Axes>"
      ]
     },
     "metadata": {
      "needs_background": "light"
     },
     "output_type": "display_data"
    }
   ],
   "source": [
    "data_filtered.sort_values('last_price').plot(x='cityCenters_nearest', y='last_price', kind='scatter', alpha=0.2);"
   ]
  },
  {
   "cell_type": "code",
   "execution_count": 68,
   "id": "ef901bbf-d63f-412d-ad44-b798497218ee",
   "metadata": {},
   "outputs": [
    {
     "data": {
      "text/plain": [
       "-0.3324568916649945"
      ]
     },
     "execution_count": 68,
     "metadata": {},
     "output_type": "execute_result"
    }
   ],
   "source": [
    "data_filtered['last_price'].corr(data_filtered['cityCenters_nearest'])"
   ]
  },
  {
   "cell_type": "markdown",
   "id": "8cf0cf67",
   "metadata": {
    "pycharm": {
     "name": "#%% md\n"
    }
   },
   "source": [
    "Чем меньше расстояние до центра, тем больше разброс значений цены. Есть тенденция к уменьшению цены при отдалении от центра"
   ]
  },
  {
   "cell_type": "markdown",
   "id": "c1403559",
   "metadata": {
    "pycharm": {
     "name": "#%% md\n"
    }
   },
   "source": [
    "Исследуем зависимость цены от этажа, на котором находится квартира"
   ]
  },
  {
   "cell_type": "code",
   "execution_count": 69,
   "id": "2e0d9043",
   "metadata": {
    "pycharm": {
     "name": "#%%\n"
    }
   },
   "outputs": [
    {
     "data": {
      "image/png": "[encoded data removed]",
      "text/plain": [
       "<Figure size 432x288 with 1 Axes>"
      ]
     },
     "metadata": {
      "needs_background": "light"
     },
     "output_type": "display_data"
    }
   ],
   "source": [
    "data_filtered.pivot_table(index='floor_category', values='last_price').plot();"
   ]
  },
  {
   "cell_type": "markdown",
   "id": "4e86c2fe",
   "metadata": {
    "pycharm": {
     "name": "#%% md\n"
    }
   },
   "source": [
    "Квартиры на первом этаже дешевле"
   ]
  },
  {
   "cell_type": "markdown",
   "id": "60eb4697",
   "metadata": {
    "pycharm": {
     "name": "#%% md\n"
    }
   },
   "source": [
    "Построим графики зависимости цены от дня, месяца и года продажи"
   ]
  },
  {
   "cell_type": "code",
   "execution_count": 70,
   "id": "ce278087",
   "metadata": {
    "pycharm": {
     "name": "#%%\n"
    }
   },
   "outputs": [
    {
     "data": {
      "image/png": "[encoded data removed]",
      "text/plain": [
       "<Figure size 432x288 with 1 Axes>"
      ]
     },
     "metadata": {
      "needs_background": "light"
     },
     "output_type": "display_data"
    }
   ],
   "source": [
    "data_filtered.pivot_table(index='publication_day', values='last_price').plot(grid=True);"
   ]
  },
  {
   "cell_type": "markdown",
   "id": "decbbb6e",
   "metadata": {
    "pycharm": {
     "name": "#%% md\n"
    }
   },
   "source": [
    "К выходным цена снижается, а с понедельника по пятницу заметен рост с пиком в пятницу"
   ]
  },
  {
   "cell_type": "code",
   "execution_count": 71,
   "id": "b846630e",
   "metadata": {
    "pycharm": {
     "name": "#%%\n"
    }
   },
   "outputs": [
    {
     "data": {
      "image/png": "[encoded data removed]",
      "text/plain": [
       "<Figure size 432x288 with 1 Axes>"
      ]
     },
     "metadata": {
      "needs_background": "light"
     },
     "output_type": "display_data"
    }
   ],
   "source": [
    "data_filtered.pivot_table(index='publication_month', values='last_price').plot(grid=True);"
   ]
  },
  {
   "cell_type": "markdown",
   "id": "bcdbb82c",
   "metadata": {
    "pycharm": {
     "name": "#%% md\n"
    }
   },
   "source": [
    "Видим большой провал в начале лета, связанный с сезоном отпусков и 2 пика весной и осенью"
   ]
  },
  {
   "cell_type": "code",
   "execution_count": 72,
   "id": "765f6c73",
   "metadata": {
    "pycharm": {
     "name": "#%%\n"
    }
   },
   "outputs": [
    {
     "data": {
      "image/png": "[encoded data removed]",
      "text/plain": [
       "<Figure size 432x288 with 1 Axes>"
      ]
     },
     "metadata": {
      "needs_background": "light"
     },
     "output_type": "display_data"
    },
    {
     "data": {
      "image/png": "[encoded data removed]",
      "text/plain": [
       "<Figure size 432x288 with 1 Axes>"
      ]
     },
     "metadata": {
      "needs_background": "light"
     },
     "output_type": "display_data"
    }
   ],
   "source": [
    "data_filtered.pivot_table(index='publication_year', values='last_price').plot(grid=True)\n",
    "data_filtered.pivot_table(index='publication_year', values='last_price', aggfunc='count').plot(grid=True);"
   ]
  },
  {
   "cell_type": "markdown",
   "id": "629350a0",
   "metadata": {
    "pycharm": {
     "name": "#%% md\n"
    }
   },
   "source": [
    "Большой спад цены с 2014 по 2016 годы связан с увеличением числа объявлений в этот период"
   ]
  },
  {
   "cell_type": "markdown",
   "id": "5bb04d73",
   "metadata": {
    "pycharm": {
     "name": "#%% md\n"
    }
   },
   "source": [
    "Таким образом, лучшее время для для размещения объявления - в середине недели весной или осенью"
   ]
  },
  {
   "cell_type": "markdown",
   "id": "f767e355",
   "metadata": {
    "pycharm": {
     "name": "#%% md\n"
    }
   },
   "source": [
    "### Шаг 4.5. Рейтинг населенных пунктов"
   ]
  },
  {
   "cell_type": "markdown",
   "id": "1a5fe101",
   "metadata": {
    "pycharm": {
     "name": "#%% md\n"
    }
   },
   "source": [
    "**Задание**\n",
    "Выберите 10 населённых пунктов с наибольшим числом объявлений. Посчитайте среднюю цену квадратного метра в этих населённых пунктах. Выделите населённые пункты с самой высокой и низкой стоимостью жилья. Эти данные можно найти по имени в столбце `locality_name`."
   ]
  },
  {
   "cell_type": "code",
   "execution_count": 73,
   "id": "a25da9ff",
   "metadata": {
    "pycharm": {
     "name": "#%%\n"
    }
   },
   "outputs": [
    {
     "data": {
      "text/html": [
       "<div>\n",
       "<style scoped>\n",
       "    .dataframe tbody tr th:only-of-type {\n",
       "        vertical-align: middle;\n",
       "    }\n",
       "\n",
       "    .dataframe tbody tr th {\n",
       "        vertical-align: top;\n",
       "    }\n",
       "\n",
       "    .dataframe thead th {\n",
       "        text-align: right;\n",
       "    }\n",
       "</style>\n",
       "<table border=\"1\" class=\"dataframe\">\n",
       "  <thead>\n",
       "    <tr style=\"text-align: right;\">\n",
       "      <th></th>\n",
       "      <th>count</th>\n",
       "      <th>mean_price</th>\n",
       "    </tr>\n",
       "    <tr>\n",
       "      <th>locality_name</th>\n",
       "      <th></th>\n",
       "      <th></th>\n",
       "    </tr>\n",
       "  </thead>\n",
       "  <tbody>\n",
       "    <tr>\n",
       "      <th>Санкт-Петербург</th>\n",
       "      <td>11557</td>\n",
       "      <td>104269.217184</td>\n",
       "    </tr>\n",
       "    <tr>\n",
       "      <th>посёлок Мурино</th>\n",
       "      <td>502</td>\n",
       "      <td>85703.810757</td>\n",
       "    </tr>\n",
       "    <tr>\n",
       "      <th>посёлок Шушары</th>\n",
       "      <td>399</td>\n",
       "      <td>77794.395990</td>\n",
       "    </tr>\n",
       "    <tr>\n",
       "      <th>Всеволожск</th>\n",
       "      <td>329</td>\n",
       "      <td>66822.796353</td>\n",
       "    </tr>\n",
       "    <tr>\n",
       "      <th>Колпино</th>\n",
       "      <td>301</td>\n",
       "      <td>74582.890365</td>\n",
       "    </tr>\n",
       "    <tr>\n",
       "      <th>посёлок Парголово</th>\n",
       "      <td>297</td>\n",
       "      <td>89601.673401</td>\n",
       "    </tr>\n",
       "    <tr>\n",
       "      <th>деревня Кудрово</th>\n",
       "      <td>281</td>\n",
       "      <td>92186.298932</td>\n",
       "    </tr>\n",
       "    <tr>\n",
       "      <th>Пушкин</th>\n",
       "      <td>275</td>\n",
       "      <td>99615.258182</td>\n",
       "    </tr>\n",
       "    <tr>\n",
       "      <th>Гатчина</th>\n",
       "      <td>263</td>\n",
       "      <td>68085.125475</td>\n",
       "    </tr>\n",
       "    <tr>\n",
       "      <th>Выборг</th>\n",
       "      <td>195</td>\n",
       "      <td>57293.082051</td>\n",
       "    </tr>\n",
       "  </tbody>\n",
       "</table>\n",
       "</div>"
      ],
      "text/plain": [
       "                   count     mean_price\n",
       "locality_name                          \n",
       "Санкт-Петербург    11557  104269.217184\n",
       "посёлок Мурино       502   85703.810757\n",
       "посёлок Шушары       399   77794.395990\n",
       "Всеволожск           329   66822.796353\n",
       "Колпино              301   74582.890365\n",
       "посёлок Парголово    297   89601.673401\n",
       "деревня Кудрово      281   92186.298932\n",
       "Пушкин               275   99615.258182\n",
       "Гатчина              263   68085.125475\n",
       "Выборг               195   57293.082051"
      ]
     },
     "execution_count": 73,
     "metadata": {},
     "output_type": "execute_result"
    }
   ],
   "source": [
    "locality = (data_filtered.pivot_table(index='locality_name', values='square_meter_price', aggfunc=['count', 'mean'])\n",
    "            .sort_values(by=('count', 'square_meter_price'), ascending=False))[:10]\n",
    "locality.columns = ['count', 'mean_price']\n",
    "locality"
   ]
  },
  {
   "cell_type": "markdown",
   "id": "eab73c36",
   "metadata": {
    "pycharm": {
     "name": "#%% md\n"
    }
   },
   "source": [
    "Санкт-Петербург на первом месте и по количеству объявлений и по цене квадратного метра"
   ]
  },
  {
   "cell_type": "code",
   "execution_count": 74,
   "id": "9c7df67c",
   "metadata": {
    "pycharm": {
     "name": "#%%\n"
    }
   },
   "outputs": [
    {
     "data": {
      "text/html": [
       "<div>\n",
       "<style scoped>\n",
       "    .dataframe tbody tr th:only-of-type {\n",
       "        vertical-align: middle;\n",
       "    }\n",
       "\n",
       "    .dataframe tbody tr th {\n",
       "        vertical-align: top;\n",
       "    }\n",
       "\n",
       "    .dataframe thead th {\n",
       "        text-align: right;\n",
       "    }\n",
       "</style>\n",
       "<table border=\"1\" class=\"dataframe\">\n",
       "  <thead>\n",
       "    <tr style=\"text-align: right;\">\n",
       "      <th></th>\n",
       "      <th>count</th>\n",
       "      <th>mean_price</th>\n",
       "    </tr>\n",
       "    <tr>\n",
       "      <th>locality_name</th>\n",
       "      <th></th>\n",
       "      <th></th>\n",
       "    </tr>\n",
       "  </thead>\n",
       "  <tbody>\n",
       "    <tr>\n",
       "      <th>Санкт-Петербург</th>\n",
       "      <td>11557</td>\n",
       "      <td>104269.217184</td>\n",
       "    </tr>\n",
       "  </tbody>\n",
       "</table>\n",
       "</div>"
      ],
      "text/plain": [
       "                 count     mean_price\n",
       "locality_name                        \n",
       "Санкт-Петербург  11557  104269.217184"
      ]
     },
     "execution_count": 74,
     "metadata": {},
     "output_type": "execute_result"
    }
   ],
   "source": [
    "locality.query('mean_price == mean_price.max()')"
   ]
  },
  {
   "cell_type": "code",
   "execution_count": 75,
   "id": "f16341e3",
   "metadata": {
    "pycharm": {
     "name": "#%%\n"
    }
   },
   "outputs": [
    {
     "data": {
      "text/html": [
       "<div>\n",
       "<style scoped>\n",
       "    .dataframe tbody tr th:only-of-type {\n",
       "        vertical-align: middle;\n",
       "    }\n",
       "\n",
       "    .dataframe tbody tr th {\n",
       "        vertical-align: top;\n",
       "    }\n",
       "\n",
       "    .dataframe thead th {\n",
       "        text-align: right;\n",
       "    }\n",
       "</style>\n",
       "<table border=\"1\" class=\"dataframe\">\n",
       "  <thead>\n",
       "    <tr style=\"text-align: right;\">\n",
       "      <th></th>\n",
       "      <th>count</th>\n",
       "      <th>mean_price</th>\n",
       "    </tr>\n",
       "    <tr>\n",
       "      <th>locality_name</th>\n",
       "      <th></th>\n",
       "      <th></th>\n",
       "    </tr>\n",
       "  </thead>\n",
       "  <tbody>\n",
       "    <tr>\n",
       "      <th>Выборг</th>\n",
       "      <td>195</td>\n",
       "      <td>57293.082051</td>\n",
       "    </tr>\n",
       "  </tbody>\n",
       "</table>\n",
       "</div>"
      ],
      "text/plain": [
       "               count    mean_price\n",
       "locality_name                     \n",
       "Выборг           195  57293.082051"
      ]
     },
     "execution_count": 75,
     "metadata": {},
     "output_type": "execute_result"
    }
   ],
   "source": [
    "locality.query('mean_price == mean_price.min()')"
   ]
  },
  {
   "cell_type": "markdown",
   "id": "40f3884e",
   "metadata": {
    "pycharm": {
     "name": "#%% md\n"
    }
   },
   "source": [
    "Самая низкая цена за квадратный метр в Выборге"
   ]
  },
  {
   "cell_type": "markdown",
   "id": "1c80e671",
   "metadata": {
    "pycharm": {
     "name": "#%% md\n"
    }
   },
   "source": [
    "### Шаг 4.6. Анализ зависимости цены от расстояния до центра в Санкт-Петербурге"
   ]
  },
  {
   "cell_type": "markdown",
   "id": "a4e23458",
   "metadata": {
    "pycharm": {
     "name": "#%% md\n"
    }
   },
   "source": [
    "**Задание**\n",
    "Изучите предложения квартир: для каждой квартиры есть информация о расстоянии до центра. Выделите квартиры в Санкт-Петербурге (`locality_name`). Ваша задача — выяснить, какая область входит в центр. Создайте столбец с расстоянием до центра в километрах: округлите до целых значений. После этого посчитайте среднюю цену для каждого километра. Постройте график: он должен показывать, как цена зависит от удалённости от центра. Определите границу, где график сильно меняется, — это и будет центральная зона."
   ]
  },
  {
   "cell_type": "markdown",
   "id": "bb88989d",
   "metadata": {
    "pycharm": {
     "name": "#%% md\n"
    }
   },
   "source": [
    "Отфильтруем всю недвижимость, находящуюся в Санкт-Петербурге"
   ]
  },
  {
   "cell_type": "code",
   "execution_count": 76,
   "id": "9337ca77",
   "metadata": {
    "pycharm": {
     "name": "#%%\n"
    }
   },
   "outputs": [],
   "source": [
    "spb = data_filtered.query('locality_name == \"Санкт-Петербург\"')"
   ]
  },
  {
   "cell_type": "markdown",
   "id": "cb318397",
   "metadata": {},
   "source": [
    "Посмотрим пропуски в столбце `cityCenters_nearest`"
   ]
  },
  {
   "cell_type": "code",
   "execution_count": 77,
   "id": "ad692ca9",
   "metadata": {
    "pycharm": {
     "name": "#%%\n"
    }
   },
   "outputs": [
    {
     "data": {
      "text/plain": [
       "16"
      ]
     },
     "execution_count": 77,
     "metadata": {},
     "output_type": "execute_result"
    }
   ],
   "source": [
    "spb['cityCenters_nearest'].isna().sum()"
   ]
  },
  {
   "cell_type": "markdown",
   "id": "28cbba85",
   "metadata": {},
   "source": [
    "Удалим их"
   ]
  },
  {
   "cell_type": "code",
   "execution_count": 78,
   "id": "27eb2493",
   "metadata": {
    "pycharm": {
     "name": "#%%\n"
    }
   },
   "outputs": [],
   "source": [
    "spb = spb[~spb['cityCenters_nearest'].isna()].reset_index(drop=True)"
   ]
  },
  {
   "cell_type": "markdown",
   "id": "81e210e5",
   "metadata": {
    "pycharm": {
     "name": "#%% md\n"
    }
   },
   "source": [
    "Добавим новый столбец с целым количеством километров до центра"
   ]
  },
  {
   "cell_type": "code",
   "execution_count": 79,
   "id": "72631813",
   "metadata": {
    "pycharm": {
     "name": "#%%\n"
    }
   },
   "outputs": [],
   "source": [
    "spb['to_center_km'] = (spb['cityCenters_nearest'] / 1000).round().astype('int64')"
   ]
  },
  {
   "cell_type": "markdown",
   "id": "bc845cbb",
   "metadata": {
    "pycharm": {
     "name": "#%% md\n"
    }
   },
   "source": [
    "Теперь посчитаем среднюю цену для каждого километра"
   ]
  },
  {
   "cell_type": "code",
   "execution_count": 80,
   "id": "ce3dcce5",
   "metadata": {
    "pycharm": {
     "name": "#%%\n"
    }
   },
   "outputs": [
    {
     "data": {
      "image/png": "[encoded data removed]",
      "text/plain": [
       "<Figure size 432x288 with 1 Axes>"
      ]
     },
     "metadata": {
      "needs_background": "light"
     },
     "output_type": "display_data"
    }
   ],
   "source": [
    "spb.pivot_table(index='to_center_km', values='last_price').plot(grid=True);"
   ]
  },
  {
   "cell_type": "markdown",
   "id": "9a9a9e96",
   "metadata": {
    "pycharm": {
     "name": "#%% md\n"
    }
   },
   "source": [
    "Устойчивое снижение стоимости наблюдается на расстоянии примерно 8-9 км от центра, следовательно, примем эту зону за центр"
   ]
  },
  {
   "cell_type": "markdown",
   "id": "eab6549c",
   "metadata": {
    "pycharm": {
     "name": "#%% md\n"
    }
   },
   "source": [
    "### Шаг 4.7. Изучим сегмент квартир в центре"
   ]
  },
  {
   "cell_type": "markdown",
   "id": "b5d3ce91",
   "metadata": {
    "pycharm": {
     "name": "#%% md\n"
    }
   },
   "source": [
    "**Задание**\n",
    "Выделите сегмент квартир в центре. Проанализируйте эту территорию и изучите следующие параметры: площадь, цена, число комнат, высота потолков. Также выделите факторы, которые влияют на стоимость квартиры (число комнат, этаж, удалённость от центра, дата размещения объявления). Сделайте выводы. Отличаются ли они от общих выводов по всей базе?"
   ]
  },
  {
   "cell_type": "markdown",
   "id": "9b544dbc",
   "metadata": {
    "pycharm": {
     "name": "#%% md\n"
    }
   },
   "source": [
    "Выделим сегмент квартир в центре"
   ]
  },
  {
   "cell_type": "code",
   "execution_count": 81,
   "id": "746d69b3",
   "metadata": {
    "pycharm": {
     "name": "#%%\n"
    }
   },
   "outputs": [],
   "source": [
    "spb_center = spb.query('to_center_km <= 9')"
   ]
  },
  {
   "cell_type": "markdown",
   "id": "a4c99c2b",
   "metadata": {
    "pycharm": {
     "name": "#%% md\n"
    }
   },
   "source": [
    "Выделим нужные для исследования столбцы в отдельную таблицу"
   ]
  },
  {
   "cell_type": "code",
   "execution_count": 82,
   "id": "cfc2dfd5",
   "metadata": {
    "pycharm": {
     "name": "#%%\n"
    }
   },
   "outputs": [],
   "source": [
    "spb_center_sample = spb_center[['last_price',\n",
    "                                'total_area',\n",
    "                                'ceiling_height',\n",
    "                                'rooms',\n",
    "                                'floors_total',\n",
    "                                'floor',\n",
    "                                'floor_category',\n",
    "                                'publication_day',\n",
    "                                'publication_month',\n",
    "                                'publication_year',\n",
    "                                'to_center_km']]"
   ]
  },
  {
   "cell_type": "code",
   "execution_count": 83,
   "id": "b2596ab6",
   "metadata": {
    "pycharm": {
     "name": "#%%\n"
    }
   },
   "outputs": [
    {
     "data": {
      "text/html": [
       "<div>\n",
       "<style scoped>\n",
       "    .dataframe tbody tr th:only-of-type {\n",
       "        vertical-align: middle;\n",
       "    }\n",
       "\n",
       "    .dataframe tbody tr th {\n",
       "        vertical-align: top;\n",
       "    }\n",
       "\n",
       "    .dataframe thead th {\n",
       "        text-align: right;\n",
       "    }\n",
       "</style>\n",
       "<table border=\"1\" class=\"dataframe\">\n",
       "  <thead>\n",
       "    <tr style=\"text-align: right;\">\n",
       "      <th></th>\n",
       "      <th>last_price</th>\n",
       "      <th>total_area</th>\n",
       "      <th>ceiling_height</th>\n",
       "      <th>rooms</th>\n",
       "      <th>floors_total</th>\n",
       "      <th>floor</th>\n",
       "      <th>floor_category</th>\n",
       "      <th>publication_day</th>\n",
       "      <th>publication_month</th>\n",
       "      <th>publication_year</th>\n",
       "      <th>to_center_km</th>\n",
       "    </tr>\n",
       "  </thead>\n",
       "  <tbody>\n",
       "    <tr>\n",
       "      <th>1</th>\n",
       "      <td>10000000</td>\n",
       "      <td>100.0</td>\n",
       "      <td>3.03</td>\n",
       "      <td>2</td>\n",
       "      <td>14</td>\n",
       "      <td>13</td>\n",
       "      <td>другой</td>\n",
       "      <td>1</td>\n",
       "      <td>6</td>\n",
       "      <td>2018</td>\n",
       "      <td>8</td>\n",
       "    </tr>\n",
       "    <tr>\n",
       "      <th>10</th>\n",
       "      <td>6500000</td>\n",
       "      <td>97.2</td>\n",
       "      <td>NaN</td>\n",
       "      <td>2</td>\n",
       "      <td>3</td>\n",
       "      <td>1</td>\n",
       "      <td>первый</td>\n",
       "      <td>5</td>\n",
       "      <td>10</td>\n",
       "      <td>2015</td>\n",
       "      <td>2</td>\n",
       "    </tr>\n",
       "    <tr>\n",
       "      <th>28</th>\n",
       "      <td>7990000</td>\n",
       "      <td>74.0</td>\n",
       "      <td>NaN</td>\n",
       "      <td>2</td>\n",
       "      <td>4</td>\n",
       "      <td>4</td>\n",
       "      <td>последний</td>\n",
       "      <td>3</td>\n",
       "      <td>8</td>\n",
       "      <td>2017</td>\n",
       "      <td>4</td>\n",
       "    </tr>\n",
       "    <tr>\n",
       "      <th>30</th>\n",
       "      <td>3400000</td>\n",
       "      <td>30.0</td>\n",
       "      <td>NaN</td>\n",
       "      <td>1</td>\n",
       "      <td>5</td>\n",
       "      <td>1</td>\n",
       "      <td>первый</td>\n",
       "      <td>2</td>\n",
       "      <td>9</td>\n",
       "      <td>2018</td>\n",
       "      <td>8</td>\n",
       "    </tr>\n",
       "    <tr>\n",
       "      <th>34</th>\n",
       "      <td>5200000</td>\n",
       "      <td>46.3</td>\n",
       "      <td>3.00</td>\n",
       "      <td>2</td>\n",
       "      <td>5</td>\n",
       "      <td>5</td>\n",
       "      <td>последний</td>\n",
       "      <td>0</td>\n",
       "      <td>11</td>\n",
       "      <td>2018</td>\n",
       "      <td>9</td>\n",
       "    </tr>\n",
       "  </tbody>\n",
       "</table>\n",
       "</div>"
      ],
      "text/plain": [
       "    last_price  total_area  ceiling_height  rooms  floors_total  floor  \\\n",
       "1     10000000       100.0            3.03      2            14     13   \n",
       "10     6500000        97.2             NaN      2             3      1   \n",
       "28     7990000        74.0             NaN      2             4      4   \n",
       "30     3400000        30.0             NaN      1             5      1   \n",
       "34     5200000        46.3            3.00      2             5      5   \n",
       "\n",
       "   floor_category  publication_day  publication_month  publication_year  \\\n",
       "1          другой                1                  6              2018   \n",
       "10         первый                5                 10              2015   \n",
       "28      последний                3                  8              2017   \n",
       "30         первый                2                  9              2018   \n",
       "34      последний                0                 11              2018   \n",
       "\n",
       "    to_center_km  \n",
       "1              8  \n",
       "10             2  \n",
       "28             4  \n",
       "30             8  \n",
       "34             9  "
      ]
     },
     "execution_count": 83,
     "metadata": {},
     "output_type": "execute_result"
    }
   ],
   "source": [
    "spb_center_sample.head()"
   ]
  },
  {
   "cell_type": "markdown",
   "id": "cffab8f0",
   "metadata": {
    "pycharm": {
     "name": "#%% md\n"
    }
   },
   "source": [
    "Посмотрим как распределены значения в центре города следующих параметров: площадь, цена, число комнат, высота потолков. Для этого построим гистограммы"
   ]
  },
  {
   "cell_type": "markdown",
   "id": "f372ab60",
   "metadata": {
    "pycharm": {
     "name": "#%% md\n"
    }
   },
   "source": [
    "Общая площадь"
   ]
  },
  {
   "cell_type": "code",
   "execution_count": 84,
   "id": "7ab17743-b76f-4216-b57c-b48cd1547b2a",
   "metadata": {},
   "outputs": [
    {
     "data": {
      "image/png": "[encoded data removed]",
      "text/plain": [
       "<Figure size 432x288 with 1 Axes>"
      ]
     },
     "metadata": {
      "needs_background": "light"
     },
     "output_type": "display_data"
    }
   ],
   "source": [
    "spb_center_sample['total_area'].hist(bins=30, label='center', alpha=0.5, color='red',density=True)\n",
    "data_filtered['total_area'].hist(bins=30, label='all', alpha=0.5, color='blue', density=True)\n",
    "plt.legend();"
   ]
  },
  {
   "cell_type": "markdown",
   "id": "50ab941e",
   "metadata": {
    "pycharm": {
     "name": "#%% md\n"
    }
   },
   "source": [
    "Наиболее частое значение общей площади в центре города ~43 квадратных метра. Эта гистограмма похожа на гистограмму выборки по всей базе, но значения немного сдвинулись в большую сторону"
   ]
  },
  {
   "cell_type": "markdown",
   "id": "bc3798e3",
   "metadata": {
    "pycharm": {
     "name": "#%% md\n"
    }
   },
   "source": [
    "Цена"
   ]
  },
  {
   "cell_type": "code",
   "execution_count": 85,
   "id": "1884732d",
   "metadata": {
    "pycharm": {
     "name": "#%%\n"
    }
   },
   "outputs": [
    {
     "data": {
      "image/png": "[encoded data removed]",
      "text/plain": [
       "<Figure size 432x288 with 1 Axes>"
      ]
     },
     "metadata": {
      "needs_background": "light"
     },
     "output_type": "display_data"
    }
   ],
   "source": [
    "spb_center_sample['last_price'].hist(bins=30, label='center', alpha=0.5, color='red',density=True)\n",
    "data_filtered['last_price'].hist(bins=30, label='all', alpha=0.5, color='blue', density=True)\n",
    "plt.legend();"
   ]
  },
  {
   "cell_type": "markdown",
   "id": "136d7c10",
   "metadata": {
    "pycharm": {
     "name": "#%% md\n"
    }
   },
   "source": [
    "В центре города преобладают более дорогие квартиры, что логично"
   ]
  },
  {
   "cell_type": "markdown",
   "id": "8a6dc8cb",
   "metadata": {
    "pycharm": {
     "name": "#%% md\n"
    }
   },
   "source": [
    "Количество комнат"
   ]
  },
  {
   "cell_type": "code",
   "execution_count": 86,
   "id": "8d54c1a2",
   "metadata": {
    "pycharm": {
     "name": "#%%\n"
    }
   },
   "outputs": [
    {
     "data": {
      "image/png": "[encoded data removed]",
      "text/plain": [
       "<Figure size 432x288 with 1 Axes>"
      ]
     },
     "metadata": {
      "needs_background": "light"
     },
     "output_type": "display_data"
    }
   ],
   "source": [
    "spb_center_sample['rooms'].hist(label='center', alpha=0.5, color='red',density=True)\n",
    "data_filtered['rooms'].hist(label='all', alpha=0.5, color='blue', density=True)\n",
    "plt.legend();"
   ]
  },
  {
   "cell_type": "markdown",
   "id": "ec3b3389",
   "metadata": {
    "pycharm": {
     "name": "#%% md\n"
    }
   },
   "source": [
    "В центре больше продают двухкомнатные квартиры, чем однокомнатные"
   ]
  },
  {
   "cell_type": "markdown",
   "id": "55c95947",
   "metadata": {
    "pycharm": {
     "name": "#%% md\n"
    }
   },
   "source": [
    "Высота потолков"
   ]
  },
  {
   "cell_type": "code",
   "execution_count": 87,
   "id": "61e409ac",
   "metadata": {
    "pycharm": {
     "name": "#%%\n"
    }
   },
   "outputs": [
    {
     "data": {
      "image/png": "[encoded data removed]",
      "text/plain": [
       "<Figure size 432x288 with 1 Axes>"
      ]
     },
     "metadata": {
      "needs_background": "light"
     },
     "output_type": "display_data"
    }
   ],
   "source": [
    "spb_center_sample['ceiling_height'].hist(label='center', alpha=0.5, color='red',density=True)\n",
    "data_filtered['ceiling_height'].hist(label='all', alpha=0.5, color='blue', density=True)\n",
    "plt.legend();"
   ]
  },
  {
   "cell_type": "markdown",
   "id": "a30cf93d",
   "metadata": {
    "pycharm": {
     "name": "#%% md\n"
    }
   },
   "source": [
    "Зависимость цены от количества комнат"
   ]
  },
  {
   "cell_type": "code",
   "execution_count": 88,
   "id": "88927c39",
   "metadata": {
    "pycharm": {
     "name": "#%%\n"
    }
   },
   "outputs": [
    {
     "data": {
      "image/png": "[encoded data removed]",
      "text/plain": [
       "<Figure size 432x288 with 1 Axes>"
      ]
     },
     "metadata": {
      "needs_background": "light"
     },
     "output_type": "display_data"
    }
   ],
   "source": [
    "spb_center_sample.pivot_table(index='rooms', values='last_price').plot(grid=True);"
   ]
  },
  {
   "cell_type": "markdown",
   "id": "1dae812e",
   "metadata": {
    "pycharm": {
     "name": "#%% md\n"
    }
   },
   "source": [
    "Чем больше комнат, тем выше цена, как и в общей выборке"
   ]
  },
  {
   "cell_type": "code",
   "execution_count": 89,
   "id": "968e60db",
   "metadata": {
    "pycharm": {
     "name": "#%%\n"
    }
   },
   "outputs": [
    {
     "data": {
      "image/png": "[encoded data removed]",
      "text/plain": [
       "<Figure size 432x288 with 1 Axes>"
      ]
     },
     "metadata": {
      "needs_background": "light"
     },
     "output_type": "display_data"
    }
   ],
   "source": [
    "data_filtered.pivot_table(index='rooms', values='last_price').plot(grid=True);"
   ]
  },
  {
   "cell_type": "markdown",
   "id": "1e3d25fe",
   "metadata": {
    "pycharm": {
     "name": "#%% md\n"
    }
   },
   "source": [
    "Зависимость цены от этажа"
   ]
  },
  {
   "cell_type": "code",
   "execution_count": 90,
   "id": "8b675523",
   "metadata": {
    "pycharm": {
     "name": "#%%\n"
    }
   },
   "outputs": [
    {
     "data": {
      "image/png": "[encoded data removed]",
      "text/plain": [
       "<Figure size 432x288 with 1 Axes>"
      ]
     },
     "metadata": {
      "needs_background": "light"
     },
     "output_type": "display_data"
    }
   ],
   "source": [
    "spb_center_sample.pivot_table(index='floor_category', values='last_price').plot(grid=True);"
   ]
  },
  {
   "cell_type": "code",
   "execution_count": 91,
   "id": "81973476",
   "metadata": {
    "pycharm": {
     "name": "#%%\n"
    }
   },
   "outputs": [
    {
     "data": {
      "image/png": "[encoded data removed]",
      "text/plain": [
       "<Figure size 432x288 with 1 Axes>"
      ]
     },
     "metadata": {
      "needs_background": "light"
     },
     "output_type": "display_data"
    }
   ],
   "source": [
    "data_filtered.pivot_table(index='floor_category', values='last_price').plot(grid=True);"
   ]
  },
  {
   "cell_type": "markdown",
   "id": "442a6bed",
   "metadata": {
    "pycharm": {
     "name": "#%% md\n"
    }
   },
   "source": [
    "В среднем, цена на квартиры в центре выше и на первом этаже квартиры дешевле"
   ]
  },
  {
   "cell_type": "markdown",
   "id": "55161e65",
   "metadata": {
    "pycharm": {
     "name": "#%% md\n"
    }
   },
   "source": [
    "Зависимость цены от расстояния до центра"
   ]
  },
  {
   "cell_type": "code",
   "execution_count": 92,
   "id": "4f6fa981",
   "metadata": {
    "pycharm": {
     "name": "#%%\n"
    }
   },
   "outputs": [
    {
     "data": {
      "text/plain": [
       "-0.28284099198777135"
      ]
     },
     "execution_count": 92,
     "metadata": {},
     "output_type": "execute_result"
    }
   ],
   "source": [
    "spb_center_sample['to_center_km'].corr(spb_center_sample['last_price'])"
   ]
  },
  {
   "cell_type": "code",
   "execution_count": 93,
   "id": "710c8593-a834-48c9-afda-2fe878929c02",
   "metadata": {},
   "outputs": [
    {
     "data": {
      "text/plain": [
       "-0.33245689166499454"
      ]
     },
     "execution_count": 93,
     "metadata": {},
     "output_type": "execute_result"
    }
   ],
   "source": [
    "data_filtered['cityCenters_nearest'].corr(data_filtered['last_price'])"
   ]
  },
  {
   "cell_type": "markdown",
   "id": "2e9d32f1",
   "metadata": {
    "pycharm": {
     "name": "#%% md\n"
    }
   },
   "source": [
    "В центре города зависимость цены от расстояния до центра выражена меньше, чем в общей выборке"
   ]
  },
  {
   "cell_type": "markdown",
   "id": "8f06c346",
   "metadata": {
    "pycharm": {
     "name": "#%% md\n"
    }
   },
   "source": [
    "Зависимость цены от дня, месяца и года публикации объявления"
   ]
  },
  {
   "cell_type": "code",
   "execution_count": 94,
   "id": "3fba84cd",
   "metadata": {
    "pycharm": {
     "name": "#%%\n"
    }
   },
   "outputs": [
    {
     "data": {
      "image/png": "[encoded data removed]",
      "text/plain": [
       "<Figure size 432x288 with 1 Axes>"
      ]
     },
     "metadata": {
      "needs_background": "light"
     },
     "output_type": "display_data"
    }
   ],
   "source": [
    "spb_center_sample.pivot_table(index='publication_day', values='last_price').plot(grid=True);"
   ]
  },
  {
   "cell_type": "code",
   "execution_count": 95,
   "id": "944af538",
   "metadata": {
    "pycharm": {
     "name": "#%%\n"
    }
   },
   "outputs": [
    {
     "data": {
      "image/png": "[encoded data removed]",
      "text/plain": [
       "<Figure size 432x288 with 1 Axes>"
      ]
     },
     "metadata": {
      "needs_background": "light"
     },
     "output_type": "display_data"
    }
   ],
   "source": [
    "spb_center_sample.pivot_table(index='publication_month', values='last_price').plot(grid=True);"
   ]
  },
  {
   "cell_type": "code",
   "execution_count": 96,
   "id": "8c87b4db",
   "metadata": {
    "pycharm": {
     "name": "#%%\n"
    }
   },
   "outputs": [
    {
     "data": {
      "image/png": "[encoded data removed]",
      "text/plain": [
       "<Figure size 432x288 with 1 Axes>"
      ]
     },
     "metadata": {
      "needs_background": "light"
     },
     "output_type": "display_data"
    }
   ],
   "source": [
    "spb_center_sample.pivot_table(index='publication_year', values='last_price').plot(grid=True);"
   ]
  },
  {
   "cell_type": "markdown",
   "id": "995d8abf",
   "metadata": {
    "pycharm": {
     "name": "#%% md\n"
    }
   },
   "source": [
    "Данные зависимости отличаются от общей выборки. Пик в среду и повышение цены при приближении к выходным. На уровне месяца так же пик цены осенью, а в срезе по годам есть тенденция к снижению цены с каждым годом"
   ]
  },
  {
   "cell_type": "markdown",
   "id": "10e96580",
   "metadata": {
    "pycharm": {
     "name": "#%% md\n"
    }
   },
   "source": [
    "## Шаг 5. Общий вывод"
   ]
  },
  {
   "cell_type": "markdown",
   "id": "98af6bec",
   "metadata": {
    "pycharm": {
     "name": "#%% md\n"
    }
   },
   "source": [
    "Мы провели исследование объявлений по продаже недвижимости в Санкт-Петербурге и соседних населенных пунктах. Выяснили, что больше всего в продаже однокомнатных квартир площадью около 40 квадратных метров и высотой потолка 2.6 метра. В центре города преобладают более просторные квартиры, с высокими потолками, большей площадью, количеством комнат 2 и более и, соответственно стоят они дороже. Так же узнали, что чаще всего квартиры продаются менее чем за 100 дней, на цену влияют такие факторы как площадь, расстояние до центра города и сам населенный пункт. Наиболее благоприятное время для продажи квартиры - середина недели весной и осенью. Самый низкий спрос на квартиры летом."
   ]
  }
 ],
 "metadata": {
  "ExecuteTimeLog": [
   {
    "duration": 186,
    "start_time": "2022-03-19T11:47:28.142Z"
   },
   {
    "duration": 180,
    "start_time": "2022-03-19T11:56:28.521Z"
   },
   {
    "duration": 635,
    "start_time": "2022-03-19T12:00:01.360Z"
   },
   {
    "duration": 91,
    "start_time": "2022-03-19T12:00:01.997Z"
   },
   {
    "duration": 27,
    "start_time": "2022-03-19T12:00:02.090Z"
   },
   {
    "duration": 13,
    "start_time": "2022-03-19T12:00:02.119Z"
   },
   {
    "duration": 75,
    "start_time": "2022-03-19T12:00:02.133Z"
   },
   {
    "duration": 4,
    "start_time": "2022-03-19T12:00:02.210Z"
   },
   {
    "duration": 17,
    "start_time": "2022-03-19T12:00:02.215Z"
   },
   {
    "duration": 18,
    "start_time": "2022-03-19T12:00:02.234Z"
   },
   {
    "duration": 13,
    "start_time": "2022-03-19T12:00:02.253Z"
   },
   {
    "duration": 21,
    "start_time": "2022-03-19T12:00:02.267Z"
   },
   {
    "duration": 25,
    "start_time": "2022-03-19T12:00:02.289Z"
   },
   {
    "duration": 12,
    "start_time": "2022-03-19T12:00:02.316Z"
   },
   {
    "duration": 15,
    "start_time": "2022-03-19T12:00:02.330Z"
   },
   {
    "duration": 43,
    "start_time": "2022-03-19T12:00:02.349Z"
   },
   {
    "duration": 16,
    "start_time": "2022-03-19T12:00:02.393Z"
   },
   {
    "duration": 13,
    "start_time": "2022-03-19T12:00:02.410Z"
   },
   {
    "duration": 33,
    "start_time": "2022-03-19T12:00:02.425Z"
   },
   {
    "duration": 7,
    "start_time": "2022-03-19T12:00:02.459Z"
   },
   {
    "duration": 250,
    "start_time": "2022-03-19T12:00:02.468Z"
   },
   {
    "duration": 4,
    "start_time": "2022-03-19T12:00:02.720Z"
   },
   {
    "duration": 20,
    "start_time": "2022-03-19T12:00:02.725Z"
   },
   {
    "duration": 224,
    "start_time": "2022-03-19T12:00:02.746Z"
   },
   {
    "duration": 119,
    "start_time": "2022-03-19T12:00:02.972Z"
   },
   {
    "duration": 371,
    "start_time": "2022-03-19T12:00:03.093Z"
   },
   {
    "duration": 107,
    "start_time": "2022-03-19T12:00:03.466Z"
   },
   {
    "duration": 134,
    "start_time": "2022-03-19T12:00:03.575Z"
   },
   {
    "duration": 114,
    "start_time": "2022-03-19T12:00:03.711Z"
   },
   {
    "duration": 113,
    "start_time": "2022-03-19T12:00:03.826Z"
   },
   {
    "duration": 114,
    "start_time": "2022-03-19T12:00:03.941Z"
   },
   {
    "duration": 3,
    "start_time": "2022-03-19T12:00:04.057Z"
   },
   {
    "duration": 13,
    "start_time": "2022-03-19T12:00:04.062Z"
   },
   {
    "duration": 143,
    "start_time": "2022-03-19T12:00:04.077Z"
   },
   {
    "duration": 115,
    "start_time": "2022-03-19T12:00:04.221Z"
   },
   {
    "duration": 144,
    "start_time": "2022-03-19T12:00:04.338Z"
   },
   {
    "duration": 158,
    "start_time": "2022-03-19T12:00:04.484Z"
   },
   {
    "duration": 125,
    "start_time": "2022-03-19T12:00:04.643Z"
   },
   {
    "duration": 287,
    "start_time": "2022-03-19T12:00:04.769Z"
   },
   {
    "duration": 7,
    "start_time": "2022-03-19T12:00:05.058Z"
   },
   {
    "duration": 235,
    "start_time": "2022-03-19T12:00:05.066Z"
   },
   {
    "duration": 9,
    "start_time": "2022-03-19T12:00:05.303Z"
   },
   {
    "duration": 128,
    "start_time": "2022-03-19T12:00:05.317Z"
   },
   {
    "duration": 21,
    "start_time": "2022-03-19T12:00:05.446Z"
   },
   {
    "duration": 197,
    "start_time": "2022-03-19T12:00:05.469Z"
   },
   {
    "duration": 6,
    "start_time": "2022-03-19T12:00:05.667Z"
   },
   {
    "duration": 190,
    "start_time": "2022-03-19T12:00:05.674Z"
   },
   {
    "duration": 7,
    "start_time": "2022-03-19T12:00:05.866Z"
   },
   {
    "duration": 270,
    "start_time": "2022-03-19T12:00:05.875Z"
   },
   {
    "duration": 13,
    "start_time": "2022-03-19T12:00:06.146Z"
   },
   {
    "duration": 5,
    "start_time": "2022-03-19T12:00:06.160Z"
   },
   {
    "duration": 260,
    "start_time": "2022-03-19T12:00:06.167Z"
   },
   {
    "duration": 154,
    "start_time": "2022-03-19T12:00:06.430Z"
   },
   {
    "duration": 276,
    "start_time": "2022-03-19T12:00:06.585Z"
   },
   {
    "duration": 20,
    "start_time": "2022-03-19T12:00:06.863Z"
   },
   {
    "duration": 17,
    "start_time": "2022-03-19T12:00:06.885Z"
   },
   {
    "duration": 9,
    "start_time": "2022-03-19T12:00:06.904Z"
   },
   {
    "duration": 8,
    "start_time": "2022-03-19T12:00:06.914Z"
   },
   {
    "duration": 6,
    "start_time": "2022-03-19T12:00:06.923Z"
   },
   {
    "duration": 8,
    "start_time": "2022-03-19T12:00:06.930Z"
   },
   {
    "duration": 94,
    "start_time": "2022-03-19T12:00:06.939Z"
   },
   {
    "duration": 133,
    "start_time": "2022-03-19T12:00:07.034Z"
   },
   {
    "duration": 7,
    "start_time": "2022-03-19T12:00:07.169Z"
   },
   {
    "duration": 5,
    "start_time": "2022-03-19T12:00:07.178Z"
   },
   {
    "duration": 20,
    "start_time": "2022-03-19T12:00:07.185Z"
   },
   {
    "duration": 122,
    "start_time": "2022-03-19T12:00:07.206Z"
   },
   {
    "duration": 106,
    "start_time": "2022-03-19T12:00:07.330Z"
   },
   {
    "duration": 192,
    "start_time": "2022-03-19T12:00:07.438Z"
   },
   {
    "duration": 124,
    "start_time": "2022-03-19T12:00:07.632Z"
   },
   {
    "duration": 121,
    "start_time": "2022-03-19T12:00:07.758Z"
   },
   {
    "duration": 114,
    "start_time": "2022-03-19T12:00:07.880Z"
   },
   {
    "duration": 128,
    "start_time": "2022-03-19T12:00:07.996Z"
   },
   {
    "duration": 130,
    "start_time": "2022-03-19T12:00:08.126Z"
   },
   {
    "duration": 144,
    "start_time": "2022-03-19T12:00:08.258Z"
   },
   {
    "duration": 142,
    "start_time": "2022-03-19T12:00:08.404Z"
   },
   {
    "duration": 123,
    "start_time": "2022-03-19T12:00:08.547Z"
   },
   {
    "duration": 138,
    "start_time": "2022-03-19T12:00:08.672Z"
   },
   {
    "duration": 133,
    "start_time": "2022-03-19T12:00:08.812Z"
   },
   {
    "duration": 201,
    "start_time": "2022-03-19T12:00:08.947Z"
   },
   {
    "duration": 206,
    "start_time": "2022-03-19T12:00:09.150Z"
   },
   {
    "duration": 130,
    "start_time": "2022-03-19T12:00:09.358Z"
   },
   {
    "duration": 143,
    "start_time": "2022-03-19T12:00:09.490Z"
   },
   {
    "duration": 135,
    "start_time": "2022-03-19T12:00:09.634Z"
   },
   {
    "duration": 191,
    "start_time": "2022-03-19T12:00:54.285Z"
   },
   {
    "duration": 185,
    "start_time": "2022-03-19T12:01:08.972Z"
   },
   {
    "duration": 834,
    "start_time": "2022-03-20T09:40:30.916Z"
   },
   {
    "duration": 94,
    "start_time": "2022-03-20T09:40:31.753Z"
   },
   {
    "duration": 32,
    "start_time": "2022-03-20T09:40:31.848Z"
   },
   {
    "duration": 30,
    "start_time": "2022-03-20T09:40:31.882Z"
   },
   {
    "duration": 70,
    "start_time": "2022-03-20T09:40:31.914Z"
   },
   {
    "duration": 28,
    "start_time": "2022-03-20T09:40:31.986Z"
   },
   {
    "duration": 6,
    "start_time": "2022-03-20T09:40:32.016Z"
   },
   {
    "duration": 9,
    "start_time": "2022-03-20T09:40:32.024Z"
   },
   {
    "duration": 8,
    "start_time": "2022-03-20T09:40:32.034Z"
   },
   {
    "duration": 8,
    "start_time": "2022-03-20T09:40:32.046Z"
   },
   {
    "duration": 14,
    "start_time": "2022-03-20T09:40:32.056Z"
   },
   {
    "duration": 64,
    "start_time": "2022-03-20T09:40:32.072Z"
   },
   {
    "duration": 6,
    "start_time": "2022-03-20T09:40:32.138Z"
   },
   {
    "duration": 9,
    "start_time": "2022-03-20T09:40:32.145Z"
   },
   {
    "duration": 11891,
    "start_time": "2022-03-20T09:40:32.156Z"
   },
   {
    "duration": 16102,
    "start_time": "2022-03-20T09:40:44.049Z"
   },
   {
    "duration": 5,
    "start_time": "2022-03-20T09:41:00.152Z"
   },
   {
    "duration": 20,
    "start_time": "2022-03-20T09:41:00.158Z"
   },
   {
    "duration": 31,
    "start_time": "2022-03-20T09:41:00.180Z"
   },
   {
    "duration": 5,
    "start_time": "2022-03-20T09:41:00.212Z"
   },
   {
    "duration": 31,
    "start_time": "2022-03-20T09:41:00.218Z"
   },
   {
    "duration": 3,
    "start_time": "2022-03-20T09:41:00.251Z"
   },
   {
    "duration": 292,
    "start_time": "2022-03-20T09:41:00.255Z"
   },
   {
    "duration": 4,
    "start_time": "2022-03-20T09:41:00.549Z"
   },
   {
    "duration": 9,
    "start_time": "2022-03-20T09:41:00.555Z"
   },
   {
    "duration": 261,
    "start_time": "2022-03-20T09:41:00.566Z"
   },
   {
    "duration": 131,
    "start_time": "2022-03-20T09:41:00.829Z"
   },
   {
    "duration": 501,
    "start_time": "2022-03-20T09:41:00.965Z"
   },
   {
    "duration": 135,
    "start_time": "2022-03-20T09:41:01.468Z"
   },
   {
    "duration": 185,
    "start_time": "2022-03-20T09:41:01.604Z"
   },
   {
    "duration": 134,
    "start_time": "2022-03-20T09:41:01.791Z"
   },
   {
    "duration": 150,
    "start_time": "2022-03-20T09:41:01.926Z"
   },
   {
    "duration": 121,
    "start_time": "2022-03-20T09:41:02.077Z"
   },
   {
    "duration": 9,
    "start_time": "2022-03-20T09:41:02.200Z"
   },
   {
    "duration": 12,
    "start_time": "2022-03-20T09:41:02.211Z"
   },
   {
    "duration": 152,
    "start_time": "2022-03-20T09:41:02.225Z"
   },
   {
    "duration": 148,
    "start_time": "2022-03-20T09:41:02.379Z"
   },
   {
    "duration": 168,
    "start_time": "2022-03-20T09:41:02.529Z"
   },
   {
    "duration": 142,
    "start_time": "2022-03-20T09:41:02.699Z"
   },
   {
    "duration": 150,
    "start_time": "2022-03-20T09:41:02.843Z"
   },
   {
    "duration": 268,
    "start_time": "2022-03-20T09:41:02.994Z"
   },
   {
    "duration": 7,
    "start_time": "2022-03-20T09:41:03.263Z"
   },
   {
    "duration": 274,
    "start_time": "2022-03-20T09:41:03.272Z"
   },
   {
    "duration": 7,
    "start_time": "2022-03-20T09:41:03.548Z"
   },
   {
    "duration": 145,
    "start_time": "2022-03-20T09:41:03.557Z"
   },
   {
    "duration": 26,
    "start_time": "2022-03-20T09:41:03.708Z"
   },
   {
    "duration": 197,
    "start_time": "2022-03-20T09:41:03.736Z"
   },
   {
    "duration": 5,
    "start_time": "2022-03-20T09:41:03.935Z"
   },
   {
    "duration": 291,
    "start_time": "2022-03-20T09:41:03.942Z"
   },
   {
    "duration": 5,
    "start_time": "2022-03-20T09:41:04.234Z"
   },
   {
    "duration": 191,
    "start_time": "2022-03-20T09:41:04.241Z"
   },
   {
    "duration": 5,
    "start_time": "2022-03-20T09:41:04.434Z"
   },
   {
    "duration": 145,
    "start_time": "2022-03-20T09:41:04.441Z"
   },
   {
    "duration": 163,
    "start_time": "2022-03-20T09:41:04.587Z"
   },
   {
    "duration": 154,
    "start_time": "2022-03-20T09:41:04.751Z"
   },
   {
    "duration": 288,
    "start_time": "2022-03-20T09:41:04.908Z"
   },
   {
    "duration": 33,
    "start_time": "2022-03-20T09:41:05.197Z"
   },
   {
    "duration": 10,
    "start_time": "2022-03-20T09:41:05.232Z"
   },
   {
    "duration": 10,
    "start_time": "2022-03-20T09:41:05.244Z"
   },
   {
    "duration": 9,
    "start_time": "2022-03-20T09:41:05.256Z"
   },
   {
    "duration": 5,
    "start_time": "2022-03-20T09:41:05.267Z"
   },
   {
    "duration": 38,
    "start_time": "2022-03-20T09:41:05.274Z"
   },
   {
    "duration": 5,
    "start_time": "2022-03-20T09:41:05.314Z"
   },
   {
    "duration": 182,
    "start_time": "2022-03-20T09:41:05.321Z"
   },
   {
    "duration": 6,
    "start_time": "2022-03-20T09:41:05.509Z"
   },
   {
    "duration": 4,
    "start_time": "2022-03-20T09:41:05.517Z"
   },
   {
    "duration": 14,
    "start_time": "2022-03-20T09:41:05.522Z"
   },
   {
    "duration": 269,
    "start_time": "2022-03-20T09:41:05.537Z"
   },
   {
    "duration": 258,
    "start_time": "2022-03-20T09:41:05.808Z"
   },
   {
    "duration": 257,
    "start_time": "2022-03-20T09:41:06.067Z"
   },
   {
    "duration": 192,
    "start_time": "2022-03-20T09:41:06.325Z"
   },
   {
    "duration": 182,
    "start_time": "2022-03-20T09:41:06.519Z"
   },
   {
    "duration": 164,
    "start_time": "2022-03-20T09:41:06.702Z"
   },
   {
    "duration": 149,
    "start_time": "2022-03-20T09:41:06.868Z"
   },
   {
    "duration": 150,
    "start_time": "2022-03-20T09:41:07.019Z"
   },
   {
    "duration": 285,
    "start_time": "2022-03-20T09:41:07.171Z"
   },
   {
    "duration": 5,
    "start_time": "2022-03-20T09:41:07.458Z"
   },
   {
    "duration": 6,
    "start_time": "2022-03-20T09:41:07.464Z"
   },
   {
    "duration": 170,
    "start_time": "2022-03-20T09:41:07.472Z"
   },
   {
    "duration": 157,
    "start_time": "2022-03-20T09:41:07.644Z"
   },
   {
    "duration": 155,
    "start_time": "2022-03-20T09:41:07.808Z"
   },
   {
    "duration": 9,
    "start_time": "2022-03-20T09:41:07.968Z"
   },
   {
    "duration": 3,
    "start_time": "2022-03-20T09:42:22.641Z"
   },
   {
    "duration": 85,
    "start_time": "2022-03-20T09:42:22.647Z"
   },
   {
    "duration": 26,
    "start_time": "2022-03-20T09:42:22.734Z"
   },
   {
    "duration": 19,
    "start_time": "2022-03-20T09:42:22.762Z"
   },
   {
    "duration": 89,
    "start_time": "2022-03-20T09:42:22.782Z"
   },
   {
    "duration": 9,
    "start_time": "2022-03-20T09:42:22.873Z"
   },
   {
    "duration": 6,
    "start_time": "2022-03-20T09:42:22.909Z"
   },
   {
    "duration": 6,
    "start_time": "2022-03-20T09:42:22.917Z"
   },
   {
    "duration": 8,
    "start_time": "2022-03-20T09:42:22.925Z"
   },
   {
    "duration": 9,
    "start_time": "2022-03-20T09:42:22.935Z"
   },
   {
    "duration": 12,
    "start_time": "2022-03-20T09:42:22.946Z"
   },
   {
    "duration": 63,
    "start_time": "2022-03-20T09:42:22.960Z"
   },
   {
    "duration": 4,
    "start_time": "2022-03-20T09:42:23.025Z"
   },
   {
    "duration": 8,
    "start_time": "2022-03-20T09:42:23.031Z"
   },
   {
    "duration": 1103,
    "start_time": "2022-03-20T09:42:23.041Z"
   },
   {
    "duration": 0,
    "start_time": "2022-03-20T09:42:24.148Z"
   },
   {
    "duration": 0,
    "start_time": "2022-03-20T09:42:24.150Z"
   },
   {
    "duration": 0,
    "start_time": "2022-03-20T09:42:24.152Z"
   },
   {
    "duration": 1,
    "start_time": "2022-03-20T09:42:24.153Z"
   },
   {
    "duration": 0,
    "start_time": "2022-03-20T09:42:24.155Z"
   },
   {
    "duration": 0,
    "start_time": "2022-03-20T09:42:24.156Z"
   },
   {
    "duration": 0,
    "start_time": "2022-03-20T09:42:24.158Z"
   },
   {
    "duration": 0,
    "start_time": "2022-03-20T09:42:24.159Z"
   },
   {
    "duration": 0,
    "start_time": "2022-03-20T09:42:24.161Z"
   },
   {
    "duration": 0,
    "start_time": "2022-03-20T09:42:24.163Z"
   },
   {
    "duration": 0,
    "start_time": "2022-03-20T09:42:24.164Z"
   },
   {
    "duration": 0,
    "start_time": "2022-03-20T09:42:24.165Z"
   },
   {
    "duration": 0,
    "start_time": "2022-03-20T09:42:24.167Z"
   },
   {
    "duration": 0,
    "start_time": "2022-03-20T09:42:24.169Z"
   },
   {
    "duration": 0,
    "start_time": "2022-03-20T09:42:24.170Z"
   },
   {
    "duration": 0,
    "start_time": "2022-03-20T09:42:24.171Z"
   },
   {
    "duration": 0,
    "start_time": "2022-03-20T09:42:24.173Z"
   },
   {
    "duration": 0,
    "start_time": "2022-03-20T09:42:24.174Z"
   },
   {
    "duration": 0,
    "start_time": "2022-03-20T09:42:24.175Z"
   },
   {
    "duration": 0,
    "start_time": "2022-03-20T09:42:24.177Z"
   },
   {
    "duration": 0,
    "start_time": "2022-03-20T09:42:24.178Z"
   },
   {
    "duration": 0,
    "start_time": "2022-03-20T09:42:24.179Z"
   },
   {
    "duration": 0,
    "start_time": "2022-03-20T09:42:24.181Z"
   },
   {
    "duration": 0,
    "start_time": "2022-03-20T09:42:24.182Z"
   },
   {
    "duration": 0,
    "start_time": "2022-03-20T09:42:24.184Z"
   },
   {
    "duration": 0,
    "start_time": "2022-03-20T09:42:24.208Z"
   },
   {
    "duration": 0,
    "start_time": "2022-03-20T09:42:24.210Z"
   },
   {
    "duration": 0,
    "start_time": "2022-03-20T09:42:24.211Z"
   },
   {
    "duration": 0,
    "start_time": "2022-03-20T09:42:24.212Z"
   },
   {
    "duration": 0,
    "start_time": "2022-03-20T09:42:24.213Z"
   },
   {
    "duration": 0,
    "start_time": "2022-03-20T09:42:24.214Z"
   },
   {
    "duration": 0,
    "start_time": "2022-03-20T09:42:24.215Z"
   },
   {
    "duration": 1,
    "start_time": "2022-03-20T09:42:24.216Z"
   },
   {
    "duration": 0,
    "start_time": "2022-03-20T09:42:24.218Z"
   },
   {
    "duration": 0,
    "start_time": "2022-03-20T09:42:24.219Z"
   },
   {
    "duration": 0,
    "start_time": "2022-03-20T09:42:24.220Z"
   },
   {
    "duration": 0,
    "start_time": "2022-03-20T09:42:24.221Z"
   },
   {
    "duration": 0,
    "start_time": "2022-03-20T09:42:24.222Z"
   },
   {
    "duration": 0,
    "start_time": "2022-03-20T09:42:24.223Z"
   },
   {
    "duration": 0,
    "start_time": "2022-03-20T09:42:24.224Z"
   },
   {
    "duration": 0,
    "start_time": "2022-03-20T09:42:24.225Z"
   },
   {
    "duration": 0,
    "start_time": "2022-03-20T09:42:24.226Z"
   },
   {
    "duration": 0,
    "start_time": "2022-03-20T09:42:24.228Z"
   },
   {
    "duration": 0,
    "start_time": "2022-03-20T09:42:24.229Z"
   },
   {
    "duration": 0,
    "start_time": "2022-03-20T09:42:24.230Z"
   },
   {
    "duration": 0,
    "start_time": "2022-03-20T09:42:24.231Z"
   },
   {
    "duration": 0,
    "start_time": "2022-03-20T09:42:24.232Z"
   },
   {
    "duration": 0,
    "start_time": "2022-03-20T09:42:24.233Z"
   },
   {
    "duration": 0,
    "start_time": "2022-03-20T09:42:24.234Z"
   },
   {
    "duration": 0,
    "start_time": "2022-03-20T09:42:24.235Z"
   },
   {
    "duration": 0,
    "start_time": "2022-03-20T09:42:24.236Z"
   },
   {
    "duration": 0,
    "start_time": "2022-03-20T09:42:24.237Z"
   },
   {
    "duration": 0,
    "start_time": "2022-03-20T09:42:24.238Z"
   },
   {
    "duration": 0,
    "start_time": "2022-03-20T09:42:24.239Z"
   },
   {
    "duration": 0,
    "start_time": "2022-03-20T09:42:24.241Z"
   },
   {
    "duration": 0,
    "start_time": "2022-03-20T09:42:24.242Z"
   },
   {
    "duration": 0,
    "start_time": "2022-03-20T09:42:24.243Z"
   },
   {
    "duration": 0,
    "start_time": "2022-03-20T09:42:24.244Z"
   },
   {
    "duration": 0,
    "start_time": "2022-03-20T09:42:24.308Z"
   },
   {
    "duration": 0,
    "start_time": "2022-03-20T09:42:24.309Z"
   },
   {
    "duration": 0,
    "start_time": "2022-03-20T09:42:24.311Z"
   },
   {
    "duration": 0,
    "start_time": "2022-03-20T09:42:24.312Z"
   },
   {
    "duration": 0,
    "start_time": "2022-03-20T09:42:24.313Z"
   },
   {
    "duration": 0,
    "start_time": "2022-03-20T09:42:24.314Z"
   },
   {
    "duration": 0,
    "start_time": "2022-03-20T09:42:24.316Z"
   },
   {
    "duration": 0,
    "start_time": "2022-03-20T09:42:24.316Z"
   },
   {
    "duration": 0,
    "start_time": "2022-03-20T09:42:24.317Z"
   },
   {
    "duration": 14,
    "start_time": "2022-03-20T09:43:24.254Z"
   },
   {
    "duration": 7,
    "start_time": "2022-03-20T09:43:35.979Z"
   },
   {
    "duration": 295,
    "start_time": "2022-03-20T09:43:35.998Z"
   },
   {
    "duration": 212,
    "start_time": "2022-03-20T09:43:36.295Z"
   },
   {
    "duration": 4,
    "start_time": "2022-03-20T09:43:36.509Z"
   },
   {
    "duration": 10,
    "start_time": "2022-03-20T09:43:36.515Z"
   },
   {
    "duration": 13,
    "start_time": "2022-03-20T09:43:36.527Z"
   },
   {
    "duration": 4,
    "start_time": "2022-03-20T09:43:36.542Z"
   },
   {
    "duration": 64,
    "start_time": "2022-03-20T09:43:36.548Z"
   },
   {
    "duration": 8,
    "start_time": "2022-03-20T09:43:36.613Z"
   },
   {
    "duration": 3,
    "start_time": "2022-03-20T09:43:36.622Z"
   },
   {
    "duration": 358,
    "start_time": "2022-03-20T09:43:36.628Z"
   },
   {
    "duration": 3,
    "start_time": "2022-03-20T09:43:36.988Z"
   },
   {
    "duration": 25,
    "start_time": "2022-03-20T09:43:36.993Z"
   },
   {
    "duration": 243,
    "start_time": "2022-03-20T09:43:37.019Z"
   },
   {
    "duration": 246,
    "start_time": "2022-03-20T09:43:37.264Z"
   },
   {
    "duration": 391,
    "start_time": "2022-03-20T09:43:37.511Z"
   },
   {
    "duration": 122,
    "start_time": "2022-03-20T09:43:37.904Z"
   },
   {
    "duration": 174,
    "start_time": "2022-03-20T09:43:38.028Z"
   },
   {
    "duration": 123,
    "start_time": "2022-03-20T09:43:38.209Z"
   },
   {
    "duration": 136,
    "start_time": "2022-03-20T09:43:38.333Z"
   },
   {
    "duration": 129,
    "start_time": "2022-03-20T09:43:38.471Z"
   },
   {
    "duration": 9,
    "start_time": "2022-03-20T09:43:38.602Z"
   },
   {
    "duration": 16,
    "start_time": "2022-03-20T09:43:38.612Z"
   },
   {
    "duration": 93,
    "start_time": "2022-03-20T09:43:38.630Z"
   },
   {
    "duration": 138,
    "start_time": "2022-03-20T09:43:38.724Z"
   },
   {
    "duration": 156,
    "start_time": "2022-03-20T09:43:38.863Z"
   },
   {
    "duration": 139,
    "start_time": "2022-03-20T09:43:39.020Z"
   },
   {
    "duration": 154,
    "start_time": "2022-03-20T09:43:39.161Z"
   },
   {
    "duration": 275,
    "start_time": "2022-03-20T09:43:39.320Z"
   },
   {
    "duration": 12,
    "start_time": "2022-03-20T09:43:39.597Z"
   },
   {
    "duration": 419,
    "start_time": "2022-03-20T09:43:39.611Z"
   },
   {
    "duration": 7,
    "start_time": "2022-03-20T09:43:40.032Z"
   },
   {
    "duration": 146,
    "start_time": "2022-03-20T09:43:40.041Z"
   },
   {
    "duration": 33,
    "start_time": "2022-03-20T09:43:40.189Z"
   },
   {
    "duration": 182,
    "start_time": "2022-03-20T09:43:40.224Z"
   },
   {
    "duration": 6,
    "start_time": "2022-03-20T09:43:40.408Z"
   },
   {
    "duration": 165,
    "start_time": "2022-03-20T09:43:40.416Z"
   },
   {
    "duration": 5,
    "start_time": "2022-03-20T09:43:40.583Z"
   },
   {
    "duration": 181,
    "start_time": "2022-03-20T09:43:40.590Z"
   },
   {
    "duration": 5,
    "start_time": "2022-03-20T09:43:40.772Z"
   },
   {
    "duration": 147,
    "start_time": "2022-03-20T09:43:40.779Z"
   },
   {
    "duration": 144,
    "start_time": "2022-03-20T09:43:40.927Z"
   },
   {
    "duration": 166,
    "start_time": "2022-03-20T09:43:41.073Z"
   },
   {
    "duration": 301,
    "start_time": "2022-03-20T09:43:41.241Z"
   },
   {
    "duration": 22,
    "start_time": "2022-03-20T09:43:41.544Z"
   },
   {
    "duration": 8,
    "start_time": "2022-03-20T09:43:41.568Z"
   },
   {
    "duration": 11,
    "start_time": "2022-03-20T09:43:41.578Z"
   },
   {
    "duration": 9,
    "start_time": "2022-03-20T09:43:41.609Z"
   },
   {
    "duration": 4,
    "start_time": "2022-03-20T09:43:41.620Z"
   },
   {
    "duration": 12,
    "start_time": "2022-03-20T09:43:41.626Z"
   },
   {
    "duration": 5,
    "start_time": "2022-03-20T09:43:41.639Z"
   },
   {
    "duration": 202,
    "start_time": "2022-03-20T09:43:41.646Z"
   },
   {
    "duration": 7,
    "start_time": "2022-03-20T09:43:41.850Z"
   },
   {
    "duration": 4,
    "start_time": "2022-03-20T09:43:41.858Z"
   },
   {
    "duration": 13,
    "start_time": "2022-03-20T09:43:41.864Z"
   },
   {
    "duration": 256,
    "start_time": "2022-03-20T09:43:41.878Z"
   },
   {
    "duration": 242,
    "start_time": "2022-03-20T09:43:42.136Z"
   },
   {
    "duration": 240,
    "start_time": "2022-03-20T09:43:42.380Z"
   },
   {
    "duration": 194,
    "start_time": "2022-03-20T09:43:42.622Z"
   },
   {
    "duration": 170,
    "start_time": "2022-03-20T09:43:42.818Z"
   },
   {
    "duration": 169,
    "start_time": "2022-03-20T09:43:42.990Z"
   },
   {
    "duration": 139,
    "start_time": "2022-03-20T09:43:43.160Z"
   },
   {
    "duration": 316,
    "start_time": "2022-03-20T09:43:43.301Z"
   },
   {
    "duration": 148,
    "start_time": "2022-03-20T09:43:43.618Z"
   },
   {
    "duration": 5,
    "start_time": "2022-03-20T09:43:43.767Z"
   },
   {
    "duration": 6,
    "start_time": "2022-03-20T09:43:43.774Z"
   },
   {
    "duration": 175,
    "start_time": "2022-03-20T09:43:43.782Z"
   },
   {
    "duration": 155,
    "start_time": "2022-03-20T09:43:43.959Z"
   },
   {
    "duration": 169,
    "start_time": "2022-03-20T09:43:44.116Z"
   },
   {
    "duration": 66,
    "start_time": "2022-03-20T11:22:48.442Z"
   }
  ],
  "kernelspec": {
   "display_name": "Python 3 (ipykernel)",
   "language": "python",
   "name": "python3"
  },
  "language_info": {
   "codemirror_mode": {
    "name": "ipython",
    "version": 3
   },
   "file_extension": ".py",
   "mimetype": "text/x-python",
   "name": "python",
   "nbconvert_exporter": "python",
   "pygments_lexer": "ipython3",
   "version": "3.10.2"
  },
  "toc": {
   "base_numbering": 1,
   "nav_menu": {},
   "number_sections": true,
   "sideBar": true,
   "skip_h1_title": true,
   "title_cell": "Table of Contents",
   "title_sidebar": "Contents",
   "toc_cell": false,
   "toc_position": {},
   "toc_section_display": true,
   "toc_window_display": false
  }
 },
 "nbformat": 4,
 "nbformat_minor": 5
}
