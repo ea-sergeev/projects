{
 "cells": [
  {
   "cell_type": "markdown",
   "metadata": {
    "id": "E0vqbgi9ay0H"
   },
   "source": [
    "# Яндекс.Музыка"
   ]
  },
  {
   "cell_type": "markdown",
   "metadata": {
    "id": "VUC88oWjTJw2"
   },
   "source": [
    "Сравнение Москвы и Петербурга окружено мифами. Например:\n",
    " * Москва — мегаполис, подчинённый жёсткому ритму рабочей недели;\n",
    " * Петербург — культурная столица, со своими вкусами.\n",
    "\n",
    "На данных Яндекс.Музыки вы сравните поведение пользователей двух столиц.\n",
    "\n",
    "**Цель исследования** — проверьте три гипотезы:\n",
    "1. Активность пользователей зависит от дня недели. Причём в Москве и Петербурге это проявляется по-разному.\n",
    "2. В понедельник утром в Москве преобладают одни жанры, а в Петербурге — другие. Так же и вечером пятницы преобладают разные жанры — в зависимости от города. \n",
    "3. Москва и Петербург предпочитают разные жанры музыки. В Москве чаще слушают поп-музыку, в Петербурге — русский рэп.\n",
    "\n",
    "**Ход исследования**\n",
    "\n",
    "Данные о поведении пользователей вы получите из файла `yandex_music_project.csv`. О качестве данных ничего не известно. Поэтому перед проверкой гипотез понадобится обзор данных. \n",
    "\n",
    "Вы проверите данные на ошибки и оцените их влияние на исследование. Затем, на этапе предобработки вы поищете возможность исправить самые критичные ошибки данных.\n",
    " \n",
    "Таким образом, исследование пройдёт в три этапа:\n",
    " 1. Обзор данных.\n",
    " 2. Предобработка данных.\n",
    " 3. Проверка гипотез.\n",
    "\n"
   ]
  },
  {
   "cell_type": "markdown",
   "metadata": {
    "id": "Ml1hmfXC_Zcs"
   },
   "source": [
    "## Обзор данных\n",
    "\n",
    "Составьте первое представление о данных Яндекс.Музыки.\n",
    "\n",
    "\n"
   ]
  },
  {
   "cell_type": "markdown",
   "metadata": {
    "id": "57eAOGIz_Zcs"
   },
   "source": [
    "Основной инструмент аналитика — `pandas`. Импортируйте эту библиотеку."
   ]
  },
  {
   "cell_type": "code",
   "execution_count": 4,
   "metadata": {
    "id": "AXN7PHPN_Zcs"
   },
   "outputs": [],
   "source": [
    "# импорт библиотеки pandas\n",
    "import pandas as pd"
   ]
  },
  {
   "cell_type": "markdown",
   "metadata": {
    "id": "SG23P8tt_Zcs"
   },
   "source": [
    "Прочитайте файл `yandex_music_project.csv` из папки `/datasets` и сохраните его в переменной `df`:"
   ]
  },
  {
   "cell_type": "code",
   "execution_count": 5,
   "metadata": {
    "id": "fFVu7vqh_Zct"
   },
   "outputs": [],
   "source": [
    "# чтение файла с данными и сохранение в df\n",
    "df = pd.read_csv('/datasets/yandex_music_project.csv')"
   ]
  },
  {
   "cell_type": "markdown",
   "metadata": {
    "id": "rDoOMd3uTqnZ"
   },
   "source": [
    "Выведите на экран первые десять строк таблицы:"
   ]
  },
  {
   "cell_type": "code",
   "execution_count": 6,
   "metadata": {
    "id": "oWTVX3gW_Zct"
   },
   "outputs": [
    {
     "data": {
      "text/html": [
       "<div>\n",
       "<style scoped>\n",
       "    .dataframe tbody tr th:only-of-type {\n",
       "        vertical-align: middle;\n",
       "    }\n",
       "\n",
       "    .dataframe tbody tr th {\n",
       "        vertical-align: top;\n",
       "    }\n",
       "\n",
       "    .dataframe thead th {\n",
       "        text-align: right;\n",
       "    }\n",
       "</style>\n",
       "<table border=\"1\" class=\"dataframe\">\n",
       "  <thead>\n",
       "    <tr style=\"text-align: right;\">\n",
       "      <th></th>\n",
       "      <th>Unnamed: 0</th>\n",
       "      <th>userID</th>\n",
       "      <th>Track</th>\n",
       "      <th>artist</th>\n",
       "      <th>genre</th>\n",
       "      <th>City</th>\n",
       "      <th>time</th>\n",
       "      <th>Day</th>\n",
       "    </tr>\n",
       "  </thead>\n",
       "  <tbody>\n",
       "    <tr>\n",
       "      <th>0</th>\n",
       "      <td>0</td>\n",
       "      <td>FFB692EC</td>\n",
       "      <td>Kamigata To Boots</td>\n",
       "      <td>The Mass Missile</td>\n",
       "      <td>rock</td>\n",
       "      <td>Saint-Petersburg</td>\n",
       "      <td>20:28:33</td>\n",
       "      <td>Wednesday</td>\n",
       "    </tr>\n",
       "    <tr>\n",
       "      <th>1</th>\n",
       "      <td>1</td>\n",
       "      <td>55204538</td>\n",
       "      <td>Delayed Because of Accident</td>\n",
       "      <td>Andreas Rönnberg</td>\n",
       "      <td>rock</td>\n",
       "      <td>Moscow</td>\n",
       "      <td>14:07:09</td>\n",
       "      <td>Friday</td>\n",
       "    </tr>\n",
       "    <tr>\n",
       "      <th>2</th>\n",
       "      <td>2</td>\n",
       "      <td>20EC38</td>\n",
       "      <td>Funiculì funiculà</td>\n",
       "      <td>Mario Lanza</td>\n",
       "      <td>pop</td>\n",
       "      <td>Saint-Petersburg</td>\n",
       "      <td>20:58:07</td>\n",
       "      <td>Wednesday</td>\n",
       "    </tr>\n",
       "    <tr>\n",
       "      <th>3</th>\n",
       "      <td>3</td>\n",
       "      <td>A3DD03C9</td>\n",
       "      <td>Dragons in the Sunset</td>\n",
       "      <td>Fire + Ice</td>\n",
       "      <td>folk</td>\n",
       "      <td>Saint-Petersburg</td>\n",
       "      <td>08:37:09</td>\n",
       "      <td>Monday</td>\n",
       "    </tr>\n",
       "    <tr>\n",
       "      <th>4</th>\n",
       "      <td>4</td>\n",
       "      <td>E2DC1FAE</td>\n",
       "      <td>Soul People</td>\n",
       "      <td>Space Echo</td>\n",
       "      <td>dance</td>\n",
       "      <td>Moscow</td>\n",
       "      <td>08:34:34</td>\n",
       "      <td>Monday</td>\n",
       "    </tr>\n",
       "    <tr>\n",
       "      <th>5</th>\n",
       "      <td>5</td>\n",
       "      <td>842029A1</td>\n",
       "      <td>Преданная</td>\n",
       "      <td>IMPERVTOR</td>\n",
       "      <td>rusrap</td>\n",
       "      <td>Saint-Petersburg</td>\n",
       "      <td>13:09:41</td>\n",
       "      <td>Friday</td>\n",
       "    </tr>\n",
       "    <tr>\n",
       "      <th>6</th>\n",
       "      <td>6</td>\n",
       "      <td>4CB90AA5</td>\n",
       "      <td>True</td>\n",
       "      <td>Roman Messer</td>\n",
       "      <td>dance</td>\n",
       "      <td>Moscow</td>\n",
       "      <td>13:00:07</td>\n",
       "      <td>Wednesday</td>\n",
       "    </tr>\n",
       "    <tr>\n",
       "      <th>7</th>\n",
       "      <td>7</td>\n",
       "      <td>F03E1C1F</td>\n",
       "      <td>Feeling This Way</td>\n",
       "      <td>Polina Griffith</td>\n",
       "      <td>dance</td>\n",
       "      <td>Moscow</td>\n",
       "      <td>20:47:49</td>\n",
       "      <td>Wednesday</td>\n",
       "    </tr>\n",
       "    <tr>\n",
       "      <th>8</th>\n",
       "      <td>8</td>\n",
       "      <td>8FA1D3BE</td>\n",
       "      <td>И вновь продолжается бой</td>\n",
       "      <td>NaN</td>\n",
       "      <td>ruspop</td>\n",
       "      <td>Moscow</td>\n",
       "      <td>09:17:40</td>\n",
       "      <td>Friday</td>\n",
       "    </tr>\n",
       "    <tr>\n",
       "      <th>9</th>\n",
       "      <td>9</td>\n",
       "      <td>E772D5C0</td>\n",
       "      <td>Pessimist</td>\n",
       "      <td>NaN</td>\n",
       "      <td>dance</td>\n",
       "      <td>Saint-Petersburg</td>\n",
       "      <td>21:20:49</td>\n",
       "      <td>Wednesday</td>\n",
       "    </tr>\n",
       "  </tbody>\n",
       "</table>\n",
       "</div>"
      ],
      "text/plain": [
       "   Unnamed: 0    userID                        Track            artist  \\\n",
       "0           0  FFB692EC            Kamigata To Boots  The Mass Missile   \n",
       "1           1  55204538  Delayed Because of Accident  Andreas Rönnberg   \n",
       "2           2    20EC38            Funiculì funiculà       Mario Lanza   \n",
       "3           3  A3DD03C9        Dragons in the Sunset        Fire + Ice   \n",
       "4           4  E2DC1FAE                  Soul People        Space Echo   \n",
       "5           5  842029A1                    Преданная         IMPERVTOR   \n",
       "6           6  4CB90AA5                         True      Roman Messer   \n",
       "7           7  F03E1C1F             Feeling This Way   Polina Griffith   \n",
       "8           8  8FA1D3BE     И вновь продолжается бой               NaN   \n",
       "9           9  E772D5C0                    Pessimist               NaN   \n",
       "\n",
       "    genre            City        time        Day  \n",
       "0    rock  Saint-Petersburg  20:28:33  Wednesday  \n",
       "1    rock            Moscow  14:07:09     Friday  \n",
       "2     pop  Saint-Petersburg  20:58:07  Wednesday  \n",
       "3    folk  Saint-Petersburg  08:37:09     Monday  \n",
       "4   dance            Moscow  08:34:34     Monday  \n",
       "5  rusrap  Saint-Petersburg  13:09:41     Friday  \n",
       "6   dance            Moscow  13:00:07  Wednesday  \n",
       "7   dance            Moscow  20:47:49  Wednesday  \n",
       "8  ruspop            Moscow  09:17:40     Friday  \n",
       "9   dance  Saint-Petersburg  21:20:49  Wednesday  "
      ]
     },
     "execution_count": 6,
     "metadata": {},
     "output_type": "execute_result"
    }
   ],
   "source": [
    "# получение первых 10 строк таблицы df\n",
    "df.head(10)"
   ]
  },
  {
   "cell_type": "markdown",
   "metadata": {
    "id": "EO73Kwic_Zct"
   },
   "source": [
    "Одной командой получить общую информацию о таблице:"
   ]
  },
  {
   "cell_type": "code",
   "execution_count": 7,
   "metadata": {
    "id": "DSf2kIb-_Zct"
   },
   "outputs": [
    {
     "name": "stdout",
     "output_type": "stream",
     "text": [
      "<class 'pandas.core.frame.DataFrame'>\n",
      "RangeIndex: 65079 entries, 0 to 65078\n",
      "Data columns (total 8 columns):\n",
      " #   Column      Non-Null Count  Dtype \n",
      "---  ------      --------------  ----- \n",
      " 0   Unnamed: 0  65079 non-null  int64 \n",
      " 1     userID    65079 non-null  object\n",
      " 2   Track       63848 non-null  object\n",
      " 3   artist      57876 non-null  object\n",
      " 4   genre       63881 non-null  object\n",
      " 5     City      65079 non-null  object\n",
      " 6   time        65079 non-null  object\n",
      " 7   Day         65079 non-null  object\n",
      "dtypes: int64(1), object(7)\n",
      "memory usage: 4.0+ MB\n"
     ]
    }
   ],
   "source": [
    "# получение общей информации о данных в таблице df\n",
    "df.info()"
   ]
  },
  {
   "cell_type": "markdown",
   "metadata": {
    "id": "TaQ2Iwbr_Zct"
   },
   "source": [
    "Итак, в таблице семь столбцов. Тип данных во всех столбцах — `object`.\n",
    "\n",
    "Согласно документации к данным:\n",
    "* `userID` — идентификатор пользователя;\n",
    "* `Track` — название трека;  \n",
    "* `artist` — имя исполнителя;\n",
    "* `genre` — название жанра;\n",
    "* `City` — город пользователя;\n",
    "* `time` — время начала прослушивания;\n",
    "* `Day` — день недели.\n",
    "\n",
    "В названиях колонок видны три нарушения стиля:\n",
    "1. Строчные буквы сочетаются с прописными.\n",
    "2. Встречаются пробелы.\n",
    "3. Названия колонок написаны не в \"змеином_регистре\"\n",
    "\n",
    "\n",
    "\n",
    "Количество значений в столбцах различается. Значит, в данных есть пропущенные значения.\n"
   ]
  },
  {
   "cell_type": "markdown",
   "metadata": {
    "id": "MCB6-dXG_Zct"
   },
   "source": [
    "**Выводы**\n",
    "\n",
    "В каждой строке таблицы — данные о прослушанном треке. Часть колонок описывает саму композицию: название, исполнителя и жанр. Остальные данные рассказывают о пользователе: из какого он города, когда он слушал музыку. \n",
    "\n",
    "Предварительно можно утверждать, что, данных достаточно для проверки гипотез. Но встречаются пропуски в данных, а в названиях колонок — расхождения с хорошим стилем.\n",
    "\n",
    "Чтобы двигаться дальше, нужно устранить проблемы в данных."
   ]
  },
  {
   "cell_type": "markdown",
   "metadata": {
    "id": "SjYF6Ub9_Zct"
   },
   "source": [
    "## Предобработка данных\n",
    "Исправьте стиль в заголовках столбцов, исключите пропуски. Затем проверьте данные на дубликаты."
   ]
  },
  {
   "cell_type": "markdown",
   "metadata": {
    "id": "dIaKXr29_Zct"
   },
   "source": [
    "### Стиль заголовков\n",
    "Выведите на экран названия столбцов:"
   ]
  },
  {
   "cell_type": "code",
   "execution_count": 8,
   "metadata": {
    "id": "oKOTdF_Q_Zct"
   },
   "outputs": [
    {
     "data": {
      "text/plain": [
       "Index(['Unnamed: 0', '  userID', 'Track', 'artist', 'genre', '  City  ',\n",
       "       'time', 'Day'],\n",
       "      dtype='object')"
      ]
     },
     "execution_count": 8,
     "metadata": {},
     "output_type": "execute_result"
    }
   ],
   "source": [
    "# перечень названий столбцов таблицы df\n",
    "df.columns"
   ]
  },
  {
   "cell_type": "markdown",
   "metadata": {
    "id": "zj5534cv_Zct"
   },
   "source": [
    "Приведите названия в соответствие с хорошим стилем:\n",
    "* несколько слов в названии запишите в «змеином_регистре»,\n",
    "* все символы сделайте строчными,\n",
    "* устраните пробелы.\n",
    "\n",
    "Для этого переименуйте колонки так:\n",
    "* `'  userID'` → `'user_id'`;\n",
    "* `'Track'` → `'track'`;\n",
    "* `'  City  '` → `'city'`;\n",
    "* `'Day'` → `'day'`."
   ]
  },
  {
   "cell_type": "code",
   "execution_count": 9,
   "metadata": {
    "id": "ISlFqs5y_Zct"
   },
   "outputs": [],
   "source": [
    "# переименование столбцов\n",
    "df = df.rename(columns={'  userID':'user_id', 'Track':'track', '  City  ':'city', 'Day':'day'})"
   ]
  },
  {
   "cell_type": "markdown",
   "metadata": {
    "id": "1dqbh00J_Zct"
   },
   "source": [
    "Проверьте результат. Для этого ещё раз выведите на экран названия столбцов:"
   ]
  },
  {
   "cell_type": "code",
   "execution_count": 10,
   "metadata": {
    "id": "d4NOAmTW_Zct"
   },
   "outputs": [
    {
     "data": {
      "text/plain": [
       "Index(['Unnamed: 0', 'user_id', 'track', 'artist', 'genre', 'city', 'time',\n",
       "       'day'],\n",
       "      dtype='object')"
      ]
     },
     "execution_count": 10,
     "metadata": {},
     "output_type": "execute_result"
    }
   ],
   "source": [
    "# проверка результатов - перечень названий столбцов\n",
    "df.columns"
   ]
  },
  {
   "cell_type": "markdown",
   "metadata": {
    "id": "5ISfbcfY_Zct"
   },
   "source": [
    "### Пропуски значений\n",
    "Сначала посчитайте, сколько в таблице пропущенных значений. Для этого достаточно двух методов `pandas`:"
   ]
  },
  {
   "cell_type": "code",
   "execution_count": 11,
   "metadata": {
    "id": "RskX29qr_Zct"
   },
   "outputs": [
    {
     "data": {
      "text/plain": [
       "Unnamed: 0       0\n",
       "user_id          0\n",
       "track         1231\n",
       "artist        7203\n",
       "genre         1198\n",
       "city             0\n",
       "time             0\n",
       "day              0\n",
       "dtype: int64"
      ]
     },
     "execution_count": 11,
     "metadata": {},
     "output_type": "execute_result"
    }
   ],
   "source": [
    "# подсчёт пропусков\n",
    "df.isna().sum()"
   ]
  },
  {
   "cell_type": "markdown",
   "metadata": {
    "id": "qubhgnlO_Zct"
   },
   "source": [
    "Не все пропущенные значения влияют на исследование. Так в `track` и `artist` пропуски не важны для вашей работы. Достаточно заменить их явными обозначениями.\n",
    "\n",
    "Но пропуски в `genre` могут помешать сравнению музыкальных вкусов в Москве и Санкт-Петербурге. На практике было бы правильно установить причину пропусков и восстановить данные. Такой возможности нет в учебном проекте. Придётся:\n",
    "* заполнить и эти пропуски явными обозначениями,\n",
    "* оценить, насколько они повредят расчётам. "
   ]
  },
  {
   "cell_type": "markdown",
   "metadata": {
    "id": "fSv2laPA_Zct"
   },
   "source": [
    "Замените пропущенные значения в столбцах `track`, `artist` и `genre` на строку `'unknown'`. Для этого создайте список `columns_to_replace`, переберите его элементы циклом `for` и для каждого столбца выполните замену пропущенных значений:"
   ]
  },
  {
   "cell_type": "code",
   "execution_count": 12,
   "metadata": {
    "id": "KplB5qWs_Zct"
   },
   "outputs": [],
   "source": [
    "# перебор названий столбцов в цикле и замена пропущенных значений на 'unknown'\n",
    "columns_to_replace = ['track', 'artist', 'genre']\n",
    "for column in columns_to_replace:\n",
    "    df[column] = df[column].fillna('unknown')"
   ]
  },
  {
   "cell_type": "markdown",
   "metadata": {
    "id": "Ilsm-MZo_Zct"
   },
   "source": [
    "Убедитесь, что в таблице не осталось пропусков. Для этого ещё раз посчитайте пропущенные значения."
   ]
  },
  {
   "cell_type": "code",
   "execution_count": 13,
   "metadata": {
    "id": "Tq4nYRX4_Zct"
   },
   "outputs": [
    {
     "data": {
      "text/plain": [
       "Unnamed: 0    0\n",
       "user_id       0\n",
       "track         0\n",
       "artist        0\n",
       "genre         0\n",
       "city          0\n",
       "time          0\n",
       "day           0\n",
       "dtype: int64"
      ]
     },
     "execution_count": 13,
     "metadata": {},
     "output_type": "execute_result"
    }
   ],
   "source": [
    "# подсчёт пропусков\n",
    "df.isna().sum()"
   ]
  },
  {
   "cell_type": "markdown",
   "metadata": {
    "id": "BWKRtBJ3_Zct"
   },
   "source": [
    "### Дубликаты\n",
    "Посчитайте явные дубликаты в таблице одной командой:"
   ]
  },
  {
   "cell_type": "code",
   "execution_count": 14,
   "metadata": {
    "id": "36eES_S0_Zct"
   },
   "outputs": [
    {
     "data": {
      "text/plain": [
       "0"
      ]
     },
     "execution_count": 14,
     "metadata": {},
     "output_type": "execute_result"
    }
   ],
   "source": [
    "# подсчёт явных дубликатов\n",
    "df.duplicated().sum()"
   ]
  },
  {
   "cell_type": "markdown",
   "metadata": {
    "id": "Ot25h6XR_Zct"
   },
   "source": [
    "Вызовите специальный метод `pandas`, чтобы удалить явные дубликаты:"
   ]
  },
  {
   "cell_type": "code",
   "execution_count": 15,
   "metadata": {
    "id": "exFHq6tt_Zct"
   },
   "outputs": [],
   "source": [
    "# удаление явных дубликатов (с удалением старых индексов и формированием новых)\n",
    "df = df.drop_duplicates().reset_index(drop=True)"
   ]
  },
  {
   "cell_type": "markdown",
   "metadata": {
    "id": "Im2YwBEG_Zct"
   },
   "source": [
    "Ещё раз посчитайте явные дубликаты в таблице — убедитесь, что полностью от них избавились:"
   ]
  },
  {
   "cell_type": "code",
   "execution_count": 16,
   "metadata": {
    "id": "-8PuNWQ0_Zct"
   },
   "outputs": [
    {
     "data": {
      "text/plain": [
       "0"
      ]
     },
     "execution_count": 16,
     "metadata": {},
     "output_type": "execute_result"
    }
   ],
   "source": [
    "# проверка на отсутствие дубликатов\n",
    "df.duplicated().sum()"
   ]
  },
  {
   "cell_type": "markdown",
   "metadata": {
    "id": "QlFBsxAr_Zct"
   },
   "source": [
    "Теперь избавьтесь от неявных дубликатов в колонке `genre`. Например, название одного и того же жанра может быть записано немного по-разному. Такие ошибки тоже повлияют на результат исследования."
   ]
  },
  {
   "cell_type": "markdown",
   "metadata": {
    "id": "eSjWwsOh_Zct"
   },
   "source": [
    "Выведите на экран список уникальных названий жанров, отсортированный в алфавитном порядке. Для этого:\n",
    "* извлеките нужный столбец датафрейма, \n",
    "* примените к нему метод сортировки,\n",
    "* для отсортированного столбца вызовите метод, который вернёт уникальные значения из столбца."
   ]
  },
  {
   "cell_type": "code",
   "execution_count": 17,
   "metadata": {
    "id": "JIUcqzZN_Zct"
   },
   "outputs": [
    {
     "data": {
      "text/plain": [
       "array(['acid', 'acoustic', 'action', 'adult', 'africa', 'afrikaans',\n",
       "       'alternative', 'alternativepunk', 'ambient', 'americana',\n",
       "       'animated', 'anime', 'arabesk', 'arabic', 'arena',\n",
       "       'argentinetango', 'art', 'audiobook', 'author', 'avantgarde',\n",
       "       'axé', 'baile', 'balkan', 'beats', 'bigroom', 'black', 'bluegrass',\n",
       "       'blues', 'bollywood', 'bossa', 'brazilian', 'breakbeat', 'breaks',\n",
       "       'broadway', 'cantautori', 'cantopop', 'canzone', 'caribbean',\n",
       "       'caucasian', 'celtic', 'chamber', 'chanson', 'children', 'chill',\n",
       "       'chinese', 'choral', 'christian', 'christmas', 'classical',\n",
       "       'classicmetal', 'club', 'colombian', 'comedy', 'conjazz',\n",
       "       'contemporary', 'country', 'cuban', 'dance', 'dancehall',\n",
       "       'dancepop', 'dark', 'death', 'deep', 'deutschrock', 'deutschspr',\n",
       "       'dirty', 'disco', 'dnb', 'documentary', 'downbeat', 'downtempo',\n",
       "       'drum', 'dub', 'dubstep', 'eastern', 'easy', 'electronic',\n",
       "       'electropop', 'emo', 'entehno', 'epicmetal', 'estrada', 'ethnic',\n",
       "       'eurofolk', 'european', 'experimental', 'extrememetal', 'fado',\n",
       "       'fairytail', 'film', 'fitness', 'flamenco', 'folk', 'folklore',\n",
       "       'folkmetal', 'folkrock', 'folktronica', 'forró', 'frankreich',\n",
       "       'französisch', 'french', 'funk', 'future', 'gangsta', 'garage',\n",
       "       'german', 'ghazal', 'gitarre', 'glitch', 'gospel', 'gothic',\n",
       "       'grime', 'grunge', 'gypsy', 'handsup', \"hard'n'heavy\", 'hardcore',\n",
       "       'hardstyle', 'hardtechno', 'hip', 'hip-hop', 'hiphop',\n",
       "       'historisch', 'holiday', 'hop', 'horror', 'house', 'hymn', 'idm',\n",
       "       'independent', 'indian', 'indie', 'indipop', 'industrial',\n",
       "       'inspirational', 'instrumental', 'international', 'irish', 'jam',\n",
       "       'japanese', 'jazz', 'jewish', 'jpop', 'jungle', 'k-pop',\n",
       "       'karadeniz', 'karaoke', 'kayokyoku', 'korean', 'laiko', 'latin',\n",
       "       'latino', 'leftfield', 'local', 'lounge', 'loungeelectronic',\n",
       "       'lovers', 'malaysian', 'mandopop', 'marschmusik', 'meditative',\n",
       "       'mediterranean', 'melodic', 'metal', 'metalcore', 'mexican',\n",
       "       'middle', 'minimal', 'miscellaneous', 'modern', 'mood', 'mpb',\n",
       "       'muslim', 'native', 'neoklassik', 'neue', 'new', 'newage',\n",
       "       'newwave', 'nu', 'nujazz', 'numetal', 'oceania', 'old', 'opera',\n",
       "       'orchestral', 'other', 'piano', 'podcasts', 'pop', 'popdance',\n",
       "       'popelectronic', 'popeurodance', 'poprussian', 'post',\n",
       "       'posthardcore', 'postrock', 'power', 'progmetal', 'progressive',\n",
       "       'psychedelic', 'punjabi', 'punk', 'quebecois', 'ragga', 'ram',\n",
       "       'rancheras', 'rap', 'rave', 'reggae', 'reggaeton', 'regional',\n",
       "       'relax', 'religious', 'retro', 'rhythm', 'rnb', 'rnr', 'rock',\n",
       "       'rockabilly', 'rockalternative', 'rockindie', 'rockother',\n",
       "       'romance', 'roots', 'ruspop', 'rusrap', 'rusrock', 'russian',\n",
       "       'salsa', 'samba', 'scenic', 'schlager', 'self', 'sertanejo',\n",
       "       'shanson', 'shoegazing', 'showtunes', 'singer', 'ska', 'skarock',\n",
       "       'slow', 'smooth', 'soft', 'soul', 'soulful', 'sound', 'soundtrack',\n",
       "       'southern', 'specialty', 'speech', 'spiritual', 'sport',\n",
       "       'stonerrock', 'surf', 'swing', 'synthpop', 'synthrock',\n",
       "       'sängerportrait', 'tango', 'tanzorchester', 'taraftar', 'tatar',\n",
       "       'tech', 'techno', 'teen', 'thrash', 'top', 'traditional',\n",
       "       'tradjazz', 'trance', 'tribal', 'trip', 'triphop', 'tropical',\n",
       "       'türk', 'türkçe', 'ukrrock', 'unknown', 'urban', 'uzbek',\n",
       "       'variété', 'vi', 'videogame', 'vocal', 'western', 'world',\n",
       "       'worldbeat', 'ïîï', 'электроника'], dtype=object)"
      ]
     },
     "execution_count": 17,
     "metadata": {},
     "output_type": "execute_result"
    }
   ],
   "source": [
    "# Просмотр уникальных названий жанров\n",
    "genre_unique = df['genre'].sort_values().unique()\n",
    "genre_unique"
   ]
  },
  {
   "cell_type": "markdown",
   "metadata": {
    "id": "qej-Qmuo_Zct"
   },
   "source": [
    "Просмотрите список и найдите неявные дубликаты названия `hiphop`. Это могут быть названия с ошибками или альтернативные названия того же жанра.\n",
    "\n",
    "Вы увидите следующие неявные дубликаты:\n",
    "* *hip*,\n",
    "* *hop*,\n",
    "* *hip-hop*.\n",
    "\n",
    "Чтобы очистить от них таблицу, напишите функцию `replace_wrong_genres()` с двумя параметрами: \n",
    "* `wrong_genres` — список дубликатов,\n",
    "* `correct_genre` — строка с правильным значением.\n",
    "\n",
    "Функция должна исправить колонку `genre` в таблице `df`: заменить каждое значение из списка `wrong_genres` на значение из `correct_genre`."
   ]
  },
  {
   "cell_type": "code",
   "execution_count": 18,
   "metadata": {
    "id": "ErNDkmns_Zct"
   },
   "outputs": [],
   "source": [
    "# Функция для замены неявных дубликатов\n",
    "def replace_wrong_genres(wrong_genres, correct_genre):\n",
    "    for wrong_genre in wrong_genres:\n",
    "        df['genre'] = df['genre'].replace(wrong_genre, correct_genre)"
   ]
  },
  {
   "cell_type": "markdown",
   "metadata": {
    "id": "aDoBJxbA_Zct"
   },
   "source": [
    "Вызовите `replace_wrong_genres()` и передайте ей такие аргументы, чтобы она устранила неявные дубликаты: вместо `hip`, `hop` и `hip-hop` в таблице должно быть значение `hiphop`:"
   ]
  },
  {
   "cell_type": "code",
   "execution_count": 19,
   "metadata": {
    "id": "YN5i2hpmSo09"
   },
   "outputs": [],
   "source": [
    "# Устранение неявных дубликатов\n",
    "duplicates = ['hip', 'hop', 'hip-hop']\n",
    "correct_name = 'hiphop'\n",
    "replace_wrong_genres(duplicates, correct_name)"
   ]
  },
  {
   "cell_type": "markdown",
   "metadata": {
    "id": "zQKF16_RG15m"
   },
   "source": [
    "Проверьте, что заменили неправильные названия:\n",
    "\n",
    "*   hip\n",
    "*   hop\n",
    "*   hip-hop\n",
    "\n",
    "Выведите отсортированный список уникальных значений столбца `genre`:"
   ]
  },
  {
   "cell_type": "code",
   "execution_count": 20,
   "metadata": {
    "id": "wvixALnFG15m"
   },
   "outputs": [
    {
     "data": {
      "text/plain": [
       "array(['acid', 'acoustic', 'action', 'adult', 'africa', 'afrikaans',\n",
       "       'alternative', 'alternativepunk', 'ambient', 'americana',\n",
       "       'animated', 'anime', 'arabesk', 'arabic', 'arena',\n",
       "       'argentinetango', 'art', 'audiobook', 'author', 'avantgarde',\n",
       "       'axé', 'baile', 'balkan', 'beats', 'bigroom', 'black', 'bluegrass',\n",
       "       'blues', 'bollywood', 'bossa', 'brazilian', 'breakbeat', 'breaks',\n",
       "       'broadway', 'cantautori', 'cantopop', 'canzone', 'caribbean',\n",
       "       'caucasian', 'celtic', 'chamber', 'chanson', 'children', 'chill',\n",
       "       'chinese', 'choral', 'christian', 'christmas', 'classical',\n",
       "       'classicmetal', 'club', 'colombian', 'comedy', 'conjazz',\n",
       "       'contemporary', 'country', 'cuban', 'dance', 'dancehall',\n",
       "       'dancepop', 'dark', 'death', 'deep', 'deutschrock', 'deutschspr',\n",
       "       'dirty', 'disco', 'dnb', 'documentary', 'downbeat', 'downtempo',\n",
       "       'drum', 'dub', 'dubstep', 'eastern', 'easy', 'electronic',\n",
       "       'electropop', 'emo', 'entehno', 'epicmetal', 'estrada', 'ethnic',\n",
       "       'eurofolk', 'european', 'experimental', 'extrememetal', 'fado',\n",
       "       'fairytail', 'film', 'fitness', 'flamenco', 'folk', 'folklore',\n",
       "       'folkmetal', 'folkrock', 'folktronica', 'forró', 'frankreich',\n",
       "       'französisch', 'french', 'funk', 'future', 'gangsta', 'garage',\n",
       "       'german', 'ghazal', 'gitarre', 'glitch', 'gospel', 'gothic',\n",
       "       'grime', 'grunge', 'gypsy', 'handsup', \"hard'n'heavy\", 'hardcore',\n",
       "       'hardstyle', 'hardtechno', 'hiphop', 'historisch', 'holiday',\n",
       "       'horror', 'house', 'hymn', 'idm', 'independent', 'indian', 'indie',\n",
       "       'indipop', 'industrial', 'inspirational', 'instrumental',\n",
       "       'international', 'irish', 'jam', 'japanese', 'jazz', 'jewish',\n",
       "       'jpop', 'jungle', 'k-pop', 'karadeniz', 'karaoke', 'kayokyoku',\n",
       "       'korean', 'laiko', 'latin', 'latino', 'leftfield', 'local',\n",
       "       'lounge', 'loungeelectronic', 'lovers', 'malaysian', 'mandopop',\n",
       "       'marschmusik', 'meditative', 'mediterranean', 'melodic', 'metal',\n",
       "       'metalcore', 'mexican', 'middle', 'minimal', 'miscellaneous',\n",
       "       'modern', 'mood', 'mpb', 'muslim', 'native', 'neoklassik', 'neue',\n",
       "       'new', 'newage', 'newwave', 'nu', 'nujazz', 'numetal', 'oceania',\n",
       "       'old', 'opera', 'orchestral', 'other', 'piano', 'podcasts', 'pop',\n",
       "       'popdance', 'popelectronic', 'popeurodance', 'poprussian', 'post',\n",
       "       'posthardcore', 'postrock', 'power', 'progmetal', 'progressive',\n",
       "       'psychedelic', 'punjabi', 'punk', 'quebecois', 'ragga', 'ram',\n",
       "       'rancheras', 'rap', 'rave', 'reggae', 'reggaeton', 'regional',\n",
       "       'relax', 'religious', 'retro', 'rhythm', 'rnb', 'rnr', 'rock',\n",
       "       'rockabilly', 'rockalternative', 'rockindie', 'rockother',\n",
       "       'romance', 'roots', 'ruspop', 'rusrap', 'rusrock', 'russian',\n",
       "       'salsa', 'samba', 'scenic', 'schlager', 'self', 'sertanejo',\n",
       "       'shanson', 'shoegazing', 'showtunes', 'singer', 'ska', 'skarock',\n",
       "       'slow', 'smooth', 'soft', 'soul', 'soulful', 'sound', 'soundtrack',\n",
       "       'southern', 'specialty', 'speech', 'spiritual', 'sport',\n",
       "       'stonerrock', 'surf', 'swing', 'synthpop', 'synthrock',\n",
       "       'sängerportrait', 'tango', 'tanzorchester', 'taraftar', 'tatar',\n",
       "       'tech', 'techno', 'teen', 'thrash', 'top', 'traditional',\n",
       "       'tradjazz', 'trance', 'tribal', 'trip', 'triphop', 'tropical',\n",
       "       'türk', 'türkçe', 'ukrrock', 'unknown', 'urban', 'uzbek',\n",
       "       'variété', 'vi', 'videogame', 'vocal', 'western', 'world',\n",
       "       'worldbeat', 'ïîï', 'электроника'], dtype=object)"
      ]
     },
     "execution_count": 20,
     "metadata": {},
     "output_type": "execute_result"
    }
   ],
   "source": [
    "# Проверка на неявные дубликаты\n",
    "df['genre'].sort_values().unique()"
   ]
  },
  {
   "cell_type": "markdown",
   "metadata": {
    "id": "jz6a9-7HQUDd"
   },
   "source": [
    "**Выводы**\n",
    "\n",
    "Предобработка обнаружила три проблемы в данных:\n",
    "\n",
    "- нарушения в стиле заголовков,\n",
    "- пропущенные значения,\n",
    "- дубликаты — явные и неявные.\n",
    "\n",
    "Вы исправили заголовки, чтобы упростить работу с таблицей. Без дубликатов исследование станет более точным.\n",
    "\n",
    "Пропущенные значения вы заменили на `'unknown'`. Ещё предстоит увидеть, не повредят ли исследованию пропуски в колонке `genre`.\n",
    "\n",
    "Теперь можно перейти к проверке гипотез. "
   ]
  },
  {
   "cell_type": "markdown",
   "metadata": {
    "id": "WttZHXH0SqKk"
   },
   "source": [
    "## Проверка гипотез"
   ]
  },
  {
   "cell_type": "markdown",
   "metadata": {
    "id": "Im936VVi_Zcu"
   },
   "source": [
    "### Сравнение поведения пользователей двух столиц"
   ]
  },
  {
   "cell_type": "markdown",
   "metadata": {
    "id": "nwt_MuaL_Zcu"
   },
   "source": [
    "Первая гипотеза утверждает, что пользователи по-разному слушают музыку в Москве и Санкт-Петербурге. Проверьте это предположение по данным о трёх днях недели — понедельнике, среде и пятнице. Для этого:\n",
    "\n",
    "* Разделите пользователей Москвы и Санкт-Петербурга\n",
    "* Сравните, сколько треков послушала каждая группа пользователей в понедельник, среду и пятницу.\n"
   ]
  },
  {
   "cell_type": "markdown",
   "metadata": {
    "id": "8Dw_YMmT_Zcu"
   },
   "source": [
    "Для тренировки сначала выполните каждый из расчётов по отдельности. \n",
    "\n",
    "Оцените активность пользователей в каждом городе. Сгруппируйте данные по городу и посчитайте прослушивания в каждой группе.\n",
    "\n"
   ]
  },
  {
   "cell_type": "code",
   "execution_count": 21,
   "metadata": {
    "id": "0_Qs96oh_Zcu"
   },
   "outputs": [
    {
     "data": {
      "text/plain": [
       "city\n",
       "Moscow              45360\n",
       "Saint-Petersburg    19719\n",
       "Name: user_id, dtype: int64"
      ]
     },
     "execution_count": 21,
     "metadata": {},
     "output_type": "execute_result"
    }
   ],
   "source": [
    "# Подсчёт прослушиваний в каждом городе\n",
    "df.groupby(by='city')['user_id'].count()"
   ]
  },
  {
   "cell_type": "markdown",
   "metadata": {
    "id": "dzli3w8o_Zcu"
   },
   "source": [
    "В Москве прослушиваний больше, чем в Петербурге. Из этого не следует, что московские пользователи чаще слушают музыку. Просто самих пользователей в Москве больше.\n",
    "\n",
    "Теперь сгруппируйте данные по дню недели и подсчитайте прослушивания в понедельник, среду и пятницу. Учтите, что в данных есть информация только о прослушиваниях только за эти дни.\n"
   ]
  },
  {
   "cell_type": "code",
   "execution_count": 22,
   "metadata": {
    "id": "uZMKjiJz_Zcu"
   },
   "outputs": [
    {
     "data": {
      "text/plain": [
       "day\n",
       "Friday       23149\n",
       "Monday       22697\n",
       "Wednesday    19233\n",
       "Name: user_id, dtype: int64"
      ]
     },
     "execution_count": 22,
     "metadata": {},
     "output_type": "execute_result"
    }
   ],
   "source": [
    "# Подсчёт прослушиваний в каждый из трёх дней\n",
    "df.groupby(by='day')['user_id'].count()"
   ]
  },
  {
   "cell_type": "markdown",
   "metadata": {
    "id": "cC2tNrlL_Zcu"
   },
   "source": [
    "В среднем пользователи из двух городов менее активны по средам. Но картина может измениться, если рассмотреть каждый город в отдельности."
   ]
  },
  {
   "cell_type": "markdown",
   "metadata": {
    "id": "POzs8bGa_Zcu"
   },
   "source": [
    "Вы видели, как работает группировка по городу и по дням недели. Теперь напишите функцию, которая объединит два эти расчёта.\n",
    "\n",
    "Создайте функцию `number_tracks()`, которая посчитает прослушивания для заданного дня и города. Ей понадобятся два параметра:\n",
    "* день недели,\n",
    "* название города.\n",
    "\n",
    "В функции сохраните в переменную строки исходной таблицы, у которых значение:\n",
    "  * в колонке `day` равно параметру `day`,\n",
    "  * в колонке `city` равно параметру `city`.\n",
    "\n",
    "Для этого примените последовательную фильтрацию с логической индексацией.\n",
    "\n",
    "Затем посчитайте значения в столбце `user_id` получившейся таблицы. Результат сохраните в новую переменную. Верните эту переменную из функции."
   ]
  },
  {
   "cell_type": "code",
   "execution_count": 23,
   "metadata": {
    "id": "Nz3GdQB1_Zcu"
   },
   "outputs": [],
   "source": [
    "# <создание функции number_tracks()>\n",
    "# Объявляется функция с двумя параметрами: day, city.\n",
    "# В переменной track_list сохраняются те строки таблицы df, для которых \n",
    "# значение в столбце 'day' равно параметру day и одновременно значение\n",
    "# в столбце 'city' равно параметру city (используйте последовательную фильтрацию\n",
    "# с помощью логической индексации).\n",
    "# В переменной track_list_count сохраняется число значений столбца 'user_id',\n",
    "# рассчитанное методом count() для таблицы track_list.\n",
    "# Функция возвращает число - значение track_list_count.\n",
    "\n",
    "# Функция для подсчёта прослушиваний для конкретного города и дня.\n",
    "# С помощью последовательной фильтрации с логической индексацией она \n",
    "# сначала получит из исходной таблицы строки с нужным днём,\n",
    "# затем из результата отфильтрует строки с нужным городом,\n",
    "# методом count() посчитает количество значений в колонке user_id. \n",
    "# Это количество функция вернёт в качестве результата\n",
    "\n",
    "def number_tracks(day, city):\n",
    "    track_list = df[df['day'] == day]\n",
    "    track_list = track_list[track_list['city'] == city]\n",
    "    track_list_count = track_list['user_id'].count()\n",
    "    return track_list_count"
   ]
  },
  {
   "cell_type": "markdown",
   "metadata": {
    "id": "ytf7xFrFJQ2r"
   },
   "source": [
    "Вызовите `number_tracks()` шесть раз, меняя значение параметров — так, чтобы получить данные для каждого города в каждый из трёх дней."
   ]
  },
  {
   "cell_type": "code",
   "execution_count": 24,
   "metadata": {
    "id": "rJcRATNQ_Zcu"
   },
   "outputs": [],
   "source": [
    "# количество прослушиваний в Москве по понедельникам\n",
    "monday_msk = number_tracks('Monday', 'Moscow')"
   ]
  },
  {
   "cell_type": "code",
   "execution_count": 25,
   "metadata": {
    "id": "hq_ncZ5T_Zcu"
   },
   "outputs": [],
   "source": [
    "# количество прослушиваний в Санкт-Петербурге по понедельникам\n",
    "monday_spb = number_tracks('Monday', 'Saint-Petersburg')"
   ]
  },
  {
   "cell_type": "code",
   "execution_count": 26,
   "metadata": {
    "id": "_NTy2VPU_Zcu"
   },
   "outputs": [],
   "source": [
    "# количество прослушиваний в Москве по средам\n",
    "wednesday_msk = number_tracks('Wednesday', 'Moscow')"
   ]
  },
  {
   "cell_type": "code",
   "execution_count": 27,
   "metadata": {
    "id": "j2y3TAwo_Zcu"
   },
   "outputs": [],
   "source": [
    "# количество прослушиваний в Санкт-Петербурге по средам\n",
    "wednesday_spb = number_tracks('Wednesday', 'Saint-Petersburg')"
   ]
  },
  {
   "cell_type": "code",
   "execution_count": 28,
   "metadata": {
    "id": "vYDw5u_K_Zcu"
   },
   "outputs": [],
   "source": [
    "# количество прослушиваний в Москве по пятницам\n",
    "friday_msk = number_tracks('Friday', 'Moscow')"
   ]
  },
  {
   "cell_type": "code",
   "execution_count": 29,
   "metadata": {
    "id": "8_yzFtW3_Zcu"
   },
   "outputs": [],
   "source": [
    "# количество прослушиваний в Санкт-Петербурге по пятницам\n",
    "friday_spb = number_tracks('Friday', 'Saint-Petersburg')"
   ]
  },
  {
   "cell_type": "markdown",
   "metadata": {
    "id": "7QXffbO-_Zcu"
   },
   "source": [
    "Создайте c помощью конструктора `pd.DataFrame` таблицу, где\n",
    "* названия колонок — `['city', 'monday', 'wednesday', 'friday']`;\n",
    "* данные — результаты, которые вы получили с помощью `number_tracks`."
   ]
  },
  {
   "cell_type": "code",
   "execution_count": 30,
   "metadata": {
    "id": "APAcLpOr_Zcu",
    "scrolled": true
   },
   "outputs": [
    {
     "data": {
      "text/html": [
       "<div>\n",
       "<style scoped>\n",
       "    .dataframe tbody tr th:only-of-type {\n",
       "        vertical-align: middle;\n",
       "    }\n",
       "\n",
       "    .dataframe tbody tr th {\n",
       "        vertical-align: top;\n",
       "    }\n",
       "\n",
       "    .dataframe thead th {\n",
       "        text-align: right;\n",
       "    }\n",
       "</style>\n",
       "<table border=\"1\" class=\"dataframe\">\n",
       "  <thead>\n",
       "    <tr style=\"text-align: right;\">\n",
       "      <th></th>\n",
       "      <th>city</th>\n",
       "      <th>monday</th>\n",
       "      <th>wednesday</th>\n",
       "      <th>friday</th>\n",
       "    </tr>\n",
       "  </thead>\n",
       "  <tbody>\n",
       "    <tr>\n",
       "      <th>0</th>\n",
       "      <td>Moscow</td>\n",
       "      <td>16715</td>\n",
       "      <td>11755</td>\n",
       "      <td>16890</td>\n",
       "    </tr>\n",
       "    <tr>\n",
       "      <th>1</th>\n",
       "      <td>Saint-Petersburg</td>\n",
       "      <td>5982</td>\n",
       "      <td>7478</td>\n",
       "      <td>6259</td>\n",
       "    </tr>\n",
       "  </tbody>\n",
       "</table>\n",
       "</div>"
      ],
      "text/plain": [
       "               city  monday  wednesday  friday\n",
       "0            Moscow   16715      11755   16890\n",
       "1  Saint-Petersburg    5982       7478    6259"
      ]
     },
     "metadata": {},
     "output_type": "display_data"
    }
   ],
   "source": [
    "# Таблица с результатами\n",
    "columns = ['city', 'monday', 'wednesday', 'friday']\n",
    "data = [['Moscow', monday_msk, wednesday_msk, friday_msk], \n",
    "        ['Saint-Petersburg', monday_spb, wednesday_spb, friday_spb]]\n",
    "\n",
    "display(pd.DataFrame(data=data, columns=columns))"
   ]
  },
  {
   "cell_type": "markdown",
   "metadata": {
    "id": "-EgPIHYu_Zcu"
   },
   "source": [
    "**Выводы**\n",
    "\n",
    "Данные показывают разницу поведения пользователей:\n",
    "\n",
    "- В Москве пик прослушиваний приходится на понедельник и пятницу, а в среду заметен спад.\n",
    "- В Петербурге, наоборот, больше слушают музыку по средам. Активность в понедельник и пятницу здесь почти в равной мере уступает среде.\n",
    "\n",
    "Значит, данные говорят в пользу первой гипотезы."
   ]
  },
  {
   "cell_type": "markdown",
   "metadata": {
    "id": "atZAxtq4_Zcu"
   },
   "source": [
    "### Музыка в начале и в конце недели"
   ]
  },
  {
   "cell_type": "markdown",
   "metadata": {
    "id": "eXrQqXFH_Zcu"
   },
   "source": [
    "Согласно второй гипотезе, утром в понедельник в Москве преобладают одни жанры, а в Петербурге — другие. Так же и вечером пятницы преобладают разные жанры — в зависимости от города."
   ]
  },
  {
   "cell_type": "markdown",
   "metadata": {
    "id": "S8UcW6Hw_Zcu"
   },
   "source": [
    "Сохраните таблицы с данными в две переменные:\n",
    "* по Москве — в `moscow_general`;\n",
    "* по Санкт-Петербургу — в `spb_general`."
   ]
  },
  {
   "cell_type": "code",
   "execution_count": 31,
   "metadata": {
    "id": "qeaFfM_P_Zcu"
   },
   "outputs": [],
   "source": [
    "# получение таблицы moscow_general из тех строк таблицы df, \n",
    "# для которых значение в столбце 'city' равно 'Moscow'\n",
    "moscow_general = df[df['city'] == 'Moscow']"
   ]
  },
  {
   "cell_type": "code",
   "execution_count": 32,
   "metadata": {
    "id": "ORaVRKto_Zcu"
   },
   "outputs": [],
   "source": [
    "# получение таблицы spb_general из тех строк таблицы df,\n",
    "# для которых значение в столбце 'city' равно 'Saint-Petersburg'\n",
    "spb_general = df[df['city'] == 'Saint-Petersburg']"
   ]
  },
  {
   "cell_type": "markdown",
   "metadata": {
    "id": "MEJV-CX2_Zcu"
   },
   "source": [
    "Создайте функцию `genre_weekday()` с четырьмя параметрами:\n",
    "* таблица (датафрейм) с данными,\n",
    "* день недели,\n",
    "* начальная временная метка в формате 'hh:mm', \n",
    "* последняя временная метка в формате 'hh:mm'.\n",
    "\n",
    "Функция должна вернуть информацию о топ-10 жанров тех треков, которые прослушивали в указанный день, в промежутке между двумя отметками времени."
   ]
  },
  {
   "cell_type": "code",
   "execution_count": 33,
   "metadata": {
    "id": "laJT9BYl_Zcu"
   },
   "outputs": [],
   "source": [
    "# Объявление функции genre_weekday() с параметрами table, day, time1, time2,\n",
    "# которая возвращает информацию о самых популярных жанрах в указанный день в\n",
    "# заданное время:\n",
    "# 1) в переменную genre_df сохраняются те строки переданного датафрейма table, для\n",
    "#    которых одновременно:\n",
    "#    - значение в столбце day равно значению аргумента day\n",
    "#    - значение в столбце time больше значения аргумента time1\n",
    "#    - значение в столбце time меньше значения аргумента time2\n",
    "#    Используйте последовательную фильтрацию с помощью логической индексации.\n",
    "# 2) сгруппировать датафрейм genre_df по столбцу genre, взять один из его\n",
    "#    столбцов и посчитать методом count() количество записей для каждого из\n",
    "#    присутствующих жанров, получившийся Series записать в переменную\n",
    "#    genre_df_count\n",
    "# 3) отсортировать genre_df_count по убыванию встречаемости и сохранить\n",
    "#    в переменную genre_df_sorted\n",
    "# 4) вернуть Series из 10 первых значений genre_df_sorted, это будут топ-10\n",
    "#    популярных жанров (в указанный день, в заданное время)\n",
    "\n",
    "def genre_weekday(table, day, time1, time2):\n",
    "    genre_df = table[table['day'] == day]\n",
    "    genre_df = genre_df[genre_df['time'] > time1]\n",
    "    genre_df = genre_df[genre_df['time'] < time2]\n",
    "    genre_df_count = genre_df.groupby(by='genre')['user_id'].count()\n",
    "    genre_df_sorted = genre_df_count.sort_values(ascending=False)\n",
    "    return genre_df_sorted.head(10)"
   ]
  },
  {
   "cell_type": "markdown",
   "metadata": {
    "id": "la2s2_PF_Zcu"
   },
   "source": [
    "Cравните результаты функции `genre_weekday()` для Москвы и Санкт-Петербурга в понедельник утром (с 7:00 до 11:00) и в пятницу вечером (с 17:00 до 23:00):"
   ]
  },
  {
   "cell_type": "code",
   "execution_count": 34,
   "metadata": {
    "id": "yz7itPUQ_Zcu"
   },
   "outputs": [
    {
     "data": {
      "text/plain": [
       "genre\n",
       "pop            830\n",
       "dance          589\n",
       "rock           511\n",
       "electronic     501\n",
       "hiphop         311\n",
       "ruspop         203\n",
       "world          190\n",
       "rusrap         188\n",
       "alternative    175\n",
       "unknown        172\n",
       "Name: user_id, dtype: int64"
      ]
     },
     "execution_count": 34,
     "metadata": {},
     "output_type": "execute_result"
    }
   ],
   "source": [
    "# вызов функции для утра понедельника в Москве (вместо df — таблица moscow_general)\n",
    "# объекты, хранящие время, являются строками и сравниваются как строки\n",
    "# пример вызова: genre_weekday(moscow_general, 'Monday', '07:00', '11:00')\n",
    "genre_weekday(moscow_general, 'Monday', '07:00:00', '11:00:00')"
   ]
  },
  {
   "cell_type": "code",
   "execution_count": 35,
   "metadata": {
    "id": "kwUcHPdy_Zcu"
   },
   "outputs": [
    {
     "data": {
      "text/plain": [
       "genre\n",
       "pop            238\n",
       "dance          192\n",
       "rock           173\n",
       "electronic     154\n",
       "hiphop          88\n",
       "ruspop          68\n",
       "alternative     65\n",
       "rusrap          56\n",
       "jazz            47\n",
       "classical       42\n",
       "Name: user_id, dtype: int64"
      ]
     },
     "execution_count": 35,
     "metadata": {},
     "output_type": "execute_result"
    }
   ],
   "source": [
    "# вызов функции для утра понедельника в Петербурге (вместо df — таблица spb_general)\n",
    "genre_weekday(spb_general, 'Monday', '07:00:00', '11:00:00')"
   ]
  },
  {
   "cell_type": "code",
   "execution_count": 36,
   "metadata": {
    "id": "EzXVRE1o_Zcu"
   },
   "outputs": [
    {
     "data": {
      "text/plain": [
       "genre\n",
       "pop            761\n",
       "rock           546\n",
       "dance          521\n",
       "electronic     510\n",
       "hiphop         282\n",
       "world          220\n",
       "ruspop         184\n",
       "alternative    176\n",
       "classical      171\n",
       "rusrap         151\n",
       "Name: user_id, dtype: int64"
      ]
     },
     "execution_count": 36,
     "metadata": {},
     "output_type": "execute_result"
    }
   ],
   "source": [
    "# вызов функции для вечера пятницы в Москве\n",
    "genre_weekday(moscow_general, 'Friday', '17:00:00', '23:00:00')"
   ]
  },
  {
   "cell_type": "code",
   "execution_count": 37,
   "metadata": {
    "id": "JZaEKu5v_Zcu"
   },
   "outputs": [
    {
     "data": {
      "text/plain": [
       "genre\n",
       "pop            279\n",
       "rock           230\n",
       "electronic     227\n",
       "dance          221\n",
       "hiphop         103\n",
       "alternative     67\n",
       "jazz            66\n",
       "rusrap          66\n",
       "classical       64\n",
       "world           60\n",
       "Name: user_id, dtype: int64"
      ]
     },
     "execution_count": 37,
     "metadata": {},
     "output_type": "execute_result"
    }
   ],
   "source": [
    "# вызов функции для вечера пятницы в Петербурге\n",
    "genre_weekday(spb_general, 'Friday', '17:00:00', '23:00:00')"
   ]
  },
  {
   "cell_type": "markdown",
   "metadata": {
    "id": "wrCe4MNX_Zcu"
   },
   "source": [
    "**Выводы**\n",
    "\n",
    "Если сравнить топ-10 жанров в понедельник утром, можно сделать такие выводы:\n",
    "\n",
    "1. В Москве и Петербурге слушают похожую музыку. Единственное отличие — в московский рейтинг вошёл жанр “world”, а в петербургский — джаз и классика.\n",
    "\n",
    "2. В Москве пропущенных значений оказалось так много, что значение `'unknown'` заняло десятое место среди самых популярных жанров. Значит, пропущенные значения занимают существенную долю в данных и угрожают достоверности исследования.\n",
    "\n",
    "Вечер пятницы не меняет эту картину. Некоторые жанры поднимаются немного выше, другие спускаются, но в целом топ-10 остаётся тем же самым.\n",
    "\n",
    "Таким образом, вторая гипотеза подтвердилась лишь частично:\n",
    "* Пользователи слушают похожую музыку в начале недели и в конце.\n",
    "* Разница между Москвой и Петербургом не слишком выражена. В Москве чаще слушают русскую популярную музыку, в Петербурге — джаз.\n",
    "\n",
    "Однако пропуски в данных ставят под сомнение этот результат. В Москве их так много, что рейтинг топ-10 мог бы выглядеть иначе, если бы не утерянные  данные о жанрах."
   ]
  },
  {
   "cell_type": "markdown",
   "metadata": {
    "id": "JolODAqr_Zcu"
   },
   "source": [
    "### Жанровые предпочтения в Москве и Петербурге\n",
    "\n",
    "Гипотеза: Петербург — столица рэпа, музыку этого жанра там слушают чаще, чем в Москве.  А Москва — город контрастов, в котором, тем не менее, преобладает поп-музыка."
   ]
  },
  {
   "cell_type": "markdown",
   "metadata": {
    "id": "DlegSvaT_Zcu"
   },
   "source": [
    "Сгруппируйте таблицу `moscow_general` по жанру и посчитайте прослушивания треков каждого жанра методом `count()`. Затем отсортируйте результат в порядке убывания и сохраните его в таблице `moscow_genres`."
   ]
  },
  {
   "cell_type": "code",
   "execution_count": 38,
   "metadata": {
    "id": "r19lIPke_Zcu"
   },
   "outputs": [],
   "source": [
    "# одной строкой: группировка таблицы moscow_general по столбцу 'genre', \n",
    "# подсчёт числа значений 'genre' в этой группировке методом count(), \n",
    "# сортировка получившегося Series в порядке убывания и сохранение в moscow_genres\n",
    "moscow_genres = moscow_general.groupby(by='genre')['genre'].count().sort_values(ascending=False)"
   ]
  },
  {
   "cell_type": "markdown",
   "metadata": {
    "id": "6kMuomxTiIr8"
   },
   "source": [
    "Выведите на экран первые десять строк `moscow_genres`:"
   ]
  },
  {
   "cell_type": "code",
   "execution_count": 39,
   "metadata": {
    "id": "WhCSooF8_Zcv"
   },
   "outputs": [
    {
     "data": {
      "text/plain": [
       "genre\n",
       "pop            6253\n",
       "dance          4707\n",
       "rock           4188\n",
       "electronic     4010\n",
       "hiphop         2215\n",
       "classical      1712\n",
       "world          1516\n",
       "alternative    1466\n",
       "ruspop         1453\n",
       "rusrap         1239\n",
       "Name: genre, dtype: int64"
      ]
     },
     "execution_count": 39,
     "metadata": {},
     "output_type": "execute_result"
    }
   ],
   "source": [
    "# просмотр первых 10 строк moscow_genres\n",
    "moscow_genres.head(10)"
   ]
  },
  {
   "cell_type": "markdown",
   "metadata": {
    "id": "cnPG2vnN_Zcv"
   },
   "source": [
    "Теперь повторите то же и для Петербурга.\n",
    "\n",
    "Сгруппируйте таблицу `spb_general` по жанру. Посчитайте прослушивания треков каждого жанра. Результат отсортируйте в порядке убывания и сохраните в таблице `spb_genres`:\n"
   ]
  },
  {
   "cell_type": "code",
   "execution_count": 40,
   "metadata": {
    "id": "gluLIpE7_Zcv"
   },
   "outputs": [],
   "source": [
    "# одной строкой: группировка таблицы spb_general по столбцу 'genre', \n",
    "# подсчёт числа значений 'genre' в этой группировке методом count(), \n",
    "# сортировка получившегося Series в порядке убывания и сохранение в spb_genres\n",
    "spb_genres = spb_general.groupby(by='genre')['genre'].count().sort_values(ascending=False)"
   ]
  },
  {
   "cell_type": "markdown",
   "metadata": {
    "id": "5Doha_ODgyQ8"
   },
   "source": [
    "Выведите на экран первые десять строк `spb_genres`:"
   ]
  },
  {
   "cell_type": "code",
   "execution_count": 41,
   "metadata": {
    "id": "uaGJHjVU_Zcv"
   },
   "outputs": [
    {
     "data": {
      "text/plain": [
       "genre\n",
       "pop            2597\n",
       "dance          2054\n",
       "rock           2004\n",
       "electronic     1842\n",
       "hiphop         1020\n",
       "alternative     700\n",
       "classical       684\n",
       "rusrap          604\n",
       "ruspop          565\n",
       "world           553\n",
       "Name: genre, dtype: int64"
      ]
     },
     "execution_count": 41,
     "metadata": {},
     "output_type": "execute_result"
    }
   ],
   "source": [
    "# просмотр первых 10 строк spb_genres\n",
    "spb_genres.head(10)"
   ]
  },
  {
   "cell_type": "markdown",
   "metadata": {
    "id": "RY51YJYu_Zcv"
   },
   "source": [
    "**Выводы**"
   ]
  },
  {
   "cell_type": "markdown",
   "metadata": {
    "id": "nVhnJEm__Zcv"
   },
   "source": [
    "Гипотеза частично подтвердилась:\n",
    "* Поп-музыка — самый популярный жанр в Москве, как и предполагала гипотеза. Более того, в топ-10 жанров встречается близкий жанр — русская популярная музыка.\n",
    "* Вопреки ожиданиям, рэп одинаково популярен в Москве и Петербурге. \n"
   ]
  },
  {
   "cell_type": "markdown",
   "metadata": {
    "id": "ykKQ0N65_Zcv"
   },
   "source": [
    "## Итоги исследования"
   ]
  },
  {
   "cell_type": "markdown",
   "metadata": {
    "id": "tjUwbHb3_Zcv"
   },
   "source": [
    "Вы проверили три гипотезы и установили:\n",
    "\n",
    "1. День недели по-разному влияет на активность пользователей в Москве и Петербурге. \n",
    "\n",
    "Первая гипотеза полностью подтвердилась.\n",
    "\n",
    "2. Музыкальные предпочтения не сильно меняются в течение недели — будь то Москва или Петербург. Небольшие различия заметны в начале недели, по понедельникам:\n",
    "* в Москве слушают музыку жанра “world”,\n",
    "* в Петербурге — джаз и классику.\n",
    "\n",
    "Таким образом, вторая гипотеза подтвердилась лишь отчасти. Этот результат мог оказаться иным, если бы не пропуски в данных.\n",
    "\n",
    "3. Во вкусах пользователей Москвы и Петербурга больше общего чем различий. Вопреки ожиданиям, предпочтения жанров в Петербурге напоминают московские.\n",
    "\n",
    "Третья гипотеза не подтвердилась. Если различия в предпочтениях и существуют, на основной массе пользователей они незаметны.\n",
    "\n",
    "**На практике исследования содержат проверки статистических гипотез.**\n",
    "Из данных одного сервиса не всегда можно сделать вывод о всех жителях города.\n",
    "Проверки статистических гипотез покажут, насколько они достоверны, исходя из имеющихся данных. \n",
    "С методами проверок гипотез вы ещё познакомитесь в следующих темах."
   ]
  }
 ],
 "metadata": {
  "ExecuteTimeLog": [
   {
    "duration": 668,
    "start_time": "2022-02-05T12:06:02.218Z"
   },
   {
    "duration": 148,
    "start_time": "2022-02-05T12:06:47.724Z"
   },
   {
    "duration": 990,
    "start_time": "2022-02-05T12:07:35.442Z"
   },
   {
    "duration": 701,
    "start_time": "2022-02-05T23:07:27.852Z"
   },
   {
    "duration": 173,
    "start_time": "2022-02-05T23:07:32.602Z"
   },
   {
    "duration": 27,
    "start_time": "2022-02-05T23:07:58.149Z"
   },
   {
    "duration": 33,
    "start_time": "2022-02-05T23:08:29.969Z"
   },
   {
    "duration": 5,
    "start_time": "2022-02-05T23:23:23.603Z"
   },
   {
    "duration": 6,
    "start_time": "2022-02-05T23:23:33.487Z"
   },
   {
    "duration": 28,
    "start_time": "2022-02-05T23:27:14.431Z"
   },
   {
    "duration": 5,
    "start_time": "2022-02-05T23:27:30.041Z"
   },
   {
    "duration": 30,
    "start_time": "2022-02-05T23:28:32.229Z"
   },
   {
    "duration": 21,
    "start_time": "2022-02-05T23:32:54.367Z"
   },
   {
    "duration": 31,
    "start_time": "2022-02-05T23:33:15.255Z"
   },
   {
    "duration": 79,
    "start_time": "2022-02-05T23:33:34.772Z"
   },
   {
    "duration": 75,
    "start_time": "2022-02-05T23:33:49.320Z"
   },
   {
    "duration": 78,
    "start_time": "2022-02-05T23:34:17.849Z"
   },
   {
    "duration": 102,
    "start_time": "2022-02-05T23:38:09.937Z"
   },
   {
    "duration": 82,
    "start_time": "2022-02-05T23:39:13.709Z"
   },
   {
    "duration": 76,
    "start_time": "2022-02-05T23:39:22.364Z"
   },
   {
    "duration": 393,
    "start_time": "2022-02-05T23:41:50.032Z"
   },
   {
    "duration": 95,
    "start_time": "2022-02-05T23:42:01.884Z"
   },
   {
    "duration": 87,
    "start_time": "2022-02-05T23:42:41.951Z"
   },
   {
    "duration": 698,
    "start_time": "2022-02-05T23:43:59.902Z"
   },
   {
    "duration": 176,
    "start_time": "2022-02-05T23:44:00.603Z"
   },
   {
    "duration": 26,
    "start_time": "2022-02-05T23:44:00.782Z"
   },
   {
    "duration": 47,
    "start_time": "2022-02-05T23:44:00.811Z"
   },
   {
    "duration": 6,
    "start_time": "2022-02-05T23:44:00.861Z"
   },
   {
    "duration": 33,
    "start_time": "2022-02-05T23:44:00.869Z"
   },
   {
    "duration": 12,
    "start_time": "2022-02-05T23:44:00.904Z"
   },
   {
    "duration": 53,
    "start_time": "2022-02-05T23:44:00.919Z"
   },
   {
    "duration": 22,
    "start_time": "2022-02-05T23:44:00.976Z"
   },
   {
    "duration": 49,
    "start_time": "2022-02-05T23:44:01.001Z"
   },
   {
    "duration": 98,
    "start_time": "2022-02-05T23:44:01.052Z"
   },
   {
    "duration": 118,
    "start_time": "2022-02-05T23:44:01.152Z"
   },
   {
    "duration": 95,
    "start_time": "2022-02-05T23:44:01.273Z"
   },
   {
    "duration": 3,
    "start_time": "2022-02-05T23:44:01.371Z"
   },
   {
    "duration": 31,
    "start_time": "2022-02-05T23:44:01.377Z"
   },
   {
    "duration": 14,
    "start_time": "2022-02-05T23:44:01.411Z"
   },
   {
    "duration": 15,
    "start_time": "2022-02-05T23:44:01.427Z"
   },
   {
    "duration": 14,
    "start_time": "2022-02-05T23:44:01.445Z"
   },
   {
    "duration": 9,
    "start_time": "2022-02-05T23:44:01.462Z"
   },
   {
    "duration": 31,
    "start_time": "2022-02-05T23:44:01.474Z"
   },
   {
    "duration": 21,
    "start_time": "2022-02-05T23:44:01.508Z"
   },
   {
    "duration": 17,
    "start_time": "2022-02-05T23:44:01.532Z"
   },
   {
    "duration": 16,
    "start_time": "2022-02-05T23:44:01.552Z"
   },
   {
    "duration": 15,
    "start_time": "2022-02-05T23:44:01.571Z"
   },
   {
    "duration": 27,
    "start_time": "2022-02-05T23:44:01.588Z"
   },
   {
    "duration": 15,
    "start_time": "2022-02-05T23:44:01.617Z"
   },
   {
    "duration": 8,
    "start_time": "2022-02-05T23:44:01.637Z"
   },
   {
    "duration": 15,
    "start_time": "2022-02-05T23:44:01.648Z"
   },
   {
    "duration": 6,
    "start_time": "2022-02-05T23:44:01.666Z"
   },
   {
    "duration": 11,
    "start_time": "2022-02-05T23:44:01.675Z"
   },
   {
    "duration": 32,
    "start_time": "2022-02-05T23:44:01.688Z"
   },
   {
    "duration": 16,
    "start_time": "2022-02-05T23:44:01.723Z"
   },
   {
    "duration": 12,
    "start_time": "2022-02-05T23:44:01.742Z"
   },
   {
    "duration": 10,
    "start_time": "2022-02-05T23:44:01.756Z"
   },
   {
    "duration": 8,
    "start_time": "2022-02-05T23:44:01.768Z"
   },
   {
    "duration": 19,
    "start_time": "2022-02-05T23:44:01.778Z"
   },
   {
    "duration": 11,
    "start_time": "2022-02-05T23:44:01.800Z"
   },
   {
    "duration": 24,
    "start_time": "2022-02-05T23:44:01.813Z"
   },
   {
    "duration": 86,
    "start_time": "2022-02-05T23:45:18.647Z"
   },
   {
    "duration": 77,
    "start_time": "2022-02-05T23:45:24.998Z"
   },
   {
    "duration": 70,
    "start_time": "2022-02-05T23:45:44.206Z"
   },
   {
    "duration": 3,
    "start_time": "2022-02-05T23:46:36.967Z"
   },
   {
    "duration": 8,
    "start_time": "2022-02-05T23:46:52.381Z"
   },
   {
    "duration": 61,
    "start_time": "2022-02-05T23:48:25.292Z"
   },
   {
    "duration": 4,
    "start_time": "2022-02-05T23:55:12.586Z"
   },
   {
    "duration": 13,
    "start_time": "2022-02-05T23:57:55.968Z"
   },
   {
    "duration": 52,
    "start_time": "2022-02-05T23:58:23.646Z"
   },
   {
    "duration": 52,
    "start_time": "2022-02-05T23:58:34.849Z"
   },
   {
    "duration": 53,
    "start_time": "2022-02-06T00:05:21.014Z"
   },
   {
    "duration": 59,
    "start_time": "2022-02-06T00:05:27.154Z"
   },
   {
    "duration": 304,
    "start_time": "2022-02-06T00:07:03.384Z"
   },
   {
    "duration": 716,
    "start_time": "2022-02-06T00:07:54.035Z"
   },
   {
    "duration": 177,
    "start_time": "2022-02-06T00:07:54.753Z"
   },
   {
    "duration": 25,
    "start_time": "2022-02-06T00:07:54.933Z"
   },
   {
    "duration": 61,
    "start_time": "2022-02-06T00:07:54.961Z"
   },
   {
    "duration": 12,
    "start_time": "2022-02-06T00:07:55.025Z"
   },
   {
    "duration": 41,
    "start_time": "2022-02-06T00:07:55.039Z"
   },
   {
    "duration": 9,
    "start_time": "2022-02-06T00:07:55.083Z"
   },
   {
    "duration": 40,
    "start_time": "2022-02-06T00:07:55.094Z"
   },
   {
    "duration": 23,
    "start_time": "2022-02-06T00:07:55.139Z"
   },
   {
    "duration": 29,
    "start_time": "2022-02-06T00:07:55.165Z"
   },
   {
    "duration": 111,
    "start_time": "2022-02-06T00:07:55.196Z"
   },
   {
    "duration": 109,
    "start_time": "2022-02-06T00:07:55.309Z"
   },
   {
    "duration": 73,
    "start_time": "2022-02-06T00:08:01.164Z"
   },
   {
    "duration": 3,
    "start_time": "2022-02-06T00:08:18.085Z"
   },
   {
    "duration": 189,
    "start_time": "2022-02-06T00:08:18.091Z"
   },
   {
    "duration": 14,
    "start_time": "2022-02-06T00:08:18.283Z"
   },
   {
    "duration": 48,
    "start_time": "2022-02-06T00:08:18.300Z"
   },
   {
    "duration": 6,
    "start_time": "2022-02-06T00:08:18.351Z"
   },
   {
    "duration": 24,
    "start_time": "2022-02-06T00:08:18.359Z"
   },
   {
    "duration": 5,
    "start_time": "2022-02-06T00:08:18.386Z"
   },
   {
    "duration": 65,
    "start_time": "2022-02-06T00:08:18.393Z"
   },
   {
    "duration": 20,
    "start_time": "2022-02-06T00:08:18.462Z"
   },
   {
    "duration": 27,
    "start_time": "2022-02-06T00:08:18.485Z"
   },
   {
    "duration": 101,
    "start_time": "2022-02-06T00:08:18.515Z"
   },
   {
    "duration": 100,
    "start_time": "2022-02-06T00:08:18.619Z"
   },
   {
    "duration": 72,
    "start_time": "2022-02-06T00:08:18.722Z"
   },
   {
    "duration": 71,
    "start_time": "2022-02-06T00:08:18.797Z"
   },
   {
    "duration": 4,
    "start_time": "2022-02-06T00:08:18.871Z"
   },
   {
    "duration": 21,
    "start_time": "2022-02-06T00:08:18.878Z"
   },
   {
    "duration": 53,
    "start_time": "2022-02-06T00:08:29.035Z"
   },
   {
    "duration": 27,
    "start_time": "2022-02-06T00:12:03.536Z"
   },
   {
    "duration": 60,
    "start_time": "2022-02-06T00:13:22.198Z"
   },
   {
    "duration": 41,
    "start_time": "2022-02-06T00:13:40.164Z"
   },
   {
    "duration": 30,
    "start_time": "2022-02-06T00:14:05.413Z"
   },
   {
    "duration": 29,
    "start_time": "2022-02-06T00:14:23.522Z"
   },
   {
    "duration": 33,
    "start_time": "2022-02-06T00:15:24.654Z"
   },
   {
    "duration": 31,
    "start_time": "2022-02-06T00:15:54.188Z"
   },
   {
    "duration": 58,
    "start_time": "2022-02-06T00:19:36.671Z"
   },
   {
    "duration": 58,
    "start_time": "2022-02-06T00:20:36.573Z"
   },
   {
    "duration": 32,
    "start_time": "2022-02-06T00:21:13.180Z"
   },
   {
    "duration": 33,
    "start_time": "2022-02-06T00:21:23.295Z"
   },
   {
    "duration": 30,
    "start_time": "2022-02-06T00:21:37.855Z"
   },
   {
    "duration": 32,
    "start_time": "2022-02-06T00:21:46.731Z"
   },
   {
    "duration": 30,
    "start_time": "2022-02-06T00:21:58.580Z"
   },
   {
    "duration": 83,
    "start_time": "2022-02-06T00:22:25.522Z"
   },
   {
    "duration": 30,
    "start_time": "2022-02-06T00:23:40.171Z"
   },
   {
    "duration": 40,
    "start_time": "2022-02-06T00:24:27.615Z"
   },
   {
    "duration": 5,
    "start_time": "2022-02-06T01:33:04.510Z"
   },
   {
    "duration": 34,
    "start_time": "2022-02-06T01:33:50.058Z"
   },
   {
    "duration": 31,
    "start_time": "2022-02-06T01:34:26.576Z"
   },
   {
    "duration": 4,
    "start_time": "2022-02-06T01:36:08.842Z"
   },
   {
    "duration": 23,
    "start_time": "2022-02-06T01:36:13.138Z"
   },
   {
    "duration": 21,
    "start_time": "2022-02-06T01:36:16.443Z"
   },
   {
    "duration": 19,
    "start_time": "2022-02-06T01:36:51.130Z"
   },
   {
    "duration": 21,
    "start_time": "2022-02-06T01:37:14.180Z"
   },
   {
    "duration": 27,
    "start_time": "2022-02-06T01:37:53.789Z"
   },
   {
    "duration": 18,
    "start_time": "2022-02-06T01:38:11.971Z"
   },
   {
    "duration": 21,
    "start_time": "2022-02-06T01:38:30.443Z"
   },
   {
    "duration": 19,
    "start_time": "2022-02-06T01:41:26.051Z"
   },
   {
    "duration": 16,
    "start_time": "2022-02-06T01:41:34.259Z"
   },
   {
    "duration": 17,
    "start_time": "2022-02-06T01:41:35.474Z"
   },
   {
    "duration": 17,
    "start_time": "2022-02-06T01:41:36.151Z"
   },
   {
    "duration": 20,
    "start_time": "2022-02-06T01:41:36.625Z"
   },
   {
    "duration": 19,
    "start_time": "2022-02-06T01:41:37.218Z"
   },
   {
    "duration": 43,
    "start_time": "2022-02-06T01:45:28.658Z"
   },
   {
    "duration": 15,
    "start_time": "2022-02-06T01:45:59.812Z"
   },
   {
    "duration": 16,
    "start_time": "2022-02-06T01:47:39.250Z"
   },
   {
    "duration": 15,
    "start_time": "2022-02-06T01:48:24.257Z"
   },
   {
    "duration": 15,
    "start_time": "2022-02-06T01:50:22.357Z"
   },
   {
    "duration": 12,
    "start_time": "2022-02-06T01:55:59.292Z"
   },
   {
    "duration": 13,
    "start_time": "2022-02-06T01:56:20.130Z"
   },
   {
    "duration": 91,
    "start_time": "2022-02-06T02:01:09.456Z"
   },
   {
    "duration": 15,
    "start_time": "2022-02-06T02:01:15.689Z"
   },
   {
    "duration": 12,
    "start_time": "2022-02-06T02:01:44.346Z"
   },
   {
    "duration": 27,
    "start_time": "2022-02-06T02:14:45.260Z"
   },
   {
    "duration": 13,
    "start_time": "2022-02-06T02:15:17.497Z"
   },
   {
    "duration": 286,
    "start_time": "2022-02-06T02:20:06.283Z"
   },
   {
    "duration": 7,
    "start_time": "2022-02-06T02:20:11.966Z"
   },
   {
    "duration": 20,
    "start_time": "2022-02-06T02:20:15.081Z"
   },
   {
    "duration": 20,
    "start_time": "2022-02-06T02:20:52.442Z"
   },
   {
    "duration": 18,
    "start_time": "2022-02-06T02:22:53.127Z"
   },
   {
    "duration": 14,
    "start_time": "2022-02-06T02:22:54.264Z"
   },
   {
    "duration": 5,
    "start_time": "2022-02-06T02:22:57.789Z"
   },
   {
    "duration": 19,
    "start_time": "2022-02-06T02:23:01.228Z"
   },
   {
    "duration": 721,
    "start_time": "2022-02-06T02:23:59.247Z"
   },
   {
    "duration": 191,
    "start_time": "2022-02-06T02:23:59.970Z"
   },
   {
    "duration": 26,
    "start_time": "2022-02-06T02:24:00.164Z"
   },
   {
    "duration": 38,
    "start_time": "2022-02-06T02:24:00.193Z"
   },
   {
    "duration": 23,
    "start_time": "2022-02-06T02:24:00.234Z"
   },
   {
    "duration": 36,
    "start_time": "2022-02-06T02:24:00.259Z"
   },
   {
    "duration": 6,
    "start_time": "2022-02-06T02:24:00.298Z"
   },
   {
    "duration": 62,
    "start_time": "2022-02-06T02:24:00.308Z"
   },
   {
    "duration": 25,
    "start_time": "2022-02-06T02:24:00.373Z"
   },
   {
    "duration": 63,
    "start_time": "2022-02-06T02:24:00.401Z"
   },
   {
    "duration": 140,
    "start_time": "2022-02-06T02:24:00.468Z"
   },
   {
    "duration": 157,
    "start_time": "2022-02-06T02:24:00.611Z"
   },
   {
    "duration": 127,
    "start_time": "2022-02-06T02:24:00.771Z"
   },
   {
    "duration": 111,
    "start_time": "2022-02-06T02:24:00.901Z"
   },
   {
    "duration": 5,
    "start_time": "2022-02-06T02:24:01.016Z"
   },
   {
    "duration": 35,
    "start_time": "2022-02-06T02:24:01.025Z"
   },
   {
    "duration": 116,
    "start_time": "2022-02-06T02:24:01.064Z"
   },
   {
    "duration": 23,
    "start_time": "2022-02-06T02:24:01.183Z"
   },
   {
    "duration": 38,
    "start_time": "2022-02-06T02:24:01.210Z"
   },
   {
    "duration": 7,
    "start_time": "2022-02-06T02:24:01.252Z"
   },
   {
    "duration": 44,
    "start_time": "2022-02-06T02:24:01.262Z"
   },
   {
    "duration": 41,
    "start_time": "2022-02-06T02:24:01.310Z"
   },
   {
    "duration": 32,
    "start_time": "2022-02-06T02:24:01.358Z"
   },
   {
    "duration": 31,
    "start_time": "2022-02-06T02:24:01.394Z"
   },
   {
    "duration": 38,
    "start_time": "2022-02-06T02:24:01.428Z"
   },
   {
    "duration": 48,
    "start_time": "2022-02-06T02:24:01.468Z"
   },
   {
    "duration": 61,
    "start_time": "2022-02-06T02:24:01.519Z"
   },
   {
    "duration": 47,
    "start_time": "2022-02-06T02:24:01.583Z"
   },
   {
    "duration": 14,
    "start_time": "2022-02-06T02:24:01.632Z"
   },
   {
    "duration": 398,
    "start_time": "2022-02-06T02:24:07.741Z"
   },
   {
    "duration": 6,
    "start_time": "2022-02-06T02:24:12.425Z"
   },
   {
    "duration": 19,
    "start_time": "2022-02-06T02:24:16.636Z"
   },
   {
    "duration": 6,
    "start_time": "2022-02-06T02:25:18.679Z"
   },
   {
    "duration": 20,
    "start_time": "2022-02-06T02:25:21.712Z"
   },
   {
    "duration": 6,
    "start_time": "2022-02-06T02:25:33.377Z"
   },
   {
    "duration": 21,
    "start_time": "2022-02-06T02:25:36.058Z"
   },
   {
    "duration": 6,
    "start_time": "2022-02-06T02:26:00.090Z"
   },
   {
    "duration": 36,
    "start_time": "2022-02-06T02:26:03.672Z"
   },
   {
    "duration": 6,
    "start_time": "2022-02-06T02:26:38.580Z"
   },
   {
    "duration": 36,
    "start_time": "2022-02-06T02:26:41.028Z"
   },
   {
    "duration": 8,
    "start_time": "2022-02-06T02:27:19.415Z"
   },
   {
    "duration": 26,
    "start_time": "2022-02-06T02:27:22.763Z"
   },
   {
    "duration": 26,
    "start_time": "2022-02-06T02:27:45.575Z"
   },
   {
    "duration": 6,
    "start_time": "2022-02-06T02:28:12.227Z"
   },
   {
    "duration": 37,
    "start_time": "2022-02-06T02:28:14.386Z"
   },
   {
    "duration": 6,
    "start_time": "2022-02-06T02:28:46.683Z"
   },
   {
    "duration": 40,
    "start_time": "2022-02-06T02:28:49.067Z"
   },
   {
    "duration": 6,
    "start_time": "2022-02-06T02:29:25.790Z"
   },
   {
    "duration": 27,
    "start_time": "2022-02-06T02:29:29.007Z"
   },
   {
    "duration": 29,
    "start_time": "2022-02-06T02:29:37.347Z"
   },
   {
    "duration": 6,
    "start_time": "2022-02-06T02:30:43.526Z"
   },
   {
    "duration": 30,
    "start_time": "2022-02-06T02:30:46.022Z"
   },
   {
    "duration": 6,
    "start_time": "2022-02-06T02:31:21.082Z"
   },
   {
    "duration": 30,
    "start_time": "2022-02-06T02:31:23.282Z"
   },
   {
    "duration": 7,
    "start_time": "2022-02-06T02:33:53.886Z"
   },
   {
    "duration": 32,
    "start_time": "2022-02-06T02:33:55.806Z"
   },
   {
    "duration": 6,
    "start_time": "2022-02-06T02:34:34.240Z"
   },
   {
    "duration": 28,
    "start_time": "2022-02-06T02:34:36.506Z"
   },
   {
    "duration": 6,
    "start_time": "2022-02-06T02:35:01.033Z"
   },
   {
    "duration": 28,
    "start_time": "2022-02-06T02:35:03.138Z"
   },
   {
    "duration": 6,
    "start_time": "2022-02-06T02:35:15.558Z"
   },
   {
    "duration": 26,
    "start_time": "2022-02-06T02:35:17.770Z"
   },
   {
    "duration": 17,
    "start_time": "2022-02-06T02:36:09.760Z"
   },
   {
    "duration": 24,
    "start_time": "2022-02-06T02:36:57.300Z"
   },
   {
    "duration": 16,
    "start_time": "2022-02-06T02:37:20.425Z"
   },
   {
    "duration": 25,
    "start_time": "2022-02-06T02:39:00.196Z"
   },
   {
    "duration": 11,
    "start_time": "2022-02-06T02:42:13.238Z"
   },
   {
    "duration": 13,
    "start_time": "2022-02-06T02:42:27.558Z"
   },
   {
    "duration": 14,
    "start_time": "2022-02-06T02:42:45.942Z"
   },
   {
    "duration": 6,
    "start_time": "2022-02-06T02:43:36.526Z"
   },
   {
    "duration": 11,
    "start_time": "2022-02-06T02:43:40.146Z"
   },
   {
    "duration": 7,
    "start_time": "2022-02-06T02:43:42.401Z"
   },
   {
    "duration": 8,
    "start_time": "2022-02-06T02:44:19.105Z"
   },
   {
    "duration": 8,
    "start_time": "2022-02-06T02:44:33.639Z"
   },
   {
    "duration": 692,
    "start_time": "2022-02-06T02:47:29.494Z"
   },
   {
    "duration": 173,
    "start_time": "2022-02-06T02:47:33.525Z"
   },
   {
    "duration": 26,
    "start_time": "2022-02-06T02:47:36.719Z"
   },
   {
    "duration": 4,
    "start_time": "2022-02-06T02:49:30.815Z"
   },
   {
    "duration": 201,
    "start_time": "2022-02-06T02:49:30.822Z"
   },
   {
    "duration": 28,
    "start_time": "2022-02-06T02:49:31.026Z"
   },
   {
    "duration": 34,
    "start_time": "2022-02-06T02:49:31.057Z"
   },
   {
    "duration": 7,
    "start_time": "2022-02-06T02:49:31.095Z"
   },
   {
    "duration": 64,
    "start_time": "2022-02-06T02:49:31.105Z"
   },
   {
    "duration": 7,
    "start_time": "2022-02-06T02:49:31.172Z"
   },
   {
    "duration": 36,
    "start_time": "2022-02-06T02:49:31.182Z"
   },
   {
    "duration": 45,
    "start_time": "2022-02-06T02:49:31.224Z"
   },
   {
    "duration": 34,
    "start_time": "2022-02-06T02:49:31.273Z"
   },
   {
    "duration": 104,
    "start_time": "2022-02-06T02:49:31.310Z"
   },
   {
    "duration": 93,
    "start_time": "2022-02-06T02:49:31.417Z"
   },
   {
    "duration": 79,
    "start_time": "2022-02-06T02:49:31.513Z"
   },
   {
    "duration": 62,
    "start_time": "2022-02-06T02:49:31.595Z"
   },
   {
    "duration": 3,
    "start_time": "2022-02-06T02:49:31.660Z"
   },
   {
    "duration": 16,
    "start_time": "2022-02-06T02:49:31.666Z"
   },
   {
    "duration": 75,
    "start_time": "2022-02-06T02:49:31.685Z"
   },
   {
    "duration": 14,
    "start_time": "2022-02-06T02:49:31.763Z"
   },
   {
    "duration": 14,
    "start_time": "2022-02-06T02:49:31.779Z"
   },
   {
    "duration": 5,
    "start_time": "2022-02-06T02:49:31.795Z"
   },
   {
    "duration": 60,
    "start_time": "2022-02-06T02:49:31.802Z"
   },
   {
    "duration": 18,
    "start_time": "2022-02-06T02:49:31.865Z"
   },
   {
    "duration": 16,
    "start_time": "2022-02-06T02:49:31.885Z"
   },
   {
    "duration": 15,
    "start_time": "2022-02-06T02:49:31.904Z"
   },
   {
    "duration": 43,
    "start_time": "2022-02-06T02:49:31.921Z"
   },
   {
    "duration": 16,
    "start_time": "2022-02-06T02:49:31.967Z"
   },
   {
    "duration": 12,
    "start_time": "2022-02-06T02:49:31.988Z"
   },
   {
    "duration": 52,
    "start_time": "2022-02-06T02:49:32.002Z"
   },
   {
    "duration": 21,
    "start_time": "2022-02-06T02:49:32.056Z"
   },
   {
    "duration": 5,
    "start_time": "2022-02-06T02:49:32.080Z"
   },
   {
    "duration": 30,
    "start_time": "2022-02-06T02:49:32.088Z"
   },
   {
    "duration": 34,
    "start_time": "2022-02-06T02:49:32.121Z"
   },
   {
    "duration": 23,
    "start_time": "2022-02-06T02:49:32.158Z"
   },
   {
    "duration": 28,
    "start_time": "2022-02-06T02:49:32.184Z"
   },
   {
    "duration": 39,
    "start_time": "2022-02-06T02:49:32.215Z"
   },
   {
    "duration": 6,
    "start_time": "2022-02-06T02:49:32.256Z"
   },
   {
    "duration": 20,
    "start_time": "2022-02-06T02:49:32.265Z"
   },
   {
    "duration": 11,
    "start_time": "2022-02-06T02:49:32.287Z"
   },
   {
    "duration": 65,
    "start_time": "2022-02-06T02:50:37.012Z"
   },
   {
    "duration": 56,
    "start_time": "2022-02-06T02:50:47.544Z"
   },
   {
    "duration": 710,
    "start_time": "2022-02-06T02:51:23.708Z"
   },
   {
    "duration": 169,
    "start_time": "2022-02-06T02:51:24.421Z"
   },
   {
    "duration": 24,
    "start_time": "2022-02-06T02:51:24.593Z"
   },
   {
    "duration": 50,
    "start_time": "2022-02-06T02:51:24.620Z"
   },
   {
    "duration": 6,
    "start_time": "2022-02-06T02:51:24.673Z"
   },
   {
    "duration": 26,
    "start_time": "2022-02-06T02:51:24.681Z"
   },
   {
    "duration": 6,
    "start_time": "2022-02-06T02:51:24.710Z"
   },
   {
    "duration": 30,
    "start_time": "2022-02-06T02:51:24.750Z"
   },
   {
    "duration": 23,
    "start_time": "2022-02-06T02:51:24.784Z"
   },
   {
    "duration": 60,
    "start_time": "2022-02-06T02:51:24.810Z"
   },
   {
    "duration": 104,
    "start_time": "2022-02-06T02:51:24.873Z"
   },
   {
    "duration": 107,
    "start_time": "2022-02-06T02:51:24.981Z"
   },
   {
    "duration": 83,
    "start_time": "2022-02-06T02:51:25.091Z"
   },
   {
    "duration": 59,
    "start_time": "2022-02-06T02:51:32.810Z"
   },
   {
    "duration": 4,
    "start_time": "2022-02-06T02:51:50.989Z"
   },
   {
    "duration": 23,
    "start_time": "2022-02-06T02:51:50.997Z"
   },
   {
    "duration": 57,
    "start_time": "2022-02-06T02:51:51.024Z"
   },
   {
    "duration": 16,
    "start_time": "2022-02-06T02:51:51.084Z"
   },
   {
    "duration": 13,
    "start_time": "2022-02-06T02:51:51.102Z"
   },
   {
    "duration": 5,
    "start_time": "2022-02-06T02:51:51.149Z"
   },
   {
    "duration": 26,
    "start_time": "2022-02-06T02:51:51.156Z"
   },
   {
    "duration": 16,
    "start_time": "2022-02-06T02:51:51.185Z"
   },
   {
    "duration": 16,
    "start_time": "2022-02-06T02:51:51.204Z"
   },
   {
    "duration": 40,
    "start_time": "2022-02-06T02:51:51.222Z"
   },
   {
    "duration": 17,
    "start_time": "2022-02-06T02:51:51.265Z"
   },
   {
    "duration": 16,
    "start_time": "2022-02-06T02:51:51.284Z"
   },
   {
    "duration": 12,
    "start_time": "2022-02-06T02:51:51.303Z"
   },
   {
    "duration": 44,
    "start_time": "2022-02-06T02:51:51.317Z"
   },
   {
    "duration": 12,
    "start_time": "2022-02-06T02:51:51.363Z"
   },
   {
    "duration": 7,
    "start_time": "2022-02-06T02:51:51.378Z"
   },
   {
    "duration": 60,
    "start_time": "2022-02-06T02:51:51.388Z"
   },
   {
    "duration": 17,
    "start_time": "2022-02-06T02:51:51.450Z"
   },
   {
    "duration": 20,
    "start_time": "2022-02-06T02:51:51.469Z"
   },
   {
    "duration": 15,
    "start_time": "2022-02-06T02:51:51.491Z"
   },
   {
    "duration": 41,
    "start_time": "2022-02-06T02:51:51.508Z"
   },
   {
    "duration": 5,
    "start_time": "2022-02-06T02:51:51.552Z"
   },
   {
    "duration": 8,
    "start_time": "2022-02-06T02:51:51.561Z"
   },
   {
    "duration": 6,
    "start_time": "2022-02-06T02:51:51.571Z"
   },
   {
    "duration": 5,
    "start_time": "2022-02-06T02:52:55.054Z"
   },
   {
    "duration": 7,
    "start_time": "2022-02-06T02:53:58.641Z"
   },
   {
    "duration": 7,
    "start_time": "2022-02-06T02:54:13.771Z"
   }
  ],
  "colab": {
   "collapsed_sections": [
    "E0vqbgi9ay0H",
    "VUC88oWjTJw2"
   ],
   "name": "yandex_music_project_2021.2.ipynb",
   "provenance": []
  },
  "kernelspec": {
   "display_name": "Python 3 (ipykernel)",
   "language": "python",
   "name": "python3"
  },
  "language_info": {
   "codemirror_mode": {
    "name": "ipython",
    "version": 3
   },
   "file_extension": ".py",
   "mimetype": "text/x-python",
   "name": "python",
   "nbconvert_exporter": "python",
   "pygments_lexer": "ipython3",
   "version": "3.10.1"
  },
  "toc": {
   "base_numbering": 1,
   "nav_menu": {},
   "number_sections": false,
   "sideBar": true,
   "skip_h1_title": false,
   "title_cell": "Table of Contents",
   "title_sidebar": "Contents",
   "toc_cell": false,
   "toc_position": {},
   "toc_section_display": true,
   "toc_window_display": true
  }
 },
 "nbformat": 4,
 "nbformat_minor": 4
}
