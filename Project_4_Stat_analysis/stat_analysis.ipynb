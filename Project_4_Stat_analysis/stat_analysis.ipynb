{
 "cells": [
  {
   "cell_type": "markdown",
   "id": "55c5928e-c434-4a47-9ee9-61b301a5e93f",
   "metadata": {},
   "source": [
    "# Анализ тарифов сотового оператора"
   ]
  },
  {
   "cell_type": "markdown",
   "id": "c215bace-150b-4373-ba18-c6611290fc6e",
   "metadata": {},
   "source": [
    "#### Описание проекта\n",
    "Вы аналитик компании «Мегалайн» — федерального оператора сотовой связи. Клиентам предлагают два тарифных плана: «Смарт» и «Ультра». Чтобы скорректировать рекламный бюджет, коммерческий департамент хочет понять, какой тариф приносит больше денег.\n",
    "Вам предстоит сделать предварительный анализ тарифов на небольшой выборке клиентов. В вашем распоряжении данные 500 пользователей «Мегалайна»: кто они, откуда, каким тарифом пользуются, сколько звонков и сообщений каждый отправил за 2018 год. Нужно проанализировать поведение клиентов и сделать вывод — какой тариф лучше.\n",
    "\n",
    "Описание тарифов\n",
    "\n",
    "**Тариф «Смарт»**\n",
    "1. Ежемесячная плата: 550 рублей\n",
    "2. Включено 500 минут разговора, 50 сообщений и 15 Гб интернет-трафика\n",
    "3. Стоимость услуг сверх тарифного пакета:\n",
    "    * минута разговора: 3 рубля\n",
    "    * сообщение: 3 рубля\n",
    "    * 1 Гб интернет-трафика: 200 рублей\n",
    "**Тариф «Ультра»**\n",
    "1. Ежемесячная плата: 1950 рублей\n",
    "2. Включено 3000 минут разговора, 1000 сообщений и 30 Гб интернет-трафика\n",
    "3. Стоимость услуг сверх тарифного пакета:\n",
    "    * минута разговора: 1 рубль\n",
    "    * сообщение: 1 рубль\n",
    "    * 1 Гб интернет-трафика: 150 рублей\n",
    "    \n",
    "Примечание:\n",
    "\n",
    "«Мегалайн» всегда округляет секунды до минут, а мегабайты — до гигабайт. Каждый звонок округляется отдельно: даже если он длился всего 1 секунду, будет засчитан как 1 минута.\n",
    "Для веб-трафика отдельные сессии не считаются. Вместо этого общая сумма за месяц округляется в бо́льшую сторону. Если абонент использует 1025 мегабайт в этом месяце, с него возьмут плату за 2 гигабайта."
   ]
  },
  {
   "cell_type": "markdown",
   "id": "988bb104-1085-4c1d-ae0a-3e4ead67184d",
   "metadata": {},
   "source": [
    "## Шаг 1. Откроем файлы с данными и изучим общую информацию"
   ]
  },
  {
   "cell_type": "code",
   "execution_count": 226,
   "id": "0ac0cf50-1c89-4496-b570-d108c21ab237",
   "metadata": {},
   "outputs": [],
   "source": [
    "import pandas as pd\n",
    "import matplotlib.pyplot as plt\n",
    "import numpy as np\n",
    "import math\n",
    "import scipy.stats"
   ]
  },
  {
   "cell_type": "code",
   "execution_count": 227,
   "id": "77fe1792-c1ec-4ebe-bc7a-bc44ca373445",
   "metadata": {},
   "outputs": [],
   "source": [
    "try:\n",
    "    calls = pd.read_csv('/datasets/calls.csv')\n",
    "    internet = pd.read_csv('/datasets/internet.csv')\n",
    "    messages = pd.read_csv('/datasets/messages.csv')\n",
    "    tariffs = pd.read_csv('/datasets/tariffs.csv')\n",
    "    users = pd.read_csv('/datasets/users.csv')\n",
    "except FileNotFoundError:\n",
    "    calls = pd.read_csv('../../datasets/project_4/calls.csv')\n",
    "    internet = pd.read_csv('../../datasets/project_4/internet.csv')\n",
    "    messages = pd.read_csv('../../datasets/project_4/messages.csv')\n",
    "    tariffs = pd.read_csv('../../datasets/project_4/tariffs.csv')\n",
    "    users = pd.read_csv('../../datasets/project_4/users.csv')\n",
    "\n",
    "pd.set_option('display.max_columns', None)"
   ]
  },
  {
   "cell_type": "markdown",
   "id": "54ceeff1-2486-4bf5-ac8c-9bfc855723ac",
   "metadata": {},
   "source": [
    "Откроем файлы с данными и посмотрим информацию о них"
   ]
  },
  {
   "cell_type": "code",
   "execution_count": 228,
   "id": "a462362e-8bc0-47a5-83a0-b6f09e405d78",
   "metadata": {},
   "outputs": [
    {
     "data": {
      "text/html": [
       "<div>\n",
       "<style scoped>\n",
       "    .dataframe tbody tr th:only-of-type {\n",
       "        vertical-align: middle;\n",
       "    }\n",
       "\n",
       "    .dataframe tbody tr th {\n",
       "        vertical-align: top;\n",
       "    }\n",
       "\n",
       "    .dataframe thead th {\n",
       "        text-align: right;\n",
       "    }\n",
       "</style>\n",
       "<table border=\"1\" class=\"dataframe\">\n",
       "  <thead>\n",
       "    <tr style=\"text-align: right;\">\n",
       "      <th></th>\n",
       "      <th>id</th>\n",
       "      <th>call_date</th>\n",
       "      <th>duration</th>\n",
       "      <th>user_id</th>\n",
       "    </tr>\n",
       "  </thead>\n",
       "  <tbody>\n",
       "    <tr>\n",
       "      <th>0</th>\n",
       "      <td>1000_0</td>\n",
       "      <td>2018-07-25</td>\n",
       "      <td>0.00</td>\n",
       "      <td>1000</td>\n",
       "    </tr>\n",
       "    <tr>\n",
       "      <th>1</th>\n",
       "      <td>1000_1</td>\n",
       "      <td>2018-08-17</td>\n",
       "      <td>0.00</td>\n",
       "      <td>1000</td>\n",
       "    </tr>\n",
       "    <tr>\n",
       "      <th>2</th>\n",
       "      <td>1000_2</td>\n",
       "      <td>2018-06-11</td>\n",
       "      <td>2.85</td>\n",
       "      <td>1000</td>\n",
       "    </tr>\n",
       "    <tr>\n",
       "      <th>3</th>\n",
       "      <td>1000_3</td>\n",
       "      <td>2018-09-21</td>\n",
       "      <td>13.80</td>\n",
       "      <td>1000</td>\n",
       "    </tr>\n",
       "    <tr>\n",
       "      <th>4</th>\n",
       "      <td>1000_4</td>\n",
       "      <td>2018-12-15</td>\n",
       "      <td>5.18</td>\n",
       "      <td>1000</td>\n",
       "    </tr>\n",
       "  </tbody>\n",
       "</table>\n",
       "</div>"
      ],
      "text/plain": [
       "       id   call_date  duration  user_id\n",
       "0  1000_0  2018-07-25      0.00     1000\n",
       "1  1000_1  2018-08-17      0.00     1000\n",
       "2  1000_2  2018-06-11      2.85     1000\n",
       "3  1000_3  2018-09-21     13.80     1000\n",
       "4  1000_4  2018-12-15      5.18     1000"
      ]
     },
     "execution_count": 228,
     "metadata": {},
     "output_type": "execute_result"
    }
   ],
   "source": [
    "calls.head()"
   ]
  },
  {
   "cell_type": "code",
   "execution_count": 229,
   "id": "cbd67913-2261-487a-8e0c-0c399440666e",
   "metadata": {},
   "outputs": [
    {
     "name": "stdout",
     "output_type": "stream",
     "text": [
      "<class 'pandas.core.frame.DataFrame'>\n",
      "RangeIndex: 202607 entries, 0 to 202606\n",
      "Data columns (total 4 columns):\n",
      " #   Column     Non-Null Count   Dtype  \n",
      "---  ------     --------------   -----  \n",
      " 0   id         202607 non-null  object \n",
      " 1   call_date  202607 non-null  object \n",
      " 2   duration   202607 non-null  float64\n",
      " 3   user_id    202607 non-null  int64  \n",
      "dtypes: float64(1), int64(1), object(2)\n",
      "memory usage: 6.2+ MB\n"
     ]
    }
   ],
   "source": [
    "calls.info()"
   ]
  },
  {
   "cell_type": "markdown",
   "id": "93be0562-2663-41e5-bf63-a22d60e5dbfa",
   "metadata": {},
   "source": [
    "**Таблица calls (информация о звонках):**\n",
    "* id — уникальный номер звонка\n",
    "* call_date — дата звонка\n",
    "* duration — длительность звонка в минутах\n",
    "* user_id — идентификатор пользователя, сделавшего звонок"
   ]
  },
  {
   "cell_type": "code",
   "execution_count": 230,
   "id": "d6f50f72-a373-43e8-83f6-25545a3ebca1",
   "metadata": {},
   "outputs": [
    {
     "data": {
      "text/html": [
       "<div>\n",
       "<style scoped>\n",
       "    .dataframe tbody tr th:only-of-type {\n",
       "        vertical-align: middle;\n",
       "    }\n",
       "\n",
       "    .dataframe tbody tr th {\n",
       "        vertical-align: top;\n",
       "    }\n",
       "\n",
       "    .dataframe thead th {\n",
       "        text-align: right;\n",
       "    }\n",
       "</style>\n",
       "<table border=\"1\" class=\"dataframe\">\n",
       "  <thead>\n",
       "    <tr style=\"text-align: right;\">\n",
       "      <th></th>\n",
       "      <th>Unnamed: 0</th>\n",
       "      <th>id</th>\n",
       "      <th>mb_used</th>\n",
       "      <th>session_date</th>\n",
       "      <th>user_id</th>\n",
       "    </tr>\n",
       "  </thead>\n",
       "  <tbody>\n",
       "    <tr>\n",
       "      <th>0</th>\n",
       "      <td>0</td>\n",
       "      <td>1000_0</td>\n",
       "      <td>112.95</td>\n",
       "      <td>2018-11-25</td>\n",
       "      <td>1000</td>\n",
       "    </tr>\n",
       "    <tr>\n",
       "      <th>1</th>\n",
       "      <td>1</td>\n",
       "      <td>1000_1</td>\n",
       "      <td>1052.81</td>\n",
       "      <td>2018-09-07</td>\n",
       "      <td>1000</td>\n",
       "    </tr>\n",
       "    <tr>\n",
       "      <th>2</th>\n",
       "      <td>2</td>\n",
       "      <td>1000_2</td>\n",
       "      <td>1197.26</td>\n",
       "      <td>2018-06-25</td>\n",
       "      <td>1000</td>\n",
       "    </tr>\n",
       "    <tr>\n",
       "      <th>3</th>\n",
       "      <td>3</td>\n",
       "      <td>1000_3</td>\n",
       "      <td>550.27</td>\n",
       "      <td>2018-08-22</td>\n",
       "      <td>1000</td>\n",
       "    </tr>\n",
       "    <tr>\n",
       "      <th>4</th>\n",
       "      <td>4</td>\n",
       "      <td>1000_4</td>\n",
       "      <td>302.56</td>\n",
       "      <td>2018-09-24</td>\n",
       "      <td>1000</td>\n",
       "    </tr>\n",
       "  </tbody>\n",
       "</table>\n",
       "</div>"
      ],
      "text/plain": [
       "   Unnamed: 0      id  mb_used session_date  user_id\n",
       "0           0  1000_0   112.95   2018-11-25     1000\n",
       "1           1  1000_1  1052.81   2018-09-07     1000\n",
       "2           2  1000_2  1197.26   2018-06-25     1000\n",
       "3           3  1000_3   550.27   2018-08-22     1000\n",
       "4           4  1000_4   302.56   2018-09-24     1000"
      ]
     },
     "execution_count": 230,
     "metadata": {},
     "output_type": "execute_result"
    }
   ],
   "source": [
    "internet.head()"
   ]
  },
  {
   "cell_type": "code",
   "execution_count": 231,
   "id": "9423ed56-435d-4132-95a3-0430e9c4b5de",
   "metadata": {},
   "outputs": [
    {
     "name": "stdout",
     "output_type": "stream",
     "text": [
      "<class 'pandas.core.frame.DataFrame'>\n",
      "RangeIndex: 149396 entries, 0 to 149395\n",
      "Data columns (total 5 columns):\n",
      " #   Column        Non-Null Count   Dtype  \n",
      "---  ------        --------------   -----  \n",
      " 0   Unnamed: 0    149396 non-null  int64  \n",
      " 1   id            149396 non-null  object \n",
      " 2   mb_used       149396 non-null  float64\n",
      " 3   session_date  149396 non-null  object \n",
      " 4   user_id       149396 non-null  int64  \n",
      "dtypes: float64(1), int64(2), object(2)\n",
      "memory usage: 5.7+ MB\n"
     ]
    }
   ],
   "source": [
    "internet.info()"
   ]
  },
  {
   "cell_type": "markdown",
   "id": "453779cb-be95-440b-95e6-127e59adee1e",
   "metadata": {},
   "source": [
    "**Таблица internet (информация об интернет-сессиях):**\n",
    "* id — уникальный номер сессии\n",
    "* mb_used — объём потраченного за сессию интернет-трафика (в мегабайтах)\n",
    "* session_date — дата интернет-сессии\n",
    "* user_id — идентификатор пользователя"
   ]
  },
  {
   "cell_type": "code",
   "execution_count": 232,
   "id": "a1125de2-eb34-4d1e-b198-0b79ae59f7c6",
   "metadata": {},
   "outputs": [
    {
     "data": {
      "text/html": [
       "<div>\n",
       "<style scoped>\n",
       "    .dataframe tbody tr th:only-of-type {\n",
       "        vertical-align: middle;\n",
       "    }\n",
       "\n",
       "    .dataframe tbody tr th {\n",
       "        vertical-align: top;\n",
       "    }\n",
       "\n",
       "    .dataframe thead th {\n",
       "        text-align: right;\n",
       "    }\n",
       "</style>\n",
       "<table border=\"1\" class=\"dataframe\">\n",
       "  <thead>\n",
       "    <tr style=\"text-align: right;\">\n",
       "      <th></th>\n",
       "      <th>id</th>\n",
       "      <th>message_date</th>\n",
       "      <th>user_id</th>\n",
       "    </tr>\n",
       "  </thead>\n",
       "  <tbody>\n",
       "    <tr>\n",
       "      <th>0</th>\n",
       "      <td>1000_0</td>\n",
       "      <td>2018-06-27</td>\n",
       "      <td>1000</td>\n",
       "    </tr>\n",
       "    <tr>\n",
       "      <th>1</th>\n",
       "      <td>1000_1</td>\n",
       "      <td>2018-10-08</td>\n",
       "      <td>1000</td>\n",
       "    </tr>\n",
       "    <tr>\n",
       "      <th>2</th>\n",
       "      <td>1000_2</td>\n",
       "      <td>2018-08-04</td>\n",
       "      <td>1000</td>\n",
       "    </tr>\n",
       "    <tr>\n",
       "      <th>3</th>\n",
       "      <td>1000_3</td>\n",
       "      <td>2018-06-16</td>\n",
       "      <td>1000</td>\n",
       "    </tr>\n",
       "    <tr>\n",
       "      <th>4</th>\n",
       "      <td>1000_4</td>\n",
       "      <td>2018-12-05</td>\n",
       "      <td>1000</td>\n",
       "    </tr>\n",
       "  </tbody>\n",
       "</table>\n",
       "</div>"
      ],
      "text/plain": [
       "       id message_date  user_id\n",
       "0  1000_0   2018-06-27     1000\n",
       "1  1000_1   2018-10-08     1000\n",
       "2  1000_2   2018-08-04     1000\n",
       "3  1000_3   2018-06-16     1000\n",
       "4  1000_4   2018-12-05     1000"
      ]
     },
     "execution_count": 232,
     "metadata": {},
     "output_type": "execute_result"
    }
   ],
   "source": [
    "messages.head()"
   ]
  },
  {
   "cell_type": "code",
   "execution_count": 233,
   "id": "243a7561-b884-4d59-9d7d-45c61d831c89",
   "metadata": {},
   "outputs": [
    {
     "name": "stdout",
     "output_type": "stream",
     "text": [
      "<class 'pandas.core.frame.DataFrame'>\n",
      "RangeIndex: 123036 entries, 0 to 123035\n",
      "Data columns (total 3 columns):\n",
      " #   Column        Non-Null Count   Dtype \n",
      "---  ------        --------------   ----- \n",
      " 0   id            123036 non-null  object\n",
      " 1   message_date  123036 non-null  object\n",
      " 2   user_id       123036 non-null  int64 \n",
      "dtypes: int64(1), object(2)\n",
      "memory usage: 2.8+ MB\n"
     ]
    }
   ],
   "source": [
    "messages.info()"
   ]
  },
  {
   "cell_type": "markdown",
   "id": "bd685727-ce62-4298-9a7b-5f578bbec63d",
   "metadata": {},
   "source": [
    "**Таблица messages (информация о сообщениях):**\n",
    "* id — уникальный номер сообщения\n",
    "* message_date — дата сообщения\n",
    "* user_id — идентификатор пользователя, отправившего сообщение"
   ]
  },
  {
   "cell_type": "code",
   "execution_count": 234,
   "id": "1ae25084-2ec2-455d-b8b7-8e5dc6092d2f",
   "metadata": {},
   "outputs": [
    {
     "data": {
      "text/html": [
       "<div>\n",
       "<style scoped>\n",
       "    .dataframe tbody tr th:only-of-type {\n",
       "        vertical-align: middle;\n",
       "    }\n",
       "\n",
       "    .dataframe tbody tr th {\n",
       "        vertical-align: top;\n",
       "    }\n",
       "\n",
       "    .dataframe thead th {\n",
       "        text-align: right;\n",
       "    }\n",
       "</style>\n",
       "<table border=\"1\" class=\"dataframe\">\n",
       "  <thead>\n",
       "    <tr style=\"text-align: right;\">\n",
       "      <th></th>\n",
       "      <th>messages_included</th>\n",
       "      <th>mb_per_month_included</th>\n",
       "      <th>minutes_included</th>\n",
       "      <th>rub_monthly_fee</th>\n",
       "      <th>rub_per_gb</th>\n",
       "      <th>rub_per_message</th>\n",
       "      <th>rub_per_minute</th>\n",
       "      <th>tariff_name</th>\n",
       "    </tr>\n",
       "  </thead>\n",
       "  <tbody>\n",
       "    <tr>\n",
       "      <th>0</th>\n",
       "      <td>50</td>\n",
       "      <td>15360</td>\n",
       "      <td>500</td>\n",
       "      <td>550</td>\n",
       "      <td>200</td>\n",
       "      <td>3</td>\n",
       "      <td>3</td>\n",
       "      <td>smart</td>\n",
       "    </tr>\n",
       "    <tr>\n",
       "      <th>1</th>\n",
       "      <td>1000</td>\n",
       "      <td>30720</td>\n",
       "      <td>3000</td>\n",
       "      <td>1950</td>\n",
       "      <td>150</td>\n",
       "      <td>1</td>\n",
       "      <td>1</td>\n",
       "      <td>ultra</td>\n",
       "    </tr>\n",
       "  </tbody>\n",
       "</table>\n",
       "</div>"
      ],
      "text/plain": [
       "   messages_included  mb_per_month_included  minutes_included  \\\n",
       "0                 50                  15360               500   \n",
       "1               1000                  30720              3000   \n",
       "\n",
       "   rub_monthly_fee  rub_per_gb  rub_per_message  rub_per_minute tariff_name  \n",
       "0              550         200                3               3       smart  \n",
       "1             1950         150                1               1       ultra  "
      ]
     },
     "execution_count": 234,
     "metadata": {},
     "output_type": "execute_result"
    }
   ],
   "source": [
    "tariffs.head()"
   ]
  },
  {
   "cell_type": "code",
   "execution_count": 235,
   "id": "4b2effbe-b645-4aa7-ab2a-230c7afc3e40",
   "metadata": {},
   "outputs": [
    {
     "name": "stdout",
     "output_type": "stream",
     "text": [
      "<class 'pandas.core.frame.DataFrame'>\n",
      "RangeIndex: 2 entries, 0 to 1\n",
      "Data columns (total 8 columns):\n",
      " #   Column                 Non-Null Count  Dtype \n",
      "---  ------                 --------------  ----- \n",
      " 0   messages_included      2 non-null      int64 \n",
      " 1   mb_per_month_included  2 non-null      int64 \n",
      " 2   minutes_included       2 non-null      int64 \n",
      " 3   rub_monthly_fee        2 non-null      int64 \n",
      " 4   rub_per_gb             2 non-null      int64 \n",
      " 5   rub_per_message        2 non-null      int64 \n",
      " 6   rub_per_minute         2 non-null      int64 \n",
      " 7   tariff_name            2 non-null      object\n",
      "dtypes: int64(7), object(1)\n",
      "memory usage: 256.0+ bytes\n"
     ]
    }
   ],
   "source": [
    "tariffs.info()"
   ]
  },
  {
   "cell_type": "markdown",
   "id": "94097e8f-e517-4fb3-99aa-045626189c42",
   "metadata": {},
   "source": [
    "**Таблица tariffs (информация о тарифах):**\n",
    "* tariff_name — название тарифа\n",
    "* rub_monthly_fee — ежемесячная абонентская плата в рублях\n",
    "* minutes_included — количество минут разговора в месяц, включённых в абонентскую плату\n",
    "* messages_included — количество сообщений в месяц, включённых в абонентскую плату\n",
    "* mb_per_month_included — объём интернет-трафика, включённого в абонентскую плату (в мегабайтах)\n",
    "* rub_per_minute — стоимость минуты разговора сверх тарифного пакета (например, если в тарифе 100 минут разговора в месяц, то со 101 минуты будет взиматься плата)\n",
    "* rub_per_message — стоимость отправки сообщения сверх тарифного пакета\n",
    "* rub_per_gb — стоимость дополнительного гигабайта интернет-трафика сверх тарифного пакета (1 гигабайт = 1024 мегабайта)"
   ]
  },
  {
   "cell_type": "code",
   "execution_count": 236,
   "id": "63692144-3922-4062-93df-e4b9a08c78d1",
   "metadata": {},
   "outputs": [
    {
     "data": {
      "text/html": [
       "<div>\n",
       "<style scoped>\n",
       "    .dataframe tbody tr th:only-of-type {\n",
       "        vertical-align: middle;\n",
       "    }\n",
       "\n",
       "    .dataframe tbody tr th {\n",
       "        vertical-align: top;\n",
       "    }\n",
       "\n",
       "    .dataframe thead th {\n",
       "        text-align: right;\n",
       "    }\n",
       "</style>\n",
       "<table border=\"1\" class=\"dataframe\">\n",
       "  <thead>\n",
       "    <tr style=\"text-align: right;\">\n",
       "      <th></th>\n",
       "      <th>user_id</th>\n",
       "      <th>age</th>\n",
       "      <th>churn_date</th>\n",
       "      <th>city</th>\n",
       "      <th>first_name</th>\n",
       "      <th>last_name</th>\n",
       "      <th>reg_date</th>\n",
       "      <th>tariff</th>\n",
       "    </tr>\n",
       "  </thead>\n",
       "  <tbody>\n",
       "    <tr>\n",
       "      <th>0</th>\n",
       "      <td>1000</td>\n",
       "      <td>52</td>\n",
       "      <td>NaN</td>\n",
       "      <td>Краснодар</td>\n",
       "      <td>Рафаил</td>\n",
       "      <td>Верещагин</td>\n",
       "      <td>2018-05-25</td>\n",
       "      <td>ultra</td>\n",
       "    </tr>\n",
       "    <tr>\n",
       "      <th>1</th>\n",
       "      <td>1001</td>\n",
       "      <td>41</td>\n",
       "      <td>NaN</td>\n",
       "      <td>Москва</td>\n",
       "      <td>Иван</td>\n",
       "      <td>Ежов</td>\n",
       "      <td>2018-11-01</td>\n",
       "      <td>smart</td>\n",
       "    </tr>\n",
       "    <tr>\n",
       "      <th>2</th>\n",
       "      <td>1002</td>\n",
       "      <td>59</td>\n",
       "      <td>NaN</td>\n",
       "      <td>Стерлитамак</td>\n",
       "      <td>Евгений</td>\n",
       "      <td>Абрамович</td>\n",
       "      <td>2018-06-17</td>\n",
       "      <td>smart</td>\n",
       "    </tr>\n",
       "    <tr>\n",
       "      <th>3</th>\n",
       "      <td>1003</td>\n",
       "      <td>23</td>\n",
       "      <td>NaN</td>\n",
       "      <td>Москва</td>\n",
       "      <td>Белла</td>\n",
       "      <td>Белякова</td>\n",
       "      <td>2018-08-17</td>\n",
       "      <td>ultra</td>\n",
       "    </tr>\n",
       "    <tr>\n",
       "      <th>4</th>\n",
       "      <td>1004</td>\n",
       "      <td>68</td>\n",
       "      <td>NaN</td>\n",
       "      <td>Новокузнецк</td>\n",
       "      <td>Татьяна</td>\n",
       "      <td>Авдеенко</td>\n",
       "      <td>2018-05-14</td>\n",
       "      <td>ultra</td>\n",
       "    </tr>\n",
       "  </tbody>\n",
       "</table>\n",
       "</div>"
      ],
      "text/plain": [
       "   user_id  age churn_date         city first_name  last_name    reg_date  \\\n",
       "0     1000   52        NaN    Краснодар     Рафаил  Верещагин  2018-05-25   \n",
       "1     1001   41        NaN       Москва       Иван       Ежов  2018-11-01   \n",
       "2     1002   59        NaN  Стерлитамак    Евгений  Абрамович  2018-06-17   \n",
       "3     1003   23        NaN       Москва      Белла   Белякова  2018-08-17   \n",
       "4     1004   68        NaN  Новокузнецк    Татьяна   Авдеенко  2018-05-14   \n",
       "\n",
       "  tariff  \n",
       "0  ultra  \n",
       "1  smart  \n",
       "2  smart  \n",
       "3  ultra  \n",
       "4  ultra  "
      ]
     },
     "execution_count": 236,
     "metadata": {},
     "output_type": "execute_result"
    }
   ],
   "source": [
    "users.head()"
   ]
  },
  {
   "cell_type": "code",
   "execution_count": 237,
   "id": "c70a59f2-d2b3-47de-a8b1-d23281f1b92a",
   "metadata": {},
   "outputs": [
    {
     "name": "stdout",
     "output_type": "stream",
     "text": [
      "<class 'pandas.core.frame.DataFrame'>\n",
      "RangeIndex: 500 entries, 0 to 499\n",
      "Data columns (total 8 columns):\n",
      " #   Column      Non-Null Count  Dtype \n",
      "---  ------      --------------  ----- \n",
      " 0   user_id     500 non-null    int64 \n",
      " 1   age         500 non-null    int64 \n",
      " 2   churn_date  38 non-null     object\n",
      " 3   city        500 non-null    object\n",
      " 4   first_name  500 non-null    object\n",
      " 5   last_name   500 non-null    object\n",
      " 6   reg_date    500 non-null    object\n",
      " 7   tariff      500 non-null    object\n",
      "dtypes: int64(2), object(6)\n",
      "memory usage: 31.4+ KB\n"
     ]
    }
   ],
   "source": [
    "users.info()"
   ]
  },
  {
   "cell_type": "markdown",
   "id": "deb3f778-adf1-49e1-bc0b-986411891ba7",
   "metadata": {},
   "source": [
    "**Таблица users (информация о пользователях):**\n",
    "* user_id — уникальный идентификатор пользователя\n",
    "* first_name — имя пользователя\n",
    "* last_name — фамилия пользователя\n",
    "* age — возраст пользователя (годы)\n",
    "* reg_date — дата подключения тарифа (день, месяц, год)\n",
    "* churn_date — дата прекращения пользования тарифом (если значение пропущено, то тариф ещё действовал на момент выгрузки данных)\n",
    "* city — город проживания пользователя\n",
    "* tariff — название тарифного плана"
   ]
  },
  {
   "cell_type": "markdown",
   "id": "3ce3e6a8-69fb-446a-a674-12d91dfe36a6",
   "metadata": {},
   "source": [
    "## Шаг 2. Подготовим данные"
   ]
  },
  {
   "cell_type": "markdown",
   "id": "6b541aa5-2c83-43a5-b0b6-b199ad312f9d",
   "metadata": {},
   "source": [
    "Так как в задании указано: **«Мегалайн» всегда округляет секунды до минут. Каждый звонок округляется отдельно: даже если он длился всего 1 секунду, будет засчитан как 1 минута**, округлим значения минут в таблице `calls` в большую сторону"
   ]
  },
  {
   "cell_type": "code",
   "execution_count": 238,
   "id": "94906595-2657-444e-a755-6ba88971860a",
   "metadata": {},
   "outputs": [],
   "source": [
    "calls['duration'] = calls['duration'].apply(math.ceil)"
   ]
  },
  {
   "cell_type": "code",
   "execution_count": 239,
   "id": "e1ada879-bb72-4e59-9c43-6a84e52caf90",
   "metadata": {},
   "outputs": [
    {
     "data": {
      "text/html": [
       "<div>\n",
       "<style scoped>\n",
       "    .dataframe tbody tr th:only-of-type {\n",
       "        vertical-align: middle;\n",
       "    }\n",
       "\n",
       "    .dataframe tbody tr th {\n",
       "        vertical-align: top;\n",
       "    }\n",
       "\n",
       "    .dataframe thead th {\n",
       "        text-align: right;\n",
       "    }\n",
       "</style>\n",
       "<table border=\"1\" class=\"dataframe\">\n",
       "  <thead>\n",
       "    <tr style=\"text-align: right;\">\n",
       "      <th></th>\n",
       "      <th>id</th>\n",
       "      <th>call_date</th>\n",
       "      <th>duration</th>\n",
       "      <th>user_id</th>\n",
       "    </tr>\n",
       "  </thead>\n",
       "  <tbody>\n",
       "    <tr>\n",
       "      <th>0</th>\n",
       "      <td>1000_0</td>\n",
       "      <td>2018-07-25</td>\n",
       "      <td>0</td>\n",
       "      <td>1000</td>\n",
       "    </tr>\n",
       "    <tr>\n",
       "      <th>1</th>\n",
       "      <td>1000_1</td>\n",
       "      <td>2018-08-17</td>\n",
       "      <td>0</td>\n",
       "      <td>1000</td>\n",
       "    </tr>\n",
       "    <tr>\n",
       "      <th>2</th>\n",
       "      <td>1000_2</td>\n",
       "      <td>2018-06-11</td>\n",
       "      <td>3</td>\n",
       "      <td>1000</td>\n",
       "    </tr>\n",
       "    <tr>\n",
       "      <th>3</th>\n",
       "      <td>1000_3</td>\n",
       "      <td>2018-09-21</td>\n",
       "      <td>14</td>\n",
       "      <td>1000</td>\n",
       "    </tr>\n",
       "    <tr>\n",
       "      <th>4</th>\n",
       "      <td>1000_4</td>\n",
       "      <td>2018-12-15</td>\n",
       "      <td>6</td>\n",
       "      <td>1000</td>\n",
       "    </tr>\n",
       "  </tbody>\n",
       "</table>\n",
       "</div>"
      ],
      "text/plain": [
       "       id   call_date  duration  user_id\n",
       "0  1000_0  2018-07-25         0     1000\n",
       "1  1000_1  2018-08-17         0     1000\n",
       "2  1000_2  2018-06-11         3     1000\n",
       "3  1000_3  2018-09-21        14     1000\n",
       "4  1000_4  2018-12-15         6     1000"
      ]
     },
     "execution_count": 239,
     "metadata": {},
     "output_type": "execute_result"
    }
   ],
   "source": [
    "calls.head()"
   ]
  },
  {
   "cell_type": "markdown",
   "id": "5690bc2c-f2f2-44a2-a277-f821553f7d9b",
   "metadata": {},
   "source": [
    "В таблице `internet` есть безымянный столбец `Unnamed: 0` не описанный в документации и значения которого совпадают со сначениями столбца `id`. Нужно его удалить"
   ]
  },
  {
   "cell_type": "code",
   "execution_count": 240,
   "id": "afeca269-77a4-4969-a57f-8b7ec13aa688",
   "metadata": {},
   "outputs": [
    {
     "data": {
      "text/plain": [
       "0              0\n",
       "1              1\n",
       "2              2\n",
       "3              3\n",
       "4              4\n",
       "           ...  \n",
       "149391    149391\n",
       "149392    149392\n",
       "149393    149393\n",
       "149394    149394\n",
       "149395    149395\n",
       "Name: Unnamed: 0, Length: 149396, dtype: int64"
      ]
     },
     "execution_count": 240,
     "metadata": {},
     "output_type": "execute_result"
    }
   ],
   "source": [
    "internet.pop('Unnamed: 0')"
   ]
  },
  {
   "cell_type": "code",
   "execution_count": 241,
   "id": "6567f6dd-a60c-4593-b832-e9bfbb366467",
   "metadata": {},
   "outputs": [
    {
     "data": {
      "text/html": [
       "<div>\n",
       "<style scoped>\n",
       "    .dataframe tbody tr th:only-of-type {\n",
       "        vertical-align: middle;\n",
       "    }\n",
       "\n",
       "    .dataframe tbody tr th {\n",
       "        vertical-align: top;\n",
       "    }\n",
       "\n",
       "    .dataframe thead th {\n",
       "        text-align: right;\n",
       "    }\n",
       "</style>\n",
       "<table border=\"1\" class=\"dataframe\">\n",
       "  <thead>\n",
       "    <tr style=\"text-align: right;\">\n",
       "      <th></th>\n",
       "      <th>id</th>\n",
       "      <th>mb_used</th>\n",
       "      <th>session_date</th>\n",
       "      <th>user_id</th>\n",
       "    </tr>\n",
       "  </thead>\n",
       "  <tbody>\n",
       "    <tr>\n",
       "      <th>0</th>\n",
       "      <td>1000_0</td>\n",
       "      <td>112.95</td>\n",
       "      <td>2018-11-25</td>\n",
       "      <td>1000</td>\n",
       "    </tr>\n",
       "    <tr>\n",
       "      <th>1</th>\n",
       "      <td>1000_1</td>\n",
       "      <td>1052.81</td>\n",
       "      <td>2018-09-07</td>\n",
       "      <td>1000</td>\n",
       "    </tr>\n",
       "    <tr>\n",
       "      <th>2</th>\n",
       "      <td>1000_2</td>\n",
       "      <td>1197.26</td>\n",
       "      <td>2018-06-25</td>\n",
       "      <td>1000</td>\n",
       "    </tr>\n",
       "    <tr>\n",
       "      <th>3</th>\n",
       "      <td>1000_3</td>\n",
       "      <td>550.27</td>\n",
       "      <td>2018-08-22</td>\n",
       "      <td>1000</td>\n",
       "    </tr>\n",
       "    <tr>\n",
       "      <th>4</th>\n",
       "      <td>1000_4</td>\n",
       "      <td>302.56</td>\n",
       "      <td>2018-09-24</td>\n",
       "      <td>1000</td>\n",
       "    </tr>\n",
       "  </tbody>\n",
       "</table>\n",
       "</div>"
      ],
      "text/plain": [
       "       id  mb_used session_date  user_id\n",
       "0  1000_0   112.95   2018-11-25     1000\n",
       "1  1000_1  1052.81   2018-09-07     1000\n",
       "2  1000_2  1197.26   2018-06-25     1000\n",
       "3  1000_3   550.27   2018-08-22     1000\n",
       "4  1000_4   302.56   2018-09-24     1000"
      ]
     },
     "execution_count": 241,
     "metadata": {},
     "output_type": "execute_result"
    }
   ],
   "source": [
    "internet.head()"
   ]
  },
  {
   "cell_type": "markdown",
   "id": "ef6f04b9-d311-401e-85ab-128b3d7d261c",
   "metadata": {},
   "source": [
    "Изменим тип данных даты на `datetime` во всех таблицах, где есть дата"
   ]
  },
  {
   "cell_type": "code",
   "execution_count": 242,
   "id": "6117c0df-35be-4398-88ed-eb6b10a840e2",
   "metadata": {},
   "outputs": [],
   "source": [
    "calls['call_date'] = pd.to_datetime(calls['call_date'])"
   ]
  },
  {
   "cell_type": "code",
   "execution_count": 243,
   "id": "437552c5-926a-4885-8f3d-1e0dfe054acb",
   "metadata": {},
   "outputs": [],
   "source": [
    "internet['session_date'] = pd.to_datetime(internet['session_date'])"
   ]
  },
  {
   "cell_type": "code",
   "execution_count": 244,
   "id": "0e2a399a-dd7a-478e-82d7-f0b061aa36cf",
   "metadata": {},
   "outputs": [],
   "source": [
    "messages['message_date'] = pd.to_datetime(messages['message_date'])"
   ]
  },
  {
   "cell_type": "code",
   "execution_count": 245,
   "id": "57d02db9-6d3a-4edd-9e3d-6396d294ac48",
   "metadata": {},
   "outputs": [],
   "source": [
    "users['reg_date'] = pd.to_datetime(users['reg_date'])"
   ]
  },
  {
   "cell_type": "markdown",
   "id": "db8f12f1-530f-471f-9bc0-ff4cd143aa52",
   "metadata": {},
   "source": [
    "Добавим в таблицу `users` столбец с кодом тарифа, где 0 - smart, 1 - ultra"
   ]
  },
  {
   "cell_type": "code",
   "execution_count": 246,
   "id": "03e3df59-6a76-4632-9e71-a56843cb9649",
   "metadata": {},
   "outputs": [],
   "source": [
    "def tariff_categorizer(raw):\n",
    "    if raw['tariff'] == 'smart':\n",
    "        return 0\n",
    "    else:\n",
    "        return 1"
   ]
  },
  {
   "cell_type": "code",
   "execution_count": 247,
   "id": "458b1242-1bc2-4568-86f5-62d009a9b1ec",
   "metadata": {},
   "outputs": [],
   "source": [
    "users['tariff_cat'] = users.apply(tariff_categorizer, axis=1)"
   ]
  },
  {
   "cell_type": "markdown",
   "id": "8bf9a2f1-bd7b-4ad9-9cc3-61efd2be2670",
   "metadata": {},
   "source": [
    "И удалим столбец `tariff`"
   ]
  },
  {
   "cell_type": "code",
   "execution_count": 248,
   "id": "81a5a4bf-1c1a-4184-be1c-237b1870fa10",
   "metadata": {},
   "outputs": [
    {
     "data": {
      "text/plain": [
       "0      ultra\n",
       "1      smart\n",
       "2      smart\n",
       "3      ultra\n",
       "4      ultra\n",
       "       ...  \n",
       "495    ultra\n",
       "496    smart\n",
       "497    smart\n",
       "498    smart\n",
       "499    smart\n",
       "Name: tariff, Length: 500, dtype: object"
      ]
     },
     "execution_count": 248,
     "metadata": {},
     "output_type": "execute_result"
    }
   ],
   "source": [
    "users.pop('tariff')"
   ]
  },
  {
   "cell_type": "markdown",
   "id": "be0f270a-fb14-44bc-9fed-2b747ad51e88",
   "metadata": {},
   "source": [
    "Посчитаем для каждого пользователя:\n",
    "* количество сделанных звонков и израсходованных минут разговора по месяцам\n",
    "* количество отправленных сообщений по месяцам\n",
    "* объем израсходованного интернет-трафика по месяцам\n",
    "\n",
    "И объединим все данные в одну таблицу"
   ]
  },
  {
   "cell_type": "code",
   "execution_count": 249,
   "id": "c766ad7c-34c8-46cf-b020-aab9bb960d23",
   "metadata": {},
   "outputs": [],
   "source": [
    "users_calls = calls.groupby(by=['user_id', calls['call_date'].dt.month])['duration'].agg(['count', 'sum']).reset_index()\n",
    "users_calls.columns = ['user_id', 'month', 'calls_count', 'minutes_sum']"
   ]
  },
  {
   "cell_type": "markdown",
   "id": "504da385-2c70-4d7b-bfa3-338193ade758",
   "metadata": {},
   "source": [
    "Так как в задании сказано: **«Мегалайн» всегда округляет мегабайты — до гигабайт. Для веб-трафика отдельные сессии не считаются. Вместо этого общая сумма за месяц округляется в бо́льшую сторону**, напишем функцию для приведения мегабайт к гигабайтам с округлением в большую сторону"
   ]
  },
  {
   "cell_type": "code",
   "execution_count": 250,
   "id": "fad2a179-e308-4e48-bf2c-072d0c8aeebb",
   "metadata": {},
   "outputs": [],
   "source": [
    "def round_gb(raw):\n",
    "    return math.ceil(raw['gb_sum'] / 1024)"
   ]
  },
  {
   "cell_type": "code",
   "execution_count": 251,
   "id": "dc110895-46e1-41bc-b2ca-568bc09d6fc9",
   "metadata": {},
   "outputs": [],
   "source": [
    "users_internet = internet.groupby(by=['user_id', internet['session_date'].dt.month])['mb_used'].agg(['count', 'sum']).reset_index()\n",
    "users_internet.columns = ['user_id', 'month', 'session_count', 'gb_sum']\n",
    "users_internet['gb_sum'] = users_internet.apply(round_gb, axis=1)\n",
    "total = users_calls.merge(users_internet, how='left', on=['user_id', 'month'])"
   ]
  },
  {
   "cell_type": "code",
   "execution_count": 252,
   "id": "9fcfe4ec-71f9-4f8f-9ee6-5f80372f198d",
   "metadata": {},
   "outputs": [],
   "source": [
    "users_messages = messages.groupby(by=['user_id', messages['message_date'].dt.month]).agg({'id':'count'}).reset_index()\n",
    "users_messages.columns = ['user_id', 'month', 'msg_count']\n",
    "total = total.merge(users_messages, how='left', on=['user_id', 'month'])"
   ]
  },
  {
   "cell_type": "code",
   "execution_count": 253,
   "id": "80fe932a-2f7c-401d-81e7-4e903c2db9fe",
   "metadata": {},
   "outputs": [
    {
     "data": {
      "text/html": [
       "<div>\n",
       "<style scoped>\n",
       "    .dataframe tbody tr th:only-of-type {\n",
       "        vertical-align: middle;\n",
       "    }\n",
       "\n",
       "    .dataframe tbody tr th {\n",
       "        vertical-align: top;\n",
       "    }\n",
       "\n",
       "    .dataframe thead th {\n",
       "        text-align: right;\n",
       "    }\n",
       "</style>\n",
       "<table border=\"1\" class=\"dataframe\">\n",
       "  <thead>\n",
       "    <tr style=\"text-align: right;\">\n",
       "      <th></th>\n",
       "      <th>user_id</th>\n",
       "      <th>month</th>\n",
       "      <th>calls_count</th>\n",
       "      <th>minutes_sum</th>\n",
       "      <th>session_count</th>\n",
       "      <th>gb_sum</th>\n",
       "      <th>msg_count</th>\n",
       "    </tr>\n",
       "  </thead>\n",
       "  <tbody>\n",
       "    <tr>\n",
       "      <th>0</th>\n",
       "      <td>1000</td>\n",
       "      <td>5</td>\n",
       "      <td>22</td>\n",
       "      <td>159</td>\n",
       "      <td>5.0</td>\n",
       "      <td>3.0</td>\n",
       "      <td>22.0</td>\n",
       "    </tr>\n",
       "    <tr>\n",
       "      <th>1</th>\n",
       "      <td>1000</td>\n",
       "      <td>6</td>\n",
       "      <td>43</td>\n",
       "      <td>172</td>\n",
       "      <td>49.0</td>\n",
       "      <td>23.0</td>\n",
       "      <td>60.0</td>\n",
       "    </tr>\n",
       "    <tr>\n",
       "      <th>2</th>\n",
       "      <td>1000</td>\n",
       "      <td>7</td>\n",
       "      <td>47</td>\n",
       "      <td>340</td>\n",
       "      <td>29.0</td>\n",
       "      <td>14.0</td>\n",
       "      <td>75.0</td>\n",
       "    </tr>\n",
       "    <tr>\n",
       "      <th>3</th>\n",
       "      <td>1000</td>\n",
       "      <td>8</td>\n",
       "      <td>52</td>\n",
       "      <td>408</td>\n",
       "      <td>29.0</td>\n",
       "      <td>14.0</td>\n",
       "      <td>81.0</td>\n",
       "    </tr>\n",
       "    <tr>\n",
       "      <th>4</th>\n",
       "      <td>1000</td>\n",
       "      <td>9</td>\n",
       "      <td>58</td>\n",
       "      <td>466</td>\n",
       "      <td>27.0</td>\n",
       "      <td>15.0</td>\n",
       "      <td>57.0</td>\n",
       "    </tr>\n",
       "    <tr>\n",
       "      <th>5</th>\n",
       "      <td>1000</td>\n",
       "      <td>10</td>\n",
       "      <td>57</td>\n",
       "      <td>350</td>\n",
       "      <td>27.0</td>\n",
       "      <td>15.0</td>\n",
       "      <td>73.0</td>\n",
       "    </tr>\n",
       "    <tr>\n",
       "      <th>6</th>\n",
       "      <td>1000</td>\n",
       "      <td>11</td>\n",
       "      <td>43</td>\n",
       "      <td>338</td>\n",
       "      <td>24.0</td>\n",
       "      <td>15.0</td>\n",
       "      <td>58.0</td>\n",
       "    </tr>\n",
       "    <tr>\n",
       "      <th>7</th>\n",
       "      <td>1000</td>\n",
       "      <td>12</td>\n",
       "      <td>46</td>\n",
       "      <td>333</td>\n",
       "      <td>21.0</td>\n",
       "      <td>10.0</td>\n",
       "      <td>70.0</td>\n",
       "    </tr>\n",
       "    <tr>\n",
       "      <th>8</th>\n",
       "      <td>1001</td>\n",
       "      <td>11</td>\n",
       "      <td>59</td>\n",
       "      <td>430</td>\n",
       "      <td>55.0</td>\n",
       "      <td>18.0</td>\n",
       "      <td>NaN</td>\n",
       "    </tr>\n",
       "    <tr>\n",
       "      <th>9</th>\n",
       "      <td>1001</td>\n",
       "      <td>12</td>\n",
       "      <td>63</td>\n",
       "      <td>414</td>\n",
       "      <td>41.0</td>\n",
       "      <td>14.0</td>\n",
       "      <td>NaN</td>\n",
       "    </tr>\n",
       "  </tbody>\n",
       "</table>\n",
       "</div>"
      ],
      "text/plain": [
       "   user_id  month  calls_count  minutes_sum  session_count  gb_sum  msg_count\n",
       "0     1000      5           22          159            5.0     3.0       22.0\n",
       "1     1000      6           43          172           49.0    23.0       60.0\n",
       "2     1000      7           47          340           29.0    14.0       75.0\n",
       "3     1000      8           52          408           29.0    14.0       81.0\n",
       "4     1000      9           58          466           27.0    15.0       57.0\n",
       "5     1000     10           57          350           27.0    15.0       73.0\n",
       "6     1000     11           43          338           24.0    15.0       58.0\n",
       "7     1000     12           46          333           21.0    10.0       70.0\n",
       "8     1001     11           59          430           55.0    18.0        NaN\n",
       "9     1001     12           63          414           41.0    14.0        NaN"
      ]
     },
     "execution_count": 253,
     "metadata": {},
     "output_type": "execute_result"
    }
   ],
   "source": [
    "total.head(10)"
   ]
  },
  {
   "cell_type": "code",
   "execution_count": 254,
   "id": "e6fe46d0-879e-4ec7-942c-1b298b07b335",
   "metadata": {},
   "outputs": [
    {
     "name": "stdout",
     "output_type": "stream",
     "text": [
      "<class 'pandas.core.frame.DataFrame'>\n",
      "Int64Index: 3174 entries, 0 to 3173\n",
      "Data columns (total 7 columns):\n",
      " #   Column         Non-Null Count  Dtype  \n",
      "---  ------         --------------  -----  \n",
      " 0   user_id        3174 non-null   int64  \n",
      " 1   month          3174 non-null   int64  \n",
      " 2   calls_count    3174 non-null   int64  \n",
      " 3   minutes_sum    3174 non-null   int64  \n",
      " 4   session_count  3163 non-null   float64\n",
      " 5   gb_sum         3163 non-null   float64\n",
      " 6   msg_count      2678 non-null   float64\n",
      "dtypes: float64(3), int64(4)\n",
      "memory usage: 198.4 KB\n"
     ]
    }
   ],
   "source": [
    "total.info()"
   ]
  },
  {
   "cell_type": "markdown",
   "id": "966ae719-c507-43b1-be39-4a62ce237f71",
   "metadata": {},
   "source": [
    "Видим, что в итоговой таблице появились пропуски. Скорее всего некоторые пользователи в определенные периоды не пользовались интернетом и не отправляли сообщения, следовательно эти пропуски можно заполнить нулями"
   ]
  },
  {
   "cell_type": "code",
   "execution_count": 255,
   "id": "9620f275-7f3b-4e03-af5b-7e4962be829a",
   "metadata": {},
   "outputs": [],
   "source": [
    "total = total.fillna(0)"
   ]
  },
  {
   "cell_type": "code",
   "execution_count": 256,
   "id": "ed988ffe-0cd8-4a3d-a1c4-9ee24c8ec603",
   "metadata": {},
   "outputs": [
    {
     "name": "stdout",
     "output_type": "stream",
     "text": [
      "<class 'pandas.core.frame.DataFrame'>\n",
      "Int64Index: 3174 entries, 0 to 3173\n",
      "Data columns (total 7 columns):\n",
      " #   Column         Non-Null Count  Dtype  \n",
      "---  ------         --------------  -----  \n",
      " 0   user_id        3174 non-null   int64  \n",
      " 1   month          3174 non-null   int64  \n",
      " 2   calls_count    3174 non-null   int64  \n",
      " 3   minutes_sum    3174 non-null   int64  \n",
      " 4   session_count  3174 non-null   float64\n",
      " 5   gb_sum         3174 non-null   float64\n",
      " 6   msg_count      3174 non-null   float64\n",
      "dtypes: float64(3), int64(4)\n",
      "memory usage: 198.4 KB\n"
     ]
    }
   ],
   "source": [
    "total.info()"
   ]
  },
  {
   "cell_type": "markdown",
   "id": "6c64a0ca-1d7e-496b-b62c-e292dcd19b9c",
   "metadata": {},
   "source": [
    "Объединим таблицу `users` с таблицей `total`"
   ]
  },
  {
   "cell_type": "code",
   "execution_count": 257,
   "id": "dacde129-5559-4afa-8269-b038df3b46dd",
   "metadata": {},
   "outputs": [],
   "source": [
    "total = total.merge(users, how='left', on='user_id')"
   ]
  },
  {
   "cell_type": "markdown",
   "id": "53f96953-39bc-48d7-ba40-4d54c13bdf5b",
   "metadata": {},
   "source": [
    "Посчитаем помесячную выручку с каждого пользователя. Для этого: вычтем бесплатный лимит из суммарного количества звонков, сообщений и интернет-трафика; остаток умножим на значение из тарифного плана; прибавим абонентскую плату, соответствующую тарифному плану.\n",
    "\n",
    "Напишем функции для подсчета разницы между полученными суммарными значениями звонков, сообщений и интернета и тарифными лимитами и добавим разницы в новые столбцы"
   ]
  },
  {
   "cell_type": "code",
   "execution_count": 258,
   "id": "2c83d670-ab9b-474c-9ad8-137aa312e1a9",
   "metadata": {},
   "outputs": [],
   "source": [
    "def diff_minutes(raw):\n",
    "    if raw['tariff_cat'] == 0:\n",
    "        return raw['minutes_sum'] - tariffs['minutes_included'][0]\n",
    "    else:\n",
    "        return raw['minutes_sum'] - tariffs['minutes_included'][1]"
   ]
  },
  {
   "cell_type": "code",
   "execution_count": 259,
   "id": "9cca79f5-5df8-4510-9963-7c668b9856b2",
   "metadata": {},
   "outputs": [],
   "source": [
    "total['diff_minutes'] = total.apply(diff_minutes, axis=1)"
   ]
  },
  {
   "cell_type": "code",
   "execution_count": 260,
   "id": "28b06676-d14e-43d4-a2cf-c723799dc2f3",
   "metadata": {},
   "outputs": [],
   "source": [
    "def diff_gb(raw):\n",
    "    if raw['tariff_cat'] == 0:\n",
    "        return raw['gb_sum'] - tariffs['mb_per_month_included'][0] / 1024\n",
    "    else:\n",
    "        return raw['gb_sum'] - tariffs['mb_per_month_included'][1] / 1024"
   ]
  },
  {
   "cell_type": "code",
   "execution_count": 261,
   "id": "8fbb9989-df3c-40f6-b97c-48ca4497c0f2",
   "metadata": {},
   "outputs": [],
   "source": [
    "total['diff_gb'] = total.apply(diff_gb, axis=1)"
   ]
  },
  {
   "cell_type": "code",
   "execution_count": 262,
   "id": "d8f4b4b1-9c93-4ea1-bfce-15ee60e7ff2a",
   "metadata": {},
   "outputs": [],
   "source": [
    "def diff_msg(raw):\n",
    "    if raw['tariff_cat'] == 0:\n",
    "        return int(raw['msg_count'] - tariffs['messages_included'][0])\n",
    "    else:\n",
    "        return int(raw['msg_count'] - tariffs['messages_included'][1])"
   ]
  },
  {
   "cell_type": "code",
   "execution_count": 263,
   "id": "51d049dd-38b2-4045-87c0-cf40bec2b60f",
   "metadata": {},
   "outputs": [],
   "source": [
    "total['diff_msg'] = total.apply(diff_msg, axis=1)"
   ]
  },
  {
   "cell_type": "code",
   "execution_count": 264,
   "id": "1004ece3-215a-4d2f-8c40-8ef7b98a2890",
   "metadata": {},
   "outputs": [
    {
     "data": {
      "text/html": [
       "<div>\n",
       "<style scoped>\n",
       "    .dataframe tbody tr th:only-of-type {\n",
       "        vertical-align: middle;\n",
       "    }\n",
       "\n",
       "    .dataframe tbody tr th {\n",
       "        vertical-align: top;\n",
       "    }\n",
       "\n",
       "    .dataframe thead th {\n",
       "        text-align: right;\n",
       "    }\n",
       "</style>\n",
       "<table border=\"1\" class=\"dataframe\">\n",
       "  <thead>\n",
       "    <tr style=\"text-align: right;\">\n",
       "      <th></th>\n",
       "      <th>user_id</th>\n",
       "      <th>month</th>\n",
       "      <th>calls_count</th>\n",
       "      <th>minutes_sum</th>\n",
       "      <th>session_count</th>\n",
       "      <th>gb_sum</th>\n",
       "      <th>msg_count</th>\n",
       "      <th>age</th>\n",
       "      <th>churn_date</th>\n",
       "      <th>city</th>\n",
       "      <th>first_name</th>\n",
       "      <th>last_name</th>\n",
       "      <th>reg_date</th>\n",
       "      <th>tariff_cat</th>\n",
       "      <th>diff_minutes</th>\n",
       "      <th>diff_gb</th>\n",
       "      <th>diff_msg</th>\n",
       "    </tr>\n",
       "  </thead>\n",
       "  <tbody>\n",
       "    <tr>\n",
       "      <th>0</th>\n",
       "      <td>1000</td>\n",
       "      <td>5</td>\n",
       "      <td>22</td>\n",
       "      <td>159</td>\n",
       "      <td>5.0</td>\n",
       "      <td>3.0</td>\n",
       "      <td>22.0</td>\n",
       "      <td>52</td>\n",
       "      <td>NaN</td>\n",
       "      <td>Краснодар</td>\n",
       "      <td>Рафаил</td>\n",
       "      <td>Верещагин</td>\n",
       "      <td>2018-05-25</td>\n",
       "      <td>1</td>\n",
       "      <td>-2841</td>\n",
       "      <td>-27.0</td>\n",
       "      <td>-978</td>\n",
       "    </tr>\n",
       "    <tr>\n",
       "      <th>1</th>\n",
       "      <td>1000</td>\n",
       "      <td>6</td>\n",
       "      <td>43</td>\n",
       "      <td>172</td>\n",
       "      <td>49.0</td>\n",
       "      <td>23.0</td>\n",
       "      <td>60.0</td>\n",
       "      <td>52</td>\n",
       "      <td>NaN</td>\n",
       "      <td>Краснодар</td>\n",
       "      <td>Рафаил</td>\n",
       "      <td>Верещагин</td>\n",
       "      <td>2018-05-25</td>\n",
       "      <td>1</td>\n",
       "      <td>-2828</td>\n",
       "      <td>-7.0</td>\n",
       "      <td>-940</td>\n",
       "    </tr>\n",
       "    <tr>\n",
       "      <th>2</th>\n",
       "      <td>1000</td>\n",
       "      <td>7</td>\n",
       "      <td>47</td>\n",
       "      <td>340</td>\n",
       "      <td>29.0</td>\n",
       "      <td>14.0</td>\n",
       "      <td>75.0</td>\n",
       "      <td>52</td>\n",
       "      <td>NaN</td>\n",
       "      <td>Краснодар</td>\n",
       "      <td>Рафаил</td>\n",
       "      <td>Верещагин</td>\n",
       "      <td>2018-05-25</td>\n",
       "      <td>1</td>\n",
       "      <td>-2660</td>\n",
       "      <td>-16.0</td>\n",
       "      <td>-925</td>\n",
       "    </tr>\n",
       "    <tr>\n",
       "      <th>3</th>\n",
       "      <td>1000</td>\n",
       "      <td>8</td>\n",
       "      <td>52</td>\n",
       "      <td>408</td>\n",
       "      <td>29.0</td>\n",
       "      <td>14.0</td>\n",
       "      <td>81.0</td>\n",
       "      <td>52</td>\n",
       "      <td>NaN</td>\n",
       "      <td>Краснодар</td>\n",
       "      <td>Рафаил</td>\n",
       "      <td>Верещагин</td>\n",
       "      <td>2018-05-25</td>\n",
       "      <td>1</td>\n",
       "      <td>-2592</td>\n",
       "      <td>-16.0</td>\n",
       "      <td>-919</td>\n",
       "    </tr>\n",
       "    <tr>\n",
       "      <th>4</th>\n",
       "      <td>1000</td>\n",
       "      <td>9</td>\n",
       "      <td>58</td>\n",
       "      <td>466</td>\n",
       "      <td>27.0</td>\n",
       "      <td>15.0</td>\n",
       "      <td>57.0</td>\n",
       "      <td>52</td>\n",
       "      <td>NaN</td>\n",
       "      <td>Краснодар</td>\n",
       "      <td>Рафаил</td>\n",
       "      <td>Верещагин</td>\n",
       "      <td>2018-05-25</td>\n",
       "      <td>1</td>\n",
       "      <td>-2534</td>\n",
       "      <td>-15.0</td>\n",
       "      <td>-943</td>\n",
       "    </tr>\n",
       "    <tr>\n",
       "      <th>5</th>\n",
       "      <td>1000</td>\n",
       "      <td>10</td>\n",
       "      <td>57</td>\n",
       "      <td>350</td>\n",
       "      <td>27.0</td>\n",
       "      <td>15.0</td>\n",
       "      <td>73.0</td>\n",
       "      <td>52</td>\n",
       "      <td>NaN</td>\n",
       "      <td>Краснодар</td>\n",
       "      <td>Рафаил</td>\n",
       "      <td>Верещагин</td>\n",
       "      <td>2018-05-25</td>\n",
       "      <td>1</td>\n",
       "      <td>-2650</td>\n",
       "      <td>-15.0</td>\n",
       "      <td>-927</td>\n",
       "    </tr>\n",
       "    <tr>\n",
       "      <th>6</th>\n",
       "      <td>1000</td>\n",
       "      <td>11</td>\n",
       "      <td>43</td>\n",
       "      <td>338</td>\n",
       "      <td>24.0</td>\n",
       "      <td>15.0</td>\n",
       "      <td>58.0</td>\n",
       "      <td>52</td>\n",
       "      <td>NaN</td>\n",
       "      <td>Краснодар</td>\n",
       "      <td>Рафаил</td>\n",
       "      <td>Верещагин</td>\n",
       "      <td>2018-05-25</td>\n",
       "      <td>1</td>\n",
       "      <td>-2662</td>\n",
       "      <td>-15.0</td>\n",
       "      <td>-942</td>\n",
       "    </tr>\n",
       "    <tr>\n",
       "      <th>7</th>\n",
       "      <td>1000</td>\n",
       "      <td>12</td>\n",
       "      <td>46</td>\n",
       "      <td>333</td>\n",
       "      <td>21.0</td>\n",
       "      <td>10.0</td>\n",
       "      <td>70.0</td>\n",
       "      <td>52</td>\n",
       "      <td>NaN</td>\n",
       "      <td>Краснодар</td>\n",
       "      <td>Рафаил</td>\n",
       "      <td>Верещагин</td>\n",
       "      <td>2018-05-25</td>\n",
       "      <td>1</td>\n",
       "      <td>-2667</td>\n",
       "      <td>-20.0</td>\n",
       "      <td>-930</td>\n",
       "    </tr>\n",
       "    <tr>\n",
       "      <th>8</th>\n",
       "      <td>1001</td>\n",
       "      <td>11</td>\n",
       "      <td>59</td>\n",
       "      <td>430</td>\n",
       "      <td>55.0</td>\n",
       "      <td>18.0</td>\n",
       "      <td>0.0</td>\n",
       "      <td>41</td>\n",
       "      <td>NaN</td>\n",
       "      <td>Москва</td>\n",
       "      <td>Иван</td>\n",
       "      <td>Ежов</td>\n",
       "      <td>2018-11-01</td>\n",
       "      <td>0</td>\n",
       "      <td>-70</td>\n",
       "      <td>3.0</td>\n",
       "      <td>-50</td>\n",
       "    </tr>\n",
       "    <tr>\n",
       "      <th>9</th>\n",
       "      <td>1001</td>\n",
       "      <td>12</td>\n",
       "      <td>63</td>\n",
       "      <td>414</td>\n",
       "      <td>41.0</td>\n",
       "      <td>14.0</td>\n",
       "      <td>0.0</td>\n",
       "      <td>41</td>\n",
       "      <td>NaN</td>\n",
       "      <td>Москва</td>\n",
       "      <td>Иван</td>\n",
       "      <td>Ежов</td>\n",
       "      <td>2018-11-01</td>\n",
       "      <td>0</td>\n",
       "      <td>-86</td>\n",
       "      <td>-1.0</td>\n",
       "      <td>-50</td>\n",
       "    </tr>\n",
       "  </tbody>\n",
       "</table>\n",
       "</div>"
      ],
      "text/plain": [
       "   user_id  month  calls_count  minutes_sum  session_count  gb_sum  msg_count  \\\n",
       "0     1000      5           22          159            5.0     3.0       22.0   \n",
       "1     1000      6           43          172           49.0    23.0       60.0   \n",
       "2     1000      7           47          340           29.0    14.0       75.0   \n",
       "3     1000      8           52          408           29.0    14.0       81.0   \n",
       "4     1000      9           58          466           27.0    15.0       57.0   \n",
       "5     1000     10           57          350           27.0    15.0       73.0   \n",
       "6     1000     11           43          338           24.0    15.0       58.0   \n",
       "7     1000     12           46          333           21.0    10.0       70.0   \n",
       "8     1001     11           59          430           55.0    18.0        0.0   \n",
       "9     1001     12           63          414           41.0    14.0        0.0   \n",
       "\n",
       "   age churn_date       city first_name  last_name   reg_date  tariff_cat  \\\n",
       "0   52        NaN  Краснодар     Рафаил  Верещагин 2018-05-25           1   \n",
       "1   52        NaN  Краснодар     Рафаил  Верещагин 2018-05-25           1   \n",
       "2   52        NaN  Краснодар     Рафаил  Верещагин 2018-05-25           1   \n",
       "3   52        NaN  Краснодар     Рафаил  Верещагин 2018-05-25           1   \n",
       "4   52        NaN  Краснодар     Рафаил  Верещагин 2018-05-25           1   \n",
       "5   52        NaN  Краснодар     Рафаил  Верещагин 2018-05-25           1   \n",
       "6   52        NaN  Краснодар     Рафаил  Верещагин 2018-05-25           1   \n",
       "7   52        NaN  Краснодар     Рафаил  Верещагин 2018-05-25           1   \n",
       "8   41        NaN     Москва       Иван       Ежов 2018-11-01           0   \n",
       "9   41        NaN     Москва       Иван       Ежов 2018-11-01           0   \n",
       "\n",
       "   diff_minutes  diff_gb  diff_msg  \n",
       "0         -2841    -27.0      -978  \n",
       "1         -2828     -7.0      -940  \n",
       "2         -2660    -16.0      -925  \n",
       "3         -2592    -16.0      -919  \n",
       "4         -2534    -15.0      -943  \n",
       "5         -2650    -15.0      -927  \n",
       "6         -2662    -15.0      -942  \n",
       "7         -2667    -20.0      -930  \n",
       "8           -70      3.0       -50  \n",
       "9           -86     -1.0       -50  "
      ]
     },
     "execution_count": 264,
     "metadata": {},
     "output_type": "execute_result"
    }
   ],
   "source": [
    "total.head(10)"
   ]
  },
  {
   "cell_type": "markdown",
   "id": "1ceda984-495a-44f9-94de-c1a4cbbea0b3",
   "metadata": {},
   "source": [
    "Посчитаем помесячную выручку с каждого пользователя функцией `total_cost` и добавим значения в новый столбец"
   ]
  },
  {
   "cell_type": "code",
   "execution_count": 265,
   "id": "7bfd3aac-f648-41cd-96c7-7f672b1de75f",
   "metadata": {},
   "outputs": [],
   "source": [
    "def total_cost(raw):\n",
    "    total_cost = 0\n",
    "    if raw['diff_minutes'] > 0:\n",
    "        total_cost += raw['diff_minutes'] * tariffs['rub_per_minute'][raw['tariff_cat']]\n",
    "    if raw['diff_gb'] > 0:\n",
    "        total_cost += raw['diff_gb'] * tariffs['rub_per_gb'][raw['tariff_cat']]\n",
    "    if raw['diff_msg'] > 0:\n",
    "        total_cost += raw['diff_msg'] * tariffs['rub_per_message'][raw['tariff_cat']]\n",
    "    total_cost += tariffs['rub_monthly_fee'][raw['tariff_cat']]\n",
    "    return total_cost"
   ]
  },
  {
   "cell_type": "code",
   "execution_count": 266,
   "id": "a660d0ce-81bd-460d-a377-9e7bcaf54377",
   "metadata": {},
   "outputs": [],
   "source": [
    "total['total_cost'] = total.apply(total_cost, axis=1)"
   ]
  },
  {
   "cell_type": "code",
   "execution_count": 267,
   "id": "83932802-3423-46c8-b0e1-d7586feea3b6",
   "metadata": {},
   "outputs": [
    {
     "data": {
      "text/html": [
       "<div>\n",
       "<style scoped>\n",
       "    .dataframe tbody tr th:only-of-type {\n",
       "        vertical-align: middle;\n",
       "    }\n",
       "\n",
       "    .dataframe tbody tr th {\n",
       "        vertical-align: top;\n",
       "    }\n",
       "\n",
       "    .dataframe thead th {\n",
       "        text-align: right;\n",
       "    }\n",
       "</style>\n",
       "<table border=\"1\" class=\"dataframe\">\n",
       "  <thead>\n",
       "    <tr style=\"text-align: right;\">\n",
       "      <th></th>\n",
       "      <th>user_id</th>\n",
       "      <th>month</th>\n",
       "      <th>calls_count</th>\n",
       "      <th>minutes_sum</th>\n",
       "      <th>session_count</th>\n",
       "      <th>gb_sum</th>\n",
       "      <th>msg_count</th>\n",
       "      <th>age</th>\n",
       "      <th>churn_date</th>\n",
       "      <th>city</th>\n",
       "      <th>first_name</th>\n",
       "      <th>last_name</th>\n",
       "      <th>reg_date</th>\n",
       "      <th>tariff_cat</th>\n",
       "      <th>diff_minutes</th>\n",
       "      <th>diff_gb</th>\n",
       "      <th>diff_msg</th>\n",
       "      <th>total_cost</th>\n",
       "    </tr>\n",
       "  </thead>\n",
       "  <tbody>\n",
       "    <tr>\n",
       "      <th>0</th>\n",
       "      <td>1000</td>\n",
       "      <td>5</td>\n",
       "      <td>22</td>\n",
       "      <td>159</td>\n",
       "      <td>5.0</td>\n",
       "      <td>3.0</td>\n",
       "      <td>22.0</td>\n",
       "      <td>52</td>\n",
       "      <td>NaN</td>\n",
       "      <td>Краснодар</td>\n",
       "      <td>Рафаил</td>\n",
       "      <td>Верещагин</td>\n",
       "      <td>2018-05-25</td>\n",
       "      <td>1</td>\n",
       "      <td>-2841</td>\n",
       "      <td>-27.0</td>\n",
       "      <td>-978</td>\n",
       "      <td>1950.0</td>\n",
       "    </tr>\n",
       "    <tr>\n",
       "      <th>1</th>\n",
       "      <td>1000</td>\n",
       "      <td>6</td>\n",
       "      <td>43</td>\n",
       "      <td>172</td>\n",
       "      <td>49.0</td>\n",
       "      <td>23.0</td>\n",
       "      <td>60.0</td>\n",
       "      <td>52</td>\n",
       "      <td>NaN</td>\n",
       "      <td>Краснодар</td>\n",
       "      <td>Рафаил</td>\n",
       "      <td>Верещагин</td>\n",
       "      <td>2018-05-25</td>\n",
       "      <td>1</td>\n",
       "      <td>-2828</td>\n",
       "      <td>-7.0</td>\n",
       "      <td>-940</td>\n",
       "      <td>1950.0</td>\n",
       "    </tr>\n",
       "    <tr>\n",
       "      <th>2</th>\n",
       "      <td>1000</td>\n",
       "      <td>7</td>\n",
       "      <td>47</td>\n",
       "      <td>340</td>\n",
       "      <td>29.0</td>\n",
       "      <td>14.0</td>\n",
       "      <td>75.0</td>\n",
       "      <td>52</td>\n",
       "      <td>NaN</td>\n",
       "      <td>Краснодар</td>\n",
       "      <td>Рафаил</td>\n",
       "      <td>Верещагин</td>\n",
       "      <td>2018-05-25</td>\n",
       "      <td>1</td>\n",
       "      <td>-2660</td>\n",
       "      <td>-16.0</td>\n",
       "      <td>-925</td>\n",
       "      <td>1950.0</td>\n",
       "    </tr>\n",
       "    <tr>\n",
       "      <th>3</th>\n",
       "      <td>1000</td>\n",
       "      <td>8</td>\n",
       "      <td>52</td>\n",
       "      <td>408</td>\n",
       "      <td>29.0</td>\n",
       "      <td>14.0</td>\n",
       "      <td>81.0</td>\n",
       "      <td>52</td>\n",
       "      <td>NaN</td>\n",
       "      <td>Краснодар</td>\n",
       "      <td>Рафаил</td>\n",
       "      <td>Верещагин</td>\n",
       "      <td>2018-05-25</td>\n",
       "      <td>1</td>\n",
       "      <td>-2592</td>\n",
       "      <td>-16.0</td>\n",
       "      <td>-919</td>\n",
       "      <td>1950.0</td>\n",
       "    </tr>\n",
       "    <tr>\n",
       "      <th>4</th>\n",
       "      <td>1000</td>\n",
       "      <td>9</td>\n",
       "      <td>58</td>\n",
       "      <td>466</td>\n",
       "      <td>27.0</td>\n",
       "      <td>15.0</td>\n",
       "      <td>57.0</td>\n",
       "      <td>52</td>\n",
       "      <td>NaN</td>\n",
       "      <td>Краснодар</td>\n",
       "      <td>Рафаил</td>\n",
       "      <td>Верещагин</td>\n",
       "      <td>2018-05-25</td>\n",
       "      <td>1</td>\n",
       "      <td>-2534</td>\n",
       "      <td>-15.0</td>\n",
       "      <td>-943</td>\n",
       "      <td>1950.0</td>\n",
       "    </tr>\n",
       "    <tr>\n",
       "      <th>...</th>\n",
       "      <td>...</td>\n",
       "      <td>...</td>\n",
       "      <td>...</td>\n",
       "      <td>...</td>\n",
       "      <td>...</td>\n",
       "      <td>...</td>\n",
       "      <td>...</td>\n",
       "      <td>...</td>\n",
       "      <td>...</td>\n",
       "      <td>...</td>\n",
       "      <td>...</td>\n",
       "      <td>...</td>\n",
       "      <td>...</td>\n",
       "      <td>...</td>\n",
       "      <td>...</td>\n",
       "      <td>...</td>\n",
       "      <td>...</td>\n",
       "      <td>...</td>\n",
       "    </tr>\n",
       "    <tr>\n",
       "      <th>3169</th>\n",
       "      <td>1498</td>\n",
       "      <td>10</td>\n",
       "      <td>41</td>\n",
       "      <td>247</td>\n",
       "      <td>59.0</td>\n",
       "      <td>21.0</td>\n",
       "      <td>42.0</td>\n",
       "      <td>68</td>\n",
       "      <td>2018-10-25</td>\n",
       "      <td>Владикавказ</td>\n",
       "      <td>Всеволод</td>\n",
       "      <td>Акимчин</td>\n",
       "      <td>2018-07-19</td>\n",
       "      <td>0</td>\n",
       "      <td>-253</td>\n",
       "      <td>6.0</td>\n",
       "      <td>-8</td>\n",
       "      <td>1750.0</td>\n",
       "    </tr>\n",
       "    <tr>\n",
       "      <th>3170</th>\n",
       "      <td>1499</td>\n",
       "      <td>9</td>\n",
       "      <td>9</td>\n",
       "      <td>70</td>\n",
       "      <td>5.0</td>\n",
       "      <td>2.0</td>\n",
       "      <td>11.0</td>\n",
       "      <td>35</td>\n",
       "      <td>NaN</td>\n",
       "      <td>Пермь</td>\n",
       "      <td>Гектор</td>\n",
       "      <td>Корнилов</td>\n",
       "      <td>2018-09-27</td>\n",
       "      <td>0</td>\n",
       "      <td>-430</td>\n",
       "      <td>-13.0</td>\n",
       "      <td>-39</td>\n",
       "      <td>550.0</td>\n",
       "    </tr>\n",
       "    <tr>\n",
       "      <th>3171</th>\n",
       "      <td>1499</td>\n",
       "      <td>10</td>\n",
       "      <td>68</td>\n",
       "      <td>449</td>\n",
       "      <td>58.0</td>\n",
       "      <td>18.0</td>\n",
       "      <td>48.0</td>\n",
       "      <td>35</td>\n",
       "      <td>NaN</td>\n",
       "      <td>Пермь</td>\n",
       "      <td>Гектор</td>\n",
       "      <td>Корнилов</td>\n",
       "      <td>2018-09-27</td>\n",
       "      <td>0</td>\n",
       "      <td>-51</td>\n",
       "      <td>3.0</td>\n",
       "      <td>-2</td>\n",
       "      <td>1150.0</td>\n",
       "    </tr>\n",
       "    <tr>\n",
       "      <th>3172</th>\n",
       "      <td>1499</td>\n",
       "      <td>11</td>\n",
       "      <td>74</td>\n",
       "      <td>612</td>\n",
       "      <td>49.0</td>\n",
       "      <td>18.0</td>\n",
       "      <td>59.0</td>\n",
       "      <td>35</td>\n",
       "      <td>NaN</td>\n",
       "      <td>Пермь</td>\n",
       "      <td>Гектор</td>\n",
       "      <td>Корнилов</td>\n",
       "      <td>2018-09-27</td>\n",
       "      <td>0</td>\n",
       "      <td>112</td>\n",
       "      <td>3.0</td>\n",
       "      <td>9</td>\n",
       "      <td>1513.0</td>\n",
       "    </tr>\n",
       "    <tr>\n",
       "      <th>3173</th>\n",
       "      <td>1499</td>\n",
       "      <td>12</td>\n",
       "      <td>69</td>\n",
       "      <td>492</td>\n",
       "      <td>45.0</td>\n",
       "      <td>13.0</td>\n",
       "      <td>66.0</td>\n",
       "      <td>35</td>\n",
       "      <td>NaN</td>\n",
       "      <td>Пермь</td>\n",
       "      <td>Гектор</td>\n",
       "      <td>Корнилов</td>\n",
       "      <td>2018-09-27</td>\n",
       "      <td>0</td>\n",
       "      <td>-8</td>\n",
       "      <td>-2.0</td>\n",
       "      <td>16</td>\n",
       "      <td>598.0</td>\n",
       "    </tr>\n",
       "  </tbody>\n",
       "</table>\n",
       "<p>3174 rows × 18 columns</p>\n",
       "</div>"
      ],
      "text/plain": [
       "      user_id  month  calls_count  minutes_sum  session_count  gb_sum  \\\n",
       "0        1000      5           22          159            5.0     3.0   \n",
       "1        1000      6           43          172           49.0    23.0   \n",
       "2        1000      7           47          340           29.0    14.0   \n",
       "3        1000      8           52          408           29.0    14.0   \n",
       "4        1000      9           58          466           27.0    15.0   \n",
       "...       ...    ...          ...          ...            ...     ...   \n",
       "3169     1498     10           41          247           59.0    21.0   \n",
       "3170     1499      9            9           70            5.0     2.0   \n",
       "3171     1499     10           68          449           58.0    18.0   \n",
       "3172     1499     11           74          612           49.0    18.0   \n",
       "3173     1499     12           69          492           45.0    13.0   \n",
       "\n",
       "      msg_count  age  churn_date         city first_name  last_name  \\\n",
       "0          22.0   52         NaN    Краснодар     Рафаил  Верещагин   \n",
       "1          60.0   52         NaN    Краснодар     Рафаил  Верещагин   \n",
       "2          75.0   52         NaN    Краснодар     Рафаил  Верещагин   \n",
       "3          81.0   52         NaN    Краснодар     Рафаил  Верещагин   \n",
       "4          57.0   52         NaN    Краснодар     Рафаил  Верещагин   \n",
       "...         ...  ...         ...          ...        ...        ...   \n",
       "3169       42.0   68  2018-10-25  Владикавказ   Всеволод    Акимчин   \n",
       "3170       11.0   35         NaN        Пермь     Гектор   Корнилов   \n",
       "3171       48.0   35         NaN        Пермь     Гектор   Корнилов   \n",
       "3172       59.0   35         NaN        Пермь     Гектор   Корнилов   \n",
       "3173       66.0   35         NaN        Пермь     Гектор   Корнилов   \n",
       "\n",
       "       reg_date  tariff_cat  diff_minutes  diff_gb  diff_msg  total_cost  \n",
       "0    2018-05-25           1         -2841    -27.0      -978      1950.0  \n",
       "1    2018-05-25           1         -2828     -7.0      -940      1950.0  \n",
       "2    2018-05-25           1         -2660    -16.0      -925      1950.0  \n",
       "3    2018-05-25           1         -2592    -16.0      -919      1950.0  \n",
       "4    2018-05-25           1         -2534    -15.0      -943      1950.0  \n",
       "...         ...         ...           ...      ...       ...         ...  \n",
       "3169 2018-07-19           0          -253      6.0        -8      1750.0  \n",
       "3170 2018-09-27           0          -430    -13.0       -39       550.0  \n",
       "3171 2018-09-27           0           -51      3.0        -2      1150.0  \n",
       "3172 2018-09-27           0           112      3.0         9      1513.0  \n",
       "3173 2018-09-27           0            -8     -2.0        16       598.0  \n",
       "\n",
       "[3174 rows x 18 columns]"
      ]
     },
     "execution_count": 267,
     "metadata": {},
     "output_type": "execute_result"
    }
   ],
   "source": [
    "total"
   ]
  },
  {
   "cell_type": "markdown",
   "id": "d21a1908-702f-44ac-bedd-dd0826a80018",
   "metadata": {},
   "source": [
    "## Шаг 3. Проанализируем данные"
   ]
  },
  {
   "cell_type": "markdown",
   "id": "f356da95-0fc5-4d89-b221-5e37e8303cca",
   "metadata": {},
   "source": [
    "**Задание**\n",
    "\n",
    "Опишите поведение клиентов оператора, исходя из выборки. Сколько минут разговора, сколько сообщений и какой объём интернет-трафика требуется пользователям каждого тарифа в месяц? Посчитайте среднее количество, дисперсию и стандартное отклонение. Постройте гистограммы. Опишите распределения."
   ]
  },
  {
   "cell_type": "markdown",
   "id": "4360a42f-6423-49f3-98fa-27a6a82ec075",
   "metadata": {},
   "source": [
    "Найдем дисперсию, стандартное отклонение и среднее для минут в обоих тарифах"
   ]
  },
  {
   "cell_type": "code",
   "execution_count": 268,
   "id": "ed772596-52f5-4c77-8e30-352e6a03677b",
   "metadata": {},
   "outputs": [
    {
     "data": {
      "text/html": [
       "<div>\n",
       "<style scoped>\n",
       "    .dataframe tbody tr th:only-of-type {\n",
       "        vertical-align: middle;\n",
       "    }\n",
       "\n",
       "    .dataframe tbody tr th {\n",
       "        vertical-align: top;\n",
       "    }\n",
       "\n",
       "    .dataframe thead th {\n",
       "        text-align: right;\n",
       "    }\n",
       "</style>\n",
       "<table border=\"1\" class=\"dataframe\">\n",
       "  <thead>\n",
       "    <tr style=\"text-align: right;\">\n",
       "      <th></th>\n",
       "      <th>var_minutes</th>\n",
       "      <th>std_minutes</th>\n",
       "      <th>mean_minutes</th>\n",
       "    </tr>\n",
       "    <tr>\n",
       "      <th>tariff_cat</th>\n",
       "      <th></th>\n",
       "      <th></th>\n",
       "      <th></th>\n",
       "    </tr>\n",
       "  </thead>\n",
       "  <tbody>\n",
       "    <tr>\n",
       "      <th>0</th>\n",
       "      <td>35844.189551</td>\n",
       "      <td>189.325618</td>\n",
       "      <td>-80.937022</td>\n",
       "    </tr>\n",
       "    <tr>\n",
       "      <th>1</th>\n",
       "      <td>94203.418396</td>\n",
       "      <td>306.925754</td>\n",
       "      <td>-2454.548896</td>\n",
       "    </tr>\n",
       "  </tbody>\n",
       "</table>\n",
       "</div>"
      ],
      "text/plain": [
       "             var_minutes  std_minutes  mean_minutes\n",
       "tariff_cat                                         \n",
       "0           35844.189551   189.325618    -80.937022\n",
       "1           94203.418396   306.925754  -2454.548896"
      ]
     },
     "execution_count": 268,
     "metadata": {},
     "output_type": "execute_result"
    }
   ],
   "source": [
    "desc_table_minutes = total.pivot_table(index='tariff_cat', values='diff_minutes', aggfunc=[np.var, np.std, np.mean])\n",
    "desc_table_minutes.columns = ['var_minutes', 'std_minutes', 'mean_minutes']\n",
    "desc_table_minutes"
   ]
  },
  {
   "cell_type": "markdown",
   "id": "ea917ba3-9218-4805-8c2f-553bfd562914",
   "metadata": {},
   "source": [
    "Найдем дисперсию, стандартное отклонение и среднее для интернет траффика в обоих тарифах"
   ]
  },
  {
   "cell_type": "code",
   "execution_count": 269,
   "id": "80cb44a7-7791-4b82-9be2-3b793d55cbde",
   "metadata": {},
   "outputs": [
    {
     "data": {
      "text/html": [
       "<div>\n",
       "<style scoped>\n",
       "    .dataframe tbody tr th:only-of-type {\n",
       "        vertical-align: middle;\n",
       "    }\n",
       "\n",
       "    .dataframe tbody tr th {\n",
       "        vertical-align: top;\n",
       "    }\n",
       "\n",
       "    .dataframe thead th {\n",
       "        text-align: right;\n",
       "    }\n",
       "</style>\n",
       "<table border=\"1\" class=\"dataframe\">\n",
       "  <thead>\n",
       "    <tr style=\"text-align: right;\">\n",
       "      <th></th>\n",
       "      <th>var_gb</th>\n",
       "      <th>std_gb</th>\n",
       "      <th>mean_gb</th>\n",
       "    </tr>\n",
       "    <tr>\n",
       "      <th>tariff_cat</th>\n",
       "      <th></th>\n",
       "      <th></th>\n",
       "      <th></th>\n",
       "    </tr>\n",
       "  </thead>\n",
       "  <tbody>\n",
       "    <tr>\n",
       "      <th>0</th>\n",
       "      <td>33.092396</td>\n",
       "      <td>5.752599</td>\n",
       "      <td>1.329735</td>\n",
       "    </tr>\n",
       "    <tr>\n",
       "      <th>1</th>\n",
       "      <td>97.820643</td>\n",
       "      <td>9.890432</td>\n",
       "      <td>-10.512093</td>\n",
       "    </tr>\n",
       "  </tbody>\n",
       "</table>\n",
       "</div>"
      ],
      "text/plain": [
       "               var_gb    std_gb    mean_gb\n",
       "tariff_cat                                \n",
       "0           33.092396  5.752599   1.329735\n",
       "1           97.820643  9.890432 -10.512093"
      ]
     },
     "execution_count": 269,
     "metadata": {},
     "output_type": "execute_result"
    }
   ],
   "source": [
    "desc_table_gb = total.pivot_table(index='tariff_cat', values='diff_gb', aggfunc=[np.var, np.std, np.mean])\n",
    "desc_table_gb.columns = ['var_gb', 'std_gb', 'mean_gb']\n",
    "desc_table_gb"
   ]
  },
  {
   "cell_type": "markdown",
   "id": "a4415ac5-e974-44df-97fc-cf068065a5c6",
   "metadata": {},
   "source": [
    "Найдем дисперсию, стандартное отклонение и среднее для количества сообщений в обоих тарифах"
   ]
  },
  {
   "cell_type": "code",
   "execution_count": 270,
   "id": "2ec5f65e-a1d3-41b5-b37c-91bcc6518f7e",
   "metadata": {},
   "outputs": [
    {
     "data": {
      "text/html": [
       "<div>\n",
       "<style scoped>\n",
       "    .dataframe tbody tr th:only-of-type {\n",
       "        vertical-align: middle;\n",
       "    }\n",
       "\n",
       "    .dataframe tbody tr th {\n",
       "        vertical-align: top;\n",
       "    }\n",
       "\n",
       "    .dataframe thead th {\n",
       "        text-align: right;\n",
       "    }\n",
       "</style>\n",
       "<table border=\"1\" class=\"dataframe\">\n",
       "  <thead>\n",
       "    <tr style=\"text-align: right;\">\n",
       "      <th></th>\n",
       "      <th>var_msg</th>\n",
       "      <th>std_msg</th>\n",
       "      <th>mean_msg</th>\n",
       "    </tr>\n",
       "    <tr>\n",
       "      <th>tariff_cat</th>\n",
       "      <th></th>\n",
       "      <th></th>\n",
       "      <th></th>\n",
       "    </tr>\n",
       "  </thead>\n",
       "  <tbody>\n",
       "    <tr>\n",
       "      <th>0</th>\n",
       "      <td>798.595792</td>\n",
       "      <td>28.259437</td>\n",
       "      <td>-16.603689</td>\n",
       "    </tr>\n",
       "    <tr>\n",
       "      <th>1</th>\n",
       "      <td>2198.733603</td>\n",
       "      <td>46.890656</td>\n",
       "      <td>-950.966351</td>\n",
       "    </tr>\n",
       "  </tbody>\n",
       "</table>\n",
       "</div>"
      ],
      "text/plain": [
       "                var_msg    std_msg    mean_msg\n",
       "tariff_cat                                    \n",
       "0            798.595792  28.259437  -16.603689\n",
       "1           2198.733603  46.890656 -950.966351"
      ]
     },
     "execution_count": 270,
     "metadata": {},
     "output_type": "execute_result"
    }
   ],
   "source": [
    "desc_table_msg = total.pivot_table(index='tariff_cat', values='diff_msg', aggfunc=[np.var, np.std, np.mean])\n",
    "desc_table_msg.columns = ['var_msg', 'std_msg', 'mean_msg']\n",
    "desc_table_msg"
   ]
  },
  {
   "cell_type": "code",
   "execution_count": 271,
   "id": "deaf7c03-7ac9-48d2-a023-a3aa3c3975f7",
   "metadata": {},
   "outputs": [
    {
     "data": {
      "image/png": "[encoded data removed]",
      "text/plain": [
       "<Figure size 432x288 with 1 Axes>"
      ]
     },
     "metadata": {
      "needs_background": "light"
     },
     "output_type": "display_data"
    }
   ],
   "source": [
    "total.groupby('tariff_cat')['minutes_sum'].hist(bins=20, legend=True, alpha=.5);\n",
    "plt.xlabel('Количество минут');\n",
    "plt.ylabel('Частота');\n",
    "plt.title('Количество использованных минут в месяц');\n",
    "plt.legend(['Smart', 'Ultra']);"
   ]
  },
  {
   "cell_type": "markdown",
   "id": "ae8063eb-a9e8-45dc-83ae-3762cb9a67d9",
   "metadata": {},
   "source": [
    "Данные практически симметричны. Почти у всех пользователей тарифа ultra остается большая часть неиспользованных минут тарифа, в то время как пользователи тарифа smart часто выходят за лимит минут своего тарифа"
   ]
  },
  {
   "cell_type": "code",
   "execution_count": 272,
   "id": "d532ce35-583b-400f-90ae-786d40171adc",
   "metadata": {},
   "outputs": [
    {
     "data": {
      "image/png": "[encoded data removed]",
      "text/plain": [
       "<Figure size 432x288 with 1 Axes>"
      ]
     },
     "metadata": {
      "needs_background": "light"
     },
     "output_type": "display_data"
    }
   ],
   "source": [
    "total.groupby('tariff_cat')['gb_sum'].hist(legend=True, alpha=.5);\n",
    "plt.xlabel('Количество гигабайт');\n",
    "plt.ylabel('Частота');\n",
    "plt.title('Количество использованных гигабайт в месяц');\n",
    "plt.legend(['Smart', 'Ultra']);"
   ]
  },
  {
   "cell_type": "markdown",
   "id": "dcec5413-2354-4769-bf3b-38c6014b95ac",
   "metadata": {},
   "source": [
    "В данном случае данные так же симметричны. Большая часть пользователей тарифа smart выходят за лимит интернет траффика, в то время как у большей части пользователей тарифа ultra остаются неиспользованные гигабайты"
   ]
  },
  {
   "cell_type": "code",
   "execution_count": 273,
   "id": "7d6d751e-a354-40e9-9b2e-7a6d41dfa8c0",
   "metadata": {},
   "outputs": [
    {
     "data": {
      "image/png": "[encoded data removed]",
      "text/plain": [
       "<Figure size 432x288 with 1 Axes>"
      ]
     },
     "metadata": {
      "needs_background": "light"
     },
     "output_type": "display_data"
    }
   ],
   "source": [
    "total.groupby('tariff_cat')['msg_count'].hist(bins=10, legend=True, alpha=.5);\n",
    "plt.xlabel('Количество сообщений');\n",
    "plt.ylabel('Частота');\n",
    "plt.title('Количество использованных сообщений в месяц');\n",
    "plt.legend(['Smart', 'Ultra']);"
   ]
  },
  {
   "cell_type": "markdown",
   "id": "c618ece6-a8a9-4c6c-a2f6-c15d951d84d9",
   "metadata": {},
   "source": [
    "Здесь данные скошены вправо, пользователи тарифа ultra мало пользуются смс сообщениями, в среднем они отправляют 50 смс из 1000 доступных в тарифе. Пользователи тарифа smart, в среднем используют около 2/3 лимита сообщений"
   ]
  },
  {
   "cell_type": "code",
   "execution_count": 274,
   "id": "c0cb9f08-6725-4019-835e-992f76abc470",
   "metadata": {},
   "outputs": [
    {
     "name": "stdout",
     "output_type": "stream",
     "text": [
      "<class 'pandas.core.frame.DataFrame'>\n",
      "Int64Index: 3174 entries, 0 to 3173\n",
      "Data columns (total 18 columns):\n",
      " #   Column         Non-Null Count  Dtype         \n",
      "---  ------         --------------  -----         \n",
      " 0   user_id        3174 non-null   int64         \n",
      " 1   month          3174 non-null   int64         \n",
      " 2   calls_count    3174 non-null   int64         \n",
      " 3   minutes_sum    3174 non-null   int64         \n",
      " 4   session_count  3174 non-null   float64       \n",
      " 5   gb_sum         3174 non-null   float64       \n",
      " 6   msg_count      3174 non-null   float64       \n",
      " 7   age            3174 non-null   int64         \n",
      " 8   churn_date     187 non-null    object        \n",
      " 9   city           3174 non-null   object        \n",
      " 10  first_name     3174 non-null   object        \n",
      " 11  last_name      3174 non-null   object        \n",
      " 12  reg_date       3174 non-null   datetime64[ns]\n",
      " 13  tariff_cat     3174 non-null   int64         \n",
      " 14  diff_minutes   3174 non-null   int64         \n",
      " 15  diff_gb        3174 non-null   float64       \n",
      " 16  diff_msg       3174 non-null   int64         \n",
      " 17  total_cost     3174 non-null   float64       \n",
      "dtypes: datetime64[ns](1), float64(5), int64(8), object(4)\n",
      "memory usage: 471.1+ KB\n"
     ]
    }
   ],
   "source": [
    "total.info()"
   ]
  },
  {
   "cell_type": "markdown",
   "id": "6395464c-9918-44d7-8a0e-19266d626342",
   "metadata": {},
   "source": [
    "## Шаг 4. Проверим гипотезы"
   ]
  },
  {
   "cell_type": "markdown",
   "id": "a7f96235-804e-4c15-9be4-3430859beca7",
   "metadata": {},
   "source": [
    "### Проверим первую гипотезу:\n",
    "\n",
    "**Средняя выручка пользователей тарифов «Ультра» и «Смарт» различаются**"
   ]
  },
  {
   "cell_type": "markdown",
   "id": "f4b15941-9725-4b1b-b308-c64975685182",
   "metadata": {},
   "source": [
    "Сформируем 2 выборки по тарифам:"
   ]
  },
  {
   "cell_type": "code",
   "execution_count": 275,
   "id": "a32f565a-b1a1-4cde-829d-5921466d3525",
   "metadata": {},
   "outputs": [
    {
     "data": {
      "text/plain": [
       "2223"
      ]
     },
     "metadata": {},
     "output_type": "display_data"
    },
    {
     "data": {
      "text/plain": [
       "951"
      ]
     },
     "metadata": {},
     "output_type": "display_data"
    }
   ],
   "source": [
    "smart_0 = total.query('tariff_cat == 0')\n",
    "ultra_1 = total.query('tariff_cat == 1')\n",
    "display(len(smart_0))\n",
    "display(len(ultra_1))"
   ]
  },
  {
   "cell_type": "markdown",
   "id": "bee618b4-7b72-424d-8b17-883f1f548a8f",
   "metadata": {},
   "source": [
    "Исходя из задания, сформулируем нулевую гипотезу как равенство средних двух совокупностей:\n",
    "    \n",
    "**Средняя выручка пользователей тарифа \"Ультра\" равна средней выручке пользователей тарифа \"Смарт\"**."
   ]
  },
  {
   "cell_type": "markdown",
   "id": "f8a20681-a403-4506-9405-cbff2d03745c",
   "metadata": {},
   "source": [
    "Критический уровень значимости установим в 5%.\n",
    "\n",
    "Так как нам нужно сравнить средние двух независимых друг от друга выборок, используем метод `scipy.stats.ttest_ind()`, параметр `equal_var` установим в False, потому что выборки разного размера и их дисперсии не равны"
   ]
  },
  {
   "cell_type": "code",
   "execution_count": 276,
   "id": "b9e4f556-bb13-4ed7-8577-52c75a623e88",
   "metadata": {},
   "outputs": [
    {
     "name": "stdout",
     "output_type": "stream",
     "text": [
      "Средняя выручка пользователей тарифа Smart: 1290.8911381016644\n",
      "Средняя выручка пользователей тарифа Ultra: 2070.9779179810726\n",
      "\n",
      "pvalue: 3.155173205867294e-245\n",
      "Отвергаем нулевую гипотезу\n"
     ]
    }
   ],
   "source": [
    "alpha = 0.05\n",
    "\n",
    "print(f'Средняя выручка пользователей тарифа Smart: {smart_0[\"total_cost\"].mean()}')\n",
    "print(f'Средняя выручка пользователей тарифа Ultra: {ultra_1[\"total_cost\"].mean()}')\n",
    "print()\n",
    "\n",
    "result = scipy.stats.ttest_ind(smart_0['total_cost'], ultra_1['total_cost'], equal_var=False)\n",
    "\n",
    "if result.pvalue < alpha:\n",
    "    print(f'pvalue: {result.pvalue}')\n",
    "    print('Отвергаем нулевую гипотезу')\n",
    "else:\n",
    "    print(f'pvalue:{result.pvalue}')\n",
    "    print(\"Не получилось отвергнуть нулевую гипотезу\")"
   ]
  },
  {
   "cell_type": "markdown",
   "id": "a2877c8c-8bfd-40aa-81ad-ba4b8fa40199",
   "metadata": {},
   "source": [
    "Так как не задано конкретное значение, с которым нужно сравнить среднее одной из выборок, сформулируем первую гипотезу как неравенство средних двух совокупностей:\n",
    "\n",
    "**Средняя выручка пользователей тарифа \"Ультра\" не равна средней выручке пользователей тарифа \"Смарт\"**."
   ]
  },
  {
   "cell_type": "markdown",
   "id": "8ca3efb2-85fd-4103-ba83-53182533b986",
   "metadata": {},
   "source": [
    "Так как `pvalue` в данном случае получился очень маленьким, отвергаем нулевую гипотезу и принимаем первую."
   ]
  },
  {
   "cell_type": "markdown",
   "id": "2c84b141-403e-48d9-8595-5b2e86107544",
   "metadata": {},
   "source": [
    "### Проверим вторую гипотезу:\n",
    "\n",
    "**Средняя выручка пользователей из Москвы отличается от выручки пользователей из других регионов.**\n",
    "\n",
    "Сформируем 2 выборки: пользователи из Москвы и пользователи из остальных регионов"
   ]
  },
  {
   "cell_type": "code",
   "execution_count": 277,
   "id": "4433e4d7-555e-4572-a4de-433ca7c5779e",
   "metadata": {},
   "outputs": [
    {
     "data": {
      "text/plain": [
       "610"
      ]
     },
     "metadata": {},
     "output_type": "display_data"
    },
    {
     "data": {
      "text/plain": [
       "2564"
      ]
     },
     "metadata": {},
     "output_type": "display_data"
    }
   ],
   "source": [
    "moscow_users = total.query('city == \"Москва\"')\n",
    "other_users = total.query('city != \"Москва\"')\n",
    "display(len(moscow_users))\n",
    "display(len(other_users))"
   ]
  },
  {
   "cell_type": "markdown",
   "id": "a30b175e-f2cc-4ef5-a597-387dbcd22f2d",
   "metadata": {},
   "source": [
    "Исходя из задания, сформулируем нулевую гипотезу как равенство средних двух совокупностей:\n",
    "    \n",
    "**Средняя выручка пользователей из Москвы равна средней выручке пользователей из других регионов**."
   ]
  },
  {
   "cell_type": "markdown",
   "id": "a06f37b9-484f-4664-8fda-0ac11baa74a1",
   "metadata": {},
   "source": [
    "Критический уровень значимости установим в 5%.\n",
    "\n",
    "Так как нам нужно сравнить средние двух независимых друг от друга выборок, используем метод `scipy.stats.ttest_ind()`, параметр `equal_var` установим в False, потому что выборки разного размера и их дисперсии не равны"
   ]
  },
  {
   "cell_type": "code",
   "execution_count": 279,
   "id": "719546e4-c207-4863-9ad7-754a9127d634",
   "metadata": {},
   "outputs": [
    {
     "name": "stdout",
     "output_type": "stream",
     "text": [
      "Средняя выручка пользователей из Москвы: 1546.0524590163934\n",
      "Средняя выручка пользователей из других регионов: 1519.5237909516381\n",
      "\n",
      "pvalue: 0.44113705815091153\n",
      "Не получилось отвергнуть нулевую гипотезу\n"
     ]
    }
   ],
   "source": [
    "alpha = 0.05\n",
    "\n",
    "print(f'Средняя выручка пользователей из Москвы: {moscow_users[\"total_cost\"].mean()}')\n",
    "print(f'Средняя выручка пользователей из других регионов: {other_users[\"total_cost\"].mean()}')\n",
    "print()\n",
    "\n",
    "result = scipy.stats.ttest_ind(moscow_users['total_cost'], other_users['total_cost'], equal_var=False)\n",
    "\n",
    "if result.pvalue < alpha:\n",
    "    print(f'pvalue: {result.pvalue}')\n",
    "    print(\"Отвергаем нулевую гипотезу\")\n",
    "else:\n",
    "    print(f'pvalue: {result.pvalue}')\n",
    "    print(\"Не получилось отвергнуть нулевую гипотезу\")"
   ]
  },
  {
   "cell_type": "markdown",
   "id": "d21cab8a-b710-48e3-bcfd-90c8e0f55f4e",
   "metadata": {},
   "source": [
    "Вероятность того, что средняя выручка пользователей из Москвы равна средней выручке пользователей из других регионов = 44%, следовательно мы не можем отвергнуть нулевую гипотезу"
   ]
  },
  {
   "cell_type": "markdown",
   "id": "fb3c6b62-3103-4946-a9fb-bb71a182a7ab",
   "metadata": {},
   "source": [
    "## Шаг 5. Напишем общий вывод"
   ]
  },
  {
   "cell_type": "markdown",
   "id": "b364bf7a-e481-4402-90ee-4612bdb2de58",
   "metadata": {},
   "source": [
    "Мы провели исследование двух тарифных планов компании \"Мегалайн\". Исследование проводили на данных 500 пользователей за 2018 год. По предоставленным данным мы выяснили:\n",
    "* большая часть пользователей тарифа \"Ультра\" не выходят за границы лимита по минутам, интернету и смс сообщениям\n",
    "* пользователям тарифа \"Смарт\" часто не хватает минут и гигабайт, включенных в тарифный план\n",
    "* пользователи тарифа \"Смарт\" иногда выходят за границы лимита по смс\n",
    "* большая часть пользователей обоих тарифов практически не пользуется смс сообщениями\n",
    "\n",
    "Так же в ходе исследования мы подтвердили одну гипотезу:\n",
    "* средняя выручка пользователей тарифов «Ультра» и «Смарт» действительно различаются\n",
    "\n",
    "И опровергли вторую:\n",
    "* средняя выручка пользователей из Москвы может не отличаться от выручки пользователей из других регионов"
   ]
  }
 ],
 "metadata": {
  "ExecuteTimeLog": [
   {
    "duration": 1016,
    "start_time": "2022-04-03T15:29:20.687Z"
   },
   {
    "duration": 436,
    "start_time": "2022-04-03T15:29:21.705Z"
   },
   {
    "duration": 0,
    "start_time": "2022-04-03T15:29:22.145Z"
   },
   {
    "duration": 0,
    "start_time": "2022-04-03T15:29:22.146Z"
   },
   {
    "duration": 0,
    "start_time": "2022-04-03T15:29:22.146Z"
   },
   {
    "duration": 0,
    "start_time": "2022-04-03T15:29:22.148Z"
   },
   {
    "duration": 0,
    "start_time": "2022-04-03T15:29:22.148Z"
   },
   {
    "duration": 0,
    "start_time": "2022-04-03T15:29:22.150Z"
   },
   {
    "duration": 0,
    "start_time": "2022-04-03T15:29:22.151Z"
   },
   {
    "duration": 0,
    "start_time": "2022-04-03T15:29:22.151Z"
   },
   {
    "duration": 0,
    "start_time": "2022-04-03T15:29:22.153Z"
   },
   {
    "duration": 0,
    "start_time": "2022-04-03T15:29:22.153Z"
   },
   {
    "duration": 0,
    "start_time": "2022-04-03T15:29:22.154Z"
   },
   {
    "duration": 0,
    "start_time": "2022-04-03T15:29:22.155Z"
   },
   {
    "duration": 0,
    "start_time": "2022-04-03T15:29:22.156Z"
   },
   {
    "duration": 0,
    "start_time": "2022-04-03T15:29:22.157Z"
   },
   {
    "duration": 0,
    "start_time": "2022-04-03T15:29:22.158Z"
   },
   {
    "duration": 0,
    "start_time": "2022-04-03T15:29:22.159Z"
   },
   {
    "duration": 0,
    "start_time": "2022-04-03T15:29:22.160Z"
   },
   {
    "duration": 0,
    "start_time": "2022-04-03T15:29:22.161Z"
   },
   {
    "duration": 0,
    "start_time": "2022-04-03T15:29:22.162Z"
   },
   {
    "duration": 0,
    "start_time": "2022-04-03T15:29:22.163Z"
   },
   {
    "duration": 0,
    "start_time": "2022-04-03T15:29:22.164Z"
   },
   {
    "duration": 0,
    "start_time": "2022-04-03T15:29:22.165Z"
   },
   {
    "duration": 0,
    "start_time": "2022-04-03T15:29:22.166Z"
   },
   {
    "duration": 0,
    "start_time": "2022-04-03T15:29:22.167Z"
   },
   {
    "duration": 0,
    "start_time": "2022-04-03T15:29:22.167Z"
   },
   {
    "duration": 0,
    "start_time": "2022-04-03T15:29:22.168Z"
   },
   {
    "duration": 0,
    "start_time": "2022-04-03T15:29:22.170Z"
   },
   {
    "duration": 0,
    "start_time": "2022-04-03T15:29:22.170Z"
   },
   {
    "duration": 0,
    "start_time": "2022-04-03T15:29:22.171Z"
   },
   {
    "duration": 0,
    "start_time": "2022-04-03T15:29:22.173Z"
   },
   {
    "duration": 0,
    "start_time": "2022-04-03T15:29:22.174Z"
   },
   {
    "duration": 0,
    "start_time": "2022-04-03T15:29:22.175Z"
   },
   {
    "duration": 0,
    "start_time": "2022-04-03T15:29:22.176Z"
   },
   {
    "duration": 0,
    "start_time": "2022-04-03T15:29:22.177Z"
   },
   {
    "duration": 0,
    "start_time": "2022-04-03T15:29:22.178Z"
   },
   {
    "duration": 0,
    "start_time": "2022-04-03T15:29:22.233Z"
   },
   {
    "duration": 0,
    "start_time": "2022-04-03T15:29:22.234Z"
   },
   {
    "duration": 0,
    "start_time": "2022-04-03T15:29:22.236Z"
   },
   {
    "duration": 0,
    "start_time": "2022-04-03T15:29:22.236Z"
   },
   {
    "duration": 0,
    "start_time": "2022-04-03T15:29:22.237Z"
   },
   {
    "duration": 0,
    "start_time": "2022-04-03T15:29:22.239Z"
   },
   {
    "duration": 0,
    "start_time": "2022-04-03T15:29:22.240Z"
   },
   {
    "duration": 0,
    "start_time": "2022-04-03T15:29:22.241Z"
   },
   {
    "duration": 0,
    "start_time": "2022-04-03T15:29:22.242Z"
   },
   {
    "duration": 0,
    "start_time": "2022-04-03T15:29:22.243Z"
   },
   {
    "duration": 0,
    "start_time": "2022-04-03T15:29:22.244Z"
   },
   {
    "duration": 0,
    "start_time": "2022-04-03T15:29:22.245Z"
   },
   {
    "duration": 0,
    "start_time": "2022-04-03T15:29:22.246Z"
   },
   {
    "duration": 0,
    "start_time": "2022-04-03T15:29:22.247Z"
   },
   {
    "duration": 0,
    "start_time": "2022-04-03T15:29:22.249Z"
   },
   {
    "duration": 0,
    "start_time": "2022-04-03T15:29:22.250Z"
   },
   {
    "duration": 387,
    "start_time": "2022-04-03T15:30:30.068Z"
   },
   {
    "duration": 1011,
    "start_time": "2022-04-03T15:32:45.564Z"
   },
   {
    "duration": 349,
    "start_time": "2022-04-03T15:32:46.577Z"
   },
   {
    "duration": 12,
    "start_time": "2022-04-03T15:32:46.927Z"
   },
   {
    "duration": 28,
    "start_time": "2022-04-03T15:32:46.941Z"
   },
   {
    "duration": 8,
    "start_time": "2022-04-03T15:32:46.971Z"
   },
   {
    "duration": 23,
    "start_time": "2022-04-03T15:32:46.981Z"
   },
   {
    "duration": 7,
    "start_time": "2022-04-03T15:32:47.005Z"
   },
   {
    "duration": 18,
    "start_time": "2022-04-03T15:32:47.033Z"
   },
   {
    "duration": 105,
    "start_time": "2022-04-03T15:32:47.053Z"
   },
   {
    "duration": 0,
    "start_time": "2022-04-03T15:32:47.162Z"
   },
   {
    "duration": 0,
    "start_time": "2022-04-03T15:32:47.164Z"
   },
   {
    "duration": 0,
    "start_time": "2022-04-03T15:32:47.164Z"
   },
   {
    "duration": 0,
    "start_time": "2022-04-03T15:32:47.165Z"
   },
   {
    "duration": 0,
    "start_time": "2022-04-03T15:32:47.166Z"
   },
   {
    "duration": 0,
    "start_time": "2022-04-03T15:32:47.167Z"
   },
   {
    "duration": 0,
    "start_time": "2022-04-03T15:32:47.168Z"
   },
   {
    "duration": 0,
    "start_time": "2022-04-03T15:32:47.170Z"
   },
   {
    "duration": 0,
    "start_time": "2022-04-03T15:32:47.171Z"
   },
   {
    "duration": 0,
    "start_time": "2022-04-03T15:32:47.172Z"
   },
   {
    "duration": 0,
    "start_time": "2022-04-03T15:32:47.173Z"
   },
   {
    "duration": 0,
    "start_time": "2022-04-03T15:32:47.173Z"
   },
   {
    "duration": 0,
    "start_time": "2022-04-03T15:32:47.175Z"
   },
   {
    "duration": 0,
    "start_time": "2022-04-03T15:32:47.175Z"
   },
   {
    "duration": 0,
    "start_time": "2022-04-03T15:32:47.177Z"
   },
   {
    "duration": 0,
    "start_time": "2022-04-03T15:32:47.178Z"
   },
   {
    "duration": 0,
    "start_time": "2022-04-03T15:32:47.178Z"
   },
   {
    "duration": 0,
    "start_time": "2022-04-03T15:32:47.179Z"
   },
   {
    "duration": 0,
    "start_time": "2022-04-03T15:32:47.180Z"
   },
   {
    "duration": 0,
    "start_time": "2022-04-03T15:32:47.181Z"
   },
   {
    "duration": 0,
    "start_time": "2022-04-03T15:32:47.182Z"
   },
   {
    "duration": 0,
    "start_time": "2022-04-03T15:32:47.183Z"
   },
   {
    "duration": 0,
    "start_time": "2022-04-03T15:32:47.184Z"
   },
   {
    "duration": 0,
    "start_time": "2022-04-03T15:32:47.184Z"
   },
   {
    "duration": 0,
    "start_time": "2022-04-03T15:32:47.185Z"
   },
   {
    "duration": 0,
    "start_time": "2022-04-03T15:32:47.186Z"
   },
   {
    "duration": 0,
    "start_time": "2022-04-03T15:32:47.187Z"
   },
   {
    "duration": 0,
    "start_time": "2022-04-03T15:32:47.188Z"
   },
   {
    "duration": 0,
    "start_time": "2022-04-03T15:32:47.233Z"
   },
   {
    "duration": 0,
    "start_time": "2022-04-03T15:32:47.234Z"
   },
   {
    "duration": 0,
    "start_time": "2022-04-03T15:32:47.234Z"
   },
   {
    "duration": 0,
    "start_time": "2022-04-03T15:32:47.235Z"
   },
   {
    "duration": 0,
    "start_time": "2022-04-03T15:32:47.236Z"
   },
   {
    "duration": 0,
    "start_time": "2022-04-03T15:32:47.237Z"
   },
   {
    "duration": 0,
    "start_time": "2022-04-03T15:32:47.238Z"
   },
   {
    "duration": 0,
    "start_time": "2022-04-03T15:32:47.238Z"
   },
   {
    "duration": 0,
    "start_time": "2022-04-03T15:32:47.240Z"
   },
   {
    "duration": 0,
    "start_time": "2022-04-03T15:32:47.240Z"
   },
   {
    "duration": 0,
    "start_time": "2022-04-03T15:32:47.241Z"
   },
   {
    "duration": 0,
    "start_time": "2022-04-03T15:32:47.242Z"
   },
   {
    "duration": 0,
    "start_time": "2022-04-03T15:32:47.243Z"
   },
   {
    "duration": 0,
    "start_time": "2022-04-03T15:32:47.244Z"
   },
   {
    "duration": 0,
    "start_time": "2022-04-03T15:32:47.245Z"
   },
   {
    "duration": 0,
    "start_time": "2022-04-03T15:32:47.246Z"
   },
   {
    "duration": 1066,
    "start_time": "2022-04-03T15:33:14.413Z"
   },
   {
    "duration": 354,
    "start_time": "2022-04-03T15:33:15.481Z"
   },
   {
    "duration": 12,
    "start_time": "2022-04-03T15:33:15.837Z"
   },
   {
    "duration": 24,
    "start_time": "2022-04-03T15:33:15.851Z"
   },
   {
    "duration": 13,
    "start_time": "2022-04-03T15:33:15.877Z"
   },
   {
    "duration": 42,
    "start_time": "2022-04-03T15:33:15.891Z"
   },
   {
    "duration": 7,
    "start_time": "2022-04-03T15:33:15.935Z"
   },
   {
    "duration": 21,
    "start_time": "2022-04-03T15:33:15.943Z"
   },
   {
    "duration": 7,
    "start_time": "2022-04-03T15:33:15.966Z"
   },
   {
    "duration": 10,
    "start_time": "2022-04-03T15:33:15.976Z"
   },
   {
    "duration": 11,
    "start_time": "2022-04-03T15:33:15.988Z"
   },
   {
    "duration": 43,
    "start_time": "2022-04-03T15:33:16.000Z"
   },
   {
    "duration": 57,
    "start_time": "2022-04-03T15:33:16.044Z"
   },
   {
    "duration": 7,
    "start_time": "2022-04-03T15:33:16.103Z"
   },
   {
    "duration": 24,
    "start_time": "2022-04-03T15:33:16.112Z"
   },
   {
    "duration": 8,
    "start_time": "2022-04-03T15:33:16.138Z"
   },
   {
    "duration": 37,
    "start_time": "2022-04-03T15:33:16.147Z"
   },
   {
    "duration": 47,
    "start_time": "2022-04-03T15:33:16.186Z"
   },
   {
    "duration": 21,
    "start_time": "2022-04-03T15:33:16.234Z"
   },
   {
    "duration": 4,
    "start_time": "2022-04-03T15:33:16.256Z"
   },
   {
    "duration": 5,
    "start_time": "2022-04-03T15:33:16.261Z"
   },
   {
    "duration": 11,
    "start_time": "2022-04-03T15:33:16.268Z"
   },
   {
    "duration": 7,
    "start_time": "2022-04-03T15:33:16.281Z"
   },
   {
    "duration": 72,
    "start_time": "2022-04-03T15:33:16.289Z"
   },
   {
    "duration": 4,
    "start_time": "2022-04-03T15:33:16.362Z"
   },
   {
    "duration": 79,
    "start_time": "2022-04-03T15:33:16.368Z"
   },
   {
    "duration": 35,
    "start_time": "2022-04-03T15:33:16.448Z"
   },
   {
    "duration": 10,
    "start_time": "2022-04-03T15:33:16.488Z"
   },
   {
    "duration": 14,
    "start_time": "2022-04-03T15:33:16.500Z"
   },
   {
    "duration": 5,
    "start_time": "2022-04-03T15:33:16.533Z"
   },
   {
    "duration": 11,
    "start_time": "2022-04-03T15:33:16.539Z"
   },
   {
    "duration": 8,
    "start_time": "2022-04-03T15:33:16.551Z"
   },
   {
    "duration": 4,
    "start_time": "2022-04-03T15:33:16.561Z"
   },
   {
    "duration": 82,
    "start_time": "2022-04-03T15:33:16.566Z"
   },
   {
    "duration": 4,
    "start_time": "2022-04-03T15:33:16.650Z"
   },
   {
    "duration": 55,
    "start_time": "2022-04-03T15:33:16.656Z"
   },
   {
    "duration": 3,
    "start_time": "2022-04-03T15:33:16.713Z"
   },
   {
    "duration": 60,
    "start_time": "2022-04-03T15:33:16.733Z"
   },
   {
    "duration": 16,
    "start_time": "2022-04-03T15:33:16.795Z"
   },
   {
    "duration": 5,
    "start_time": "2022-04-03T15:33:16.832Z"
   },
   {
    "duration": 106,
    "start_time": "2022-04-03T15:33:16.839Z"
   },
   {
    "duration": 23,
    "start_time": "2022-04-03T15:33:16.947Z"
   },
   {
    "duration": 25,
    "start_time": "2022-04-03T15:33:16.972Z"
   },
   {
    "duration": 43,
    "start_time": "2022-04-03T15:33:16.999Z"
   },
   {
    "duration": 23,
    "start_time": "2022-04-03T15:33:17.044Z"
   },
   {
    "duration": 508,
    "start_time": "2022-04-03T15:33:17.068Z"
   },
   {
    "duration": 295,
    "start_time": "2022-04-03T15:33:17.578Z"
   },
   {
    "duration": 360,
    "start_time": "2022-04-03T15:33:17.875Z"
   },
   {
    "duration": 12,
    "start_time": "2022-04-03T15:33:18.237Z"
   },
   {
    "duration": 13,
    "start_time": "2022-04-03T15:33:18.250Z"
   },
   {
    "duration": 6,
    "start_time": "2022-04-03T15:33:18.265Z"
   },
   {
    "duration": 64,
    "start_time": "2022-04-03T15:33:18.273Z"
   },
   {
    "duration": 6,
    "start_time": "2022-04-03T15:33:18.339Z"
   },
   {
    "duration": 139,
    "start_time": "2022-04-03T15:44:18.588Z"
   },
   {
    "duration": 137,
    "start_time": "2022-04-03T15:44:23.285Z"
   },
   {
    "duration": 143,
    "start_time": "2022-04-03T15:44:28.592Z"
   }
  ],
  "kernelspec": {
   "display_name": "Python 3 (ipykernel)",
   "language": "python",
   "name": "python3"
  },
  "language_info": {
   "codemirror_mode": {
    "name": "ipython",
    "version": 3
   },
   "file_extension": ".py",
   "mimetype": "text/x-python",
   "name": "python",
   "nbconvert_exporter": "python",
   "pygments_lexer": "ipython3",
   "version": "3.8.10"
  },
  "toc": {
   "base_numbering": 1,
   "nav_menu": {},
   "number_sections": true,
   "sideBar": true,
   "skip_h1_title": true,
   "title_cell": "Table of Contents",
   "title_sidebar": "Contents",
   "toc_cell": false,
   "toc_position": {},
   "toc_section_display": true,
   "toc_window_display": true
  }
 },
 "nbformat": 4,
 "nbformat_minor": 5
}
