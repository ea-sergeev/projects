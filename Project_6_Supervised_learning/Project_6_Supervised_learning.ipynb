{
 "cells": [
  {
   "cell_type": "markdown",
   "metadata": {
    "pycharm": {
     "name": "#%% md\n"
    }
   },
   "source": [
    "# Отток клиентов"
   ]
  },
  {
   "cell_type": "markdown",
   "metadata": {
    "pycharm": {
     "name": "#%% md\n"
    }
   },
   "source": [
    "## Описание проекта"
   ]
  },
  {
   "cell_type": "markdown",
   "metadata": {
    "pycharm": {
     "name": "#%% md\n"
    }
   },
   "source": [
    "Из «Бета-Банка» стали уходить клиенты. Каждый месяц. Немного, но заметно. Банковские маркетологи посчитали: сохранять текущих клиентов дешевле, чем привлекать новых.\n",
    "Нужно спрогнозировать, уйдёт клиент из банка в ближайшее время или нет. Вам предоставлены исторические данные о поведении клиентов и расторжении договоров с банком.\n",
    "Постройте модель с предельно большим значением F1-меры. Чтобы сдать проект успешно, нужно довести метрику до 0.59. Проверьте F1-меру на тестовой выборке самостоятельно.\n",
    "Дополнительно измеряйте AUC-ROC, сравнивайте её значение с F1-мерой.\n",
    "\n",
    "**Цель проекта** - построить модель с предельно большим значением F1-меры. Чтобы сдать проект успешно, нужно довести метрику до 0.59. Проверить F1-меру на тестовой выборке.\n",
    "Дополнительно измерять AUC-ROC, сравнивать её значение с F1-мерой.\n",
    "\n",
    "**Ход работы**\n",
    "\n",
    "Данные оклиентах получаем из файла `/datasets/Churn.csv`.\n",
    "\n",
    "Работа пройдет в несколько этапов:\n",
    "* Подготовка данных\n",
    "* Исследование баланса классов\n",
    "* Улучшение качества модели\n",
    "* Финальное тестирование\n",
    "\n",
    "**Описание данных**\n",
    "\n",
    "Признаки\n",
    "* RowNumber — индекс строки в данных\n",
    "* CustomerId — уникальный идентификатор клиента\n",
    "* Surname — фамилия\n",
    "* CreditScore — кредитный рейтинг\n",
    "* Geography — страна проживания\n",
    "* Gender — пол\n",
    "* Age — возраст\n",
    "* Tenure — сколько лет человек является клиентом банка\n",
    "* Balance — баланс на счёте\n",
    "* NumOfProducts — количество продуктов банка, используемых клиентом\n",
    "* HasCrCard — наличие кредитной карты\n",
    "* IsActiveMember — активность клиента\n",
    "* EstimatedSalary — предполагаемая зарплата\n",
    "\n",
    "Целевой признак\n",
    "* Exited — факт ухода клиента"
   ]
  },
  {
   "cell_type": "markdown",
   "metadata": {
    "pycharm": {
     "name": "#%% md\n"
    }
   },
   "source": [
    "## Шаг 1. Подготовка данных"
   ]
  },
  {
   "cell_type": "markdown",
   "metadata": {
    "pycharm": {
     "name": "#%% md\n"
    }
   },
   "source": [
    "Импортируем нужные модули"
   ]
  },
  {
   "cell_type": "code",
   "execution_count": 2,
   "metadata": {
    "pycharm": {
     "name": "#%%\n"
    }
   },
   "outputs": [],
   "source": [
    "import matplotlib.pyplot as plt\n",
    "\n",
    "import pandas as pd\n",
    "\n",
    "from sklearn.ensemble import RandomForestClassifier\n",
    "from sklearn.linear_model import LogisticRegression\n",
    "from sklearn.metrics import f1_score\n",
    "from sklearn.metrics import roc_auc_score\n",
    "from sklearn.metrics import roc_curve\n",
    "from sklearn.model_selection import GridSearchCV\n",
    "from sklearn.model_selection import RandomizedSearchCV\n",
    "from sklearn.model_selection import train_test_split\n",
    "from sklearn.preprocessing import StandardScaler\n",
    "from sklearn.tree import DecisionTreeClassifier\n",
    "from sklearn.utils import shuffle"
   ]
  },
  {
   "cell_type": "code",
   "execution_count": 3,
   "metadata": {
    "pycharm": {
     "name": "#%%\n"
    }
   },
   "outputs": [],
   "source": [
    "pd.options.mode.chained_assignment = None"
   ]
  },
  {
   "cell_type": "code",
   "execution_count": 4,
   "metadata": {
    "pycharm": {
     "name": "#%%\n"
    }
   },
   "outputs": [],
   "source": [
    "RANDOM_STATE = 12345"
   ]
  },
  {
   "cell_type": "markdown",
   "metadata": {
    "pycharm": {
     "name": "#%% md\n"
    }
   },
   "source": [
    "Получим данные из датасета"
   ]
  },
  {
   "cell_type": "code",
   "execution_count": 5,
   "metadata": {
    "pycharm": {
     "name": "#%%\n"
    }
   },
   "outputs": [],
   "source": [
    "try:\n",
    "    data = pd.read_csv('../../datasets/Churn.csv')\n",
    "except FileNotFoundError:\n",
    "    data = pd.read_csv('/datasets/Churn.csv')"
   ]
  },
  {
   "cell_type": "markdown",
   "metadata": {
    "pycharm": {
     "name": "#%% md\n"
    }
   },
   "source": [
    "Посмотрим на данные"
   ]
  },
  {
   "cell_type": "code",
   "execution_count": 6,
   "metadata": {
    "pycharm": {
     "name": "#%%\n"
    }
   },
   "outputs": [
    {
     "data": {
      "text/html": [
       "<div>\n",
       "<style scoped>\n",
       "    .dataframe tbody tr th:only-of-type {\n",
       "        vertical-align: middle;\n",
       "    }\n",
       "\n",
       "    .dataframe tbody tr th {\n",
       "        vertical-align: top;\n",
       "    }\n",
       "\n",
       "    .dataframe thead th {\n",
       "        text-align: right;\n",
       "    }\n",
       "</style>\n",
       "<table border=\"1\" class=\"dataframe\">\n",
       "  <thead>\n",
       "    <tr style=\"text-align: right;\">\n",
       "      <th></th>\n",
       "      <th>RowNumber</th>\n",
       "      <th>CustomerId</th>\n",
       "      <th>Surname</th>\n",
       "      <th>CreditScore</th>\n",
       "      <th>Geography</th>\n",
       "      <th>Gender</th>\n",
       "      <th>Age</th>\n",
       "      <th>Tenure</th>\n",
       "      <th>Balance</th>\n",
       "      <th>NumOfProducts</th>\n",
       "      <th>HasCrCard</th>\n",
       "      <th>IsActiveMember</th>\n",
       "      <th>EstimatedSalary</th>\n",
       "      <th>Exited</th>\n",
       "    </tr>\n",
       "  </thead>\n",
       "  <tbody>\n",
       "    <tr>\n",
       "      <th>0</th>\n",
       "      <td>1</td>\n",
       "      <td>15634602</td>\n",
       "      <td>Hargrave</td>\n",
       "      <td>619</td>\n",
       "      <td>France</td>\n",
       "      <td>Female</td>\n",
       "      <td>42</td>\n",
       "      <td>2.0</td>\n",
       "      <td>0.00</td>\n",
       "      <td>1</td>\n",
       "      <td>1</td>\n",
       "      <td>1</td>\n",
       "      <td>101348.88</td>\n",
       "      <td>1</td>\n",
       "    </tr>\n",
       "    <tr>\n",
       "      <th>1</th>\n",
       "      <td>2</td>\n",
       "      <td>15647311</td>\n",
       "      <td>Hill</td>\n",
       "      <td>608</td>\n",
       "      <td>Spain</td>\n",
       "      <td>Female</td>\n",
       "      <td>41</td>\n",
       "      <td>1.0</td>\n",
       "      <td>83807.86</td>\n",
       "      <td>1</td>\n",
       "      <td>0</td>\n",
       "      <td>1</td>\n",
       "      <td>112542.58</td>\n",
       "      <td>0</td>\n",
       "    </tr>\n",
       "    <tr>\n",
       "      <th>2</th>\n",
       "      <td>3</td>\n",
       "      <td>15619304</td>\n",
       "      <td>Onio</td>\n",
       "      <td>502</td>\n",
       "      <td>France</td>\n",
       "      <td>Female</td>\n",
       "      <td>42</td>\n",
       "      <td>8.0</td>\n",
       "      <td>159660.80</td>\n",
       "      <td>3</td>\n",
       "      <td>1</td>\n",
       "      <td>0</td>\n",
       "      <td>113931.57</td>\n",
       "      <td>1</td>\n",
       "    </tr>\n",
       "    <tr>\n",
       "      <th>3</th>\n",
       "      <td>4</td>\n",
       "      <td>15701354</td>\n",
       "      <td>Boni</td>\n",
       "      <td>699</td>\n",
       "      <td>France</td>\n",
       "      <td>Female</td>\n",
       "      <td>39</td>\n",
       "      <td>1.0</td>\n",
       "      <td>0.00</td>\n",
       "      <td>2</td>\n",
       "      <td>0</td>\n",
       "      <td>0</td>\n",
       "      <td>93826.63</td>\n",
       "      <td>0</td>\n",
       "    </tr>\n",
       "    <tr>\n",
       "      <th>4</th>\n",
       "      <td>5</td>\n",
       "      <td>15737888</td>\n",
       "      <td>Mitchell</td>\n",
       "      <td>850</td>\n",
       "      <td>Spain</td>\n",
       "      <td>Female</td>\n",
       "      <td>43</td>\n",
       "      <td>2.0</td>\n",
       "      <td>125510.82</td>\n",
       "      <td>1</td>\n",
       "      <td>1</td>\n",
       "      <td>1</td>\n",
       "      <td>79084.10</td>\n",
       "      <td>0</td>\n",
       "    </tr>\n",
       "  </tbody>\n",
       "</table>\n",
       "</div>"
      ],
      "text/plain": [
       "   RowNumber  CustomerId   Surname  CreditScore Geography  Gender  Age  \\\n",
       "0          1    15634602  Hargrave          619    France  Female   42   \n",
       "1          2    15647311      Hill          608     Spain  Female   41   \n",
       "2          3    15619304      Onio          502    France  Female   42   \n",
       "3          4    15701354      Boni          699    France  Female   39   \n",
       "4          5    15737888  Mitchell          850     Spain  Female   43   \n",
       "\n",
       "   Tenure    Balance  NumOfProducts  HasCrCard  IsActiveMember  \\\n",
       "0     2.0       0.00              1          1               1   \n",
       "1     1.0   83807.86              1          0               1   \n",
       "2     8.0  159660.80              3          1               0   \n",
       "3     1.0       0.00              2          0               0   \n",
       "4     2.0  125510.82              1          1               1   \n",
       "\n",
       "   EstimatedSalary  Exited  \n",
       "0        101348.88       1  \n",
       "1        112542.58       0  \n",
       "2        113931.57       1  \n",
       "3         93826.63       0  \n",
       "4         79084.10       0  "
      ]
     },
     "execution_count": 6,
     "metadata": {},
     "output_type": "execute_result"
    }
   ],
   "source": [
    "data.head()"
   ]
  },
  {
   "cell_type": "markdown",
   "metadata": {
    "pycharm": {
     "name": "#%% md\n"
    }
   },
   "source": [
    "Для удобства, приведем названия столбцов к нижнему регистру"
   ]
  },
  {
   "cell_type": "code",
   "execution_count": 7,
   "metadata": {
    "pycharm": {
     "name": "#%%\n"
    }
   },
   "outputs": [],
   "source": [
    "data.columns = data.columns.str.lower()"
   ]
  },
  {
   "cell_type": "code",
   "execution_count": 8,
   "metadata": {
    "pycharm": {
     "name": "#%%\n"
    }
   },
   "outputs": [
    {
     "name": "stdout",
     "output_type": "stream",
     "text": [
      "<class 'pandas.core.frame.DataFrame'>\n",
      "RangeIndex: 10000 entries, 0 to 9999\n",
      "Data columns (total 14 columns):\n",
      " #   Column           Non-Null Count  Dtype  \n",
      "---  ------           --------------  -----  \n",
      " 0   rownumber        10000 non-null  int64  \n",
      " 1   customerid       10000 non-null  int64  \n",
      " 2   surname          10000 non-null  object \n",
      " 3   creditscore      10000 non-null  int64  \n",
      " 4   geography        10000 non-null  object \n",
      " 5   gender           10000 non-null  object \n",
      " 6   age              10000 non-null  int64  \n",
      " 7   tenure           9091 non-null   float64\n",
      " 8   balance          10000 non-null  float64\n",
      " 9   numofproducts    10000 non-null  int64  \n",
      " 10  hascrcard        10000 non-null  int64  \n",
      " 11  isactivemember   10000 non-null  int64  \n",
      " 12  estimatedsalary  10000 non-null  float64\n",
      " 13  exited           10000 non-null  int64  \n",
      "dtypes: float64(3), int64(8), object(3)\n",
      "memory usage: 1.1+ MB\n"
     ]
    }
   ],
   "source": [
    "data.info()"
   ]
  },
  {
   "cell_type": "markdown",
   "metadata": {
    "pycharm": {
     "name": "#%% md\n"
    }
   },
   "source": [
    "Есть пропуски в столбце `tenure`. Так как нет корректного способа узнать природу этих пропусков, то лучше их удалить"
   ]
  },
  {
   "cell_type": "code",
   "execution_count": 9,
   "metadata": {
    "pycharm": {
     "name": "#%%\n"
    }
   },
   "outputs": [],
   "source": [
    "data.dropna(axis=0, inplace=True)"
   ]
  },
  {
   "cell_type": "markdown",
   "metadata": {
    "pycharm": {
     "name": "#%% md\n"
    }
   },
   "source": [
    "Так же, в датасете есть столбцы, которые никак нам не помогут в исследовании: `rownumber`, `customerid`, `surname`. Удалим их"
   ]
  },
  {
   "cell_type": "code",
   "execution_count": 10,
   "metadata": {
    "pycharm": {
     "name": "#%%\n"
    }
   },
   "outputs": [],
   "source": [
    "data.drop(['rownumber', 'customerid', 'surname'], axis=1, inplace=True)"
   ]
  },
  {
   "cell_type": "code",
   "execution_count": 11,
   "metadata": {
    "pycharm": {
     "name": "#%%\n"
    }
   },
   "outputs": [
    {
     "name": "stdout",
     "output_type": "stream",
     "text": [
      "<class 'pandas.core.frame.DataFrame'>\n",
      "Int64Index: 9091 entries, 0 to 9998\n",
      "Data columns (total 11 columns):\n",
      " #   Column           Non-Null Count  Dtype  \n",
      "---  ------           --------------  -----  \n",
      " 0   creditscore      9091 non-null   int64  \n",
      " 1   geography        9091 non-null   object \n",
      " 2   gender           9091 non-null   object \n",
      " 3   age              9091 non-null   int64  \n",
      " 4   tenure           9091 non-null   float64\n",
      " 5   balance          9091 non-null   float64\n",
      " 6   numofproducts    9091 non-null   int64  \n",
      " 7   hascrcard        9091 non-null   int64  \n",
      " 8   isactivemember   9091 non-null   int64  \n",
      " 9   estimatedsalary  9091 non-null   float64\n",
      " 10  exited           9091 non-null   int64  \n",
      "dtypes: float64(3), int64(6), object(2)\n",
      "memory usage: 852.3+ KB\n"
     ]
    }
   ],
   "source": [
    "data.info()"
   ]
  },
  {
   "cell_type": "markdown",
   "metadata": {
    "pycharm": {
     "name": "#%% md\n"
    }
   },
   "source": [
    "Закодируем категориальные признаки техникой OHE"
   ]
  },
  {
   "cell_type": "code",
   "execution_count": 12,
   "metadata": {
    "pycharm": {
     "name": "#%%\n"
    }
   },
   "outputs": [],
   "source": [
    "data_ohe = pd.get_dummies(data, drop_first=True)"
   ]
  },
  {
   "cell_type": "code",
   "execution_count": 13,
   "metadata": {
    "pycharm": {
     "name": "#%%\n"
    }
   },
   "outputs": [
    {
     "data": {
      "text/html": [
       "<div>\n",
       "<style scoped>\n",
       "    .dataframe tbody tr th:only-of-type {\n",
       "        vertical-align: middle;\n",
       "    }\n",
       "\n",
       "    .dataframe tbody tr th {\n",
       "        vertical-align: top;\n",
       "    }\n",
       "\n",
       "    .dataframe thead th {\n",
       "        text-align: right;\n",
       "    }\n",
       "</style>\n",
       "<table border=\"1\" class=\"dataframe\">\n",
       "  <thead>\n",
       "    <tr style=\"text-align: right;\">\n",
       "      <th></th>\n",
       "      <th>creditscore</th>\n",
       "      <th>age</th>\n",
       "      <th>tenure</th>\n",
       "      <th>balance</th>\n",
       "      <th>numofproducts</th>\n",
       "      <th>hascrcard</th>\n",
       "      <th>isactivemember</th>\n",
       "      <th>estimatedsalary</th>\n",
       "      <th>exited</th>\n",
       "      <th>geography_Germany</th>\n",
       "      <th>geography_Spain</th>\n",
       "      <th>gender_Male</th>\n",
       "    </tr>\n",
       "  </thead>\n",
       "  <tbody>\n",
       "    <tr>\n",
       "      <th>0</th>\n",
       "      <td>619</td>\n",
       "      <td>42</td>\n",
       "      <td>2.0</td>\n",
       "      <td>0.00</td>\n",
       "      <td>1</td>\n",
       "      <td>1</td>\n",
       "      <td>1</td>\n",
       "      <td>101348.88</td>\n",
       "      <td>1</td>\n",
       "      <td>0</td>\n",
       "      <td>0</td>\n",
       "      <td>0</td>\n",
       "    </tr>\n",
       "    <tr>\n",
       "      <th>1</th>\n",
       "      <td>608</td>\n",
       "      <td>41</td>\n",
       "      <td>1.0</td>\n",
       "      <td>83807.86</td>\n",
       "      <td>1</td>\n",
       "      <td>0</td>\n",
       "      <td>1</td>\n",
       "      <td>112542.58</td>\n",
       "      <td>0</td>\n",
       "      <td>0</td>\n",
       "      <td>1</td>\n",
       "      <td>0</td>\n",
       "    </tr>\n",
       "    <tr>\n",
       "      <th>2</th>\n",
       "      <td>502</td>\n",
       "      <td>42</td>\n",
       "      <td>8.0</td>\n",
       "      <td>159660.80</td>\n",
       "      <td>3</td>\n",
       "      <td>1</td>\n",
       "      <td>0</td>\n",
       "      <td>113931.57</td>\n",
       "      <td>1</td>\n",
       "      <td>0</td>\n",
       "      <td>0</td>\n",
       "      <td>0</td>\n",
       "    </tr>\n",
       "    <tr>\n",
       "      <th>3</th>\n",
       "      <td>699</td>\n",
       "      <td>39</td>\n",
       "      <td>1.0</td>\n",
       "      <td>0.00</td>\n",
       "      <td>2</td>\n",
       "      <td>0</td>\n",
       "      <td>0</td>\n",
       "      <td>93826.63</td>\n",
       "      <td>0</td>\n",
       "      <td>0</td>\n",
       "      <td>0</td>\n",
       "      <td>0</td>\n",
       "    </tr>\n",
       "    <tr>\n",
       "      <th>4</th>\n",
       "      <td>850</td>\n",
       "      <td>43</td>\n",
       "      <td>2.0</td>\n",
       "      <td>125510.82</td>\n",
       "      <td>1</td>\n",
       "      <td>1</td>\n",
       "      <td>1</td>\n",
       "      <td>79084.10</td>\n",
       "      <td>0</td>\n",
       "      <td>0</td>\n",
       "      <td>1</td>\n",
       "      <td>0</td>\n",
       "    </tr>\n",
       "  </tbody>\n",
       "</table>\n",
       "</div>"
      ],
      "text/plain": [
       "   creditscore  age  tenure    balance  numofproducts  hascrcard  \\\n",
       "0          619   42     2.0       0.00              1          1   \n",
       "1          608   41     1.0   83807.86              1          0   \n",
       "2          502   42     8.0  159660.80              3          1   \n",
       "3          699   39     1.0       0.00              2          0   \n",
       "4          850   43     2.0  125510.82              1          1   \n",
       "\n",
       "   isactivemember  estimatedsalary  exited  geography_Germany  \\\n",
       "0               1        101348.88       1                  0   \n",
       "1               1        112542.58       0                  0   \n",
       "2               0        113931.57       1                  0   \n",
       "3               0         93826.63       0                  0   \n",
       "4               1         79084.10       0                  0   \n",
       "\n",
       "   geography_Spain  gender_Male  \n",
       "0                0            0  \n",
       "1                1            0  \n",
       "2                0            0  \n",
       "3                0            0  \n",
       "4                1            0  "
      ]
     },
     "execution_count": 13,
     "metadata": {},
     "output_type": "execute_result"
    }
   ],
   "source": [
    "data_ohe.head()"
   ]
  },
  {
   "cell_type": "markdown",
   "metadata": {
    "pycharm": {
     "name": "#%% md\n"
    }
   },
   "source": [
    "Разделим данные на цели и признаки"
   ]
  },
  {
   "cell_type": "code",
   "execution_count": 14,
   "metadata": {
    "pycharm": {
     "name": "#%%\n"
    }
   },
   "outputs": [],
   "source": [
    "features = data_ohe.drop('exited', axis=1)\n",
    "target = data_ohe['exited']"
   ]
  },
  {
   "cell_type": "markdown",
   "metadata": {
    "pycharm": {
     "name": "#%% md\n"
    }
   },
   "source": [
    "Разделим данные на тренировочную, валидационную и тестовую выборки в соотношении 6:2:2"
   ]
  },
  {
   "cell_type": "code",
   "execution_count": 15,
   "metadata": {
    "pycharm": {
     "name": "#%%\n"
    }
   },
   "outputs": [
    {
     "name": "stdout",
     "output_type": "stream",
     "text": [
      "(5454, 11)\n",
      "\n",
      "(5454,)\n",
      "----------------------------------------------------------------------\n",
      "(1818, 11)\n",
      "\n",
      "(1818,)\n",
      "----------------------------------------------------------------------\n",
      "(1819, 11)\n",
      "\n",
      "(1819,)\n",
      "----------------------------------------------------------------------\n"
     ]
    }
   ],
   "source": [
    "X_train, X, y_train, y = train_test_split(features, target, test_size=.4, stratify=target, random_state=RANDOM_STATE)\n",
    "X_valid, X_test, y_valid, y_test = train_test_split(X, y, test_size=.5, stratify=y, random_state=RANDOM_STATE)\n",
    "print(X_train.shape)\n",
    "print()\n",
    "print(y_train.shape)\n",
    "print('----------------------------------------------------------------------')\n",
    "print(X_valid.shape)\n",
    "print()\n",
    "print(y_valid.shape)\n",
    "print('----------------------------------------------------------------------')\n",
    "print(X_test.shape)\n",
    "print()\n",
    "print(y_test.shape)\n",
    "print('----------------------------------------------------------------------')"
   ]
  },
  {
   "cell_type": "markdown",
   "metadata": {
    "pycharm": {
     "name": "#%% md\n"
    }
   },
   "source": [
    "Масштабируем численные признаки"
   ]
  },
  {
   "cell_type": "code",
   "execution_count": 18,
   "metadata": {
    "pycharm": {
     "name": "#%%\n"
    }
   },
   "outputs": [],
   "source": [
    "numeric = ['creditscore', 'age', 'tenure', 'balance', 'numofproducts', 'estimatedsalary']\n",
    "scaler = StandardScaler()\n",
    "scaler.fit(X_train[numeric])\n",
    "X_train[numeric] = scaler.transform(X_train[numeric])\n",
    "X_valid[numeric] = scaler.transform(X_valid[numeric])\n",
    "X_test[numeric] = scaler.transform(X_test[numeric])"
   ]
  },
  {
   "cell_type": "markdown",
   "metadata": {
    "pycharm": {
     "name": "#%% md\n"
    }
   },
   "source": [
    "## Шаг 2. Исследование баланса классов"
   ]
  },
  {
   "cell_type": "markdown",
   "metadata": {
    "pycharm": {
     "name": "#%% md\n"
    }
   },
   "source": [
    "### Шаг 2.1. Исследуем баланс классов"
   ]
  },
  {
   "cell_type": "markdown",
   "metadata": {
    "pycharm": {
     "name": "#%% md\n"
    }
   },
   "source": [
    "Посмотрим, есть ли дисбаланс классов"
   ]
  },
  {
   "cell_type": "code",
   "execution_count": null,
   "metadata": {
    "collapsed": false,
    "jupyter": {
     "outputs_hidden": false
    },
    "pycharm": {
     "name": "#%%\n"
    }
   },
   "outputs": [],
   "source": [
    "data_ohe_zeros = data_ohe.query('exited == 0')\n",
    "data_ohe_ones = data_ohe.query('exited == 1')\n",
    "print(data_ohe_zeros.shape)\n",
    "print(data_ohe_ones.shape)"
   ]
  },
  {
   "cell_type": "markdown",
   "metadata": {
    "pycharm": {
     "name": "#%% md\n"
    }
   },
   "source": [
    "Видим, что положительных элементов почти в 4 раза больше, чем отрицательных"
   ]
  },
  {
   "cell_type": "markdown",
   "metadata": {
    "pycharm": {
     "name": "#%% md\n"
    }
   },
   "source": [
    "### Шаг 2.2. Обучим модели на несбалансированных данных"
   ]
  },
  {
   "cell_type": "markdown",
   "metadata": {
    "pycharm": {
     "name": "#%% md\n"
    }
   },
   "source": [
    "Видим, что положительных элементов почти в 4 раза больше, чем отрицательных"
   ]
  },
  {
   "cell_type": "markdown",
   "metadata": {
    "pycharm": {
     "name": "#%% md\n"
    }
   },
   "source": [
    "### Шаг 2.2. Обучим модели на несбалансированных данных"
   ]
  },
  {
   "cell_type": "markdown",
   "metadata": {
    "pycharm": {
     "name": "#%% md\n"
    }
   },
   "source": [
    "Иccледуем характеристики моделей без учета баланса классов. Для этого обучим модели логистической регрессии, случайного леса и решающего дерева на тестовой выборке и посчитаем метрики F1 и AUC-ROC"
   ]
  },
  {
   "cell_type": "markdown",
   "metadata": {
    "pycharm": {
     "name": "#%% md\n"
    }
   },
   "source": [
    "Для удобства и соблюдения принципа DRY напишем функцию для вычисления и вывода метрик `F1` и `ROC-AUC`"
   ]
  },
  {
   "cell_type": "code",
   "execution_count": 20,
   "metadata": {
    "pycharm": {
     "name": "#%%\n"
    }
   },
   "outputs": [],
   "source": [
    "def f1_roc_auc(model, X_val, y_val, y_pred):\n",
    "    print(f'F1 score: {f1_score(y_val, y_pred)}')\n",
    "    prob = model.predict_proba(X_val)\n",
    "    roc_auc = roc_auc_score(y_val, prob[:, 1])\n",
    "    print(f'ROC-AUC score: {roc_auc}')"
   ]
  },
  {
   "cell_type": "markdown",
   "metadata": {
    "pycharm": {
     "name": "#%% md\n"
    }
   },
   "source": [
    "Дерево решений"
   ]
  },
  {
   "cell_type": "code",
   "execution_count": 21,
   "metadata": {
    "pycharm": {
     "name": "#%%\n"
    }
   },
   "outputs": [
    {
     "name": "stdout",
     "output_type": "stream",
     "text": [
      "F1 score: 0.4919786096256685\n",
      "ROC-AUC score: 0.6812887338242334\n"
     ]
    }
   ],
   "source": [
    "dec_tree_model = DecisionTreeClassifier(random_state=RANDOM_STATE)\n",
    "dec_tree_model.fit(X_train, y_train)\n",
    "y_predicted = dec_tree_model.predict(X_valid)\n",
    "f1_roc_auc(dec_tree_model, X_valid, y_valid, y_predicted)"
   ]
  },
  {
   "cell_type": "markdown",
   "metadata": {
    "pycharm": {
     "name": "#%% md\n"
    }
   },
   "source": [
    "Логистическая регрессия"
   ]
  },
  {
   "cell_type": "code",
   "execution_count": 22,
   "metadata": {
    "pycharm": {
     "name": "#%%\n"
    }
   },
   "outputs": [
    {
     "name": "stdout",
     "output_type": "stream",
     "text": [
      "F1 score: 0.3306772908366534\n",
      "ROC-AUC score: 0.7893382907660986\n"
     ]
    }
   ],
   "source": [
    "log_reg_model = LogisticRegression(random_state=RANDOM_STATE)\n",
    "log_reg_model.fit(X_train, y_train)\n",
    "y_predicted = log_reg_model.predict(X_valid)\n",
    "f1_roc_auc(log_reg_model, X_valid, y_valid, y_predicted)"
   ]
  },
  {
   "cell_type": "markdown",
   "metadata": {
    "pycharm": {
     "name": "#%% md\n"
    }
   },
   "source": [
    "Случайный лес"
   ]
  },
  {
   "cell_type": "code",
   "execution_count": 23,
   "metadata": {
    "pycharm": {
     "name": "#%%\n"
    }
   },
   "outputs": [
    {
     "name": "stdout",
     "output_type": "stream",
     "text": [
      "F1 score: 0.5957446808510638\n",
      "ROC-AUC score: 0.6812887338242334\n"
     ]
    }
   ],
   "source": [
    "rand_forest_model = RandomForestClassifier(random_state=RANDOM_STATE)\n",
    "rand_forest_model.fit(X_train, y_train)\n",
    "y_predicted = rand_forest_model.predict(X_valid)\n",
    "f1_roc_auc(dec_tree_model, X_valid, y_valid, y_predicted)"
   ]
  },
  {
   "cell_type": "markdown",
   "metadata": {
    "pycharm": {
     "name": "#%% md\n"
    }
   },
   "source": [
    "Лучшие показатели у модели случайного леса"
   ]
  },
  {
   "cell_type": "markdown",
   "metadata": {
    "pycharm": {
     "name": "#%% md\n"
    }
   },
   "source": [
    "## Шаг 3. Улучшение качества модели"
   ]
  },
  {
   "cell_type": "markdown",
   "metadata": {
    "pycharm": {
     "name": "#%% md\n"
    }
   },
   "source": [
    "Посмотрим на поведение моделей с параметром `class_weight='balanced'` и подберем гиперпараметры"
   ]
  },
  {
   "cell_type": "markdown",
   "metadata": {
    "pycharm": {
     "name": "#%% md\n"
    }
   },
   "source": [
    "### Дерево решений"
   ]
  },
  {
   "cell_type": "code",
   "execution_count": 24,
   "metadata": {
    "pycharm": {
     "name": "#%%\n"
    }
   },
   "outputs": [
    {
     "name": "stdout",
     "output_type": "stream",
     "text": [
      "F1 score: 0.5161290322580645\n",
      "ROC-AUC score: 0.6962169150039956\n"
     ]
    }
   ],
   "source": [
    "dec_tree_model = DecisionTreeClassifier(random_state=RANDOM_STATE, class_weight='balanced')\n",
    "dec_tree_model.fit(X_train, y_train)\n",
    "y_predicted = dec_tree_model.predict(X_valid)\n",
    "f1_roc_auc(dec_tree_model, X_valid, y_valid, y_predicted)"
   ]
  },
  {
   "cell_type": "markdown",
   "metadata": {
    "pycharm": {
     "name": "#%% md\n"
    }
   },
   "source": [
    "Подберем гиперпараметры"
   ]
  },
  {
   "cell_type": "code",
   "execution_count": 25,
   "metadata": {
    "pycharm": {
     "name": "#%%\n"
    }
   },
   "outputs": [
    {
     "name": "stdout",
     "output_type": "stream",
     "text": [
      "Fitting 5 folds for each of 29 candidates, totalling 145 fits\n"
     ]
    },
    {
     "data": {
      "text/plain": [
       "GridSearchCV(estimator=DecisionTreeClassifier(class_weight='balanced',\n",
       "                                              random_state=12345),\n",
       "             param_grid={'max_depth': range(1, 30)}, verbose=1)"
      ]
     },
     "execution_count": 25,
     "metadata": {},
     "output_type": "execute_result"
    }
   ],
   "source": [
    "params = {\n",
    "    'max_depth': range(1, 30),\n",
    "}\n",
    "grid = GridSearchCV(dec_tree_model, params, verbose=1)\n",
    "grid.fit(X_train, y_train)"
   ]
  },
  {
   "cell_type": "code",
   "execution_count": 26,
   "metadata": {
    "pycharm": {
     "name": "#%%\n"
    }
   },
   "outputs": [
    {
     "data": {
      "text/plain": [
       "{'max_depth': 20}"
      ]
     },
     "execution_count": 26,
     "metadata": {},
     "output_type": "execute_result"
    }
   ],
   "source": [
    "grid.best_params_"
   ]
  },
  {
   "cell_type": "markdown",
   "metadata": {
    "pycharm": {
     "name": "#%% md\n"
    }
   },
   "source": [
    "Обучим модель с полученными гиперпараметрами"
   ]
  },
  {
   "cell_type": "code",
   "execution_count": 27,
   "metadata": {
    "pycharm": {
     "name": "#%%\n"
    }
   },
   "outputs": [
    {
     "name": "stdout",
     "output_type": "stream",
     "text": [
      "F1 score: 0.5161290322580645\n",
      "ROC-AUC score: 0.6962169150039956\n"
     ]
    }
   ],
   "source": [
    "dec_tree_model = DecisionTreeClassifier(random_state=RANDOM_STATE, class_weight='balanced', max_depth=20)\n",
    "dec_tree_model.fit(X_train, y_train)\n",
    "y_predicted = dec_tree_model.predict(X_valid)\n",
    "f1_roc_auc(dec_tree_model, X_valid, y_valid, y_predicted)"
   ]
  },
  {
   "cell_type": "markdown",
   "metadata": {
    "pycharm": {
     "name": "#%% md\n"
    }
   },
   "source": [
    "### Логистическая регрессия"
   ]
  },
  {
   "cell_type": "code",
   "execution_count": 28,
   "metadata": {
    "pycharm": {
     "name": "#%%\n"
    }
   },
   "outputs": [
    {
     "name": "stdout",
     "output_type": "stream",
     "text": [
      "F1 score: 0.5065420560747663\n",
      "ROC-AUC score: 0.790763304317698\n"
     ]
    }
   ],
   "source": [
    "log_reg_model = LogisticRegression(random_state=RANDOM_STATE, class_weight='balanced', solver='liblinear')\n",
    "log_reg_model.fit(X_train, y_train)\n",
    "y_predicted = log_reg_model.predict(X_valid)\n",
    "f1_roc_auc(log_reg_model, X_valid, y_valid, y_predicted)"
   ]
  },
  {
   "cell_type": "markdown",
   "metadata": {
    "pycharm": {
     "name": "#%% md\n"
    }
   },
   "source": [
    "Подберем гиперпараметры"
   ]
  },
  {
   "cell_type": "code",
   "execution_count": 29,
   "metadata": {
    "pycharm": {
     "name": "#%%\n"
    }
   },
   "outputs": [
    {
     "name": "stdout",
     "output_type": "stream",
     "text": [
      "Fitting 5 folds for each of 6 candidates, totalling 30 fits\n"
     ]
    },
    {
     "data": {
      "text/plain": [
       "GridSearchCV(estimator=LogisticRegression(class_weight='balanced',\n",
       "                                          random_state=12345,\n",
       "                                          solver='liblinear'),\n",
       "             param_grid={'C': [1, 5, 10], 'penalty': ['l1', 'l2']}, verbose=1)"
      ]
     },
     "execution_count": 29,
     "metadata": {},
     "output_type": "execute_result"
    }
   ],
   "source": [
    "params = {\n",
    "    'penalty': ['l1', 'l2'],\n",
    "    'C': [1, 5, 10],\n",
    "}\n",
    "grid = GridSearchCV(log_reg_model, params, verbose=1)\n",
    "grid.fit(X_train, y_train)"
   ]
  },
  {
   "cell_type": "code",
   "execution_count": 30,
   "metadata": {
    "pycharm": {
     "name": "#%%\n"
    }
   },
   "outputs": [
    {
     "data": {
      "text/plain": [
       "{'C': 1, 'penalty': 'l1'}"
      ]
     },
     "execution_count": 30,
     "metadata": {},
     "output_type": "execute_result"
    }
   ],
   "source": [
    "grid.best_params_"
   ]
  },
  {
   "cell_type": "markdown",
   "metadata": {
    "pycharm": {
     "name": "#%% md\n"
    }
   },
   "source": [
    "Обучим модель с полученными гиперпараметрами"
   ]
  },
  {
   "cell_type": "code",
   "execution_count": 31,
   "metadata": {
    "pycharm": {
     "name": "#%%\n"
    }
   },
   "outputs": [
    {
     "name": "stdout",
     "output_type": "stream",
     "text": [
      "F1 score: 0.5065420560747663\n",
      "ROC-AUC score: 0.7907782064201982\n"
     ]
    }
   ],
   "source": [
    "log_reg_model = LogisticRegression(random_state=RANDOM_STATE, class_weight='balanced', solver='liblinear', penalty='l1')\n",
    "log_reg_model.fit(X_train, y_train)\n",
    "y_predicted = log_reg_model.predict(X_valid)\n",
    "f1_roc_auc(log_reg_model, X_valid, y_valid, y_predicted)"
   ]
  },
  {
   "cell_type": "markdown",
   "metadata": {
    "pycharm": {
     "name": "#%% md\n"
    }
   },
   "source": [
    "### Случайный лес"
   ]
  },
  {
   "cell_type": "code",
   "execution_count": 32,
   "metadata": {
    "pycharm": {
     "name": "#%%\n"
    }
   },
   "outputs": [
    {
     "name": "stdout",
     "output_type": "stream",
     "text": [
      "F1 score: 0.570940170940171\n",
      "ROC-AUC score: 0.8689062043040998\n"
     ]
    }
   ],
   "source": [
    "rand_forest_model = RandomForestClassifier(random_state=RANDOM_STATE, class_weight='balanced')\n",
    "rand_forest_model.fit(X_train, y_train)\n",
    "y_predicted = rand_forest_model.predict(X_valid)\n",
    "f1_roc_auc(rand_forest_model, X_valid, y_valid, y_predicted)"
   ]
  },
  {
   "cell_type": "markdown",
   "metadata": {
    "pycharm": {
     "name": "#%% md\n"
    }
   },
   "source": [
    "Подберем гиперпараметры"
   ]
  },
  {
   "cell_type": "code",
   "execution_count": 33,
   "metadata": {
    "pycharm": {
     "name": "#%%\n"
    }
   },
   "outputs": [
    {
     "name": "stdout",
     "output_type": "stream",
     "text": [
      "Fitting 5 folds for each of 10 candidates, totalling 50 fits\n"
     ]
    },
    {
     "data": {
      "text/plain": [
       "RandomizedSearchCV(estimator=RandomForestClassifier(random_state=12345),\n",
       "                   param_distributions={'max_depth': range(1, 30),\n",
       "                                        'n_estimators': range(1, 100)},\n",
       "                   random_state=12345, verbose=1)"
      ]
     },
     "execution_count": 33,
     "metadata": {},
     "output_type": "execute_result"
    }
   ],
   "source": [
    "clf = RandomForestClassifier(random_state=RANDOM_STATE)\n",
    "params = {\n",
    "    'n_estimators': range(1, 100),\n",
    "    'max_depth': range(1, 30),\n",
    "}\n",
    "search = RandomizedSearchCV(clf, params, verbose=1, random_state=RANDOM_STATE)\n",
    "search.fit(X_train, y_train)"
   ]
  },
  {
   "cell_type": "code",
   "execution_count": 34,
   "metadata": {
    "pycharm": {
     "name": "#%%\n"
    }
   },
   "outputs": [
    {
     "data": {
      "text/plain": [
       "{'n_estimators': 91, 'max_depth': 9}"
      ]
     },
     "execution_count": 34,
     "metadata": {},
     "output_type": "execute_result"
    }
   ],
   "source": [
    "search.best_params_"
   ]
  },
  {
   "cell_type": "markdown",
   "metadata": {
    "pycharm": {
     "name": "#%% md\n"
    }
   },
   "source": [
    "Обучим модель с полученными гиперпараметрами"
   ]
  },
  {
   "cell_type": "code",
   "execution_count": 35,
   "metadata": {
    "pycharm": {
     "name": "#%%\n"
    }
   },
   "outputs": [
    {
     "name": "stdout",
     "output_type": "stream",
     "text": [
      "F1 score: 0.639386189258312\n",
      "ROC-AUC score: 0.8754016582314557\n"
     ]
    }
   ],
   "source": [
    "rand_forest_model = RandomForestClassifier(n_estimators=91, max_depth=9, random_state=RANDOM_STATE, class_weight='balanced')\n",
    "rand_forest_model.fit(X_train, y_train)\n",
    "y_predicted = rand_forest_model.predict(X_valid)\n",
    "f1_roc_auc(rand_forest_model, X_valid, y_valid, y_predicted)"
   ]
  },
  {
   "cell_type": "markdown",
   "metadata": {
    "pycharm": {
     "name": "#%% md\n"
    }
   },
   "source": [
    "Качество предсказаний повысилось за счет балансировки весов классов и подходящих гиперпараметров"
   ]
  },
  {
   "cell_type": "markdown",
   "metadata": {
    "pycharm": {
     "name": "#%% md\n"
    }
   },
   "source": [
    "Используем `upsampling` для выравнивания баланса классов"
   ]
  },
  {
   "cell_type": "code",
   "execution_count": 36,
   "metadata": {
    "pycharm": {
     "name": "#%%\n"
    }
   },
   "outputs": [
    {
     "name": "stdout",
     "output_type": "stream",
     "text": [
      "(4342, 11)\n",
      "(1112, 11)\n",
      "(4342,)\n",
      "(1112,)\n"
     ]
    }
   ],
   "source": [
    "X_train_zeros = X_train[y_train == 0]\n",
    "X_train_ones = X_train[y_train == 1]\n",
    "y_train_zeros = y_train[y_train == 0]\n",
    "y_train_ones = y_train[y_train == 1]\n",
    "print(X_train_zeros.shape)\n",
    "print(X_train_ones.shape)\n",
    "print(y_train_zeros.shape)\n",
    "print(y_train_ones.shape)"
   ]
  },
  {
   "cell_type": "code",
   "execution_count": 37,
   "metadata": {
    "pycharm": {
     "name": "#%%\n"
    }
   },
   "outputs": [],
   "source": [
    "X_train_upsampled = pd.concat([X_train_zeros] + [X_train_ones] * 4)\n",
    "y_train_upsampled = pd.concat([y_train_zeros] + [y_train_ones] * 4)\n",
    "X_train_upsampled, y_train_upsampled = shuffle(X_train_upsampled, y_train_upsampled, random_state=RANDOM_STATE)"
   ]
  },
  {
   "cell_type": "markdown",
   "metadata": {
    "pycharm": {
     "name": "#%% md\n"
    }
   },
   "source": [
    "Проверим метрики моделей на сбалансированной выборке"
   ]
  },
  {
   "cell_type": "markdown",
   "metadata": {
    "pycharm": {
     "name": "#%% md\n"
    }
   },
   "source": [
    "Дерево решений"
   ]
  },
  {
   "cell_type": "code",
   "execution_count": 38,
   "metadata": {
    "pycharm": {
     "name": "#%%\n"
    }
   },
   "outputs": [
    {
     "name": "stdout",
     "output_type": "stream",
     "text": [
      "F1 score: 0.5245033112582781\n",
      "ROC-AUC score: 0.7025754558646293\n"
     ]
    }
   ],
   "source": [
    "dec_tree_model = DecisionTreeClassifier(random_state=RANDOM_STATE, max_depth=20)\n",
    "dec_tree_model.fit(X_train_upsampled, y_train_upsampled)\n",
    "y_predicted = dec_tree_model.predict(X_valid)\n",
    "f1_roc_auc(dec_tree_model, X_valid, y_valid, y_predicted)"
   ]
  },
  {
   "cell_type": "markdown",
   "metadata": {
    "pycharm": {
     "name": "#%% md\n"
    }
   },
   "source": [
    "Логистическая регрессия"
   ]
  },
  {
   "cell_type": "code",
   "execution_count": 39,
   "metadata": {
    "pycharm": {
     "name": "#%%\n"
    }
   },
   "outputs": [
    {
     "name": "stdout",
     "output_type": "stream",
     "text": [
      "F1 score: 0.5050878815911193\n",
      "ROC-AUC score: 0.7908061478623865\n"
     ]
    }
   ],
   "source": [
    "log_reg_model = LogisticRegression(random_state=RANDOM_STATE, solver='liblinear', penalty='l1')\n",
    "log_reg_model.fit(X_train_upsampled, y_train_upsampled)\n",
    "y_predicted = log_reg_model.predict(X_valid)\n",
    "f1_roc_auc(log_reg_model, X_valid, y_valid, y_predicted)"
   ]
  },
  {
   "cell_type": "markdown",
   "metadata": {
    "pycharm": {
     "name": "#%% md\n"
    }
   },
   "source": [
    "Случайный лес"
   ]
  },
  {
   "cell_type": "code",
   "execution_count": 40,
   "metadata": {
    "pycharm": {
     "name": "#%%\n"
    }
   },
   "outputs": [
    {
     "name": "stdout",
     "output_type": "stream",
     "text": [
      "F1 score: 0.6319444444444444\n",
      "ROC-AUC score: 0.8765602967008608\n"
     ]
    }
   ],
   "source": [
    "rand_forest_model = RandomForestClassifier(n_estimators=91, max_depth=9, random_state=RANDOM_STATE)\n",
    "rand_forest_model.fit(X_train_upsampled, y_train_upsampled)\n",
    "y_predicted = rand_forest_model.predict(X_valid)\n",
    "f1_roc_auc(rand_forest_model, X_valid, y_valid, y_predicted)"
   ]
  },
  {
   "cell_type": "markdown",
   "metadata": {
    "pycharm": {
     "name": "#%% md\n"
    }
   },
   "source": [
    "`Upsampling` дал небольшой прирост качества предсказаний. Лучшие показатели у модели случайного леса, поэтому в дальнейшем будем использовать ее"
   ]
  },
  {
   "cell_type": "markdown",
   "metadata": {
    "pycharm": {
     "name": "#%% md\n"
    }
   },
   "source": [
    "## Шаг 4. Финальное тестирование"
   ]
  },
  {
   "cell_type": "markdown",
   "metadata": {
    "pycharm": {
     "name": "#%% md\n"
    }
   },
   "source": [
    "Объединим тренировочную и валидационную выборки"
   ]
  },
  {
   "cell_type": "code",
   "execution_count": 41,
   "metadata": {
    "pycharm": {
     "name": "#%%\n"
    }
   },
   "outputs": [],
   "source": [
    "X_total_train = pd.concat([X_train_upsampled,X_valid])\n",
    "y_total_train = pd.concat([y_train_upsampled, y_valid])\n",
    "X_total_train = shuffle(X_total_train, random_state=RANDOM_STATE)\n",
    "y_total_train = shuffle(y_total_train, random_state=RANDOM_STATE)"
   ]
  },
  {
   "cell_type": "markdown",
   "metadata": {
    "pycharm": {
     "name": "#%% md\n"
    }
   },
   "source": [
    "Обучим модель случайного леса с полученными гиперпараметрами на объединенных тренировочных данных и посмотрим метрики на тестовой выборке"
   ]
  },
  {
   "cell_type": "code",
   "execution_count": 42,
   "metadata": {
    "pycharm": {
     "name": "#%%\n"
    }
   },
   "outputs": [
    {
     "name": "stdout",
     "output_type": "stream",
     "text": [
      "F1 score: 0.608233731739708\n",
      "ROC-AUC score: 0.8544139327783651\n"
     ]
    }
   ],
   "source": [
    "model = RandomForestClassifier(n_estimators=91, max_depth=9, random_state=RANDOM_STATE)\n",
    "model.fit(X_total_train, y_total_train)\n",
    "predict = model.predict(X_test)\n",
    "f1_roc_auc(model, X_test, y_test, predict)"
   ]
  },
  {
   "cell_type": "code",
   "execution_count": 39,
   "metadata": {
    "pycharm": {
     "name": "#%%\n"
    }
   },
   "outputs": [
    {
     "data": {
      "image/png": "[encoded data removed]",
      "text/plain": [
       "<Figure size 432x288 with 1 Axes>"
      ]
     },
     "metadata": {
      "needs_background": "light"
     },
     "output_type": "display_data"
    }
   ],
   "source": [
    "probabilities_valid = model.predict_proba(X_test)\n",
    "probabilities_one_valid = probabilities_valid[:, 1]\n",
    "\n",
    "fpr, tpr, thresholds = roc_curve(y_test, probabilities_one_valid)\n",
    "\n",
    "plt.figure()\n",
    "\n",
    "plt.plot([0, 1], [0, 1], linestyle='--')\n",
    "plt.plot(fpr, tpr)\n",
    "\n",
    "plt.xlim([0.0, 1.0])\n",
    "plt.ylim([0.0, 1.0])\n",
    "\n",
    "plt.xlabel('False Positive Rate')\n",
    "plt.ylabel('True Positive Rate')\n",
    "\n",
    "plt.title('ROC-кривая')\n",
    "plt.show()"
   ]
  },
  {
   "cell_type": "markdown",
   "metadata": {
    "pycharm": {
     "name": "#%% md\n"
    }
   },
   "source": [
    "## Итоговый вывод"
   ]
  },
  {
   "cell_type": "markdown",
   "metadata": {
    "pycharm": {
     "name": "#%% md\n"
    }
   },
   "source": [
    "В данной работе проведено исследование задачи оттока клиентов банка. Проведена подготовка и предобработка данных. Построены модели дерева решений, логистической регрессии и случайного леса, исследовано влияние дисбаланса классов на предсказания модели, подобраны гиперпараметры, посчитаны метрики F1 и AUC-ROC. Лучшие показатели получились у модели случайного леса - F1=0.608 (на тестовой выборке), что больше чем 0.59 (по условию задачи). "
   ]
  }
 ],
 "metadata": {
  "ExecuteTimeLog": [
   {
    "duration": 1914,
    "start_time": "2022-05-01T17:33:51.961Z"
   },
   {
    "duration": 37,
    "start_time": "2022-05-01T17:33:53.877Z"
   },
   {
    "duration": 21,
    "start_time": "2022-05-01T17:33:53.916Z"
   },
   {
    "duration": 3,
    "start_time": "2022-05-01T17:33:53.939Z"
   },
   {
    "duration": 6,
    "start_time": "2022-05-01T17:33:53.943Z"
   },
   {
    "duration": 6,
    "start_time": "2022-05-01T17:33:53.950Z"
   },
   {
    "duration": 22,
    "start_time": "2022-05-01T17:33:53.958Z"
   },
   {
    "duration": 24,
    "start_time": "2022-05-01T17:33:53.981Z"
   },
   {
    "duration": 13,
    "start_time": "2022-05-01T17:33:54.007Z"
   },
   {
    "duration": 36,
    "start_time": "2022-05-01T17:33:54.023Z"
   },
   {
    "duration": 4,
    "start_time": "2022-05-01T17:33:54.061Z"
   },
   {
    "duration": 35,
    "start_time": "2022-05-01T17:33:54.066Z"
   },
   {
    "duration": 10,
    "start_time": "2022-05-01T17:33:54.103Z"
   },
   {
    "duration": 5,
    "start_time": "2022-05-01T17:33:54.114Z"
   },
   {
    "duration": 51,
    "start_time": "2022-05-01T17:33:54.121Z"
   },
   {
    "duration": 326,
    "start_time": "2022-05-01T17:33:54.174Z"
   },
   {
    "duration": 742,
    "start_time": "2022-05-01T17:33:54.503Z"
   },
   {
    "duration": 38,
    "start_time": "2022-05-01T17:33:55.247Z"
   },
   {
    "duration": 121,
    "start_time": "2022-05-01T17:33:55.286Z"
   },
   {
    "duration": 851,
    "start_time": "2022-05-01T17:33:55.409Z"
   },
   {
    "duration": 14,
    "start_time": "2022-05-01T17:33:56.261Z"
   },
   {
    "duration": 59,
    "start_time": "2022-05-01T17:33:56.277Z"
   },
   {
    "duration": 465,
    "start_time": "2022-05-01T17:33:56.337Z"
   },
   {
    "duration": 1157,
    "start_time": "2022-05-01T17:33:56.805Z"
   },
   {
    "duration": 15623,
    "start_time": "2022-05-01T17:33:57.964Z"
   },
   {
    "duration": 11,
    "start_time": "2022-05-01T17:34:13.589Z"
   },
   {
    "duration": 3,
    "start_time": "2022-05-01T17:34:13.601Z"
   },
   {
    "duration": 8,
    "start_time": "2022-05-01T17:34:13.607Z"
   },
   {
    "duration": 872,
    "start_time": "2022-05-01T17:34:13.616Z"
   },
   {
    "duration": 164,
    "start_time": "2022-05-01T17:34:14.490Z"
   },
   {
    "duration": 10,
    "start_time": "2022-05-01T17:58:44.452Z"
   },
   {
    "duration": 18,
    "start_time": "2022-05-01T18:00:14.721Z"
   },
   {
    "duration": 10,
    "start_time": "2022-05-01T18:00:22.927Z"
   },
   {
    "duration": 1220,
    "start_time": "2022-05-02T14:10:54.089Z"
   },
   {
    "duration": 3,
    "start_time": "2022-05-02T14:10:55.311Z"
   },
   {
    "duration": 25,
    "start_time": "2022-05-02T14:10:55.315Z"
   },
   {
    "duration": 16,
    "start_time": "2022-05-02T14:10:55.347Z"
   },
   {
    "duration": 3,
    "start_time": "2022-05-02T14:10:55.366Z"
   },
   {
    "duration": 12,
    "start_time": "2022-05-02T14:10:55.371Z"
   },
   {
    "duration": 8,
    "start_time": "2022-05-02T14:10:55.385Z"
   },
   {
    "duration": 5,
    "start_time": "2022-05-02T14:10:55.394Z"
   },
   {
    "duration": 13,
    "start_time": "2022-05-02T14:10:55.400Z"
   },
   {
    "duration": 11,
    "start_time": "2022-05-02T14:10:55.447Z"
   },
   {
    "duration": 10,
    "start_time": "2022-05-02T14:10:55.460Z"
   },
   {
    "duration": 6,
    "start_time": "2022-05-02T14:10:55.471Z"
   },
   {
    "duration": 13,
    "start_time": "2022-05-02T14:10:55.479Z"
   },
   {
    "duration": 59,
    "start_time": "2022-05-02T14:10:55.495Z"
   },
   {
    "duration": 9,
    "start_time": "2022-05-02T14:10:55.556Z"
   },
   {
    "duration": 4,
    "start_time": "2022-05-02T14:10:55.567Z"
   },
   {
    "duration": 39,
    "start_time": "2022-05-02T14:10:55.573Z"
   },
   {
    "duration": 145,
    "start_time": "2022-05-02T14:10:55.613Z"
   },
   {
    "duration": 683,
    "start_time": "2022-05-02T14:10:55.851Z"
   },
   {
    "duration": 35,
    "start_time": "2022-05-02T14:10:56.536Z"
   },
   {
    "duration": 2666,
    "start_time": "2022-05-02T14:10:56.573Z"
   },
   {
    "duration": 7,
    "start_time": "2022-05-02T14:10:59.241Z"
   },
   {
    "duration": 32,
    "start_time": "2022-05-02T14:10:59.250Z"
   },
   {
    "duration": 69,
    "start_time": "2022-05-02T14:10:59.283Z"
   },
   {
    "duration": 4399,
    "start_time": "2022-05-02T14:10:59.354Z"
   },
   {
    "duration": 3,
    "start_time": "2022-05-02T14:11:03.755Z"
   },
   {
    "duration": 92,
    "start_time": "2022-05-02T14:11:03.760Z"
   },
   {
    "duration": 734,
    "start_time": "2022-05-02T14:11:03.854Z"
   },
   {
    "duration": 12114,
    "start_time": "2022-05-02T14:11:04.589Z"
   },
   {
    "duration": 3,
    "start_time": "2022-05-02T14:11:16.705Z"
   },
   {
    "duration": 451,
    "start_time": "2022-05-02T14:11:16.709Z"
   },
   {
    "duration": 7,
    "start_time": "2022-05-02T14:11:17.162Z"
   },
   {
    "duration": 6,
    "start_time": "2022-05-02T14:11:17.171Z"
   },
   {
    "duration": 38,
    "start_time": "2022-05-02T14:11:17.179Z"
   },
   {
    "duration": 55,
    "start_time": "2022-05-02T14:11:17.218Z"
   },
   {
    "duration": 707,
    "start_time": "2022-05-02T14:11:17.349Z"
   },
   {
    "duration": 7,
    "start_time": "2022-05-02T14:11:18.058Z"
   },
   {
    "duration": 711,
    "start_time": "2022-05-02T14:11:18.067Z"
   },
   {
    "duration": 144,
    "start_time": "2022-05-02T14:11:18.780Z"
   },
   {
    "duration": 100,
    "start_time": "2022-05-02T14:44:53.751Z"
   }
  ],
  "kernelspec": {
   "display_name": "Python 3 (ipykernel)",
   "language": "python",
   "name": "python3"
  },
  "language_info": {
   "codemirror_mode": {
    "name": "ipython",
    "version": 3
   },
   "file_extension": ".py",
   "mimetype": "text/x-python",
   "name": "python",
   "nbconvert_exporter": "python",
   "pygments_lexer": "ipython3",
   "version": "3.10.4"
  },
  "toc": {
   "base_numbering": 1,
   "nav_menu": {},
   "number_sections": true,
   "sideBar": true,
   "skip_h1_title": true,
   "title_cell": "Table of Contents",
   "title_sidebar": "Contents",
   "toc_cell": false,
   "toc_position": {},
   "toc_section_display": true,
   "toc_window_display": true
  }
 },
 "nbformat": 4,
 "nbformat_minor": 4
}